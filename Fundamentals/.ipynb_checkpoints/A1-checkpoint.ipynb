{
 "cells": [
  {
   "cell_type": "markdown",
   "metadata": {},
   "source": [
    "# 1. Three Way Merge Sort"
   ]
  },
  {
   "cell_type": "code",
   "execution_count": 1,
   "metadata": {},
   "outputs": [],
   "source": [
    "def mergesort3(arr,comps = 0):\n",
    "    # base case: if array is only 1 item, return array\n",
    "    if len(arr) <= 1:\n",
    "        return(arr,comps)\n",
    "    \n",
    "    # recursive case: divide and conquer\n",
    "    else:\n",
    "        \n",
    "        # divide: split the problem into thirds and sort\n",
    "        d = -(-len(arr)//3) # the double negative is to round up as the // operator rounds down.\n",
    "        left,comps_l = mergesort3(arr[:d],comps)\n",
    "        mid,comps_m = mergesort3(arr[d:2*d],comps)\n",
    "        right,comps_r = mergesort3(arr[2*d:],comps)\n",
    "        \n",
    "        left.append(float(\"inf\"))\n",
    "        mid.append(float(\"inf\"))\n",
    "        right.append(float(\"inf\"))\n",
    "        \n",
    "        comps = comps + comps_l + comps_m + comps_r\n",
    "        \n",
    "        # conquer: merge the three sorted arrays into one\n",
    "        \n",
    "        # indexes for the smallest unconquered values within the sorted sub arrays \n",
    "        i = 0 # index for left\n",
    "        j = 0 # index for mid\n",
    "        k = 0 # index for right\n",
    "        \n",
    "        ret_arr = [] # initialize array to be returned\n",
    "        \n",
    "        '''\n",
    "        # more clear but less efficient?\n",
    "        \n",
    "        if left[i] <= mid[j] and left[i] <= right[k]:\n",
    "            # add left\n",
    "        \n",
    "        elif mid[j] <= left[i] and mid[j] <= right[k]:\n",
    "            # add mid\n",
    "        else:\n",
    "            # add right\n",
    "        \n",
    "        '''\n",
    "        \n",
    "        # while there are still items in any of the arrays:\n",
    "        while left[i] != float(\"inf\") or mid[j] != float(\"inf\") or right[k] != float(\"inf\"):\n",
    "            comps += 1\n",
    "            if left[i] <= mid[j]:\n",
    "                comps += 1\n",
    "                if left[i] <= right[k]:\n",
    "                    # if left less than mid and right, add left\n",
    "                    ret_arr.append(left[i])\n",
    "                    i += 1\n",
    "                else:\n",
    "                    # if left less than mid and more than right, add right\n",
    "                    ret_arr.append(right[k])\n",
    "                    k += 1\n",
    "            elif mid[j] <= right[k]:\n",
    "                comps += 1 # added to comps after elif statment because I can't interupt the if elif flow\n",
    "                # if mid less than left and right, add mid\n",
    "                ret_arr.append(mid[j])\n",
    "                j += 1\n",
    "            else:\n",
    "                comps += 1 # since I only add to comps after the if statement, I have to count to else conditions too.\n",
    "                # if mid less than left and more than right, add right\n",
    "                ret_arr.append(right[k])\n",
    "                k += 1\n",
    "        return(ret_arr,comps)\n",
    "    "
   ]
  },
  {
   "cell_type": "code",
   "execution_count": 2,
   "metadata": {},
   "outputs": [
    {
     "name": "stdout",
     "output_type": "stream",
     "text": [
      "all passed :)\n"
     ]
    }
   ],
   "source": [
    "# testing\n",
    "assert mergesort3([3,2,1])[0] == [1,2,3]\n",
    "assert mergesort3([])[0] == []\n",
    "assert mergesort3([1])[0] == [1]\n",
    "assert mergesort3([2,1])[0] == [1,2]\n",
    "assert mergesort3([2,1,2,2,2,2,2,2,2])[0] == [1,2,2,2,2,2,2,2,2]\n",
    "assert mergesort3([99,-100,2,-8])[0] == [-100,-8,2,99]\n",
    "print('all passed :)')"
   ]
  },
  {
   "cell_type": "markdown",
   "metadata": {},
   "source": [
    "# 2. Merge sort that calls insertion sort when sublist < c."
   ]
  },
  {
   "cell_type": "markdown",
   "metadata": {},
   "source": [
    "### First, define insertion sort"
   ]
  },
  {
   "cell_type": "code",
   "execution_count": 3,
   "metadata": {},
   "outputs": [],
   "source": [
    "def insertionSort(arr,comps = 0):\n",
    "    # base case: if only 1 item in arr, return arr\n",
    "    if len(arr) <= 1:\n",
    "        return(arr,comps)\n",
    "    \n",
    "    else:\n",
    "        # divide: sort array except for last item\n",
    "        sub_sorted,comps_s = insertionSort(arr[:-1])\n",
    "        comps += comps_s\n",
    "        \n",
    "        # conquer: insert last item into corrent position in sorted subarry\n",
    "        for i in range(len(sub_sorted)-1,-2,-1):\n",
    "            \n",
    "            comps += 1\n",
    "            # if subarray exhausted or item more than item at current index\n",
    "            if i == -1 or arr[-1] >= sub_sorted[i]:\n",
    "                # insert after this smaller/ nonexistent item\n",
    "                sub_sorted.insert(i+1,arr[-1])\n",
    "                return(sub_sorted,comps)"
   ]
  },
  {
   "cell_type": "code",
   "execution_count": 4,
   "metadata": {
    "scrolled": true
   },
   "outputs": [
    {
     "name": "stdout",
     "output_type": "stream",
     "text": [
      "all passed :)\n"
     ]
    }
   ],
   "source": [
    "# testing\n",
    "assert insertionSort([3,2,1])[0] == [1,2,3]\n",
    "assert insertionSort([])[0] == []\n",
    "assert insertionSort([1])[0] == [1]\n",
    "assert insertionSort([2,1])[0] == [1,2]\n",
    "assert insertionSort([2,1,2,2,2,2,2,2,2])[0] == [1,2,2,2,2,2,2,2,2]\n",
    "assert insertionSort([99,-100,2,-8])[0] == [-100,-8,2,99]\n",
    "print('all passed :)')"
   ]
  },
  {
   "cell_type": "markdown",
   "metadata": {},
   "source": [
    "### Find for what length n insertion sort is faster"
   ]
  },
  {
   "cell_type": "markdown",
   "metadata": {},
   "source": [
    "Runtime of insertion sort: $8n^2$     \n",
    "Runtime of merge sort: $64nlgn$     \n",
    "\n",
    "When is $8n^2 <= 64nlgn$ True?\n",
    "\n",
    "$8n^2 <= 64nlgn$\n",
    "$n^2 <= 8nlgn$     \n",
    "$n <= 8lgn$     "
   ]
  },
  {
   "cell_type": "code",
   "execution_count": 5,
   "metadata": {},
   "outputs": [
    {
     "name": "stdout",
     "output_type": "stream",
     "text": [
      "insertion faster when n <= 43\n"
     ]
    }
   ],
   "source": [
    "import math\n",
    "\n",
    "n = 2\n",
    "while (n > (8 * math.log(n,2))) != True:\n",
    "    n+=1\n",
    "    \n",
    "print('insertion faster when n <=',n-1)"
   ]
  },
  {
   "cell_type": "markdown",
   "metadata": {},
   "source": [
    "### Define augmented merge sort that switched to insertion sort when n <= 43"
   ]
  },
  {
   "cell_type": "code",
   "execution_count": 6,
   "metadata": {},
   "outputs": [],
   "source": [
    "# adapted merge\n",
    "\n",
    "def mergewithIns(arr, comps = 0):\n",
    "    # base case: if array is only 1 item, return array\n",
    "    if len(arr) <= 1:\n",
    "        return(arr, comps)\n",
    "    \n",
    "    # condition case: switch to insertion sort\n",
    "    if len(arr) <= 43:\n",
    "        return(insertionSort(arr, comps))\n",
    "    \n",
    "    # merge case: divide and conquer\n",
    "    else:\n",
    "        \n",
    "        # divide: split the problem into thirds and sort\n",
    "        d = -(-len(arr)//3) # the double negative is to round up as the // operator rounds down.\n",
    "        left, comps_l = mergewithIns(arr[:d])\n",
    "        mid, comps_m = mergewithIns(arr[d:2*d])\n",
    "        right, comps_r = mergewithIns(arr[2*d:])\n",
    "        \n",
    "        comps = comps + comps_l + comps_m + comps_r\n",
    "        \n",
    "        left.append(float(\"inf\"))\n",
    "        mid.append(float(\"inf\"))\n",
    "        right.append(float(\"inf\"))\n",
    "        \n",
    "        # conquer: merge the three sorted arrays into one\n",
    "        \n",
    "        # indexes for the smallest unconquered values within the sorted sub arrays \n",
    "        i = 0 # index for left\n",
    "        j = 0 # index for mid\n",
    "        k = 0 # index for right\n",
    "        \n",
    "        ret_arr = [] # initialize array to be returned\n",
    "        \n",
    "        # while there are still items in any of the arrays:\n",
    "        while left[i] != float(\"inf\") or mid[j] != float(\"inf\") or right[k] != float(\"inf\"):\n",
    "            comps += 1\n",
    "            if left[i] <= mid[j]:\n",
    "                comps += 1\n",
    "                if left[i] <= right[k]:\n",
    "                    # if left less than mid and right, add left\n",
    "                    ret_arr.append(left[i])\n",
    "                    i += 1\n",
    "                else:\n",
    "                    # if left less than mid and more than right, add right\n",
    "                    ret_arr.append(right[k])\n",
    "                    k += 1\n",
    "            elif mid[j] <= right[k]:\n",
    "                comps += 1 # counting after elif statement as to not interreput the if elif flow\n",
    "                # if mid less than left and right, add mid\n",
    "                ret_arr.append(mid[j])\n",
    "                j += 1\n",
    "            else:\n",
    "                comps += 1 # since I'm counting after the elif statement is called I have to count in both the True and False case\n",
    "                # if mid less than left and more than right, add right\n",
    "                ret_arr.append(right[k])\n",
    "                k += 1\n",
    "        return(ret_arr, comps)"
   ]
  },
  {
   "cell_type": "code",
   "execution_count": 7,
   "metadata": {
    "scrolled": true
   },
   "outputs": [
    {
     "name": "stdout",
     "output_type": "stream",
     "text": [
      "all passed :)\n"
     ]
    }
   ],
   "source": [
    "# testing\n",
    "\n",
    "assert mergewithIns([3,2,1])[0] == [1,2,3]\n",
    "assert mergewithIns([])[0] == []\n",
    "assert mergewithIns([1])[0] == [1]\n",
    "assert mergewithIns([2,1])[0] == [1,2]\n",
    "assert mergewithIns([2,1,2,2,2,2,2,2,2])[0] == [1,2,2,2,2,2,2,2,2]\n",
    "assert mergewithIns([99,-100,2,-8])[0] == [-100,-8,2,99]\n",
    "print('all passed :)')"
   ]
  },
  {
   "cell_type": "markdown",
   "metadata": {},
   "source": [
    "### Justification for the treshhold of <= 43:\n",
    "This is the maximum treshhold for when insertion sort is faster than merge sort. For all problem sizes 43 or less, insertion sort is faster. For all problem sizes more than 43, merge sort is faster.\n",
    "\n",
    "Thus, by using a treshold of <= 43, we will always use the fastest possible sort for that sublist based on the length of the sublist. "
   ]
  },
  {
   "cell_type": "markdown",
   "metadata": {},
   "source": [
    "# 3. Analyze and compare the practical run times of regular, three way, and augmented merge sort."
   ]
  },
  {
   "cell_type": "markdown",
   "metadata": {},
   "source": [
    "### Define merge sort"
   ]
  },
  {
   "cell_type": "code",
   "execution_count": 8,
   "metadata": {},
   "outputs": [],
   "source": [
    "def mergesort(arr,comps=0):\n",
    "    x = len(arr)\n",
    "    # base casase len arr == 1\n",
    "    if x <= 1:\n",
    "        return(arr,comps)\n",
    "    else:\n",
    "        ret_arr = []\n",
    "        \n",
    "        # recursively sort left and right halves\n",
    "        l_arr,comp_l = mergesort(arr[:int(x/2)],comps)\n",
    "        r_arr,comp_r = mergesort(arr[int(x/2):],comps)\n",
    "\n",
    "        comps = comps + comp_l + comp_r\n",
    "        l_i = 0\n",
    "        r_i = 0\n",
    "        \n",
    "        # while there are items in both, compare and append smaller\n",
    "        while (l_i < len(l_arr)) and (r_i < len(r_arr)):\n",
    "            comps += 1\n",
    "            if l_arr[l_i] < r_arr[r_i]:\n",
    "                ret_arr.append(l_arr[l_i])\n",
    "                l_i += 1\n",
    "            else:\n",
    "                ret_arr.append(r_arr[r_i])\n",
    "                r_i += 1\n",
    "                \n",
    "        # if anything remaining, append\n",
    "        while l_i < len(l_arr):\n",
    "            ret_arr.append(l_arr[l_i])\n",
    "            l_i += 1\n",
    "            \n",
    "        while r_i < len(r_arr):\n",
    "            ret_arr.append(r_arr[r_i])\n",
    "            r_i += 1\n",
    "        return(ret_arr,comps)"
   ]
  },
  {
   "cell_type": "code",
   "execution_count": 9,
   "metadata": {},
   "outputs": [
    {
     "name": "stdout",
     "output_type": "stream",
     "text": [
      "all passed :)\n"
     ]
    }
   ],
   "source": [
    "# testing\n",
    "assert mergesort([3,2,1])[0] == [1,2,3]\n",
    "assert mergesort([])[0] == []\n",
    "assert mergesort([1])[0] == [1]\n",
    "assert mergesort([2,1])[0] == [1,2]\n",
    "assert mergesort([2,1,2,2,2,2,2,2,2])[0] == [1,2,2,2,2,2,2,2,2]\n",
    "assert mergesort([99,-100,2,-8])[0] == [-100,-8,2,99]\n",
    "print('all passed :)')"
   ]
  },
  {
   "cell_type": "code",
   "execution_count": 10,
   "metadata": {},
   "outputs": [
    {
     "ename": "NameError",
     "evalue": "name 'random' is not defined",
     "output_type": "error",
     "traceback": [
      "\u001b[0;31m---------------------------------------------------------------------------\u001b[0m",
      "\u001b[0;31mNameError\u001b[0m                                 Traceback (most recent call last)",
      "\u001b[0;32m<ipython-input-10-d139772d77c6>\u001b[0m in \u001b[0;36m<module>\u001b[0;34m\u001b[0m\n\u001b[1;32m     13\u001b[0m \u001b[0mtestL\u001b[0m \u001b[0;34m=\u001b[0m \u001b[0;34m[\u001b[0m\u001b[0;34m]\u001b[0m\u001b[0;34m\u001b[0m\u001b[0;34m\u001b[0m\u001b[0m\n\u001b[1;32m     14\u001b[0m \u001b[0;32mfor\u001b[0m \u001b[0mi\u001b[0m \u001b[0;32min\u001b[0m \u001b[0mrange\u001b[0m\u001b[0;34m(\u001b[0m\u001b[0;36m1\u001b[0m\u001b[0;34m,\u001b[0m\u001b[0mn\u001b[0m\u001b[0;34m,\u001b[0m\u001b[0mstep_size\u001b[0m\u001b[0;34m)\u001b[0m\u001b[0;34m:\u001b[0m\u001b[0;34m\u001b[0m\u001b[0;34m\u001b[0m\u001b[0m\n\u001b[0;32m---> 15\u001b[0;31m     \u001b[0mtestL\u001b[0m\u001b[0;34m.\u001b[0m\u001b[0mappend\u001b[0m\u001b[0;34m(\u001b[0m\u001b[0mrandList\u001b[0m\u001b[0;34m(\u001b[0m\u001b[0mi\u001b[0m\u001b[0;34m,\u001b[0m\u001b[0;34m-\u001b[0m\u001b[0;36m100\u001b[0m\u001b[0;34m,\u001b[0m\u001b[0;36m100\u001b[0m\u001b[0;34m)\u001b[0m\u001b[0;34m)\u001b[0m\u001b[0;34m\u001b[0m\u001b[0;34m\u001b[0m\u001b[0m\n\u001b[0m\u001b[1;32m     16\u001b[0m \u001b[0;34m\u001b[0m\u001b[0m\n\u001b[1;32m     17\u001b[0m \u001b[0mmerge_steps\u001b[0m \u001b[0;34m=\u001b[0m \u001b[0;34m[\u001b[0m\u001b[0;34m]\u001b[0m\u001b[0;34m\u001b[0m\u001b[0;34m\u001b[0m\u001b[0m\n",
      "\u001b[0;32m<ipython-input-10-d139772d77c6>\u001b[0m in \u001b[0;36mrandList\u001b[0;34m(num, min, max)\u001b[0m\n\u001b[1;32m      2\u001b[0m     \u001b[0mlist\u001b[0m \u001b[0;34m=\u001b[0m \u001b[0;34m[\u001b[0m\u001b[0;34m]\u001b[0m\u001b[0;34m\u001b[0m\u001b[0;34m\u001b[0m\u001b[0m\n\u001b[1;32m      3\u001b[0m     \u001b[0;32mfor\u001b[0m \u001b[0mnum\u001b[0m \u001b[0;32min\u001b[0m \u001b[0mrange\u001b[0m\u001b[0;34m(\u001b[0m\u001b[0mnum\u001b[0m\u001b[0;34m+\u001b[0m\u001b[0;36m1\u001b[0m\u001b[0;34m)\u001b[0m\u001b[0;34m:\u001b[0m\u001b[0;34m\u001b[0m\u001b[0;34m\u001b[0m\u001b[0m\n\u001b[0;32m----> 4\u001b[0;31m         \u001b[0mlist\u001b[0m\u001b[0;34m.\u001b[0m\u001b[0mappend\u001b[0m\u001b[0;34m(\u001b[0m\u001b[0mint\u001b[0m\u001b[0;34m(\u001b[0m\u001b[0mrandom\u001b[0m\u001b[0;34m.\u001b[0m\u001b[0mrandint\u001b[0m\u001b[0;34m(\u001b[0m\u001b[0mmin\u001b[0m\u001b[0;34m,\u001b[0m\u001b[0mmax\u001b[0m\u001b[0;34m)\u001b[0m\u001b[0;34m)\u001b[0m\u001b[0;34m)\u001b[0m\u001b[0;34m\u001b[0m\u001b[0;34m\u001b[0m\u001b[0m\n\u001b[0m\u001b[1;32m      5\u001b[0m     \u001b[0;32mreturn\u001b[0m\u001b[0;34m(\u001b[0m\u001b[0mlist\u001b[0m\u001b[0;34m)\u001b[0m\u001b[0;34m\u001b[0m\u001b[0;34m\u001b[0m\u001b[0m\n\u001b[1;32m      6\u001b[0m \u001b[0;34m\u001b[0m\u001b[0m\n",
      "\u001b[0;31mNameError\u001b[0m: name 'random' is not defined"
     ]
    }
   ],
   "source": [
    "def randList(num,min,max):\n",
    "    list = []\n",
    "    for num in range(num+1):\n",
    "        list.append(int(random.randint(min,max)))\n",
    "    return(list)\n",
    "\n",
    "# main code\n",
    "# number of lists to test\n",
    "n = 10000\n",
    "step_size = 1000\n",
    "\n",
    "# create test lists\n",
    "testL = []\n",
    "for i in range(1,n,step_size):\n",
    "    testL.append(randList(i,-100,100))\n",
    "\n",
    "merge_steps = []\n",
    "merge_time = []\n",
    "merge3_steps = []\n",
    "merge3_time = []\n",
    "mergeAug_steps = []\n",
    "mergeAug_time = []\n",
    "    \n",
    "# get number of steps for sorting each list\n",
    "for test_list in testL:\n",
    "    \n",
    "    # get times\n",
    "    merge_time.append(getTime(mergesort,test_list))\n",
    "    merge3_time.append(getTime(mergesort3,test_list))\n",
    "    mergeAug_time.append(getTime(mergewithIns,test_list))\n",
    "    \n",
    "    _, merge_steps = mergesort(test_list)\n",
    "    _, merge3_steps = mergesort3(test_list)\n",
    "    _, mergeAug_steps = mergewithIns(test_list)\n",
    "# get time for sorting each list"
   ]
  },
  {
   "cell_type": "code",
   "execution_count": 11,
   "metadata": {},
   "outputs": [
    {
     "ename": "NameError",
     "evalue": "name 'plt' is not defined",
     "output_type": "error",
     "traceback": [
      "\u001b[0;31m---------------------------------------------------------------------------\u001b[0m",
      "\u001b[0;31mNameError\u001b[0m                                 Traceback (most recent call last)",
      "\u001b[0;32m<ipython-input-11-1ec88c564269>\u001b[0m in \u001b[0;36m<module>\u001b[0;34m\u001b[0m\n\u001b[1;32m      4\u001b[0m \u001b[0my\u001b[0m \u001b[0;34m=\u001b[0m \u001b[0;34m[\u001b[0m\u001b[0;34m(\u001b[0m\u001b[0;34m(\u001b[0m\u001b[0mi\u001b[0m\u001b[0;34m*\u001b[0m\u001b[0mmath\u001b[0m\u001b[0;34m.\u001b[0m\u001b[0mlog\u001b[0m\u001b[0;34m(\u001b[0m\u001b[0mi\u001b[0m\u001b[0;34m,\u001b[0m\u001b[0;36m2\u001b[0m\u001b[0;34m)\u001b[0m\u001b[0;34m)\u001b[0m\u001b[0;34m/\u001b[0m\u001b[0;36m1000000\u001b[0m\u001b[0;34m)\u001b[0m \u001b[0;32mfor\u001b[0m \u001b[0mi\u001b[0m \u001b[0;32min\u001b[0m \u001b[0mx\u001b[0m\u001b[0;34m]\u001b[0m\u001b[0;34m\u001b[0m\u001b[0;34m\u001b[0m\u001b[0m\n\u001b[1;32m      5\u001b[0m \u001b[0;34m\u001b[0m\u001b[0m\n\u001b[0;32m----> 6\u001b[0;31m \u001b[0mplt\u001b[0m\u001b[0;34m.\u001b[0m\u001b[0mfigure\u001b[0m\u001b[0;34m(\u001b[0m\u001b[0;36m1\u001b[0m\u001b[0;34m)\u001b[0m\u001b[0;34m\u001b[0m\u001b[0;34m\u001b[0m\u001b[0m\n\u001b[0m\u001b[1;32m      7\u001b[0m \u001b[0;34m\u001b[0m\u001b[0m\n\u001b[1;32m      8\u001b[0m \u001b[0mplt\u001b[0m\u001b[0;34m.\u001b[0m\u001b[0msubplot\u001b[0m\u001b[0;34m(\u001b[0m\u001b[0;36m211\u001b[0m\u001b[0;34m)\u001b[0m\u001b[0;34m\u001b[0m\u001b[0;34m\u001b[0m\u001b[0m\n",
      "\u001b[0;31mNameError\u001b[0m: name 'plt' is not defined"
     ]
    }
   ],
   "source": [
    "# plot the time and steps for each sort\n",
    "\n",
    "x = range(1,n,step_size)\n",
    "y = [((i*math.log(i,2))/1000000) for i in x]\n",
    "\n",
    "plt.figure(1)\n",
    "\n",
    "plt.subplot(211)\n",
    "#plt.plot(x,y,color=\"black\",label=\"theoretical\",linestyle='--')\n",
    "plt.plot(x,merge_time,color=\"green\",label=\"merge\")\n",
    "plt.plot(x,merge3_time,color=\"red\",label=\"merge 3\")\n",
    "plt.plot(x,mergeAug_time,color=\"blue\",label=\"merge aug\")\n",
    "\n"
   ]
  },
  {
   "cell_type": "code",
   "execution_count": 54,
   "metadata": {
    "scrolled": true
   },
   "outputs": [
    {
     "data": {
      "text/plain": [
       "\"I don't understand that k :(\""
      ]
     },
     "execution_count": 54,
     "metadata": {},
     "output_type": "execute_result"
    }
   ],
   "source": [
    "def mergeK(arr,k):\n",
    "    if k <= 0:\n",
    "        return('I don\\'t understand that k :(')\n",
    "    # base case: if array is only 1 item, return array\n",
    "    if len(arr) <= 1:\n",
    "        return(arr)\n",
    "    \n",
    "    # recursive case: divide and conquer\n",
    "    else:\n",
    "        \n",
    "        # divide: split the problem into ks\n",
    "        d = -(-len(arr)//k)\n",
    "        sub_arrs = [[] for i in range(k)] # list of sub arrays\n",
    "        \n",
    "        j = 0\n",
    "        for i in range(k):\n",
    "            if ((j+1)*d) > len(arr):\n",
    "                break\n",
    "            sub_arrs[i] = arr[j*d:(j+1)*d]\n",
    "            j+= 1\n",
    "\n",
    "        # divide: sort each subarray:\n",
    "        for i in range(len(sub_arrs)):\n",
    "            sub_arrs[i] = mergeK(sub_arrs[i],k)\n",
    "            \n",
    "        # conquer: merge the three sorted arrays into one\n",
    "        \n",
    "        # create index for each subarray\n",
    "        sub_index = []\n",
    "        for i in sub_arrs:\n",
    "            sub_index.append(0)\n",
    "            \n",
    "        # prepare return array\n",
    "        ret_arr = []\n",
    "        \n",
    "        for i in sub_arrs:\n",
    "            i.append(float('inf'))\n",
    "        \n",
    "        iter = True\n",
    "        \n",
    "        while iter:\n",
    "            # check each subarray, except last\n",
    "            iter = False\n",
    "            updated = False\n",
    "            for i in range(len(sub_arrs)-1):\n",
    "                min = True\n",
    "                for j in range(i+1, len(sub_arrs),1):\n",
    "                    # if any of theother items are more than this one, this one is not the min\n",
    "                    if sub_arrs[i][sub_index[i]] > sub_arrs[j][sub_index[j]]:\n",
    "                        min = False\n",
    "                        break\n",
    "                # if no cases where there is another item that is smaller, this is min. Append and update indexes.\n",
    "                if min == True:\n",
    "                    ret_arr.append(sub_arrs[i][sub_index[i]])\n",
    "                    sub_index[i] += 1\n",
    "                    updated = True\n",
    "                    break\n",
    "            # if none of the above are min, last must be min. Append and update indexes.\n",
    "            if updated == False:\n",
    "                ret_arr.append(sub_arrs[len(sub_arrs)-1][sub_index[len(sub_arrs)-1]])\n",
    "                sub_index[len(sub_arrs)-1] += 1\n",
    "                iter = False\n",
    "            # if there are still unexhausted arrays, repeat\n",
    "            for i in range(len(sub_arrs)):\n",
    "                if sub_arrs[i][sub_index[i]] != float('inf'):\n",
    "                    iter = True\n",
    "                    break\n",
    "        return(ret_arr)"
   ]
  },
  {
   "cell_type": "code",
   "execution_count": 55,
   "metadata": {},
   "outputs": [
    {
     "name": "stdout",
     "output_type": "stream",
     "text": [
      "all passed :)\n"
     ]
    }
   ],
   "source": [
    "# testing\n",
    "assert mergeK([2,3,1,-99,100,348],5) == [-99, 1, 2, 3, 100, 348]\n",
    "assert mergeK([2,3,1,-99,100,348,999,2,4,1,8,2,1],5) == [-99, 1, 1, 2, 2, 2, 3, 4, 8, 100, 348, 999]\n",
    "assert mergeK([],3) == []\n",
    "assert mergeK([2,3,1,-99,100,348,999,2,4,1,8,2,1],4) == [-99, 1, 1, 2, 2, 2, 3, 4, 8, 100, 348, 999]\n",
    "assert mergeK([2,3,1,-99,100,348],0) == \"I don't understand that k :(\"\n",
    "\n",
    "print('all passed :)')"
   ]
  },
  {
   "cell_type": "markdown",
   "metadata": {},
   "source": [
    "### 1. Complexity:        \n",
    "#### Merge Sort\n",
    "Recursion Relation: 2T(n/2) + n      \n",
    "Thus recursion tree looks like:     \n",
    "    [n]       \n",
    "    / \\      \n",
    "[n/2] [n/2]      \n",
    "...     \n",
    "    \n",
    "Since the problem is split in half each time we recurse ($2T(n/2)$), it will take $lg_2(n)$ steps before we hit the base case of $n <= 1$.       \n",
    "This means the recursion tree will have $lg_2(n)$ levels.       \n",
    "Since the conquer step will take n steps ($n$), we then have to do n steps for each level.         \n",
    "Thus the total number of steps that this sort will take will be the $numberOfLevels * stepsPerLevel$, which will be $lg_2(n)*n$, which will be $nlg_2n$.         \n",
    "Additionally, since all of this remains True no matter the configuration of the list (even if the array started out sorted), the complexity of merge sort will be $\\Theta(nlg_2n)$.    \n",
    "#### Three-way Merge Sort\n",
    "Recursion Relation: 3T(n/3) + n      \n",
    "Thus recursion tree looks like:     \n",
    " [n]       \n",
    " / | \\       \n",
    "[n/3][n/3][n/3]      \n",
    "...    \n",
    "     \n",
    "Since the problem is split in thirds each time we recurse ($3T(n/3)$), it will take $lg_3(n)$ steps before we hit the base case of $n <= 1$.       \n",
    "This means the recursion tree will have $lg_3(n)$ levels.       \n",
    "Since the conquer step will take n steps ($n$), we then have to do n steps for each level.         \n",
    "Thus the total number of steps that this sort will take will be the $numberOfLevels * stepsPerLevel$, which will be $lg_3(n)*n$, which will be $nlg_3n$.         \n",
    "Additionally, since all of this remains True no matter the configuration of the list (even if the array started out sorted), the complexity of merge sort will be $\\Theta(nlg_3n)$.     \n",
    "#### Augmented Merge Sort\n",
    "Recursion Relation: 3T(n/3) + n      \n",
    "Thus recursion tree looks like:     \n",
    "T(n) = {8n^2             if n <= 43,\n",
    "        2T(n/2) + n      if n > 43}     \n",
    "Since this algorithm has a condition case, at n <= 43, it will have a runtime complexity of $O(n^2)$ (since n^2 is the highest polynomial) and $\\Omega(n)$ (since if the array is already sorted, the algorithm will only perform one check for each item in the array since they will already be in their optimal position).     \n",
    "\n",
    "If n > 43, it will have the same runtime complexity as merge sort which will be $\\Theta(nlg_2n)$\n",
    "\n",
    "### 2. Assumptions in assessing runtime\n",
    "Practical\n",
    "    - My computer processor processes each single step at an even/ consistent amount of time, or at least with a variation that can be negated my averaging over 3.\n",
    "    - The inputs will be lists of random numbers, with no particular structure/ pattern otherwise.\n",
    "    - the length of the inputs will be regularly distributed between 0 and 1000.\n",
    "    - The inputs will be of lists of integeres between -100 to 100     \n",
    "Theoretical\n",
    "\n",
    "    - Computational steps other than comparisons will be negligible asymptotically as they do not affect the order of growth by anything more than a constant factor. Thus, for comparing the efficiency of sorting algorithms, what matters the most is the number of comparisons that they make.    \n",
    "\n",
    "### 3. Actual vs Theoretical Results\n",
    "while in theory, 3 way merge sort should perform better than 2 way, they perform virtually the same. In contrast, augmented merge sort seems to perform consistently better than merge sort."
   ]
  },
  {
   "cell_type": "code",
   "execution_count": null,
   "metadata": {},
   "outputs": [],
   "source": []
  },
  {
   "cell_type": "code",
   "execution_count": null,
   "metadata": {},
   "outputs": [],
   "source": []
  }
 ],
 "metadata": {
  "kernelspec": {
   "display_name": "Python 3",
   "language": "python",
   "name": "python3"
  },
  "language_info": {
   "codemirror_mode": {
    "name": "ipython",
    "version": 3
   },
   "file_extension": ".py",
   "mimetype": "text/x-python",
   "name": "python",
   "nbconvert_exporter": "python",
   "pygments_lexer": "ipython3",
   "version": "3.7.1"
  }
 },
 "nbformat": 4,
 "nbformat_minor": 2
}
