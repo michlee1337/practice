{
 "cells": [
  {
   "cell_type": "code",
   "execution_count": 4,
   "metadata": {},
   "outputs": [
    {
     "name": "stdout",
     "output_type": "stream",
     "text": [
      "BFS from 2\n",
      "2 0 3 1 "
     ]
    }
   ],
   "source": [
    "from collections import defaultdict \n",
    "  \n",
    "class Graph: \n",
    "  \n",
    "    # Constructor \n",
    "    def __init__(self): \n",
    "\n",
    "        # python default dict to store graph \n",
    "        self.graph = defaultdict(list) \n",
    "  \n",
    "    def addEdge(self,u,v): \n",
    "        self.graph[u].append(v) \n",
    "  \n",
    "    def BFS(self, s): \n",
    "  \n",
    "        # Mark all the vertices as not visited \n",
    "        visited = [False] * (len(self.graph)) \n",
    "  \n",
    "        # Create a queue for BFS \n",
    "        queue = [] \n",
    "  \n",
    "        # visit souce node: enqueue and mark\n",
    "        queue.append(s) \n",
    "        visited[s] = True\n",
    "        \n",
    "        # while theres stuff in queue\n",
    "        while queue: \n",
    "            # Dequeue a vertex and print it\n",
    "            s = queue.pop(0) \n",
    "            print (s, end = \" \") \n",
    "  \n",
    "            # enqueue all adjacent unvisited vertices\n",
    "            for i in self.graph[s]: \n",
    "                if visited[i] == False: \n",
    "                    queue.append(i) \n",
    "                    visited[i] = True\n",
    "  \n",
    "# Create a graph given in \n",
    "# the above diagram \n",
    "g = Graph() \n",
    "g.addEdge(0, 1) \n",
    "g.addEdge(0, 2) \n",
    "g.addEdge(1, 2) \n",
    "g.addEdge(2, 0) \n",
    "g.addEdge(2, 3) \n",
    "g.addEdge(3, 3) \n",
    "  \n",
    "print (\"BFS from 2\") \n",
    "g.BFS(2) "
   ]
  },
  {
   "cell_type": "code",
   "execution_count": null,
   "metadata": {},
   "outputs": [],
   "source": []
  }
 ],
 "metadata": {
  "kernelspec": {
   "display_name": "Python 3",
   "language": "python",
   "name": "python3"
  },
  "language_info": {
   "codemirror_mode": {
    "name": "ipython",
    "version": 3
   },
   "file_extension": ".py",
   "mimetype": "text/x-python",
   "name": "python",
   "nbconvert_exporter": "python",
   "pygments_lexer": "ipython3",
   "version": "3.7.3"
  }
 },
 "nbformat": 4,
 "nbformat_minor": 2
}
