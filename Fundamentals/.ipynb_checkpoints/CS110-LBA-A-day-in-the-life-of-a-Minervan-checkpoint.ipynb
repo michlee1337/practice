{
 "cells": [
  {
   "cell_type": "code",
   "execution_count": null,
   "metadata": {},
   "outputs": [],
   "source": []
  },
  {
   "cell_type": "code",
   "execution_count": 158,
   "metadata": {},
   "outputs": [],
   "source": [
    "#Chores\n",
    "\n",
    "class Chores:\n",
    "    \n",
    "    \n",
    "    def __init__(self, name, start, duration, utility, must): \n",
    "        self.name = name\n",
    "        self.start = start #earliest start time for flexible tasks\n",
    "        self.duration = duration#hrs\n",
    "        self.utility = utility\n",
    "        self.must = must #True or False, if True, has to be put in. \n",
    "        self.end = start + duration\n",
    "    \n",
    "    \n",
    "    def unit(self): #utility every 0.5hrs\n",
    "        return int(self.utility/(self.duration/0.5))\n",
    "\n",
    "        \n",
    "        \n",
    "#common chores       \n",
    "Wake = Chores(\"Sleeping\",0,7,2100,True) #Sleep from 0-7am\n",
    "SS111 = Chores(\"SS111\",9,1.5,150,True)\n",
    "Exercise = Chores(\"Exercise\",7,1,100,True)\n",
    "Brunch = Chores(\"Lunch\",10.5,0.5,100,True)\n",
    "Dinner = Chores(\"Dinner\",17.5,0.5,100,True)\n",
    "Prep = Chores(\"CS110 Prep\",0,2,210,True) #anytime\n",
    "Sleep = Chores(\"Sleep\",23, 1, 300, True)\n",
    "Wash = Chores(\"Wash-up\",22, 1, 100, True)\n",
    "\n",
    "\n",
    "#optional\n",
    "Rest = Chores(\"Rest\",0,0.5,50,False) \n",
    "Exercise = Chores(\"Exercise\",0,1,100,False) \n",
    "Socialize = Chores(\"Socialize\",0,0.5,50,False) \n",
    "Practice = Chores(\"Practice Guitar\",0,1,140,False) \n",
    "\n",
    "\n",
    "#city engagement\n",
    "Guitar = Chores(\"Guitar Class\",15.5,2,300,True) \n",
    "Cafe = Chores(\"Event\",0,3,300,False)\n",
    "Grocery = Chores(\"Groceries\",0,0.5,70,False) \n"
   ]
  },
  {
   "cell_type": "code",
   "execution_count": 149,
   "metadata": {},
   "outputs": [],
   "source": [
    "def intervals(n):\n",
    "    if n*0.5 - int(n*0.5) == 0.5:\n",
    "        return str(int(0.5*n)) + \":30 - \" + str(int(0.5*n + 0.5)) + \":00\"\n",
    "    else:\n",
    "        return str(int(0.5*n)) + \":00 - \" + str(int(0.5*n + 0.5)) + \":30\""
   ]
  },
  {
   "cell_type": "code",
   "execution_count": 150,
   "metadata": {},
   "outputs": [],
   "source": [
    "#use priority queues to sort out which tasks should be put into the scheduler first. \n",
    "\n",
    "#sleep is put in last. "
   ]
  },
  {
   "cell_type": "code",
   "execution_count": 1,
   "metadata": {},
   "outputs": [
    {
     "ename": "SyntaxError",
     "evalue": "invalid syntax (<ipython-input-1-b59897ef5444>, line 50)",
     "output_type": "error",
     "traceback": [
      "\u001b[0;36m  File \u001b[0;32m\"<ipython-input-1-b59897ef5444>\"\u001b[0;36m, line \u001b[0;32m50\u001b[0m\n\u001b[0;31m    for task in range Optional:\u001b[0m\n\u001b[0m                             ^\u001b[0m\n\u001b[0;31mSyntaxError\u001b[0m\u001b[0;31m:\u001b[0m invalid syntax\n"
     ]
    }
   ],
   "source": [
    "L = [SS111,Sleep,Brunch,Dinner,Guitar_class,Grocery,Rest,Practice,Prep,Socialize,Event,Wake,Exercise,Wash]\n",
    "\n",
    "\n",
    "#sorting based on utility\n",
    "Utility = sorted(L, key = lambda j: j.utility, reverse=True)\n",
    "\n",
    "for i in range(len(Utility)):\n",
    "    print(Utility[i].name)\n",
    "\n",
    "def Schedule(L): #takes in a list of chores\n",
    "    \n",
    "    #time will be kept track in 30 min intervals\n",
    "    Day = [[intervals(n),0,0] for n in range(48)]\n",
    "    Utility = []\n",
    "    #order the tasks \n",
    "    Optional = []\n",
    "    \n",
    "    #1. input must dos\n",
    "    for i in range(len(L)):\n",
    "        if L[i].must == True:\n",
    "            for j in range(int(L[i].duration/0.5)):\n",
    "                Day[int(2*L[i].start) + j][1] = L[i].name\n",
    "                Day[int(2*L[i].start) + j][2] = L[i].unit()\n",
    "        \n",
    "        #since the must dos divide the day into early morning, early afternoon and evening\n",
    "        #we only need to find the optimal schedule for these times to construct the optimal day. \n",
    "        if L[i].must == False: #sort tasks based on utility, then \n",
    "            Optional.append(L[i])\n",
    "    \n",
    "    for i in range(48): #the utility of all the mandatory tasks\n",
    "        Must_dos += Day[i][2]\n",
    "\n",
    "    Optional = sorted(L, key = lambda j: j.utility, reverse=True)\n",
    "    print('Optional',Optional)\n",
    "    \n",
    "    \n",
    "    Empty_slots = [2,4.5,6] #7:00 - 9:00, 11:00 - 15:30, 18:00 - 22:00]    \n",
    "    \n",
    "    #optimal morning\n",
    "    chores_morning = []\n",
    "    # store subproblem solutions\n",
    "    mStore = [] * len(range(Optional))\n",
    "    \n",
    "    \n",
    "    for i in range(1,len(Optional)):\n",
    "        # assume you do task i\n",
    "        mStore[i] = Optional[i]\n",
    "        \n",
    "        # find next possible task\n",
    "        for task in Optional:\n",
    "            if task.duration < (2-sum(x.duration for x in mStore[i])):\n",
    "                mStore[i].append(task)\n",
    "        \n",
    "        # save max of this new configuration or last configuration\n",
    "        mStore[i] = max(mStore[i],mStore[i-1])\n",
    "        \n",
    "    print(mStore)\n",
    "    \n",
    "    \n",
    "    Optional.remove(task)\n",
    "    value_morning = task.utility0\n",
    "        \n",
    "    \n",
    "    #optimal afternoon\n",
    "    \n",
    "    chores_afternoon = \n",
    "    value_afternoon =\n",
    "    \n",
    "    #optimal night\n",
    "    \n",
    "    chores_night = \n",
    "    value_night = \n",
    "       \n",
    "\n",
    "    Solutions = [chores_morning, chores_afternoon, chores_night]\n",
    "    values = [values_morning, values_afternoon, values_night]\n",
    "    \n",
    "    Optimal_value = 0\n",
    "    \n",
    "    #we incrementally schedule the day by time blocks\n",
    "    for i in range(len(Solutions)):\n",
    "        Optimal_value = Optimal_value + values[i]\n",
    "    \n",
    "    return Day, Optimal_value"
   ]
  },
  {
   "cell_type": "code",
   "execution_count": 160,
   "metadata": {},
   "outputs": [
    {
     "data": {
      "text/plain": [
       "[['0:00 - 0:30', 'Sleeping', 150],\n",
       " ['0:30 - 1:00', 'Sleeping', 150],\n",
       " ['1:00 - 1:30', 'Sleeping', 150],\n",
       " ['1:30 - 2:00', 'Sleeping', 150],\n",
       " ['2:00 - 2:30', 'Sleeping', 150],\n",
       " ['2:30 - 3:00', 'Sleeping', 150],\n",
       " ['3:00 - 3:30', 'Sleeping', 150],\n",
       " ['3:30 - 4:00', 'Sleeping', 150],\n",
       " ['4:00 - 4:30', 'Sleeping', 150],\n",
       " ['4:30 - 5:00', 'Sleeping', 150],\n",
       " ['5:00 - 5:30', 'Sleeping', 150],\n",
       " ['5:30 - 6:00', 'Sleeping', 150],\n",
       " ['6:00 - 6:30', 'Sleeping', 150],\n",
       " ['6:30 - 7:00', 'Sleeping', 150],\n",
       " ['7:00 - 7:30', 0, 0],\n",
       " ['7:30 - 8:00', 0, 0],\n",
       " ['8:00 - 8:30', 0, 0],\n",
       " ['8:30 - 9:00', 0, 0],\n",
       " ['9:00 - 9:30', 'SS111', 50],\n",
       " ['9:30 - 10:00', 'SS111', 50],\n",
       " ['10:00 - 10:30', 'SS111', 50],\n",
       " ['10:30 - 11:00', 'Lunch', 100],\n",
       " ['11:00 - 11:30', 0, 0],\n",
       " ['11:30 - 12:00', 0, 0],\n",
       " ['12:00 - 12:30', 0, 0],\n",
       " ['12:30 - 13:00', 0, 0],\n",
       " ['13:00 - 13:30', 0, 0],\n",
       " ['13:30 - 14:00', 0, 0],\n",
       " ['14:00 - 14:30', 0, 0],\n",
       " ['14:30 - 15:00', 0, 0],\n",
       " ['15:00 - 15:30', 0, 0],\n",
       " ['15:30 - 16:00', 'Guitar Class', 75],\n",
       " ['16:00 - 16:30', 'Guitar Class', 75],\n",
       " ['16:30 - 17:00', 'Guitar Class', 75],\n",
       " ['17:00 - 17:30', 'Guitar Class', 75],\n",
       " ['17:30 - 18:00', 'Dinner', 100],\n",
       " ['18:00 - 18:30', 0, 0],\n",
       " ['18:30 - 19:00', 0, 0],\n",
       " ['19:00 - 19:30', 0, 0],\n",
       " ['19:30 - 20:00', 0, 0],\n",
       " ['20:00 - 20:30', 0, 0],\n",
       " ['20:30 - 21:00', 0, 0],\n",
       " ['21:00 - 21:30', 0, 0],\n",
       " ['21:30 - 22:00', 0, 0],\n",
       " ['22:00 - 22:30', 0, 0],\n",
       " ['22:30 - 23:00', 0, 0],\n",
       " ['23:00 - 23:30', 'Sleep', 150],\n",
       " ['23:30 - 24:00', 'Sleep', 150]]"
      ]
     },
     "execution_count": 160,
     "metadata": {},
     "output_type": "execute_result"
    }
   ],
   "source": [
    "Schedule(L)"
   ]
  },
  {
   "cell_type": "code",
   "execution_count": 30,
   "metadata": {},
   "outputs": [
    {
     "name": "stdout",
     "output_type": "stream",
     "text": [
      "[0, 0, 0, 0, 0, 0, 0, 0, 0, 0, 0, 0, 0, 0, 0, 0, 0, 0, 0, 0, 0, 0, 0, 0, 0, 0, 0, 0, 0, 0, 0, 0, 0, 0, 0, 0, 0, 0, 0, 0, 0, 0, 0, 0, 0, 0, 0, 0]\n"
     ]
    }
   ],
   "source": [
    "Day = [0 for n in range(48)]\n",
    "print(Day)\n",
    "\n",
    "#append utility to time points. If time point in not 0, then task is already there. "
   ]
  },
  {
   "cell_type": "code",
   "execution_count": null,
   "metadata": {},
   "outputs": [],
   "source": []
  }
 ],
 "metadata": {
  "kernelspec": {
   "display_name": "Python 3",
   "language": "python",
   "name": "python3"
  },
  "language_info": {
   "codemirror_mode": {
    "name": "ipython",
    "version": 3
   },
   "file_extension": ".py",
   "mimetype": "text/x-python",
   "name": "python",
   "nbconvert_exporter": "python",
   "pygments_lexer": "ipython3",
   "version": "3.7.3"
  }
 },
 "nbformat": 4,
 "nbformat_minor": 2
}
