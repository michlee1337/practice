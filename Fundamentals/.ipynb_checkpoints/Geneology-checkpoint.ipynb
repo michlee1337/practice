{
 "cells": [
  {
   "cell_type": "markdown",
   "metadata": {},
   "source": [
    "# Gene Sequences"
   ]
  },
  {
   "cell_type": "code",
   "execution_count": 7,
   "metadata": {},
   "outputs": [],
   "source": [
    "Set_Strings = [(0, 'CAGCGGGTGCGTAATTTGGAGAAGTTATTCTGCAACGAAATCAATCCTGTTTCGTTAGCTTACGGACTACGACGAGAGGGTACTTCCCTGATATAGTCAC'),\n",
    "(1, 'CAAGTCGGGCGTATTGGAGAATATTTAAATCGGAAGATCATGTTACTATGCGTTAGCTCACGGACTGAAGAGGATTCTCTCTTAATGCAA'),\n",
    "(2, 'CATGGGTGCGTCGATTTTGGCAGTAAAGTGGAATCGTCAGATATCAATCCTGTTTCGTAGAAAGGAGCTACCTAGAGAGGATTACTCTCACATAGTA'),\n",
    "(3, 'CAAGTCCGCGATAAATTGGAATATTTGTCAATCGGAATAGTCAACTTAGCTGGCGTTAGCTTTACGACTGACAGAGAGAAACCTGTCCATCACACA'),\n",
    "(4, 'CAGTCCGGCGTAATTGGAGAATATTTTGCAATCGGAAGATCAATCTTGTTAGCGTTAGCTTACGACTGACGAGAGGGATACTCTCTCTAATACAA'),\n",
    "(5, 'CACGGGCTCCGCATCTATTTTGGGTCAAGTTGCATATCAGTCATCGACAATCAAACACTGTTTTGCGGTAGATAAGATACGACTGAGAGAGGACGTTCGCTCGAATATAGTTAC'),\n",
    "(6, 'CACGGGTCCAATTTTGGAGTAAGTTGATATCGTCACGAAATCAATCCTGTTTCGGTAGTATAGGACTACGACGAGAGAGGACGTTCCTCTGATATAGTTAC'), \n",
    "(7, 'GGTCCGTCAATTTTGGAGTAAGTTGATATCGTCACGAAATCAATCCTGTTTCGGTAGTATAGGACTACGACGAGAGAGGACGTTCCTCTGATATAGTTAC'), \n",
    "(8, 'CACGGGAATCCGTCAATTTTGGAGTAAGTTGATATCGTCACGAAATCAATCCTGTTTCGGTAGTATAGGACTACGACGAGAGAGGACGTTCCTCTGATATAGTTAC'), \n",
    "(9, 'CACGGGTCCGTCAATTTTGGAGTAAGTTGATATCGTCACGAAATCAATCCTGTTTCGGTAGTATAGGACTACGACGAGAGAGGACGTTCCTCTGATATAGTTAC')]"
   ]
  },
  {
   "cell_type": "markdown",
   "metadata": {},
   "source": [
    "# 1. LCS "
   ]
  },
  {
   "cell_type": "code",
   "execution_count": 8,
   "metadata": {},
   "outputs": [],
   "source": [
    "# bottom up dynamic programming\n",
    "def lcs(X, Y): \n",
    "    m = len(X) \n",
    "    n = len(Y) \n",
    "\n",
    "    # Store LCS between X ending in m and Y ending in n\n",
    "    L = [[None]*(n + 1) for _ in range(m + 1)] \n",
    "  \n",
    "    for i in range(m + 1): \n",
    "        for j in range(n + 1): \n",
    "            # if one of the strings is null, LCS is 0\n",
    "            if i == 0 or j == 0 : \n",
    "                L[i][j] = 0\n",
    "            # if last elem match, LCS += 1\n",
    "            elif X[i-1] == Y[j-1]: \n",
    "                L[i][j] = L[i-1][j-1]+1\n",
    "            # else take LCS of removing last elem from X or from Y\n",
    "            else: \n",
    "                L[i][j] = max(L[i-1][j], L[i][j-1]) \n",
    "    return L"
   ]
  },
  {
   "cell_type": "markdown",
   "metadata": {},
   "source": [
    "# 2. LCS for each Gene Pair"
   ]
  },
  {
   "cell_type": "code",
   "execution_count": 11,
   "metadata": {},
   "outputs": [],
   "source": [
    "sim_table = [[0]*(len(Set_Strings)) for _ in range(len(Set_Strings))]\n",
    "\n",
    "for i in range(len(sim_table)):\n",
    "    for j in range(len(sim_table)):\n",
    "        # store LCS by taking last entry in store\n",
    "        sim_table[i][j] = lcs(strings[i][1],strings[j][1])[-1][-1]"
   ]
  },
  {
   "cell_type": "code",
   "execution_count": 13,
   "metadata": {
    "scrolled": false
   },
   "outputs": [
    {
     "data": {
      "text/plain": [
       "[[100, 74, 76, 73, 82, 84, 89, 87, 91, 91],\n",
       " [74, 90, 67, 72, 79, 71, 69, 68, 71, 71],\n",
       " [76, 67, 97, 65, 69, 82, 82, 81, 84, 84],\n",
       " [73, 72, 65, 96, 80, 72, 68, 67, 69, 69],\n",
       " [82, 79, 69, 80, 95, 74, 74, 73, 75, 75],\n",
       " [84, 71, 82, 72, 74, 114, 95, 93, 97, 97],\n",
       " [89, 69, 82, 68, 74, 95, 101, 97, 101, 101],\n",
       " [87, 68, 81, 67, 73, 93, 97, 100, 100, 100],\n",
       " [91, 71, 84, 69, 75, 97, 101, 100, 106, 104],\n",
       " [91, 71, 84, 69, 75, 97, 101, 100, 104, 104]]"
      ]
     },
     "execution_count": 13,
     "metadata": {},
     "output_type": "execute_result"
    }
   ],
   "source": [
    "# diagonals are the length of the sequence of that row/ col number\n",
    "sim_table"
   ]
  },
  {
   "cell_type": "markdown",
   "metadata": {},
   "source": [
    "# 3. Manually infer relationships"
   ]
  },
  {
   "cell_type": "code",
   "execution_count": 22,
   "metadata": {
    "scrolled": false
   },
   "outputs": [
    {
     "data": {
      "text/plain": [
       "[100, 90, 97, 96, 95, 114, 101, 100, 106, 104]"
      ]
     },
     "execution_count": 22,
     "metadata": {},
     "output_type": "execute_result"
    }
   ],
   "source": [
    "lengths = []\n",
    "\n",
    "for i in Set_Strings:\n",
    "    lengths.append(len(i[1]))\n",
    "lengths"
   ]
  },
  {
   "cell_type": "code",
   "execution_count": 37,
   "metadata": {},
   "outputs": [],
   "source": [
    "sim_percentage = []\n",
    "for row in range(len(sim_table)):\n",
    "    sim_p_row = []\n",
    "    for i in range(len(lengths)):\n",
    "        sim_p_row.append(round(sim_table[row][i]/lengths[i],2))\n",
    "    sim_percentage.append(sim_p_row)"
   ]
  },
  {
   "cell_type": "code",
   "execution_count": 38,
   "metadata": {
    "scrolled": false
   },
   "outputs": [
    {
     "data": {
      "text/plain": [
       "[[1.0, 0.82, 0.78, 0.76, 0.86, 0.74, 0.88, 0.87, 0.86, 0.88],\n",
       " [0.74, 1.0, 0.69, 0.75, 0.83, 0.62, 0.68, 0.68, 0.67, 0.68],\n",
       " [0.76, 0.74, 1.0, 0.68, 0.73, 0.72, 0.81, 0.81, 0.79, 0.81],\n",
       " [0.73, 0.8, 0.67, 1.0, 0.84, 0.63, 0.67, 0.67, 0.65, 0.66],\n",
       " [0.82, 0.88, 0.71, 0.83, 1.0, 0.65, 0.73, 0.73, 0.71, 0.72],\n",
       " [0.84, 0.79, 0.85, 0.75, 0.78, 1.0, 0.94, 0.93, 0.92, 0.93],\n",
       " [0.89, 0.77, 0.85, 0.71, 0.78, 0.83, 1.0, 0.97, 0.95, 0.97],\n",
       " [0.87, 0.76, 0.84, 0.7, 0.77, 0.82, 0.96, 1.0, 0.94, 0.96],\n",
       " [0.91, 0.79, 0.87, 0.72, 0.79, 0.85, 1.0, 1.0, 1.0, 1.0],\n",
       " [0.91, 0.79, 0.87, 0.72, 0.79, 0.85, 1.0, 1.0, 0.98, 1.0]]"
      ]
     },
     "execution_count": 38,
     "metadata": {},
     "output_type": "execute_result"
    }
   ],
   "source": [
    "sim_percentage"
   ]
  },
  {
   "cell_type": "code",
   "execution_count": 43,
   "metadata": {},
   "outputs": [
    {
     "data": {
      "text/plain": [
       "[8.45, 7.34, 7.85, 7.32, 7.78, 8.73, 8.72, 8.62, 8.93, 8.91]"
      ]
     },
     "execution_count": 43,
     "metadata": {},
     "output_type": "execute_result"
    }
   ],
   "source": [
    "sim_all = [round(sum(i),2) for i in sim_percentage]\n",
    "\n",
    "sim_all"
   ]
  },
  {
   "cell_type": "markdown",
   "metadata": {},
   "source": [
    "str8 is likely the first generation (origin), since it has the most similarity to all other strings, indicating it is high up the geneology tree.\n",
    "\n",
    "str9 and str6 are likely the second generation since they have 100% similarity with str8 and have the second and fourth highest similarity to all other strings.\n",
    "\n",
    "str9's children are likely str0 and str7 since they have 91% and 100% similarity with str9 and have relatively high similarity to all other strings (fifth and sixth).\n",
    "\n",
    "str6's children are likely str2 and str5 since they have 85% and 83% similarity while having relatively high similarity to all other strings (third and seventh)\n",
    "\n",
    "str0 is likely the parent of str1 and str4 since it has 82% and 86& similarity with each. \n",
    "\n",
    "str2 is likely the parent of str3 since it has 67% similarity with it.\n",
    "\n",
    "*oops highest similarity is probs middle of the tree, my bad*"
   ]
  },
  {
   "cell_type": "markdown",
   "metadata": {},
   "source": [
    "                                  str8\n",
    "              str9                                str6\n",
    "         str0      str7                    str2         str5\n",
    "    str1    str4                      str3"
   ]
  },
  {
   "cell_type": "markdown",
   "metadata": {},
   "source": [
    "# 4. Geneology Algo"
   ]
  },
  {
   "cell_type": "code",
   "execution_count": null,
   "metadata": {},
   "outputs": [],
   "source": [
    "# calculate similarities\n",
    "\n",
    "# find those with highest similarity, set as center?\n",
    "\n",
    "# set others accordingly"
   ]
  },
  {
   "cell_type": "code",
   "execution_count": null,
   "metadata": {},
   "outputs": [],
   "source": [
    "# try all permutations,\n",
    "\n",
    "# highest similarity with these subtrees?\n",
    "\n",
    "# dyn prog :P\n",
    " [310, Section 3.2])\n"
   ]
  },
  {
   "cell_type": "markdown",
   "metadata": {},
   "source": [
    "# 5. Critique of Geneology Algo"
   ]
  },
  {
   "cell_type": "markdown",
   "metadata": {},
   "source": [
    "**Good**           \n",
    "\n",
    "**Bad**       "
   ]
  },
  {
   "cell_type": "markdown",
   "metadata": {},
   "source": [
    "# 6. Complexity of Geneology Algo"
   ]
  },
  {
   "cell_type": "markdown",
   "metadata": {},
   "source": [
    "# 7. Estimating i/d/c Probability"
   ]
  },
  {
   "cell_type": "markdown",
   "metadata": {},
   "source": [
    "# 8. HCs"
   ]
  },
  {
   "cell_type": "markdown",
   "metadata": {},
   "source": [
    "______"
   ]
  }
 ],
 "metadata": {
  "kernelspec": {
   "display_name": "Python 3",
   "language": "python",
   "name": "python3"
  },
  "language_info": {
   "codemirror_mode": {
    "name": "ipython",
    "version": 3
   },
   "file_extension": ".py",
   "mimetype": "text/x-python",
   "name": "python",
   "nbconvert_exporter": "python",
   "pygments_lexer": "ipython3",
   "version": "3.7.3"
  }
 },
 "nbformat": 4,
 "nbformat_minor": 2
}
