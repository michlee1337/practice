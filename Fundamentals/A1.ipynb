{
 "cells": [
  {
   "cell_type": "markdown",
   "metadata": {},
   "source": [
    "3 way merge sort\n",
    "- accept lists of integers\n",
    "- 3 test cases (minimum)\n",
    "\n",
    "\n",
    "TO DO \n",
    "    - make it work for more than ints\n",
    "    - pretty testing framework?\n",
    "    - check more test cases"
   ]
  },
  {
   "cell_type": "code",
   "execution_count": 60,
   "metadata": {},
   "outputs": [],
   "source": [
    "def mergesort3(arr):\n",
    "    # base case: if array is only 1 item, return array\n",
    "    if len(arr) <= 1:\n",
    "        return(arr)\n",
    "    \n",
    "    # recursive case: divide and conquer\n",
    "    else:\n",
    "        \n",
    "        # divide: split the problem into thirds and sort\n",
    "        d = -(-len(arr)//3) # the double negative is to round up as the // operator rounds down.\n",
    "        left = mergesort3(arr[:d]) + [float(\"inf\")]\n",
    "        mid = mergesort3(arr[d:2*d]) + [float(\"inf\")]\n",
    "        right = mergesort3(arr[2*d:]) + [float(\"inf\")]\n",
    "        \n",
    "        # conquer: merge the three sorted arrays into one\n",
    "        \n",
    "        # indexes for the smallest unconquered values within the sorted sub arrays \n",
    "        i = 0 # index for left\n",
    "        j = 0 # index for mid\n",
    "        k = 0 # index for right\n",
    "        \n",
    "        ret_arr = [] # initialize array to be returned\n",
    "        \n",
    "        '''\n",
    "        # more clear but less efficient?\n",
    "        \n",
    "        if left[i] <= mid[j] and left[i] <= right[k]:\n",
    "            # add left\n",
    "        \n",
    "        elif mid[j] <= left[i] and mid[j] <= right[k]:\n",
    "            # add mid\n",
    "        else:\n",
    "            # add right\n",
    "        \n",
    "        '''\n",
    "        \n",
    "        # while there are still items in any of the arrays:\n",
    "        while left[i] != float(\"inf\") or mid[j] != float(\"inf\") or right[k] != float(\"inf\"):\n",
    "            if left[i] <= mid[j]:\n",
    "                if left[i] <= right[k]:\n",
    "                    # if left less than mid and right, add left\n",
    "                    ret_arr.append(left[i])\n",
    "                    i += 1\n",
    "                else:\n",
    "                    # if left less than mid and more than right, add right\n",
    "                    ret_arr.append(right[k])\n",
    "                    k += 1\n",
    "            elif mid[j] <= right[k]:\n",
    "                # if mid less than left and right, add mid\n",
    "                ret_arr.append(mid[j])\n",
    "                j += 1\n",
    "            else:\n",
    "                # if mid less than left and more than right, add right\n",
    "                ret_arr.append(right[k])\n",
    "                k += 1\n",
    "        return(ret_arr)"
   ]
  },
  {
   "cell_type": "code",
   "execution_count": 63,
   "metadata": {},
   "outputs": [
    {
     "name": "stdout",
     "output_type": "stream",
     "text": [
      "all passed :)\n"
     ]
    }
   ],
   "source": [
    "# testing\n",
    "\n",
    "assert mergesort3([3,2,1]) == [1,2,3]\n",
    "assert mergesort3([]) == []\n",
    "assert mergesort3([1]) == [1]\n",
    "assert mergesort3([2,1]) == [1,2]\n",
    "assert mergesort3([2,1,2,2,2,2,2,2,2]) == [1,2,2,2,2,2,2,2,2]\n",
    "assert mergesort3([99,-100,2,-8]) == [-100,-8,2,99]\n",
    "print('all passed :)')"
   ]
  },
  {
   "cell_type": "code",
   "execution_count": 46,
   "metadata": {},
   "outputs": [
    {
     "data": {
      "text/plain": [
       "[-99, 4, 9, 29, 33]"
      ]
     },
     "execution_count": 46,
     "metadata": {},
     "output_type": "execute_result"
    }
   ],
   "source": [
    "def insertionSort(arr):\n",
    "    # base case: if only 1 item in arr, return arr\n",
    "    if len(arr) == 1:\n",
    "        return(arr)\n",
    "    \n",
    "    else:\n",
    "        # divide: sort array except for last item\n",
    "        sub_sorted = insertionSort(arr[:-1])\n",
    "        \n",
    "        # conquer: insert last item into corrent position in sorted subarry\n",
    "        for i in range(len(sub_sorted)-1,-2,-1):\n",
    "            \n",
    "            # if subarray exhausted or item more than item at current index\n",
    "            if i == -1 or arr[-1] >= sub_sorted[i]:\n",
    "                # insert after this smaller/ nonexistent item\n",
    "                sub_sorted.insert(i+1,arr[-1])\n",
    "                return(sub_sorted)\n",
    "\n",
    "insertionSort([9,-99,33,29,4])"
   ]
  },
  {
   "cell_type": "code",
   "execution_count": null,
   "metadata": {},
   "outputs": [],
   "source": []
  }
 ],
 "metadata": {
  "kernelspec": {
   "display_name": "Python 3",
   "language": "python",
   "name": "python3"
  },
  "language_info": {
   "codemirror_mode": {
    "name": "ipython",
    "version": 3
   },
   "file_extension": ".py",
   "mimetype": "text/x-python",
   "name": "python",
   "nbconvert_exporter": "python",
   "pygments_lexer": "ipython3",
   "version": "3.7.1"
  }
 },
 "nbformat": 4,
 "nbformat_minor": 2
}
