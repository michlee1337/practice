{
 "cells": [
  {
   "cell_type": "code",
   "execution_count": 1,
   "metadata": {},
   "outputs": [
    {
     "name": "stdout",
     "output_type": "stream",
     "text": [
      "r: [s v] color: W dist: inf pi: Nil, s: [r w] color: W dist: inf pi: Nil, t: [w x u] color: W dist: inf pi: Nil, u: [t x y] color: W dist: inf pi: Nil, v: [r] color: W dist: inf pi: Nil, w: [s t x] color: W dist: inf pi: Nil, x: [w t u y] color: W dist: inf pi: Nil, y: [u x] color: W dist: inf pi: Nil, \n"
     ]
    }
   ],
   "source": [
    "class Node: \n",
    "    \n",
    "    BLACK = 'B'\n",
    "    GRAY = 'G'\n",
    "    WHITE = 'W'\n",
    "    \n",
    "    def __init__(self, name, adj_list=None, weighted_adj_list=None): \n",
    "        self.name = name\n",
    "        self.color = Node.WHITE\n",
    "        self.pi = None\n",
    "        self.dist = float('inf')\n",
    "        self.adj_list = adj_list\n",
    "        if not adj_list: \n",
    "            self.adj_list = []\n",
    "        \n",
    "    def add_edge(self, node): \n",
    "        if node.name not in self.adj_list: \n",
    "            self.adj_list.append(node.name)\n",
    "        \n",
    "    def remove_edge(self, node): \n",
    "        self.adj_list.remove(node.name)\n",
    "        \n",
    "    def to_string(self): \n",
    "        res = self.name + ': [' + ' '.join(self.adj_list) + '] color: ' + self.color + ' dist: ' + str(self.dist)\n",
    "        if not self.pi:\n",
    "            res += ' pi: Nil'\n",
    "        else: \n",
    "            res += ' pi: ' + self.pi\n",
    "        return res\n",
    "\n",
    "class Graph: \n",
    "    \n",
    "    def __init__(self, nodes={}): \n",
    "        self.nodes = nodes\n",
    "        \n",
    "    def add_node(self,node): \n",
    "        self.nodes[node.name] = node\n",
    "        \n",
    "    def add_edge(self,n1,n2): \n",
    "        self.nodes[n1].add_edge(self.nodes[n2])\n",
    "        \n",
    "    def remove_edge(self, n1, n2): \n",
    "        self.nodes[n1].remove_edge(self.nodes[n2])\n",
    "        \n",
    "    def to_string(self): \n",
    "        res = \"\"\n",
    "        for n in self.nodes.keys(): \n",
    "            res += self.nodes[n].to_string() + \", \"\n",
    "        return res\n",
    "      \n",
    "g = Graph({})\n",
    "g.add_node(Node('r', ['s','v']))\n",
    "g.add_node(Node('s', ['r','w']))\n",
    "g.add_node(Node('t', ['w','x','u']))\n",
    "g.add_node(Node('u', ['t','x','y']))\n",
    "g.add_node(Node('v', ['r']))\n",
    "g.add_node(Node('w', ['s','t','x']))\n",
    "g.add_node(Node('x', ['w','t','u','y']))\n",
    "g.add_node(Node('y', ['u','x']))\n",
    "\n",
    "print(g.to_string())\n",
    "        "
   ]
  },
  {
   "cell_type": "code",
   "execution_count": 54,
   "metadata": {
    "scrolled": true
   },
   "outputs": [
    {
     "name": "stdout",
     "output_type": "stream",
     "text": [
      "r None 0\n",
      "s r 1\n",
      "v r 1\n",
      "w s 2\n",
      "t w 3\n",
      "x w 3\n",
      "u t 4\n",
      "y x 4\n"
     ]
    }
   ],
   "source": [
    "g = Graph({})\n",
    "g.add_node(Node('r', ['s','v']))\n",
    "g.add_node(Node('s', ['r','w']))\n",
    "g.add_node(Node('t', ['w','x','u']))\n",
    "g.add_node(Node('u', ['t','x','y']))\n",
    "g.add_node(Node('v', ['r']))\n",
    "g.add_node(Node('w', ['s','t','x']))\n",
    "g.add_node(Node('x', ['w','t','u','y']))\n",
    "g.add_node(Node('y', ['u','x']))\n",
    "\n",
    "#print(g.to_string())\n",
    "def BFS(g, p): \n",
    "  \n",
    "    # Create a queue for BFS \n",
    "    queue = [] \n",
    "\n",
    "    # visit souce node: enqueue and mark\n",
    "    queue.append(p) \n",
    "    g.nodes[p].color = 'G'\n",
    "    g.nodes[p].pi = None\n",
    "    g.nodes[p].dist = 0\n",
    "\n",
    "    # while theres stuff in queue\n",
    "    while queue: \n",
    "        # Dequeue a vertex and print it\n",
    "        s = queue.pop(0) \n",
    "        g.nodes[s].color ='B'\n",
    "        print (s, g.nodes[s].pi, g.nodes[s].dist, end = \"\\n\") \n",
    "\n",
    "        # enqueue all adjacent unvisited vertices\n",
    "        for i in g.nodes[s].adj_list: \n",
    "            if g.nodes[i].color == 'W': \n",
    "                queue.append(i)\n",
    "                g.nodes[i].color = 'G'\n",
    "                g.nodes[i].pi = s\n",
    "                g.nodes[i].dist = g.nodes[s].dist + 1\n",
    "BFS(g,'r') "
   ]
  },
  {
   "cell_type": "markdown",
   "metadata": {},
   "source": [
    "**Use your BFS implementation to answer questions 22.2-1 and 22.2-2 from Cormen et al.**    \n"
   ]
  },
  {
   "cell_type": "code",
   "execution_count": 55,
   "metadata": {},
   "outputs": [
    {
     "name": "stdout",
     "output_type": "stream",
     "text": [
      "3 None 0\n",
      "2 3 1\n",
      "4 3 1\n",
      "1 2 2\n",
      "5 2 2\n"
     ]
    }
   ],
   "source": [
    "c1 = Graph({})\n",
    "c1.add_node(Node(1, [2,5]))\n",
    "c1.add_node(Node(2, [1,3,4,5]))\n",
    "c1.add_node(Node(3, [2,4]))\n",
    "c1.add_node(Node(4, [2,3,5]))\n",
    "c1.add_node(Node(5, [1,4]))\n",
    "\n",
    "BFS(c1,3)"
   ]
  },
  {
   "cell_type": "code",
   "execution_count": 56,
   "metadata": {},
   "outputs": [
    {
     "name": "stdout",
     "output_type": "stream",
     "text": [
      "u None 0\n",
      "t u 1\n",
      "x u 1\n",
      "y u 1\n",
      "w t 2\n",
      "s w 3\n",
      "r s 4\n",
      "v r 5\n"
     ]
    }
   ],
   "source": [
    "g = Graph({})\n",
    "g.add_node(Node('r', ['s','v']))\n",
    "g.add_node(Node('s', ['r','w']))\n",
    "g.add_node(Node('t', ['w','x','u']))\n",
    "g.add_node(Node('u', ['t','x','y']))\n",
    "g.add_node(Node('v', ['r']))\n",
    "g.add_node(Node('w', ['s','t','x']))\n",
    "g.add_node(Node('x', ['w','t','u','y']))\n",
    "g.add_node(Node('y', ['u','x']))\n",
    "\n",
    "BFS(g,'u')"
   ]
  },
  {
   "cell_type": "markdown",
   "metadata": {},
   "source": [
    "**Is the shortest path problem in an undirected graph suitable for a dynamic programming solution? Why or why not?**    \n",
    "Yes, the structure of the optimal solution includes thre recursive optimal solutions for the subproblems: Ex: Optimal path A > C > B includes optimal solution for A > C and C > B. There are also many overlapping subproblems since the paths A > C > B and A > C > D both consider the subproblem A > C.\n",
    "\n",
    "**What changes need to be made to the graph representation to incorporate the concept of edge weights? How might you make these changes?**    \n",
    "the adjecent list needs to include weights (as the adjecent list describes edges), likely in the form of a dictionary."
   ]
  }
 ],
 "metadata": {
  "kernelspec": {
   "display_name": "Python 3",
   "language": "python",
   "name": "python3"
  },
  "language_info": {
   "codemirror_mode": {
    "name": "ipython",
    "version": 3
   },
   "file_extension": ".py",
   "mimetype": "text/x-python",
   "name": "python",
   "nbconvert_exporter": "python",
   "pygments_lexer": "ipython3",
   "version": "3.7.3"
  }
 },
 "nbformat": 4,
 "nbformat_minor": 2
}
