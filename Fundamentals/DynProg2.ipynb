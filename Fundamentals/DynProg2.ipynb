{
 "cells": [
  {
   "cell_type": "markdown",
   "metadata": {},
   "source": [
    "# Currency Trading"
   ]
  },
  {
   "cell_type": "code",
   "execution_count": 64,
   "metadata": {},
   "outputs": [],
   "source": [
    "def forex(exchangeM,startC,endC,cash,n):\n",
    "    # remember best trade for each currency\n",
    "    bestTrade = [0] * len(exchangeM)\n",
    "    # remember trade history\n",
    "    tradeRec = [endC]\n",
    "    \n",
    "    # n times\n",
    "    for i in range(n):\n",
    "        print(bestTrade,tradeRec)\n",
    "        # if record of best trade into next currency exists\n",
    "        if bestTrade[tradeRec[0]]:\n",
    "            print(bestTrade[tradeRec[0]])\n",
    "            # make best trade\n",
    "            tradeRec.insert(0,bestTrade[tradeRec[0]])\n",
    "        else:\n",
    "            # compute best trade\n",
    "            bestTrade[tradeRec[0]] = tradeRec[0]\n",
    "            for j in range(len(exchangeM)):\n",
    "                print(exchangeM[j][tradeRec[0]], exchangeM[bestTrade[tradeRec[0]]][tradeRec[0]])\n",
    "                if exchangeM[j][tradeRec[0]] > exchangeM[bestTrade[tradeRec[0]]][tradeRec[0]]:\n",
    "                    print('change')\n",
    "                    bestTrade[tradeRec[0]] = j\n",
    "            tradeRec.insert(0,bestTrade[tradeRec[0]])\n",
    "        # if best trade is no trade, terminate\n",
    "        print(bestTrade,tradeRec)\n",
    "        if tradeRec[0] == tradeRec[1]:\n",
    "            return(bestTrade,tradeRec[1:])\n",
    "    return(bestTrade,tradeRec[1:])\n",
    "                \n",
    "        "
   ]
  },
  {
   "cell_type": "code",
   "execution_count": 65,
   "metadata": {},
   "outputs": [
    {
     "name": "stdout",
     "output_type": "stream",
     "text": [
      "[0, 0, 0, 0, 0] [4]\n",
      "1.005 1\n",
      "change\n",
      "1.366 1.005\n",
      "change\n",
      "1.538 1.366\n",
      "change\n",
      "0.953 1.538\n",
      "1 1.538\n",
      "[0, 0, 0, 0, 2] [2, 4]\n",
      "[0, 0, 0, 0, 2] [2, 4]\n",
      "0.657 1\n",
      "0.888 1\n",
      "1 1\n",
      "0.619 1\n",
      "0.65 1\n",
      "[0, 0, 2, 0, 2] [2, 2, 4]\n",
      "[0, 0, 2, 0, 2]\n"
     ]
    }
   ],
   "source": [
    "exchangeM = [[1,0.741,0.657,1.061,1.005],[1.349,1,0.888,1.433,1.366],[1.421,1.126,1,1.614,1.538],[0.943,0.698,0.619,1,0.953],[0.995,0.732,0.650,1.049,1]]\n",
    "\n",
    "best, rec = forex(exchangeM,0,4,1,10)\n",
    "\n",
    "print(best)\n"
   ]
  },
  {
   "cell_type": "code",
   "execution_count": 61,
   "metadata": {},
   "outputs": [
    {
     "data": {
      "text/plain": [
       "1"
      ]
     },
     "execution_count": 61,
     "metadata": {},
     "output_type": "execute_result"
    }
   ],
   "source": [
    "exchangeM[4][4]"
   ]
  },
  {
   "cell_type": "code",
   "execution_count": 34,
   "metadata": {},
   "outputs": [
    {
     "name": "stdout",
     "output_type": "stream",
     "text": [
      "[5, 1]\n"
     ]
    }
   ],
   "source": [
    "t = [1]\n",
    "\n",
    "t.insert(0,5)\n",
    "\n",
    "print(t)"
   ]
  },
  {
   "cell_type": "markdown",
   "metadata": {},
   "source": [
    "# Currency Trading"
   ]
  },
  {
   "cell_type": "code",
   "execution_count": 16,
   "metadata": {},
   "outputs": [
    {
     "name": "stdout",
     "output_type": "stream",
     "text": [
      "0\n",
      "1\n",
      "2\n",
      "3\n",
      "4\n",
      "5\n",
      "6\n",
      "7\n",
      "8\n",
      "9\n"
     ]
    }
   ],
   "source": [
    "for i in range(nz,0):\n",
    "    print(i)"
   ]
  },
  {
   "cell_type": "code",
   "execution_count": null,
   "metadata": {},
   "outputs": [],
   "source": []
  }
 ],
 "metadata": {
  "kernelspec": {
   "display_name": "Python 3",
   "language": "python",
   "name": "python3"
  },
  "language_info": {
   "codemirror_mode": {
    "name": "ipython",
    "version": 3
   },
   "file_extension": ".py",
   "mimetype": "text/x-python",
   "name": "python",
   "nbconvert_exporter": "python",
   "pygments_lexer": "ipython3",
   "version": "3.7.3"
  }
 },
 "nbformat": 4,
 "nbformat_minor": 2
}
