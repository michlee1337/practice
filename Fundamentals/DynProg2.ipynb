{
 "cells": [
  {
   "cell_type": "markdown",
   "metadata": {},
   "source": [
    "# Currency Trading"
   ]
  },
  {
   "cell_type": "code",
   "execution_count": 88,
   "metadata": {},
   "outputs": [],
   "source": [
    "# best trade = max profit w cur trade + max profit w remaining trades\n",
    "\n",
    "\n",
    "\n",
    "def forex(exchangeM,startC,endC,cash,n):\n",
    "    # remember best trade for each currency\n",
    "    bestTrade = [[None]*len(exchangeM)]*len(exchangeM)\n",
    "    # remember trade history\n",
    "    tradeRec = [startC,endC]\n",
    "    \n",
    "    # n times\n",
    "    for i in range(n):\n",
    "        # at each trade\n",
    "        for i in range(len(tradeRec)):\n",
    "            # consider an intermediary trade\n",
    "            \n",
    "            # if we've previously considered this relationship\n",
    "            if bestTrade[i][i+1]:\n",
    "                # make best trade\n",
    "                tradeRec.insert(0,bestTrade[i][i+1])\n",
    "            else:\n",
    "                # compute best trade\n",
    "                for j in range(len(exchangeM)):\n",
    "                    if exchangeM[i][j]*exchangeM[j][tradeRec[i+1]] > exchangeM[i][i+1]:\n",
    "                        bestTrade[i][i+1] = j\n",
    "                tradeRec.insert(0,bestTrade[i][i+1])\n",
    "            # if no good trades, terminate\n",
    "            if tradeRec[0] == tradeRec[1] or tradeRec[0] == None:\n",
    "                return(bestTrade,tradeRec[1:])     \n",
    "    return(bestTrade,tradeRec)\n",
    "                \n",
    "def calcProfit(cash,startC,exchangeM,tradeRec):\n",
    "    for n in range(len(tradeRec[:-1])):\n",
    "        cash*=exchangeM[tradeRec[n]][tradeRec[n+1]]\n",
    "        \n",
    "    return(cash)"
   ]
  },
  {
   "cell_type": "code",
   "execution_count": 92,
   "metadata": {},
   "outputs": [
    {
     "name": "stdout",
     "output_type": "stream",
     "text": [
      "[[None, 4, 4, None, None], [None, 4, 4, None, None], [None, 4, 4, None, None], [None, 4, 4, None, None], [None, 4, 4, None, None]] [4, 0, 3]\n",
      "105.56949999999999\n"
     ]
    }
   ],
   "source": [
    "exchangeM = [[1,0.741,0.657,1.061,1.005],[1.349,1,0.888,1.433,1.366],[1.421,1.126,1,1.614,1.538],[0.943,0.698,0.619,1,0.953],[0.995,0.732,0.650,1.049,1]]\n",
    "\n",
    "best, rec = forex(exchangeM,0,3,1,10)\n",
    "\n",
    "print(best,rec)\n",
    "\n",
    "print(calcProfit(100,0,exchangeM,rec))\n"
   ]
  },
  {
   "cell_type": "markdown",
   "metadata": {},
   "source": [
    "# Money Game"
   ]
  },
  {
   "cell_type": "code",
   "execution_count": 94,
   "metadata": {},
   "outputs": [
    {
     "name": "stdout",
     "output_type": "stream",
     "text": [
      "11\n"
     ]
    }
   ],
   "source": [
    "import math\n",
    "def game(arr):\n",
    "    posR = [[None]*len(arr)]*len(arr)\n",
    "    \n",
    "    # fill diagonals with a game only consisting of ith coin\n",
    "    for i in range(len(arr)):\n",
    "        posR[i][i] = arr[i]\n",
    "        \n",
    "    for i in range(len(arr)-1,-1,-1):\n",
    "        for j in range(i+2,len(arr)): \n",
    "            posR[i][j] = max(arr[i] + min(posR[i+1][j-1],posR[i+2][j]),arr[j]+min(posR[i][j-2],posR[i+1][j-1]))\n",
    "                \n",
    "    return posR[0][-1]    #return the last accumulative answer of the game       \n",
    "                \n",
    "        \n",
    "a= [1, 15, 3, 7]\n",
    "print(game(a))"
   ]
  }
 ],
 "metadata": {
  "kernelspec": {
   "display_name": "Python 3",
   "language": "python",
   "name": "python3"
  },
  "language_info": {
   "codemirror_mode": {
    "name": "ipython",
    "version": 3
   },
   "file_extension": ".py",
   "mimetype": "text/x-python",
   "name": "python",
   "nbconvert_exporter": "python",
   "pygments_lexer": "ipython3",
   "version": "3.7.3"
  }
 },
 "nbformat": 4,
 "nbformat_minor": 2
}
