{
 "cells": [
  {
   "cell_type": "markdown",
   "metadata": {},
   "source": [
    "# Gene Sequences"
   ]
  },
  {
   "cell_type": "code",
   "execution_count": 2,
   "metadata": {},
   "outputs": [],
   "source": [
    "Set_Strings = [(0, 'CAGCGGGTGCGTAATTTGGAGAAGTTATTCTGCAACGAAATCAATCCTGTTTCGTTAGCTTACGGACTACGACGAGAGGGTACTTCCCTGATATAGTCAC'),\n",
    "(1, 'CAAGTCGGGCGTATTGGAGAATATTTAAATCGGAAGATCATGTTACTATGCGTTAGCTCACGGACTGAAGAGGATTCTCTCTTAATGCAA'),\n",
    "(2, 'CATGGGTGCGTCGATTTTGGCAGTAAAGTGGAATCGTCAGATATCAATCCTGTTTCGTAGAAAGGAGCTACCTAGAGAGGATTACTCTCACATAGTA'),\n",
    "(3, 'CAAGTCCGCGATAAATTGGAATATTTGTCAATCGGAATAGTCAACTTAGCTGGCGTTAGCTTTACGACTGACAGAGAGAAACCTGTCCATCACACA'),\n",
    "(4, 'CAGTCCGGCGTAATTGGAGAATATTTTGCAATCGGAAGATCAATCTTGTTAGCGTTAGCTTACGACTGACGAGAGGGATACTCTCTCTAATACAA'),\n",
    "(5, 'CACGGGCTCCGCATCTATTTTGGGTCAAGTTGCATATCAGTCATCGACAATCAAACACTGTTTTGCGGTAGATAAGATACGACTGAGAGAGGACGTTCGCTCGAATATAGTTAC'),\n",
    "(6, 'CACGGGTCCAATTTTGGAGTAAGTTGATATCGTCACGAAATCAATCCTGTTTCGGTAGTATAGGACTACGACGAGAGAGGACGTTCCTCTGATATAGTTAC'), \n",
    "(7, 'GGTCCGTCAATTTTGGAGTAAGTTGATATCGTCACGAAATCAATCCTGTTTCGGTAGTATAGGACTACGACGAGAGAGGACGTTCCTCTGATATAGTTAC'), \n",
    "(8, 'CACGGGAATCCGTCAATTTTGGAGTAAGTTGATATCGTCACGAAATCAATCCTGTTTCGGTAGTATAGGACTACGACGAGAGAGGACGTTCCTCTGATATAGTTAC'), \n",
    "(9, 'CACGGGTCCGTCAATTTTGGAGTAAGTTGATATCGTCACGAAATCAATCCTGTTTCGGTAGTATAGGACTACGACGAGAGAGGACGTTCCTCTGATATAGTTAC')]"
   ]
  },
  {
   "cell_type": "markdown",
   "metadata": {},
   "source": [
    "# 1. LCS "
   ]
  },
  {
   "cell_type": "code",
   "execution_count": 3,
   "metadata": {},
   "outputs": [],
   "source": [
    "# bottom up dynamic programming\n",
    "def lcs(X, Y): \n",
    "    m = len(X) \n",
    "    n = len(Y) \n",
    "\n",
    "    # Store LCS between X ending in m and Y ending in n\n",
    "    L = [[None]*(n + 1) for _ in range(m + 1)] \n",
    "  \n",
    "    for i in range(m + 1): \n",
    "        for j in range(n + 1): \n",
    "            # if one of the strings is null, LCS is 0\n",
    "            if i == 0 or j == 0 : \n",
    "                L[i][j] = 0\n",
    "            # if last elem match, LCS += 1\n",
    "            elif X[i-1] == Y[j-1]: \n",
    "                L[i][j] = L[i-1][j-1]+1\n",
    "            # else take LCS of removing last elem from X or from Y\n",
    "            else: \n",
    "                L[i][j] = max(L[i-1][j], L[i][j-1]) \n",
    "    return L"
   ]
  },
  {
   "cell_type": "markdown",
   "metadata": {},
   "source": [
    "# 2. LCS for each Gene Pair"
   ]
  },
  {
   "cell_type": "code",
   "execution_count": 6,
   "metadata": {},
   "outputs": [],
   "source": [
    "sim_table = [[0]*(len(Set_Strings)) for _ in range(len(Set_Strings))]\n",
    "\n",
    "for i in range(len(sim_table)):\n",
    "    for j in range(len(sim_table)):\n",
    "        # store LCS by taking last entry in store\n",
    "        sim_table[i][j] = lcs(Set_Strings[i][1],Set_Strings[j][1])[-1][-1]"
   ]
  },
  {
   "cell_type": "code",
   "execution_count": 92,
   "metadata": {},
   "outputs": [],
   "source": [
    "def similarityTable(strings):\n",
    "    sim_table = [[0]*(len(strings)) for _ in range(len(strings))]\n",
    "\n",
    "    # calculate LCS for all pairs\n",
    "    for i in range(len(strings)):\n",
    "        for j in range(len(strings)):\n",
    "            # if comparing string with itself, leave LCS as 0\n",
    "            if i!=j:\n",
    "                # store LCS by taking last entry in store\n",
    "                sim_table[i][j] = lcs(strings[i][1],strings[j][1])[-1][-1]\n",
    "    return sim_table"
   ]
  },
  {
   "cell_type": "code",
   "execution_count": 93,
   "metadata": {
    "scrolled": false
   },
   "outputs": [
    {
     "name": "stdout",
     "output_type": "stream",
     "text": [
      "[[0, 74, 76, 73, 82, 84, 89, 87, 91, 91], [74, 0, 67, 72, 79, 71, 69, 68, 71, 71], [76, 67, 0, 65, 69, 82, 82, 81, 84, 84], [73, 72, 65, 0, 80, 72, 68, 67, 69, 69], [82, 79, 69, 80, 0, 74, 74, 73, 75, 75], [84, 71, 82, 72, 74, 0, 95, 93, 97, 97], [89, 69, 82, 68, 74, 95, 0, 97, 101, 101], [87, 68, 81, 67, 73, 93, 97, 0, 100, 100], [91, 71, 84, 69, 75, 97, 101, 100, 0, 104], [91, 71, 84, 69, 75, 97, 101, 100, 104, 0]]\n"
     ]
    }
   ],
   "source": [
    "t = similarityTable(Set_Strings)\n",
    "print(t)"
   ]
  },
  {
   "cell_type": "markdown",
   "metadata": {},
   "source": [
    "# 3. Manually infer relationships"
   ]
  },
  {
   "cell_type": "markdown",
   "metadata": {},
   "source": []
  },
  {
   "cell_type": "code",
   "execution_count": 8,
   "metadata": {
    "scrolled": false
   },
   "outputs": [
    {
     "data": {
      "text/plain": [
       "[100, 90, 97, 96, 95, 114, 101, 100, 106, 104]"
      ]
     },
     "execution_count": 8,
     "metadata": {},
     "output_type": "execute_result"
    }
   ],
   "source": [
    "lengths = []\n",
    "\n",
    "for i in Set_Strings:\n",
    "    lengths.append(len(i[1]))\n",
    "lengths"
   ]
  },
  {
   "cell_type": "code",
   "execution_count": 17,
   "metadata": {},
   "outputs": [],
   "source": [
    "sim_percentage = []\n",
    "for row in range(len(sim_table)):\n",
    "    sim_p_row = []\n",
    "    for i in range(len(lengths)):\n",
    "        if i == row:\n",
    "            sim_p_row.append(0)\n",
    "        else:\n",
    "            sim_p_row.append(round(sim_table[row][i]/max(lengths[i],lengths[row]),2))\n",
    "    sim_percentage.append(sim_p_row)"
   ]
  },
  {
   "cell_type": "code",
   "execution_count": 18,
   "metadata": {
    "scrolled": false
   },
   "outputs": [
    {
     "data": {
      "text/plain": [
       "[[0, 0.74, 0.76, 0.73, 0.82, 0.74, 0.88, 0.87, 0.86, 0.88],\n",
       " [0.74, 0, 0.69, 0.75, 0.83, 0.62, 0.68, 0.68, 0.67, 0.68],\n",
       " [0.76, 0.69, 0, 0.67, 0.71, 0.72, 0.81, 0.81, 0.79, 0.81],\n",
       " [0.73, 0.75, 0.67, 0, 0.83, 0.63, 0.67, 0.67, 0.65, 0.66],\n",
       " [0.82, 0.83, 0.71, 0.83, 0, 0.65, 0.73, 0.73, 0.71, 0.72],\n",
       " [0.74, 0.62, 0.72, 0.63, 0.65, 0, 0.83, 0.82, 0.85, 0.85],\n",
       " [0.88, 0.68, 0.81, 0.67, 0.73, 0.83, 0, 0.96, 0.95, 0.97],\n",
       " [0.87, 0.68, 0.81, 0.67, 0.73, 0.82, 0.96, 0, 0.94, 0.96],\n",
       " [0.86, 0.67, 0.79, 0.65, 0.71, 0.85, 0.95, 0.94, 0, 0.98],\n",
       " [0.88, 0.68, 0.81, 0.66, 0.72, 0.85, 0.97, 0.96, 0.98, 0]]"
      ]
     },
     "execution_count": 18,
     "metadata": {},
     "output_type": "execute_result"
    }
   ],
   "source": [
    "sim_percentage"
   ]
  },
  {
   "cell_type": "code",
   "execution_count": 21,
   "metadata": {},
   "outputs": [
    {
     "data": {
      "text/plain": [
       "[[0, 0, 0.76, 0, 0.82, 0, 0.88, 0.87, 0.86, 0.88],\n",
       " [0, 0, 0, 0, 0.83, 0, 0, 0, 0, 0],\n",
       " [0.76, 0, 0, 0, 0, 0, 0.81, 0.81, 0.79, 0.81],\n",
       " [0, 0, 0, 0, 0.83, 0, 0, 0, 0, 0],\n",
       " [0.82, 0.83, 0, 0.83, 0, 0, 0, 0, 0, 0],\n",
       " [0, 0, 0, 0, 0, 0, 0.83, 0.82, 0.85, 0.85],\n",
       " [0.88, 0, 0.81, 0, 0, 0.83, 0, 0.96, 0.95, 0.97],\n",
       " [0.87, 0, 0.81, 0, 0, 0.82, 0.96, 0, 0.94, 0.96],\n",
       " [0.86, 0, 0.79, 0, 0, 0.85, 0.95, 0.94, 0, 0.98],\n",
       " [0.88, 0, 0.81, 0, 0, 0.85, 0.97, 0.96, 0.98, 0]]"
      ]
     },
     "execution_count": 21,
     "metadata": {},
     "output_type": "execute_result"
    }
   ],
   "source": [
    "# eliminate all probabiliteies below 75%\n",
    "\n",
    "trimmed_sim = [[0]*(len(Set_Strings)) for _ in range(len(Set_Strings))]\n",
    "\n",
    "for row in range(len(sim_percentage)):\n",
    "    for col in range(len(sim_percentage)):\n",
    "        if sim_percentage[row][col] <= .75:\n",
    "            trimmed_sim[row][col] = 0\n",
    "        else:\n",
    "            trimmed_sim[row][col] = sim_percentage[row][col]\n",
    "\n",
    "trimmed_sim"
   ]
  },
  {
   "cell_type": "code",
   "execution_count": 23,
   "metadata": {},
   "outputs": [
    {
     "name": "stdout",
     "output_type": "stream",
     "text": [
      "sims for 0\n",
      "[2, 4, 6, 7, 8, 9]\n",
      "sims for 1\n",
      "[4]\n",
      "sims for 2\n",
      "[0, 6, 7, 8, 9]\n",
      "sims for 3\n",
      "[4]\n",
      "sims for 4\n",
      "[0, 1, 3]\n",
      "sims for 5\n",
      "[6, 7, 8, 9]\n",
      "sims for 6\n",
      "[0, 2, 5, 7, 8, 9]\n",
      "sims for 7\n",
      "[0, 2, 5, 6, 8, 9]\n",
      "sims for 8\n",
      "[0, 2, 5, 6, 7, 9]\n",
      "sims for 9\n",
      "[0, 2, 5, 6, 7, 8]\n"
     ]
    }
   ],
   "source": [
    "# print names\n",
    "\n",
    "\n",
    "for row in range(len(trimmed_sim)):\n",
    "    print('sims for', row)\n",
    "    sims = []\n",
    "    for col in range(len(trimmed_sim)):\n",
    "        if trimmed_sim[row][col] != 0:\n",
    "            sims.append(col)\n",
    "    print(sims)\n"
   ]
  },
  {
   "cell_type": "code",
   "execution_count": 38,
   "metadata": {},
   "outputs": [
    {
     "name": "stdout",
     "output_type": "stream",
     "text": [
      "sims for 0\n",
      "[4, 6, 7, 8, 9]\n",
      "sims for 1\n",
      "[4]\n",
      "sims for 2\n",
      "[6, 7, 9]\n",
      "sims for 3\n",
      "[4]\n",
      "sims for 4\n",
      "[0, 1, 3]\n",
      "sims for 5\n",
      "[6, 7, 8, 9]\n",
      "sims for 6\n",
      "[0, 2, 5, 7, 8, 9]\n",
      "sims for 7\n",
      "[0, 2, 5, 6, 8, 9]\n",
      "sims for 8\n",
      "[0, 5, 6, 7, 9]\n",
      "sims for 9\n",
      "[0, 2, 5, 6, 7, 8]\n"
     ]
    }
   ],
   "source": [
    "# eliminate all probabiliteies below 80%\n",
    "\n",
    "trimmed_sim2 = [[0]*(len(Set_Strings)) for _ in range(len(Set_Strings))]\n",
    "\n",
    "for row in range(len(sim_percentage)):\n",
    "    for col in range(len(sim_percentage)):\n",
    "        if sim_percentage[row][col] <= .80:\n",
    "            trimmed_sim2[row][col] = 0\n",
    "        else:\n",
    "            trimmed_sim2[row][col] = sim_percentage[row][col]\n",
    "\n",
    "# print names\n",
    "for row in range(len(trimmed_sim2)):\n",
    "    print('sims for', row)\n",
    "    sims = []\n",
    "    for col in range(len(trimmed_sim2)):\n",
    "        if trimmed_sim2[row][col] != 0:\n",
    "            sims.append(col)\n",
    "    print(sims)\n"
   ]
  },
  {
   "cell_type": "markdown",
   "metadata": {},
   "source": [
    "str8 is likely the first generation (origin), since it has the most similarity to all other strings, indicating it is high up the geneology tree.\n",
    "\n",
    "str9 and str6 are likely the second generation since they have 100% similarity with str8 and have the second and fourth highest similarity to all other strings.\n",
    "\n",
    "str9's children are likely str0 and str7 since they have 91% and 100% similarity with str9 and have relatively high similarity to all other strings (fifth and sixth).\n",
    "\n",
    "str6's children are likely str2 and str5 since they have 85% and 83% similarity while having relatively high similarity to all other strings (third and seventh)\n",
    "\n",
    "str0 is likely the parent of str1 and str4 since it has 82% and 86& similarity with each. \n",
    "\n",
    "str2 is likely the parent of str3 since it has 67% similarity with it.\n",
    "\n",
    "*oops highest similarity is probs middle of the tree, my bad*"
   ]
  },
  {
   "cell_type": "markdown",
   "metadata": {},
   "source": [
    "                                  str8\n",
    "              str9                                str6\n",
    "         str0      str7                    str2         str5\n",
    "    str1    str4                      str3"
   ]
  },
  {
   "cell_type": "markdown",
   "metadata": {},
   "source": [
    "# 4. Geneology Algo"
   ]
  },
  {
   "cell_type": "code",
   "execution_count": null,
   "metadata": {},
   "outputs": [],
   "source": [
    "def create_tree(sim_table):\n",
    "    # assume the one with the most LCS with \n",
    "    # all the other strings is the origin\n",
    "    \n",
    "    \n",
    "# try with each node as root\n",
    "\n",
    "# greedily get best tree with that root\n",
    "\n",
    "# keep best tree"
   ]
  },
  {
   "cell_type": "code",
   "execution_count": 52,
   "metadata": {},
   "outputs": [
    {
     "name": "stdout",
     "output_type": "stream",
     "text": [
      "[[0, 1, 2, 3, 4, 5, 6], [1, 0, 1, 2, 3, 4, 5], [2, 1, 1, 2, 3, 3, 4], [3, 2, 2, 2, 3, 4, 4], [4, 3, 3, 3, 3, 4, 5], [5, 4, 4, 4, 3, 4, 5], [6, 5, 5, 5, 4, 3, 4], [7, 6, 6, 6, 5, 4, 3]]\n"
     ]
    }
   ],
   "source": [
    "# calculate similarities\n",
    "def editDist(s1, s2): \n",
    "    m = len(s1)\n",
    "    n = len(s2)\n",
    "    # store subsolutions\n",
    "    dp = [[0]*(n+1) for _ in range(m+1)] \n",
    "  \n",
    "    # for every s1 ending in m and s2 ending in n\n",
    "    for i in range(m+1): \n",
    "        for j in range(n+1): \n",
    "  \n",
    "            # if a str is empty, insert all chars of other str\n",
    "            if i == 0 or j ==0: \n",
    "                dp[i][j] = max(i,j)\n",
    "  \n",
    "            # if last char same sol is just edit dist\n",
    "            # of the strings without last char\n",
    "            elif s1[i-1] == s2[j-1]: \n",
    "                dp[i][j] = dp[i-1][j-1] \n",
    "  \n",
    "            # else, sol is minimum dp\n",
    "            # from all possible operations\n",
    "            else: \n",
    "                dp[i][j] = 1 + min(dp[i][j-1],      # insert \n",
    "                                   dp[i-1][j],      # remove \n",
    "                                   dp[i-1][j-1])    # replace \n",
    "  \n",
    "    return dp \n",
    "  \n",
    "# Driver program \n",
    "str1 = \"railway\"\n",
    "str2 = \"runway\"\n",
    "  \n",
    "print(editDist(str1, str2)) "
   ]
  },
  {
   "cell_type": "code",
   "execution_count": 74,
   "metadata": {},
   "outputs": [
    {
     "data": {
      "text/plain": [
       "[[(0, inf),\n",
       "  (1, 35),\n",
       "  (2, 34),\n",
       "  (3, 41),\n",
       "  (4, 25),\n",
       "  (5, 36),\n",
       "  (6, 20),\n",
       "  (7, 23),\n",
       "  (8, 21),\n",
       "  (9, 19)],\n",
       " [(0, 35),\n",
       "  (1, inf),\n",
       "  (2, 42),\n",
       "  (3, 31),\n",
       "  (4, 19),\n",
       "  (5, 52),\n",
       "  (6, 43),\n",
       "  (7, 43),\n",
       "  (8, 45),\n",
       "  (9, 43)],\n",
       " [(0, 34),\n",
       "  (1, 42),\n",
       "  (2, inf),\n",
       "  (3, 45),\n",
       "  (4, 38),\n",
       "  (5, 38),\n",
       "  (6, 25),\n",
       "  (7, 26),\n",
       "  (8, 25),\n",
       "  (9, 23)],\n",
       " [(0, 41),\n",
       "  (1, 31),\n",
       "  (2, 45),\n",
       "  (3, inf),\n",
       "  (4, 24),\n",
       "  (5, 52),\n",
       "  (6, 48),\n",
       "  (7, 47),\n",
       "  (8, 49),\n",
       "  (9, 47)],\n",
       " [(0, 25),\n",
       "  (1, 19),\n",
       "  (2, 38),\n",
       "  (3, 24),\n",
       "  (4, inf),\n",
       "  (5, 48),\n",
       "  (6, 39),\n",
       "  (7, 38),\n",
       "  (8, 41),\n",
       "  (9, 39)],\n",
       " [(0, 36),\n",
       "  (1, 52),\n",
       "  (2, 38),\n",
       "  (3, 52),\n",
       "  (4, 48),\n",
       "  (5, inf),\n",
       "  (6, 23),\n",
       "  (7, 25),\n",
       "  (8, 22),\n",
       "  (9, 21)],\n",
       " [(0, 20),\n",
       "  (1, 43),\n",
       "  (2, 25),\n",
       "  (3, 48),\n",
       "  (4, 39),\n",
       "  (5, 23),\n",
       "  (6, inf),\n",
       "  (7, 6),\n",
       "  (8, 5),\n",
       "  (9, 3)],\n",
       " [(0, 23),\n",
       "  (1, 43),\n",
       "  (2, 26),\n",
       "  (3, 47),\n",
       "  (4, 38),\n",
       "  (5, 25),\n",
       "  (6, 6),\n",
       "  (7, inf),\n",
       "  (8, 6),\n",
       "  (9, 4)],\n",
       " [(0, 21),\n",
       "  (1, 45),\n",
       "  (2, 25),\n",
       "  (3, 49),\n",
       "  (4, 41),\n",
       "  (5, 22),\n",
       "  (6, 5),\n",
       "  (7, 6),\n",
       "  (8, inf),\n",
       "  (9, 2)],\n",
       " [(0, 19),\n",
       "  (1, 43),\n",
       "  (2, 23),\n",
       "  (3, 47),\n",
       "  (4, 39),\n",
       "  (5, 21),\n",
       "  (6, 3),\n",
       "  (7, 4),\n",
       "  (8, 2),\n",
       "  (9, inf)]]"
      ]
     },
     "execution_count": 74,
     "metadata": {},
     "output_type": "execute_result"
    }
   ],
   "source": [
    "ed_table = [[0]*(len(Set_Strings)) for _ in range(len(Set_Strings))]\n",
    "\n",
    "for i in range(len(Set_Strings)):\n",
    "    for j in range(len(Set_Strings)):\n",
    "        if i==j:\n",
    "            ed_table[i][j]=(j,float('inf'))\n",
    "        else:\n",
    "            # store edit dist by taking last entry in store\n",
    "            ed_table[i][j] = (j,editDist(Set_Strings[i][1],Set_Strings[j][1])[-1][-1])\n",
    "ed_table"
   ]
  },
  {
   "cell_type": "code",
   "execution_count": 84,
   "metadata": {},
   "outputs": [
    {
     "data": {
      "text/plain": [
       "[[9, 6, 8],\n",
       " [4, 3, 0],\n",
       " [9, 6, 8],\n",
       " [4, 1, 0],\n",
       " [1, 3, 0],\n",
       " [9, 8, 6],\n",
       " [9, 8, 7],\n",
       " [9, 6, 8],\n",
       " [9, 6, 7],\n",
       " [8, 6, 7]]"
      ]
     },
     "execution_count": 84,
     "metadata": {},
     "output_type": "execute_result"
    }
   ],
   "source": [
    "# store min 3\n",
    "\n",
    "minThree = []\n",
    "\n",
    "# take second element for sort\n",
    "def takeSecond(elem):\n",
    "    return elem[1]\n",
    "\n",
    "for row in ed_table:\n",
    "    sorted_r = sorted(row, key=takeSecond)\n",
    "    minThree.append([x[0] for x in sorted_r[:3]])\n",
    "minThree\n"
   ]
  },
  {
   "cell_type": "markdown",
   "metadata": {},
   "source": [
    "# 5. Critique of Geneology Algo"
   ]
  },
  {
   "cell_type": "markdown",
   "metadata": {},
   "source": [
    "**Good**           \n",
    "\n",
    "**Bad**       "
   ]
  },
  {
   "cell_type": "markdown",
   "metadata": {},
   "source": [
    "# 6. Complexity of Geneology Algo"
   ]
  },
  {
   "cell_type": "markdown",
   "metadata": {},
   "source": [
    "# 7. Estimating i/d/c Probability"
   ]
  },
  {
   "cell_type": "markdown",
   "metadata": {},
   "source": [
    "# 8. HCs"
   ]
  },
  {
   "cell_type": "markdown",
   "metadata": {},
   "source": [
    "______"
   ]
  }
 ],
 "metadata": {
  "kernelspec": {
   "display_name": "Python 3",
   "language": "python",
   "name": "python3"
  },
  "language_info": {
   "codemirror_mode": {
    "name": "ipython",
    "version": 3
   },
   "file_extension": ".py",
   "mimetype": "text/x-python",
   "name": "python",
   "nbconvert_exporter": "python",
   "pygments_lexer": "ipython3",
   "version": "3.7.3"
  }
 },
 "nbformat": 4,
 "nbformat_minor": 2
}
