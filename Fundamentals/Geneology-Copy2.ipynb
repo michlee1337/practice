{
 "cells": [
  {
   "cell_type": "markdown",
   "metadata": {},
   "source": [
    "# Gene Sequences"
   ]
  },
  {
   "cell_type": "code",
   "execution_count": 4,
   "metadata": {},
   "outputs": [],
   "source": [
    "Set_Strings = [(0, 'CAGCGGGTGCGTAATTTGGAGAAGTTATTCTGCAACGAAATCAATCCTGTTTCGTTAGCTTACGGACTACGACGAGAGGGTACTTCCCTGATATAGTCAC'),\n",
    "(1, 'CAAGTCGGGCGTATTGGAGAATATTTAAATCGGAAGATCATGTTACTATGCGTTAGCTCACGGACTGAAGAGGATTCTCTCTTAATGCAA'),\n",
    "(2, 'CATGGGTGCGTCGATTTTGGCAGTAAAGTGGAATCGTCAGATATCAATCCTGTTTCGTAGAAAGGAGCTACCTAGAGAGGATTACTCTCACATAGTA'),\n",
    "(3, 'CAAGTCCGCGATAAATTGGAATATTTGTCAATCGGAATAGTCAACTTAGCTGGCGTTAGCTTTACGACTGACAGAGAGAAACCTGTCCATCACACA'),\n",
    "(4, 'CAGTCCGGCGTAATTGGAGAATATTTTGCAATCGGAAGATCAATCTTGTTAGCGTTAGCTTACGACTGACGAGAGGGATACTCTCTCTAATACAA'),\n",
    "(5, 'CACGGGCTCCGCATCTATTTTGGGTCAAGTTGCATATCAGTCATCGACAATCAAACACTGTTTTGCGGTAGATAAGATACGACTGAGAGAGGACGTTCGCTCGAATATAGTTAC'),\n",
    "(6, 'CACGGGTCCAATTTTGGAGTAAGTTGATATCGTCACGAAATCAATCCTGTTTCGGTAGTATAGGACTACGACGAGAGAGGACGTTCCTCTGATATAGTTAC'), \n",
    "(7, 'GGTCCGTCAATTTTGGAGTAAGTTGATATCGTCACGAAATCAATCCTGTTTCGGTAGTATAGGACTACGACGAGAGAGGACGTTCCTCTGATATAGTTAC'), \n",
    "(8, 'CACGGGAATCCGTCAATTTTGGAGTAAGTTGATATCGTCACGAAATCAATCCTGTTTCGGTAGTATAGGACTACGACGAGAGAGGACGTTCCTCTGATATAGTTAC'), \n",
    "(9, 'CACGGGTCCGTCAATTTTGGAGTAAGTTGATATCGTCACGAAATCAATCCTGTTTCGGTAGTATAGGACTACGACGAGAGAGGACGTTCCTCTGATATAGTTAC')]"
   ]
  },
  {
   "cell_type": "markdown",
   "metadata": {},
   "source": [
    "# 1. LCS "
   ]
  },
  {
   "cell_type": "code",
   "execution_count": 5,
   "metadata": {},
   "outputs": [],
   "source": [
    "# bottom up dynamic programming\n",
    "def lcs(X, Y): \n",
    "    m = len(X) \n",
    "    n = len(Y) \n",
    "\n",
    "    # Store LCS between X ending in m and Y ending in n\n",
    "    L = [[None]*(n + 1) for _ in range(m + 1)] \n",
    "  \n",
    "    for i in range(m + 1): \n",
    "        for j in range(n + 1): \n",
    "            # if one of the strings is null, LCS is 0\n",
    "            if i == 0 or j == 0 : \n",
    "                L[i][j] = 0\n",
    "            # if last elem match, LCS += 1\n",
    "            elif X[i-1] == Y[j-1]: \n",
    "                L[i][j] = L[i-1][j-1]+1\n",
    "            # else take LCS of removing last elem from X or from Y\n",
    "            else: \n",
    "                L[i][j] = max(L[i-1][j], L[i][j-1]) \n",
    "    return L"
   ]
  },
  {
   "cell_type": "markdown",
   "metadata": {},
   "source": [
    "# 2. LCS for each Gene Pair"
   ]
  },
  {
   "cell_type": "code",
   "execution_count": 100,
   "metadata": {},
   "outputs": [],
   "source": [
    "# generate table of LCS \n",
    "def similarityTable(strings):\n",
    "    sim_table = [[None]*(len(strings)) for _ in range(len(strings))]\n",
    "\n",
    "    # calculate LCS for all pairs\n",
    "    for i in range(len(strings)):\n",
    "        for j in range(len(strings)):\n",
    "            # don't make repeated comparisons\n",
    "            if j < i:\n",
    "                sim_table[i][j] = sim_table[j][i]\n",
    "            # if comparing string with itself, leave LCS as 0\n",
    "            elif i!=j:\n",
    "                # store LCS by taking last entry in store\n",
    "                sim_table[i][j] = lcs(strings[i][1],strings[j][1])[-1][-1]\n",
    "    return sim_table"
   ]
  },
  {
   "cell_type": "code",
   "execution_count": 101,
   "metadata": {
    "scrolled": false
   },
   "outputs": [
    {
     "name": "stdout",
     "output_type": "stream",
     "text": [
      "[[None, 74, 76, 73, 82, 84, 89, 87, 91, 91], [74, None, 67, 72, 79, 71, 69, 68, 71, 71], [76, 67, None, 65, 69, 82, 82, 81, 84, 84], [73, 72, 65, None, 80, 72, 68, 67, 69, 69], [82, 79, 69, 80, None, 74, 74, 73, 75, 75], [84, 71, 82, 72, 74, None, 95, 93, 97, 97], [89, 69, 82, 68, 74, 95, None, 97, 101, 101], [87, 68, 81, 67, 73, 93, 97, None, 100, 100], [91, 71, 84, 69, 75, 97, 101, 100, None, 104], [91, 71, 84, 69, 75, 97, 101, 100, 104, None]]\n"
     ]
    }
   ],
   "source": [
    "t = similarityTable(Set_Strings)\n",
    "print(t)"
   ]
  },
  {
   "cell_type": "code",
   "execution_count": 103,
   "metadata": {},
   "outputs": [
    {
     "name": "stdout",
     "output_type": "stream",
     "text": [
      "[747, 642, 690, 635, 681, 765, 776, 766, 792, 792]\n"
     ]
    }
   ],
   "source": [
    "def sim_w_family(sim_table):\n",
    "    return([sum(filter(None,x)) for x in t])\n",
    "\n",
    "print(sim_w_family(t))"
   ]
  },
  {
   "cell_type": "markdown",
   "metadata": {},
   "source": [
    "# 3. Manually infer relationships"
   ]
  },
  {
   "cell_type": "markdown",
   "metadata": {},
   "source": [
    "str8 is likely the first generation (origin), since it has the most similarity to all other strings, indicating it is high up the geneology tree.\n",
    "\n",
    "str9 and str6 are likely the second generation since they have the highest LCS with str8.\n",
    "\n",
    "str6's children are likely str5 and str7 since they have the highest LCS with str6 from the unassigned strings.\n",
    "\n",
    "str9's children are likely str0 and str2 since they have the highest LCS with str9 from the unassigned strings.\n",
    "\n",
    "str0 is likely the parent of str1 and str4 as they have very high LCS with str0\n",
    "\n",
    "str2 is likely the parent of str3 since it has the highest LCS amongst remaining current \"leaf\" strings."
   ]
  },
  {
   "cell_type": "markdown",
   "metadata": {},
   "source": [
    "                                  str8\n",
    "                     str6                         str9\n",
    "          str5                str7        str2                str0\n",
    "                                      str3                str1   str4"
   ]
  },
  {
   "cell_type": "markdown",
   "metadata": {},
   "source": [
    "# 4. Geneology Algo"
   ]
  },
  {
   "cell_type": "code",
   "execution_count": 167,
   "metadata": {},
   "outputs": [],
   "source": [
    "# tree node class\n",
    "class Node():\n",
    "    def __init__(self,val):\n",
    "        self.val = val\n",
    "        self.child = [None,None]\n",
    "    def __str__(self):\n",
    "        return(str(self.val))\n",
    "\n",
    "# helper func\n",
    "def _clear_col(table,col):\n",
    "    for row in range(len(table)):\n",
    "        table[row][col] = None\n",
    "    return(table) \n",
    "        \n",
    "def create_tree(genes):\n",
    "    # get LCS for each pair\n",
    "    t = similarityTable(genes)\n",
    "    \n",
    "    # get general similarity to all other strings\n",
    "    conf = sim_w_family(t)\n",
    "\n",
    "    # assume the one with the most LCS with \n",
    "    # all the other strings is the origin\n",
    "    root = Node(conf.index(max(conf)))\n",
    "    # clear column of assigned gene\n",
    "    _clear_col(t,root.val)\n",
    "    \n",
    "    # create tree in a BFS manner\n",
    "    q = [root]\n",
    "    \n",
    "    # while queue is not empty\n",
    "    #while q:\n",
    "    while q:\n",
    "        c = q.pop(0)\n",
    "        # form geneology tree by greedily taking max LCS from root\n",
    "        c.child = [Node(t[c.val].index(x)) for x in sorted(filter(None,t[c.val]))[-2:]]\n",
    "        \n",
    "        # add assigned children to queue\n",
    "        q.extend(c.child)\n",
    "        \n",
    "        # clear cols of assigned genes and pad node children\n",
    "        # if no children\n",
    "        if not c.child:\n",
    "            c.child = [None,None]\n",
    "        \n",
    "        # if one child\n",
    "        elif len(c.child) < 2:\n",
    "            c.child.append(None)\n",
    "            _clear_col(t,c.child[0].val)\n",
    "        \n",
    "        # if two child\n",
    "        else:\n",
    "            _clear_col(t,c.child[0].val)\n",
    "            _clear_col(t,c.child[1].val)\n",
    "    return(root)"
   ]
  },
  {
   "cell_type": "code",
   "execution_count": 152,
   "metadata": {},
   "outputs": [],
   "source": [
    "r = create_tree(Set_Strings)\n",
    "a1, a2 = r.child\n",
    "\n",
    "b1, b2 = a1.child\n",
    "b3, b4 = a2.child\n",
    "\n",
    "c1,c2 = b1.child\n",
    "c3,_ = b2.child"
   ]
  },
  {
   "cell_type": "code",
   "execution_count": 153,
   "metadata": {},
   "outputs": [
    {
     "name": "stdout",
     "output_type": "stream",
     "text": [
      "8\n",
      "6 9\n",
      "5 7 2 0\n",
      "3 4 1\n"
     ]
    }
   ],
   "source": [
    "print(r)\n",
    "print(a1,a2)\n",
    "print(b1,b2,b3,b4)\n",
    "print(c1,c2,c3)"
   ]
  },
  {
   "cell_type": "markdown",
   "metadata": {},
   "source": [
    "_____"
   ]
  },
  {
   "cell_type": "markdown",
   "metadata": {},
   "source": [
    "# 5. Strengths and Weaknesses"
   ]
  },
  {
   "cell_type": "markdown",
   "metadata": {},
   "source": [
    "**Strengths**      \n",
    "Simple: It is a very simple and intuitive algorithm, greedily determining the root and the next children by the highest LCS. This makes it easy to maintain.\n",
    "\n",
    "Time Efficiency: As explained in part 5, LCS takes M^2. sunce we do LCS for every pair constructing the LCS table takes N^2(M^2) time. After getting the LCS table, we assign children for each node (N), the assignment of children itself takes around (lgN) time due to the sort, overall assigning children for all nodes (constructing the tree) takes O(NlgN). Overall the algorithm takes $N^2M^2$ + $NlgN$ time, which is O($N^2M^2$) time.               \n",
    "\n",
    "Space Efficiency: It takes O(n^2) space (storing the LCS for each pair) which is decent.\n",
    "\n",
    "\n",
    "**Weaknesses**      \n",
    "Does not guarantee global optimumz: since it takes the greedy approach, it is possible that by taking the locally optimum solution it is rejecting the globally optimal solution (especially since selected children now eliminate them from being some other node's children, even if it has a longer LCS with that future node).\n",
    "\n",
    "Assumes specific family tree structure: The algorithm assumes a maximally balanced/ full tree, determing the best two children at each time if possible. This is particularly a problem in the last generation when only some of the current leaf nodes will have children. The algorithm will not try to determine which of the leaf nodes will most likely have children, it will just assign children greedily in sequential order. "
   ]
  },
  {
   "cell_type": "markdown",
   "metadata": {},
   "source": [
    "# 6. Computational Complexity"
   ]
  },
  {
   "cell_type": "markdown",
   "metadata": {},
   "source": [
    "O($N^2M^2$)\n",
    "\n",
    "As explained in part 5, LCS takes M^2. sunce we do LCS for every pair constructing the LCS table takes N^2(M^2) time. After getting the LCS table, we assign children for each node (N), the assignment of children itself takes around (lgN) time due to the sort, overall assigning children for all nodes (constructing the tree) takes O(NlgN). Overall the algorithm takes $N^2M^2$ + $NlgN$ time, which is O($N^2M^2$) time."
   ]
  },
  {
   "cell_type": "markdown",
   "metadata": {},
   "source": [
    "# 7. Probabilities of insertions, deletions, and changes"
   ]
  },
  {
   "cell_type": "markdown",
   "metadata": {},
   "source": [
    "Go through the family tree created and count the number of insertions, deletions, along each parent to child edge (assuming the combination that minimizes the total number of mutations) as well as the number of genes that had the possibility of mutating. Then return the percentage of actual insertions/ deletions/ changes relative to total characters that could have mutated."
   ]
  },
  {
   "cell_type": "code",
   "execution_count": 154,
   "metadata": {},
   "outputs": [],
   "source": [
    "# calculate similarities\n",
    "def editDist(s1, s2): \n",
    "    m = len(s1)\n",
    "    n = len(s2)\n",
    "    # store subsolutions\n",
    "    dp = [[0]*(n+1) for _ in range(m+1)] \n",
    "  \n",
    "    # for every s1 ending in m and s2 ending in n\n",
    "    for i in range(m+1): \n",
    "        for j in range(n+1): \n",
    "  \n",
    "            # if a str is empty, insert all chars of other str\n",
    "            if i == 0 or j ==0: \n",
    "                dp[i][j] = max(i,j)\n",
    "  \n",
    "            # if last char same sol is just edit dist\n",
    "            # of the strings without last char\n",
    "            elif s1[i-1] == s2[j-1]: \n",
    "                dp[i][j] = dp[i-1][j-1] \n",
    "  \n",
    "            # else, sol is minimum dp\n",
    "            # from all possible operations\n",
    "            else: \n",
    "                dp[i][j] = 1 + min(dp[i][j-1],      # insert \n",
    "                                   dp[i-1][j],      # remove \n",
    "                                   dp[i-1][j-1])    # change \n",
    "  \n",
    "    return dp "
   ]
  },
  {
   "cell_type": "code",
   "execution_count": 173,
   "metadata": {},
   "outputs": [
    {
     "name": "stdout",
     "output_type": "stream",
     "text": [
      "Probability of Mutations\n",
      "Insertions:  0.05\n",
      "Deletions:  0.09\n",
      "Changes:  0.48\n"
     ]
    }
   ],
   "source": [
    "def count_mutations(gene1, gene2):\n",
    "    store = editDist(gene1, gene2)\n",
    "    ins_c = 0\n",
    "    del_c = 0\n",
    "    cha_c = 0\n",
    "    m = len(store) - 1\n",
    "    n = len(store[0]) - 1\n",
    "    while m != 0 and n != 0:\n",
    "        if store[m][n] == store[m-1][n-1]:\n",
    "            # equal, no edits\n",
    "            m -= 1\n",
    "            n -= 1\n",
    "        else:\n",
    "            min_ed = min(store[m][n-1],store[m-1][n],store[m-1][n-1])\n",
    "            if store[m][n-1] == min_ed:\n",
    "                ins_c += 1\n",
    "                n -= 1\n",
    "            elif store[m-1][n] == min_ed:\n",
    "                del_c += 1\n",
    "                m -= 1\n",
    "            else:\n",
    "                cha_c += 1\n",
    "                m -= 1\n",
    "                n -= 1\n",
    "    return(ins_c,del_c,cha_c)\n",
    "\n",
    "def count_mutations_tree(root):\n",
    "    ins_total = 0\n",
    "    del_total = 0\n",
    "    cha_total = 0\n",
    "    char_total = 0\n",
    "    q = [root]\n",
    "    \n",
    "    # while there are still nodes to check\n",
    "    while q:\n",
    "        c = q.pop(0)\n",
    "        char_total += len(Set_Strings[c.val][1])\n",
    "        \n",
    "        # for all children\n",
    "        for ch in filter(None,c.child):\n",
    "            # record mutations\n",
    "            ins_c,del_c,cha_c = count_mutations(Set_Strings[c.val][1], Set_Strings[ch.val][1])\n",
    "            ins_total += ins_c\n",
    "            del_total += del_c\n",
    "            cha_total += cha_c\n",
    "            \n",
    "            # add children to q\n",
    "            q.append(ch)\n",
    "    return(ins_total, del_total,cha_total,char_total)\n",
    "\n",
    "ins_total, del_total, chat_total,char_total = count_mutations_tree(r)\n",
    "\n",
    "print('Probability of Mutations')\n",
    "print('Insertions: ', round(ins_total/char_total,2))\n",
    "print('Deletions: ', round(del_total/char_total,2))\n",
    "print('Changes: ', round(cha_total/char_total,2))"
   ]
  },
  {
   "cell_type": "markdown",
   "metadata": {},
   "source": [
    "# 8. HCs"
   ]
  },
  {
   "cell_type": "markdown",
   "metadata": {},
   "source": [
    "**#composition: ***       \n",
    "I used classes when it made sense and simplified my code, and divided my code into separate modules. Overall this helps the code be more readable as there are chunks of functionality that build on each other.\n",
    "\n",
    "**#decisionselection: ***       \n",
    "Out of all the manual approaches I tried, (finding clusters then putting it together, trying brute force, constructing best subtrees and building out, etc) the most effective approach was just to successively approximate (make a best guess for the children of the current node, and then do it for the nodes just added) which is why I ended up doing a greedy program."
   ]
  },
  {
   "cell_type": "markdown",
   "metadata": {},
   "source": [
    "______"
   ]
  }
 ],
 "metadata": {
  "kernelspec": {
   "display_name": "Python 3",
   "language": "python",
   "name": "python3"
  },
  "language_info": {
   "codemirror_mode": {
    "name": "ipython",
    "version": 3
   },
   "file_extension": ".py",
   "mimetype": "text/x-python",
   "name": "python",
   "nbconvert_exporter": "python",
   "pygments_lexer": "ipython3",
   "version": "3.7.3"
  }
 },
 "nbformat": 4,
 "nbformat_minor": 2
}
