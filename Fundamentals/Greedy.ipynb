{
 "cells": [
  {
   "cell_type": "code",
   "execution_count": 19,
   "metadata": {},
   "outputs": [],
   "source": [
    "# task scheduler\n",
    "\n",
    "class Event():\n",
    "    def __init__(self,name,start,end):\n",
    "        self.name = name\n",
    "        self.start = start\n",
    "        self.end = end\n",
    "        self.hall = None\n",
    "    \n",
    "    def __str__(self):\n",
    "        return(str(self.name))\n"
   ]
  },
  {
   "cell_type": "code",
   "execution_count": 56,
   "metadata": {},
   "outputs": [],
   "source": [
    "\n",
    "def assign(events,halls):\n",
    "    empty_halls = halls\n",
    "    full_halls = []\n",
    "    cur_events = []\n",
    "\n",
    "    # sort events by start time\n",
    "    events = sorted(events, key = lambda j: j.start) \n",
    "    \n",
    "    # assign tasks in sorted order\n",
    "    for event in events:\n",
    "        # check for ended events\n",
    "        for aEvent in cur_events:\n",
    "            if aEvent.end <= event.start:\n",
    "                # empty halls\n",
    "                empty_halls.insert(0,aEvent.hall)\n",
    "                full_halls.remove(aEvent.hall)\n",
    "                cur_events.remove(aEvent)\n",
    "                print('ended', aEvent)\n",
    "                print('empty:',empty_halls)\n",
    "                print('full:',full_halls)\n",
    "                print('____')\n",
    "        \n",
    "        # assign event\n",
    "        hall = empty_halls.pop(0)\n",
    "        event.hall = hall\n",
    "        full_halls.insert(0,hall)\n",
    "        cur_events.insert(0,event)\n",
    "        print('assigning',event,'to',event.hall)\n",
    "        print('empty:',empty_halls)\n",
    "        print('full:',full_halls)\n",
    "        print('____')\n",
    "    return(events)"
   ]
  },
  {
   "cell_type": "code",
   "execution_count": 57,
   "metadata": {},
   "outputs": [
    {
     "name": "stdout",
     "output_type": "stream",
     "text": [
      "assigning A to 1\n",
      "empty: [2, 3, 4, 5, 6, 7, 8, 9]\n",
      "full: [1]\n",
      "____\n",
      "ended A\n",
      "empty: [1, 2, 3, 4, 5, 6, 7, 8, 9]\n",
      "full: []\n",
      "____\n",
      "assigning C to 1\n",
      "empty: [2, 3, 4, 5, 6, 7, 8, 9]\n",
      "full: [1]\n",
      "____\n",
      "assigning B to 2\n",
      "empty: [3, 4, 5, 6, 7, 8, 9]\n",
      "full: [2, 1]\n",
      "____\n",
      "assigning D to 3\n",
      "empty: [4, 5, 6, 7, 8, 9]\n",
      "full: [3, 2, 1]\n",
      "____\n",
      "ended B\n",
      "empty: [2, 4, 5, 6, 7, 8, 9]\n",
      "full: [3, 1]\n",
      "____\n",
      "assigning E to 2\n",
      "empty: [4, 5, 6, 7, 8, 9]\n",
      "full: [2, 3, 1]\n",
      "____\n"
     ]
    },
    {
     "data": {
      "text/plain": [
       "[<__main__.Event at 0x10aebb828>,\n",
       " <__main__.Event at 0x10aebb9e8>,\n",
       " <__main__.Event at 0x10aebb4a8>,\n",
       " <__main__.Event at 0x10aebbd30>,\n",
       " <__main__.Event at 0x10aebb5f8>]"
      ]
     },
     "execution_count": 57,
     "metadata": {},
     "output_type": "execute_result"
    }
   ],
   "source": [
    "# driver code\n",
    "\n",
    "a = Event('A',5,6)\n",
    "b = Event('B',7,9)\n",
    "c = Event('C',6,10)\n",
    "d = Event('D',8,10)\n",
    "e = Event('E',9,11)\n",
    "\n",
    "events = [a,b,c,d,e]\n",
    "halls = [1,2,3,4,5,6,7,8,9]\n",
    "\n",
    "assign(events,halls)"
   ]
  },
  {
   "cell_type": "code",
   "execution_count": 58,
   "metadata": {},
   "outputs": [
    {
     "name": "stdout",
     "output_type": "stream",
     "text": [
      "Event in hall 1 from 5 to 6\n",
      "Event in hall 1 from 6 to 10\n",
      "Event in hall 2 from 7 to 9\n",
      "Event in hall 3 from 8 to 10\n",
      "Event in hall 2 from 9 to 11\n"
     ]
    }
   ],
   "source": [
    "events = sorted(events, key = lambda j: j.start) \n",
    "for event in events:\n",
    "    print(\"Event\",'in hall',event.hall, 'from', event.start,'to',event.end)"
   ]
  },
  {
   "cell_type": "code",
   "execution_count": null,
   "metadata": {},
   "outputs": [],
   "source": []
  }
 ],
 "metadata": {
  "kernelspec": {
   "display_name": "Python 3",
   "language": "python",
   "name": "python3"
  },
  "language_info": {
   "codemirror_mode": {
    "name": "ipython",
    "version": 3
   },
   "file_extension": ".py",
   "mimetype": "text/x-python",
   "name": "python",
   "nbconvert_exporter": "python",
   "pygments_lexer": "ipython3",
   "version": "3.7.3"
  }
 },
 "nbformat": 4,
 "nbformat_minor": 2
}
