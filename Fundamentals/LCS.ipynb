{
 "cells": [
  {
   "cell_type": "code",
   "execution_count": 85,
   "metadata": {},
   "outputs": [],
   "source": [
    "def lcs(s1,s2):\n",
    "    # store\n",
    "    store = [[None]*(len(s2)+1) for i in range(len(s1)+1)]\n",
    "    \n",
    "    for m in range(len(s1)+1):\n",
    "        for n in range(len(s2)+1):\n",
    "            if m==0 or n==0:\n",
    "                store[m][n] = 0\n",
    "            elif s1[m-1] == s2[n-1]:\n",
    "                store[m][n] = store[m-1][n-1] + 1\n",
    "            else:\n",
    "                store[m][n] = max(store[m-1][n],store[m][n-1])\n",
    "    return(store)\n",
    "\n",
    "def print_lcs(store,str1,str2):\n",
    "    m = len(store)-1\n",
    "    n = len(store[0])-1\n",
    "    lcs = []\n",
    "    while m != 0 and n != 0:\n",
    "        if store[m][n] != store[m-1][n-1]:\n",
    "            lcs.insert(0,str1[m-1])\n",
    "            m -= 1\n",
    "            n -= 1\n",
    "        elif store[m][n] == store[m-1][n]:\n",
    "            m -= 1\n",
    "        else:\n",
    "            n-=1\n",
    "    return(lcs)"
   ]
  },
  {
   "cell_type": "code",
   "execution_count": 86,
   "metadata": {},
   "outputs": [
    {
     "data": {
      "text/plain": [
       "[1, 0]"
      ]
     },
     "execution_count": 86,
     "metadata": {},
     "output_type": "execute_result"
    }
   ],
   "source": [
    "store = lcs([1,0],[0,1,0])\n",
    "print_lcs(store,[1,0],[0,1,0])"
   ]
  },
  {
   "cell_type": "code",
   "execution_count": 87,
   "metadata": {},
   "outputs": [
    {
     "data": {
      "text/plain": [
       "[1, 0, 1, 0, 1, 1]"
      ]
     },
     "execution_count": 87,
     "metadata": {},
     "output_type": "execute_result"
    }
   ],
   "source": [
    "store2 = lcs([1,0,0,1,0,1,0,1],[0,1,0,1,1,0,1,1,0])\n",
    "print_lcs(store2,[1,0,0,1,0,1,0,1],[0,1,0,1,1,0,1,1,0])"
   ]
  },
  {
   "cell_type": "code",
   "execution_count": null,
   "metadata": {},
   "outputs": [],
   "source": []
  }
 ],
 "metadata": {
  "kernelspec": {
   "display_name": "Python 3",
   "language": "python",
   "name": "python3"
  },
  "language_info": {
   "codemirror_mode": {
    "name": "ipython",
    "version": 3
   },
   "file_extension": ".py",
   "mimetype": "text/x-python",
   "name": "python",
   "nbconvert_exporter": "python",
   "pygments_lexer": "ipython3",
   "version": "3.7.3"
  }
 },
 "nbformat": 4,
 "nbformat_minor": 2
}
