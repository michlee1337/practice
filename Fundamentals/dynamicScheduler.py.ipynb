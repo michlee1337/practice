{
 "cells": [
  {
   "cell_type": "markdown",
   "metadata": {},
   "source": [
    "# Design\n",
    "\n",
    "**Recursive Problem Structure**:    \n",
    "The subproblem is always whether or not to include a task.   \n",
    "Hence, the recursive subproblem is:    \n",
    "*Best_schedule_considering_n_tasks* = better of *best_schedule_excluding_task_n* and *best_schedule_including_task_n*\n",
    "\n",
    "**Overlapping subproblem**     \n",
    "Whenever we consider adding a task, we have to compare the best schedule we can make including this task against the best schedule possible when considering of all the tasks before it.\n",
    "\n",
    "\n",
    "**Dynamic Programming Solution**   \n",
    "We store the best schedule we can make considering all tasks up til task[n-1] and compare it against the best task we can make considering all tasks up until task[n].   \n",
    "\n",
    "Base case: best schedule we can make considering the first task is just the first task, thus the first entry of our store is initialized to the first task."
   ]
  },
  {
   "cell_type": "code",
   "execution_count": 213,
   "metadata": {},
   "outputs": [
    {
     "data": {
      "text/plain": [
       "inf"
      ]
     },
     "execution_count": 213,
     "metadata": {},
     "output_type": "execute_result"
    }
   ],
   "source": [
    "float(' inf')"
   ]
  },
  {
   "cell_type": "code",
   "execution_count": 209,
   "metadata": {},
   "outputs": [],
   "source": [
    "# set up task object\n",
    "\n",
    "class Task:\n",
    "    def __init__(self,name,priority,duration,start=-float('inf'),end=float('inf')):\n",
    "        self.name = name\n",
    "        self.priority = priority\n",
    "        self.duration = duration\n",
    "        self.start = start\n",
    "        self.end = end"
   ]
  },
  {
   "cell_type": "code",
   "execution_count": 210,
   "metadata": {},
   "outputs": [],
   "source": [
    "# search for next task with last compatible end time\n",
    "def find_latest_compatible_task(task, start_index): \n",
    "    # Initialize 'lo' and 'hi' for binary search\n",
    "    low = 0\n",
    "    high = start_index - 1\n",
    "  \n",
    "    # Perform binary search \n",
    "    while low <= high: \n",
    "        mid = (low + high) // 2\n",
    "        if task[mid].end <= task[start_index].start: \n",
    "            if task[mid + 1].end <= task[start_index].start: \n",
    "                low = mid + 1\n",
    "            else: \n",
    "                return mid \n",
    "        else: \n",
    "            high = mid - 1\n",
    "    return -1\n",
    "\n",
    "# set start and end times for tasks without fixed times\n",
    "def preprocess(tasks,lastStart):\n",
    "    for task in tasks:\n",
    "        # if task has no fixed end time\n",
    "        if not task.end:\n",
    "            task.end = lastStart\n",
    "            task.start = lastStart - task.duration            \n",
    "    return(tasks)\n",
    "\n",
    "\n",
    "def best_schedule(tasks):\n",
    "    # sort tasks by end time, to allow binary search\n",
    "    # using python array methods since it's a DP assignment\n",
    "    print([t.end for t in tasks])\n",
    "    tasks = sorted(tasks, key = lambda j: j.end) \n",
    "    \n",
    "    # store total \"achieved\" for tasks until and including task i\n",
    "    store = [0 for _ in range(len(tasks))]\n",
    "    schedule = [[] for _ in range(len(tasks))]\n",
    "    \n",
    "    store[0] = tasks[0].priority\n",
    "    schedule[0] = [tasks[0].name]\n",
    "    \n",
    "    # fill in store\n",
    "    for i in range(1,len(tasks)):\n",
    "        store[i] = tasks[i].priority\n",
    "        schedule[i] = [tasks[i].name]\n",
    "        processed = preprocess(tasks,i.start)\n",
    "        print(processed)\n",
    "        latest = find_latest_compatible_task(processed,i)\n",
    "        if latest != -1:\n",
    "            store[i] += store[latest]\n",
    "            schedule[i] = schedule[latest] + schedule[i]\n",
    "            \n",
    "        # update store with max possible achievement\n",
    "        if store[i] < store[i-1]:\n",
    "            store[i] = store[i-1] \n",
    "            schedule[i] = schedule[i-1]\n",
    "            \n",
    "    return(store,schedule)"
   ]
  },
  {
   "cell_type": "code",
   "execution_count": 211,
   "metadata": {},
   "outputs": [
    {
     "name": "stdout",
     "output_type": "stream",
     "text": [
      "[<__main__.Task object at 0x10f20c828>, <__main__.Task object at 0x10f20c3c8>, <__main__.Task object at 0x10f20c4e0>, <__main__.Task object at 0x10f20c860>, <__main__.Task object at 0x10f20ca20>, <__main__.Task object at 0x10f20c400>, <__main__.Task object at 0x10f20cba8>, <__main__.Task object at 0x10f20c5c0>]\n"
     ]
    }
   ],
   "source": [
    "# set up inputs\n",
    "\n",
    "# Inputs\n",
    "\n",
    "taskL = ['pcw','class','eat','exercise','work','visa','landmark','dance']\n",
    "priorityL = [2,3,1,2,4,5,1,1]\n",
    "durationL = [1,2,1,1,2,3,2,2]\n",
    "startL = [16,17,None,None,11,9,8,10]\n",
    "endL = [17,19,None,None,13,17,17,22]\n",
    "dependenciesL = [None,['pcw'],None,None,['prep'],['get docs','get cash'],None,None]\n",
    "\n",
    "tasks = []\n",
    "\n",
    "for i in range(len(taskL)):\n",
    "    tasks.append(Task(taskL[i],priorityL[i],durationL[i],startL[i],endL[i]))\n",
    "\n",
    "print(tasks)"
   ]
  },
  {
   "cell_type": "code",
   "execution_count": 212,
   "metadata": {
    "scrolled": true
   },
   "outputs": [
    {
     "name": "stdout",
     "output_type": "stream",
     "text": [
      "Optimal schedule is\n",
      "[17, 19, None, None, 13, 17, 17, 22]\n"
     ]
    },
    {
     "ename": "TypeError",
     "evalue": "'<' not supported between instances of 'NoneType' and 'int'",
     "output_type": "error",
     "traceback": [
      "\u001b[0;31m---------------------------------------------------------------------------\u001b[0m",
      "\u001b[0;31mTypeError\u001b[0m                                 Traceback (most recent call last)",
      "\u001b[0;32m<ipython-input-212-b2b95f527654>\u001b[0m in \u001b[0;36m<module>\u001b[0;34m\u001b[0m\n\u001b[1;32m      3\u001b[0m \u001b[0;31m# Driver code to test above function\u001b[0m\u001b[0;34m\u001b[0m\u001b[0;34m\u001b[0m\u001b[0;34m\u001b[0m\u001b[0m\n\u001b[1;32m      4\u001b[0m \u001b[0mprint\u001b[0m\u001b[0;34m(\u001b[0m\u001b[0;34m\"Optimal schedule is\"\u001b[0m\u001b[0;34m)\u001b[0m\u001b[0;34m,\u001b[0m\u001b[0;34m\u001b[0m\u001b[0;34m\u001b[0m\u001b[0m\n\u001b[0;32m----> 5\u001b[0;31m \u001b[0mprint\u001b[0m\u001b[0;34m(\u001b[0m\u001b[0mbest_schedule\u001b[0m\u001b[0;34m(\u001b[0m\u001b[0mtasks\u001b[0m\u001b[0;34m)\u001b[0m\u001b[0;34m)\u001b[0m\u001b[0;34m\u001b[0m\u001b[0;34m\u001b[0m\u001b[0m\n\u001b[0m",
      "\u001b[0;32m<ipython-input-210-89c8728cff07>\u001b[0m in \u001b[0;36mbest_schedule\u001b[0;34m(tasks)\u001b[0m\n\u001b[1;32m     31\u001b[0m     \u001b[0;31m# using python array methods since it's a DP assignment\u001b[0m\u001b[0;34m\u001b[0m\u001b[0;34m\u001b[0m\u001b[0;34m\u001b[0m\u001b[0m\n\u001b[1;32m     32\u001b[0m     \u001b[0mprint\u001b[0m\u001b[0;34m(\u001b[0m\u001b[0;34m[\u001b[0m\u001b[0mt\u001b[0m\u001b[0;34m.\u001b[0m\u001b[0mend\u001b[0m \u001b[0;32mfor\u001b[0m \u001b[0mt\u001b[0m \u001b[0;32min\u001b[0m \u001b[0mtasks\u001b[0m\u001b[0;34m]\u001b[0m\u001b[0;34m)\u001b[0m\u001b[0;34m\u001b[0m\u001b[0;34m\u001b[0m\u001b[0m\n\u001b[0;32m---> 33\u001b[0;31m     \u001b[0mtasks\u001b[0m \u001b[0;34m=\u001b[0m \u001b[0msorted\u001b[0m\u001b[0;34m(\u001b[0m\u001b[0mtasks\u001b[0m\u001b[0;34m,\u001b[0m \u001b[0mkey\u001b[0m \u001b[0;34m=\u001b[0m \u001b[0;32mlambda\u001b[0m \u001b[0mj\u001b[0m\u001b[0;34m:\u001b[0m \u001b[0mj\u001b[0m\u001b[0;34m.\u001b[0m\u001b[0mend\u001b[0m\u001b[0;34m)\u001b[0m\u001b[0;34m\u001b[0m\u001b[0;34m\u001b[0m\u001b[0m\n\u001b[0m\u001b[1;32m     34\u001b[0m \u001b[0;34m\u001b[0m\u001b[0m\n\u001b[1;32m     35\u001b[0m     \u001b[0;31m# store total \"achieved\" for tasks until and including task i\u001b[0m\u001b[0;34m\u001b[0m\u001b[0;34m\u001b[0m\u001b[0;34m\u001b[0m\u001b[0m\n",
      "\u001b[0;31mTypeError\u001b[0m: '<' not supported between instances of 'NoneType' and 'int'"
     ]
    }
   ],
   "source": [
    "#(self,name,priority,duration,start=None,end=None):\n",
    "    \n",
    "# Driver code to test above function \n",
    "print(\"Optimal schedule is\"), \n",
    "print(best_schedule(tasks))"
   ]
  },
  {
   "cell_type": "code",
   "execution_count": 183,
   "metadata": {},
   "outputs": [],
   "source": [
    "x = None\n",
    "\n",
    "if x:\n",
    "    print('works')"
   ]
  },
  {
   "cell_type": "markdown",
   "metadata": {},
   "source": [
    "# Approach 1\n",
    "\n",
    "Brute force + memoization"
   ]
  },
  {
   "cell_type": "code",
   "execution_count": 1,
   "metadata": {},
   "outputs": [],
   "source": [
    "# calculate utility of all # Inputs\n",
    "\n",
    "taskL = ['pcw','class','eat','exercise','work','visa','landmark','dance']\n",
    "priorityL = [2,3,1,2,4,5,1,1]\n",
    "durationL = [1,2,1,1,2,3,2,2]\n",
    "startByL = [16,17,None,None,11,9,8,10]\n",
    "endBeforeL = [17,19,None,None,13,17,17,22]\n",
    "dependenciesL = [None,['pcw'],None,None,['prep'],['get docs','get cash'],None,None]"
   ]
  },
  {
   "cell_type": "code",
   "execution_count": 2,
   "metadata": {},
   "outputs": [],
   "source": [
    "#____PRE PROCESS_____\n",
    "n = len(taskL)\n",
    "\n",
    "for i in range(n):\n",
    "    # STEP 1: take all dependencies and create separate tasks\n",
    "    ## base the priority of the task on the priority of the parent task\n",
    "    if dependenciesL[i]:\n",
    "        for dep in dependenciesL[i]:\n",
    "            # set to the higher priority\n",
    "            if dep in taskL:\n",
    "                if priorityL[i] >= priorityL[taskL.index(dep)]:\n",
    "                    priorityL[taskL.index(dep)] = priorityL[i] + 1\n",
    "            else:\n",
    "                # add task\n",
    "                taskL.append(dep)\n",
    "                priorityL.append(priorityL[i] + 1)\n",
    "                durationL.append(1) # ASSUMPTION\n",
    "                startByL.append(None)\n",
    "                endBeforeL.append(None)\n",
    "                dependenciesL.append(None)\n",
    "        dependenciesL[i] = None"
   ]
  },
  {
   "cell_type": "code",
   "execution_count": 3,
   "metadata": {},
   "outputs": [
    {
     "name": "stdout",
     "output_type": "stream",
     "text": [
      "['pcw', 'class', 'eat', 'exercise', 'work', 'visa', 'landmark', 'dance', 'class', 'prep', 'work', 'get docs', 'get cash', 'visa', 'visa', 'landmark', 'dance']\n"
     ]
    }
   ],
   "source": [
    "print(taskL)\n",
    "\n",
    "# create achievement matrix\n"
   ]
  },
  {
   "cell_type": "code",
   "execution_count": null,
   "metadata": {},
   "outputs": [],
   "source": [
    "# dynamically assign tasks by priority and time\n",
    "\n",
    "def makeScedule(priorityL,time):\n",
    "    r = [0] * (time+1) # max achievable in given time\n",
    "    s = [0] * (time+1) # optimum task given time\n",
    "    for i in range(1,1+time):\n",
    "        q = -float(\"inf\")\n",
    "        for j in range(1,1+i):\n",
    "            # store max price + optimum cut\n",
    "            if q < priorityL[j-1] + r[i-j]:\n",
    "                q = priorityL[j-1] + r[i-j]\n",
    "                s[i] = j\n",
    "        r[i] = q\n",
    "    return(r,s)\n",
    "\n",
    "def print_schedule(priorityL,time):\n",
    "    r,s = extended_bottom_up_cut_rod(prices,time)\n",
    "    while time>0:\n",
    "        print(s[n])\n",
    "        n = n-s[n]"
   ]
  },
  {
   "cell_type": "markdown",
   "metadata": {},
   "source": [
    "# TRIAL 2"
   ]
  },
  {
   "cell_type": "code",
   "execution_count": 20,
   "metadata": {},
   "outputs": [],
   "source": [
    "def schedule(priorityL,time):\n",
    "    pastStore = priorityL\n",
    "    for i in range(2,time+1): # i is time currently being considered\n",
    "        for j in range(i-1):\n",
    "            curStore = [priorityL] # store all possibilities length i\n",
    "        # fill in store\n",
    "        curStore[i] = max(priorityL[i]+pastStore[i])\n",
    "        pastStore = curStore # store current states for next round\n",
    "        print(pastStore)\n",
    "    return(0)\n",
    "        \n",
    "    \n",
    "    \n",
    "    # for each buildup until n \n",
    "        # try and store all possible combis\n",
    "        # use past combis whenever possible\n",
    "    # return max of final store"
   ]
  },
  {
   "cell_type": "code",
   "execution_count": 22,
   "metadata": {},
   "outputs": [
    {
     "name": "stdout",
     "output_type": "stream",
     "text": [
      "2\n",
      "[[0, 1, 2, 3], [0, 1, 2, 3]]\n",
      "3\n",
      "[[[0, 1, 2, 3], [0, 1, 2, 3]], [[0, 1, 2, 3], [0, 1, 2, 3]], [[0, 1, 2, 3], [0, 1, 2, 3]]]\n"
     ]
    },
    {
     "data": {
      "text/plain": [
       "0"
      ]
     },
     "execution_count": 22,
     "metadata": {},
     "output_type": "execute_result"
    }
   ],
   "source": [
    "schedule([0,1,2,3],3)"
   ]
  },
  {
   "cell_type": "code",
   "execution_count": null,
   "metadata": {},
   "outputs": [],
   "source": [
    "def schedulePath(n,k):\n",
    "    # n is number of hours\n",
    "    # k is number of tasks\n",
    "    \n",
    "    # initilize store of best paths from hour i to hour j\n",
    "    store = [[0]*n]*n\n",
    "\n",
    "    for t1 in range(0, n): do\n",
    "        for t2 in range(0,n): do\n",
    "            for t3 in range(0.n): do\n",
    "                if c3!=c1 and c3!=c2 and E[c1,c3]*E[c3,c2] > E[c1,c2]: then\n",
    "                    update E[c1,c2] with E[c1,c3]*E[c3,c2] and update I[c1,c2] with I[curr1][curr3] + (c3-name)\n"
   ]
  },
  {
   "cell_type": "code",
   "execution_count": null,
   "metadata": {},
   "outputs": [],
   "source": []
  }
 ],
 "metadata": {
  "kernelspec": {
   "display_name": "Python 3",
   "language": "python",
   "name": "python3"
  },
  "language_info": {
   "codemirror_mode": {
    "name": "ipython",
    "version": 3
   },
   "file_extension": ".py",
   "mimetype": "text/x-python",
   "name": "python",
   "nbconvert_exporter": "python",
   "pygments_lexer": "ipython3",
   "version": "3.7.3"
  }
 },
 "nbformat": 4,
 "nbformat_minor": 2
}
