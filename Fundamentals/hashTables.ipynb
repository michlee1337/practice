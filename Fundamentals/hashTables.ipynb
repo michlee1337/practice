{
 "cells": [
  {
   "cell_type": "code",
   "execution_count": 2,
   "metadata": {},
   "outputs": [
    {
     "name": "stdout",
     "output_type": "stream",
     "text": [
      "Table: [None, None, None, None, None, None, None, None, None, None]\n",
      "Table: [None, None, 'hi', None, None, 'bye', None, None, None, None]\n",
      "Table: [None, None, None, None, None, 'bye', None, None, None, None]\n"
     ]
    }
   ],
   "source": [
    "# ____ DIRECT ADDRESS TABLES ___________\n",
    "\n",
    "class DATable:\n",
    "\tdef __init__(self,maxsize = 10):\n",
    "\t\tself.table = [None] * 10\n",
    "\t\tself.size = maxsize\n",
    "\n",
    "\tdef set_entry(self,value, pos):\n",
    "\t\tself.table[pos] = value\n",
    "\t\treturn(0)\n",
    "\n",
    "\tdef clear_entry(self,pos):\n",
    "\t\tself.table[pos] = None\n",
    "\t\treturn(0)\n",
    "\n",
    "\tdef __str__(self):\n",
    "\t\treturn(\"Table: %s\" % self.table)\n",
    "\n",
    "testTable = DATable()\n",
    "print(testTable)\n",
    "testTable.set_entry('hi',2)\n",
    "testTable.set_entry('bye',5)\n",
    "print(testTable)\n",
    "testTable.clear_entry(2)\n",
    "print(testTable)"
   ]
  },
  {
   "cell_type": "code",
   "execution_count": 3,
   "metadata": {},
   "outputs": [],
   "source": [
    "# using DA Table to store a conuntry's id numbers is a terrible idea\n",
    "## 1. we don't know what the maximum value will be, populations keep growing\n",
    "## 2. it will need to be unreasonably large (v high maximum value)\n",
    "## 3. even if we could hypothetically set an infinite max val, it would be\n",
    "##    a huge waste of memory."
   ]
  },
  {
   "cell_type": "code",
   "execution_count": 4,
   "metadata": {},
   "outputs": [],
   "source": [
    "# ______ CHAINED HASH TABLE _____________\n",
    "\n",
    "import random\n",
    "import string\n",
    "\n",
    "\n",
    "def randomword(length):\n",
    "    return ''.join(random.choice(string.ascii_lowercase) for i in range(length))\n",
    "\n",
    "\n",
    "def empty_hash_table(N):\n",
    "    return [[] for n in range(N)]\n",
    "\n",
    "\n",
    "def add_to_hash_table(hash_table, item, hash_function):\n",
    "    N = len(hash_table)\n",
    "    pos = hash_function(item) % N\n",
    "    hash_table[pos].append(item)\n",
    "    return hash_table\n",
    "\n",
    "\n",
    "def contains(hash_table, item, hash_function):\n",
    "    N = len(hash_table)\n",
    "    pos = hash_function(item) % N\n",
    "    return(item in hash_table[pos])\n",
    "\n",
    "def remove(hash_table, item, hash_function):\n",
    "    if not contains(hash_table, item, hash_function):\n",
    "        raise ValueError()\n",
    "    pos = hash_function(item) % N\n",
    "    hash_table[pos].remove(item)    \n",
    "    return hash_table\n",
    "\n",
    "\n",
    "def hash_str1(string):\n",
    "    ans = 0\n",
    "    for chr in string:\n",
    "        ans += ord(chr)\n",
    "    return ans\n",
    "\n",
    "\n",
    "def hash_str2(string):\n",
    "    ans = 0\n",
    "    for chr in string:\n",
    "        ans = ans ^ ord(chr)\n",
    "    return ans\n",
    "\n",
    "\n",
    "def hash_str3(string):\n",
    "    ans = 0\n",
    "    for chr in string:\n",
    "        ans = ans * 128 + ord(chr)\n",
    "    return ans\n",
    "\n",
    "\n",
    "def hash_str4(string):\n",
    "    random.seed(ord(string[0]))\n",
    "    return random.getrandbits(32)"
   ]
  },
  {
   "cell_type": "code",
   "execution_count": 5,
   "metadata": {},
   "outputs": [],
   "source": [
    "# main code\n",
    "list_of_words = [randomword(10) for n in range(100000)]\n",
    "hashTable_1 = empty_hash_table(5000)\n",
    "hashTable_2 = empty_hash_table(5000)\n",
    "hashTable_3 = empty_hash_table(5000)\n",
    "hashTable_4 = empty_hash_table(5000)\n",
    "\n",
    "for word in list_of_words:\n",
    "\tadd_to_hash_table(hashTable_1, word, hash_str1)\n",
    "\tadd_to_hash_table(hashTable_2, word, hash_str2)\n",
    "\tadd_to_hash_table(hashTable_3, word, hash_str3)\n",
    "\tadd_to_hash_table(hashTable_4, word, hash_str4)"
   ]
  },
  {
   "cell_type": "code",
   "execution_count": 8,
   "metadata": {
    "scrolled": true
   },
   "outputs": [
    {
     "name": "stdout",
     "output_type": "stream",
     "text": [
      "Collisions: \n",
      "Table 1 had 99823 collisions\n",
      "Table 2 had 99968 collisions\n",
      "Table 3 had 95000 collisions\n",
      "Table 4 had 99974 collisions\n"
     ]
    }
   ],
   "source": [
    "# counting collisions\n",
    "coll_in_ht1 = [(len(pos)-1) if (len(pos) > 0) else 0 for pos in hashTable_1]\n",
    "coll_in_ht2 = [(len(pos)-1) if (len(pos) > 0) else 0 for pos in hashTable_2]\n",
    "coll_in_ht3 = [(len(pos)-1) if (len(pos) > 0) else 0 for pos in hashTable_3]\n",
    "coll_in_ht4 = [(len(pos)-1) if (len(pos) > 0) else 0 for pos in hashTable_4]\n",
    "print('Collisions: ')\n",
    "print('Table 1 had %s collisions' % sum(coll_in_ht1))\n",
    "print('Table 2 had %s collisions' % sum(coll_in_ht2))\n",
    "print('Table 3 had %s collisions' % sum(coll_in_ht3))\n",
    "print('Table 4 had %s collisions' % sum(coll_in_ht4))\n"
   ]
  },
  {
   "cell_type": "code",
   "execution_count": 14,
   "metadata": {},
   "outputs": [],
   "source": [
    "import matplotlib.pyplot as plt\n",
    "\n",
    "p1 = plt.hist(coll_in_ht1)"
   ]
  },
  {
   "cell_type": "code",
   "execution_count": 15,
   "metadata": {},
   "outputs": [
    {
     "data": {
      "image/png": "[encoded data removed]",
      "text/plain": [
       "<Figure size 432x288 with 1 Axes>"
      ]
     },
     "metadata": {
      "needs_background": "light"
     },
     "output_type": "display_data"
    }
   ],
   "source": [
    "p2 = plt.hist(coll_in_ht2)"
   ]
  },
  {
   "cell_type": "code",
   "execution_count": 16,
   "metadata": {},
   "outputs": [
    {
     "data": {
      "image/png": "[encoded data removed]",
      "text/plain": [
       "<Figure size 432x288 with 1 Axes>"
      ]
     },
     "metadata": {
      "needs_background": "light"
     },
     "output_type": "display_data"
    }
   ],
   "source": [
    "p3 = plt.hist(coll_in_ht3)"
   ]
  },
  {
   "cell_type": "code",
   "execution_count": 17,
   "metadata": {},
   "outputs": [
    {
     "data": {
      "image/png": "[encoded data removed]",
      "text/plain": [
       "<Figure size 432x288 with 1 Axes>"
      ]
     },
     "metadata": {
      "needs_background": "light"
     },
     "output_type": "display_data"
    }
   ],
   "source": [
    "p4 = plt.hist(coll_in_ht4)"
   ]
  },
  {
   "cell_type": "code",
   "execution_count": 18,
   "metadata": {},
   "outputs": [
    {
     "name": "stdout",
     "output_type": "stream",
     "text": [
      "Average elems in bucket: \n",
      "Table 1: 0.0\n",
      "Table 2: 0.0\n",
      "Table 3: 20.0\n",
      "Table 4: 0.0\n"
     ]
    }
   ],
   "source": [
    "import numpy as np\n",
    "\n",
    "# avg elems in bucket\n",
    "\n",
    "avg_stored1 = np.median([len(pos) for pos in hashTable_1])\n",
    "avg_stored2 = np.median([len(pos) for pos in hashTable_2])\n",
    "avg_stored3 = np.median([len(pos) for pos in hashTable_3])\n",
    "avg_stored4 = np.median([len(pos) for pos in hashTable_4])\n",
    "\n",
    "print('Average elems in bucket: ')\n",
    "print('Table 1: %s' % avg_stored1)\n",
    "print('Table 2: %s' % avg_stored2)\n",
    "print('Table 3: %s' % avg_stored3)\n",
    "print('Table 4: %s' % avg_stored4)\n"
   ]
  },
  {
   "cell_type": "code",
   "execution_count": 19,
   "metadata": {},
   "outputs": [
    {
     "name": "stdout",
     "output_type": "stream",
     "text": [
      "Time for 100 lookups\n",
      "Table 1 : -0.04822310499997684\n",
      "Table 2 : -0.06601292300017292\n",
      "Table 3 : -0.044415294999851085\n",
      "Table 4 : -0.04711597699987635\n"
     ]
    }
   ],
   "source": [
    "import timeit\n",
    "def time_taken(func, *arg):\n",
    "    start = timeit.timeit()\n",
    "    func(*arg)\n",
    "    end = timeit.timeit()\n",
    "    return(end-start)\n",
    "\n",
    "to_lookup = 'hello'\n",
    "\n",
    "add_to_hash_table(hashTable_1, to_lookup, hash_str1)\n",
    "add_to_hash_table(hashTable_2, to_lookup, hash_str2)\n",
    "add_to_hash_table(hashTable_3, to_lookup, hash_str3)\n",
    "add_to_hash_table(hashTable_4, to_lookup, hash_str4)\n",
    "\n",
    "# time lookup\n",
    "N = 100\n",
    "time1=0\n",
    "time2=0\n",
    "time3=0\n",
    "time4=0\n",
    "for i in range(N):\n",
    "    time1 += (time_taken(contains, hashTable_1, to_lookup, hash_str1))\n",
    "    time2 += (time_taken(contains, hashTable_2, to_lookup, hash_str2))\n",
    "    time3 += (time_taken(contains, hashTable_3, to_lookup, hash_str3))\n",
    "    time4 += (time_taken(contains, hashTable_4, to_lookup, hash_str4))\n",
    "\n",
    "print('Time for %s lookups' % N)\n",
    "print('Table 1 : %s' % time1)\n",
    "print('Table 2 : %s' % time2)\n",
    "print('Table 3 : %s' % time3)\n",
    "print('Table 4 : %s' % time4)\n"
   ]
  },
  {
   "cell_type": "code",
   "execution_count": 20,
   "metadata": {},
   "outputs": [
    {
     "name": "stdout",
     "output_type": "stream",
     "text": [
      "Time for 100 lookups for absent elem\n",
      "Table 1 : -0.004592345000332898\n",
      "Table 2 : 6.358300018405316e-05\n",
      "Table 3 : -0.0016187979999244817\n",
      "Table 4 : -0.004115979999824049\n"
     ]
    }
   ],
   "source": [
    "absent = 'bye'\n",
    "# time lookup\n",
    "N = 100\n",
    "timen1=0\n",
    "timen2=0\n",
    "timen3=0\n",
    "timen4=0\n",
    "for i in range(N):\n",
    "    timen1 += (time_taken(contains, hashTable_1, absent, hash_str1))\n",
    "    timen2 += (time_taken(contains, hashTable_2, absent, hash_str2))\n",
    "    timen3 += (time_taken(contains, hashTable_3, absent, hash_str3))\n",
    "    timen4 += (time_taken(contains, hashTable_4, absent, hash_str4))\n",
    "\n",
    "print('Time for %s lookups for absent elem' % N)\n",
    "print('Table 1 : %s' % timen1)\n",
    "print('Table 2 : %s' % timen2)\n",
    "print('Table 3 : %s' % timen3)\n",
    "print('Table 4 : %s' % timen4)"
   ]
  },
  {
   "cell_type": "code",
   "execution_count": null,
   "metadata": {},
   "outputs": [],
   "source": []
  },
  {
   "cell_type": "code",
   "execution_count": null,
   "metadata": {},
   "outputs": [],
   "source": []
  },
  {
   "cell_type": "code",
   "execution_count": null,
   "metadata": {},
   "outputs": [],
   "source": []
  }
 ],
 "metadata": {
  "kernelspec": {
   "display_name": "Python 3",
   "language": "python",
   "name": "python3"
  },
  "language_info": {
   "codemirror_mode": {
    "name": "ipython",
    "version": 3
   },
   "file_extension": ".py",
   "mimetype": "text/x-python",
   "name": "python",
   "nbconvert_exporter": "python",
   "pygments_lexer": "ipython3",
   "version": "3.7.2"
  }
 },
 "nbformat": 4,
 "nbformat_minor": 2
}
