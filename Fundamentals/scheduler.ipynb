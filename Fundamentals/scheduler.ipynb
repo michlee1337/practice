{
 "cells": [
  {
   "cell_type": "markdown",
   "metadata": {},
   "source": [
    "# Description\n",
    "\n",
    "Schedule tasks for one day\n",
    "- 5 regular tasks\n",
    "- 3 exploratory tasks\n",
    "\n",
    "Constraints\n",
    "- tasks have prerequisite tasks\n",
    "- tasks can have other constraints (time constraints/ other subtasks)\n",
    "\n",
    "Problem input\n",
    "- list of tasks\n",
    "- list of corresponding constraints"
   ]
  },
  {
   "cell_type": "markdown",
   "metadata": {},
   "source": [
    "dammit has to be dynamic programming\n",
    "\n",
    "i guess after simplifying/ breaking down tasks into its components,\n",
    "\n",
    "run dynamic algo w time constraints/ durations "
   ]
  },
  {
   "cell_type": "markdown",
   "metadata": {},
   "source": [
    "# PROBLEM\n",
    "- for dynamic programming\n",
    "    - assumption is that optimal solution in subproblem is optimal solution for overall problem\n",
    "    - NOT TRUE if tasks take different length\n",
    "    \n",
    "# RESTRICTIONS\n",
    "- tasks must take durations in whole hours\n",
    "- each subtask must take an hour, else it has to be registered as a separate task\n"
   ]
  },
  {
   "cell_type": "markdown",
   "metadata": {},
   "source": [
    "# Inputs"
   ]
  },
  {
   "cell_type": "code",
   "execution_count": 43,
   "metadata": {},
   "outputs": [],
   "source": [
    "# Inputs\n",
    "\n",
    "taskL = ['pcw','class','eat','exercise','work','visa','landmark','dance']\n",
    "priorityL = [2,3,1,2,4,5,1,1]\n",
    "durationL = [1,2,1,1,2,3,2,2]\n",
    "startByL = [16,17,None,None,11,9,8,10]\n",
    "endBeforeL = [17,19,None,None,13,17,17,22]\n",
    "dependenciesL = [None,['pcw'],None,None,['prep'],['get docs','get cash'],None,None]"
   ]
  },
  {
   "cell_type": "markdown",
   "metadata": {},
   "source": [
    "# Code"
   ]
  },
  {
   "cell_type": "code",
   "execution_count": 44,
   "metadata": {},
   "outputs": [],
   "source": [
    "#____PRE PROCESS_____\n",
    "n = len(taskL)\n",
    "\n",
    "\n",
    "for i in range(n):\n",
    "    # STEP 1: take all dependencies and create separate tasks\n",
    "    ## base the priority of the task on the priority of the parent task\n",
    "    if dependenciesL[i]:\n",
    "        for dep in dependenciesL[i]:\n",
    "            # set to the higher priority\n",
    "            if dep in taskL:\n",
    "                if priorityL[i] >= priorityL[taskL.index(dep)]:\n",
    "                    priorityL[taskL.index(dep)] = priorityL[i] + 1\n",
    "            else:\n",
    "                # add task\n",
    "                taskL.append(dep)\n",
    "                priorityL.append(priorityL[i] + 1)\n",
    "                durationL.append(1) # ASSUMPTION\n",
    "                startByL.append(None)\n",
    "                endBeforeL.append(None)\n",
    "                dependenciesL.append(None)\n",
    "        dependenciesL[i] = None\n",
    "\n",
    "    # STEP 2: make the duration of all tasks equal by duplicating as necessary\n",
    "    ## This allows a dynamic programming solution by ensuring that the \n",
    "    ## optimal solution is a result of optimal solutions of subproblems\n",
    "    while durationL[i] > 1:\n",
    "        # replicate task\n",
    "        taskL.append(taskL[i])\n",
    "        priorityL.append(priorityL[i])\n",
    "        durationL.append(durationL[i])\n",
    "        startByL.append(startByL[i])\n",
    "        endBeforeL.append(endBeforeL[i])\n",
    "        dependenciesL.append(dependenciesL[i])\n",
    "        \n",
    "        # reduce duration of original task\n",
    "        durationL[i] -= 1"
   ]
  },
  {
   "cell_type": "code",
   "execution_count": 50,
   "metadata": {},
   "outputs": [],
   "source": [
    "# dynamically handle tasks by priority\n",
    "def assign_tasks(startTime,endTime):\n",
    "    n = endTime-startTime\n",
    "    # keep time score\n",
    "    timeRec = [0] * (n+1)\n",
    "    # keep achieve score\n",
    "    achieveRec = [0] * (n+1)\n",
    "    # keep task score\n",
    "    taskRec = [0] * (n+1)\n",
    "    for i in range(1,1+n):\n",
    "        x = -float(\"inf\")\n",
    "        for j in range(1,1+i):\n",
    "            # store maxachieved + optimum task\n",
    "            if x < priorityL[j-1] + achieveRec[i-j]:\n",
    "                x = priorityL[j-1] + achieveRec[i-j]\n",
    "                taskRec[i] = taskL[i]\n",
    "        achieveRec[i] = x\n",
    "    return(achieveRec,taskRec)\n",
    "\n",
    "def print_schedule(priorityL,startTime,endTime):\n",
    "    n = endTime-startTime\n",
    "    achieveRec,taskRec = assign_tasks(priorityL,startTime,endTime)\n",
    "    while n>0:\n",
    "        print(taskRec[n])\n",
    "        n = n-taskRec[n]\n",
    "\n"
   ]
  },
  {
   "cell_type": "code",
   "execution_count": 51,
   "metadata": {},
   "outputs": [
    {
     "ename": "TypeError",
     "evalue": "assign_tasks() takes 2 positional arguments but 3 were given",
     "output_type": "error",
     "traceback": [
      "\u001b[0;31m---------------------------------------------------------------------------\u001b[0m",
      "\u001b[0;31mTypeError\u001b[0m                                 Traceback (most recent call last)",
      "\u001b[0;32m<ipython-input-51-bc2fc72be799>\u001b[0m in \u001b[0;36m<module>\u001b[0;34m\u001b[0m\n\u001b[0;32m----> 1\u001b[0;31m \u001b[0mprint_schedule\u001b[0m\u001b[0;34m(\u001b[0m\u001b[0mpriorityL\u001b[0m\u001b[0;34m,\u001b[0m\u001b[0;36m9\u001b[0m\u001b[0;34m,\u001b[0m\u001b[0;36m17\u001b[0m\u001b[0;34m)\u001b[0m\u001b[0;34m\u001b[0m\u001b[0;34m\u001b[0m\u001b[0m\n\u001b[0m",
      "\u001b[0;32m<ipython-input-50-b8ff97ad157a>\u001b[0m in \u001b[0;36mprint_schedule\u001b[0;34m(priorityL, startTime, endTime)\u001b[0m\n\u001b[1;32m     16\u001b[0m \u001b[0;32mdef\u001b[0m \u001b[0mprint_schedule\u001b[0m\u001b[0;34m(\u001b[0m\u001b[0mpriorityL\u001b[0m\u001b[0;34m,\u001b[0m\u001b[0mstartTime\u001b[0m\u001b[0;34m,\u001b[0m\u001b[0mendTime\u001b[0m\u001b[0;34m)\u001b[0m\u001b[0;34m:\u001b[0m\u001b[0;34m\u001b[0m\u001b[0;34m\u001b[0m\u001b[0m\n\u001b[1;32m     17\u001b[0m     \u001b[0mn\u001b[0m \u001b[0;34m=\u001b[0m \u001b[0mendTime\u001b[0m\u001b[0;34m-\u001b[0m\u001b[0mstartTime\u001b[0m\u001b[0;34m\u001b[0m\u001b[0;34m\u001b[0m\u001b[0m\n\u001b[0;32m---> 18\u001b[0;31m     \u001b[0machieveRec\u001b[0m\u001b[0;34m,\u001b[0m\u001b[0mtaskRec\u001b[0m \u001b[0;34m=\u001b[0m \u001b[0massign_tasks\u001b[0m\u001b[0;34m(\u001b[0m\u001b[0mpriorityL\u001b[0m\u001b[0;34m,\u001b[0m\u001b[0mstartTime\u001b[0m\u001b[0;34m,\u001b[0m\u001b[0mendTime\u001b[0m\u001b[0;34m)\u001b[0m\u001b[0;34m\u001b[0m\u001b[0;34m\u001b[0m\u001b[0m\n\u001b[0m\u001b[1;32m     19\u001b[0m     \u001b[0;32mwhile\u001b[0m \u001b[0mn\u001b[0m\u001b[0;34m>\u001b[0m\u001b[0;36m0\u001b[0m\u001b[0;34m:\u001b[0m\u001b[0;34m\u001b[0m\u001b[0;34m\u001b[0m\u001b[0m\n\u001b[1;32m     20\u001b[0m         \u001b[0mprint\u001b[0m\u001b[0;34m(\u001b[0m\u001b[0mtaskRec\u001b[0m\u001b[0;34m[\u001b[0m\u001b[0mn\u001b[0m\u001b[0;34m]\u001b[0m\u001b[0;34m)\u001b[0m\u001b[0;34m\u001b[0m\u001b[0;34m\u001b[0m\u001b[0m\n",
      "\u001b[0;31mTypeError\u001b[0m: assign_tasks() takes 2 positional arguments but 3 were given"
     ]
    }
   ],
   "source": [
    "print_schedule(priorityL,9,17)"
   ]
  },
  {
   "cell_type": "markdown",
   "metadata": {},
   "source": [
    "# Analysis"
   ]
  },
  {
   "cell_type": "code",
   "execution_count": 22,
   "metadata": {},
   "outputs": [
    {
     "ename": "SyntaxError",
     "evalue": "unexpected EOF while parsing (<ipython-input-22-5c1879582754>, line 41)",
     "output_type": "error",
     "traceback": [
      "\u001b[0;36m  File \u001b[0;32m\"<ipython-input-22-5c1879582754>\"\u001b[0;36m, line \u001b[0;32m41\u001b[0m\n\u001b[0;31m    # ugh do i maintain two lists? one by task one by priority?\u001b[0m\n\u001b[0m                                                               ^\u001b[0m\n\u001b[0;31mSyntaxError\u001b[0m\u001b[0;31m:\u001b[0m unexpected EOF while parsing\n"
     ]
    }
   ],
   "source": [
    "#____TASK NODE OBJECT____\n",
    "## compulsory inputs:\n",
    "###### - name\n",
    "###### - priority\n",
    "## optional inputs:\n",
    "###### - duration\n",
    "###### - start time\n",
    "###### - end time\n",
    "###### - dependencies (tasks that must be completed first)\n",
    "\n",
    "class taskNode:\n",
    "    def __init__(self, name, priority, duration=30, time_start = None, time_end=None, dependencies=None):\n",
    "        self.name = name\n",
    "        self.priority = priority\n",
    "        self.duration=duration\n",
    "        self.timing = [time_start,time_end]\n",
    "        # self.dependencies = dependencies\n",
    "        self.left = None\n",
    "        self.right = None\n",
    "\n",
    "# insert tasks into a BST\n",
    "def add_task(cur_node, *args, **kwargs):\n",
    "    pass\n",
    "    # check dependencies\n",
    "    # if any, recursively handle them first\n",
    "\n",
    "\n",
    "\n",
    "\n",
    "    # check if task already in tree\n",
    "    ## if yes, compare priorities and save the higher one\n",
    "    ## else create new task\n",
    "\n",
    "    # if there are dependencies\n",
    "    # check if dependency exists as a node\n",
    "    ## else create it\n",
    "    # set the dependency task node to priority + 1\n",
    "\n",
    "def search_task(priority, name):\n",
    "    # FUCK tasks are organized by priority, but priorities might be diff???\n",
    "    # ugh do i maintain two lists? one by task one by priority?"
   ]
  },
  {
   "cell_type": "code",
   "execution_count": null,
   "metadata": {},
   "outputs": [],
   "source": [
    "# insert tasks into a BST\n",
    "def add_task(cur_node, *args, **kwargs):\n",
    "    pass\n",
    "    # check dependencies\n",
    "    # if any, recursively handle them first\n",
    "\n",
    "\n",
    "\n",
    "\n",
    "    # check if task already in tree\n",
    "    ## if yes, compare priorities and save the higher one\n",
    "    ## else create new task\n",
    "\n",
    "    # if there are dependencies\n",
    "    # check if dependency exists as a node\n",
    "    ## else create it\n",
    "    # set the dependency task node to priority + 1\n",
    "\n",
    "def search_task(priority, name):\n",
    "    # FUCK tasks are organized by priority, but priorities might be diff???\n",
    "    # ugh do i maintain two lists? one by task one by priority?"
   ]
  },
  {
   "cell_type": "code",
   "execution_count": 18,
   "metadata": {},
   "outputs": [],
   "source": [
    "t1 = task('test',1,time_start=2)"
   ]
  },
  {
   "cell_type": "code",
   "execution_count": 19,
   "metadata": {},
   "outputs": [
    {
     "data": {
      "text/plain": [
       "[2, None]"
      ]
     },
     "execution_count": 19,
     "metadata": {},
     "output_type": "execute_result"
    }
   ],
   "source": [
    "t1.timing"
   ]
  },
  {
   "cell_type": "code",
   "execution_count": 10,
   "metadata": {},
   "outputs": [
    {
     "ename": "SyntaxError",
     "evalue": "Missing parentheses in call to 'print'. Did you mean print(root.key, end=\" \")? (<ipython-input-10-027491b36ede>, line 15)",
     "output_type": "error",
     "traceback": [
      "\u001b[0;36m  File \u001b[0;32m\"<ipython-input-10-027491b36ede>\"\u001b[0;36m, line \u001b[0;32m15\u001b[0m\n\u001b[0;31m    print root.key,\u001b[0m\n\u001b[0m             ^\u001b[0m\n\u001b[0;31mSyntaxError\u001b[0m\u001b[0;31m:\u001b[0m Missing parentheses in call to 'print'. Did you mean print(root.key, end=\" \")?\n"
     ]
    }
   ],
   "source": [
    "#\n",
    "# BST Object\n",
    "#\n",
    "\n",
    "# BST Node\n",
    "class taskNode:\n",
    "    def __init__(self, name,duration=30,time_constraints=None):\n",
    "        self.name = name\n",
    "        self.duration = duration\n",
    "        self.time_constraints=None\n",
    "        self.left = None\n",
    "        self.right = None\n",
    "\n",
    "# inserting nodes into a BST\n",
    "def insert(cur_node, key):\n",
    "    # If cur_node is empty, make key the cur_node node\n",
    "    if node is None:\n",
    "        return Node(key)\n",
    "\n",
    "    # else, recurse down to the next level\n",
    "    if key < cur_node.key:\n",
    "        cur_node.left = insert(cur_node.left, key)\n",
    "    else:\n",
    "        cur_node.right = insert(cur_node.right, key)\n",
    "\n",
    "    # return the pointer originally inputted\n",
    "    return cur_node\n",
    "\n",
    "# Given a non-empty binary search tree, return the node \n",
    "# with minum key value found in that tree. Note that the \n",
    "# entire tree does not need to be searched  \n",
    "def minValueNode( node): \n",
    "    current = node \n",
    "\n",
    "    # loop down to find the leftmost leaf \n",
    "    while(current.left is not None): \n",
    "        current = current.left  \n",
    "\n",
    "    return current  \n",
    "\n",
    "# Given a binary search tree and a key, this function \n",
    "# delete the key and returns the new root \n",
    "def deleteNode(root, key): \n",
    "  \n",
    "    # Base Case \n",
    "    if root is None: \n",
    "        return root  \n",
    "  \n",
    "    # If the key to be deleted is smaller than the root's \n",
    "    # key then it lies in  left subtree \n",
    "    if key < root.key: \n",
    "        root.left = deleteNode(root.left, key) \n",
    "  \n",
    "    # If the kye to be delete is greater than the root's key \n",
    "    # then it lies in right subtree \n",
    "    elif(key > root.key): \n",
    "        root.right = deleteNode(root.right, key) \n",
    "  \n",
    "    # If key is same as root's key, then this is the node \n",
    "    # to be deleted \n",
    "    else: \n",
    "          \n",
    "        # Node with only one child or no child \n",
    "        if root.left is None : \n",
    "            temp = root.right  \n",
    "            root = None \n",
    "            return temp  \n",
    "              \n",
    "        elif root.right is None : \n",
    "            temp = root.left  \n",
    "            root = None\n",
    "            return temp \n",
    "  \n",
    "        # Node with two children: Get the inorder successor \n",
    "        # (smallest in the right subtree) \n",
    "        temp = minValueNode(root.right) \n",
    "  \n",
    "        # Copy the inorder successor's content to this node \n",
    "        root.key = temp.key \n",
    "  \n",
    "        # Delete the inorder successor \n",
    "        root.right = deleteNode(root.right , temp.key) \n",
    "  \n",
    "  \n",
    "    return root\n",
    "\n",
    "\n",
    "# A utility function to do inorder traversal of BST \n",
    "def inorder(root): \n",
    "    if root is not None: \n",
    "        inorder(root.left) \n",
    "        print root.key, \n",
    "        inorder(root.right) \n",
    "\n",
    "# Driver program to test above functions \n",
    "\"\"\" Let us create following BST \n",
    "              50 \n",
    "           /     \\ \n",
    "          30      70 \n",
    "         /  \\    /  \\ \n",
    "       20   40  60   80 \"\"\"\n",
    "  \n",
    "root = None\n",
    "root = insert(root, 50) \n",
    "root = insert(root, 30) \n",
    "root = insert(root, 20) \n",
    "root = insert(root, 40) \n",
    "root = insert(root, 70) \n",
    "root = insert(root, 60) \n",
    "root = insert(root, 80) \n",
    "  \n",
    "print \"Inorder traversal of the given tree\"\n",
    "inorder(root) \n",
    "  \n",
    "print \"\\nDelete 20\"\n",
    "root = deleteNode(root, 20) \n",
    "print \"Inorder traversal of the modified tree\"\n",
    "inorder(root) \n",
    "  \n",
    "print \"\\nDelete 30\"\n",
    "root = deleteNode(root, 30) \n",
    "print \"Inorder traversal of the modified tree\"\n",
    "inorder(root) \n",
    "  \n",
    "print \"\\nDelete 50\"\n",
    "root = deleteNode(root, 50) \n",
    "print \"Inorder traversal of the modified tree\"\n",
    "inorder(root) \n",
    "  \n",
    "# This code is contributed by Nikhil Kumar Singh(nickzuck_007) "
   ]
  },
  {
   "cell_type": "code",
   "execution_count": 9,
   "metadata": {},
   "outputs": [
    {
     "data": {
      "text/plain": [
       "False"
      ]
     },
     "execution_count": 9,
     "metadata": {},
     "output_type": "execute_result"
    }
   ],
   "source": [
    "inorder(bst)==lst"
   ]
  },
  {
   "cell_type": "code",
   "execution_count": null,
   "metadata": {},
   "outputs": [],
   "source": []
  }
 ],
 "metadata": {
  "kernelspec": {
   "display_name": "Python 3",
   "language": "python",
   "name": "python3"
  },
  "language_info": {
   "codemirror_mode": {
    "name": "ipython",
    "version": 3
   },
   "file_extension": ".py",
   "mimetype": "text/x-python",
   "name": "python",
   "nbconvert_exporter": "python",
   "pygments_lexer": "ipython3",
   "version": "3.7.3"
  }
 },
 "nbformat": 4,
 "nbformat_minor": 2
}
