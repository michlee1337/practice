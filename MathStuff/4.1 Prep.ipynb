{
 "cells": [
  {
   "cell_type": "code",
   "execution_count": 2,
   "metadata": {},
   "outputs": [
    {
     "data": {
      "text/html": [
       "<html><script type=\"math/tex; mode=display\">\\newcommand{\\Bold}[1]{\\mathbf{#1}}\\left(\\begin{array}{rrrr}\n",
       "1 & 2 & -1 & 3 \\\\\n",
       "2 & 4 & 1 & -2 \\\\\n",
       "3 & 6 & 3 & -7\n",
       "\\end{array}\\right)</script></html>"
      ],
      "text/plain": [
       "[ 1  2 -1  3]\n",
       "[ 2  4  1 -2]\n",
       "[ 3  6  3 -7]"
      ]
     },
     "metadata": {},
     "output_type": "display_data"
    },
    {
     "data": {
      "text/html": [
       "<html><script type=\"math/tex; mode=display\">\\newcommand{\\Bold}[1]{\\mathbf{#1}}\\left(\\begin{array}{rrrr}\n",
       "1 & 2 & 0 & \\frac{1}{3} \\\\\n",
       "0 & 0 & 1 & -\\frac{8}{3} \\\\\n",
       "0 & 0 & 0 & 0\n",
       "\\end{array}\\right)</script></html>"
      ],
      "text/plain": [
       "[   1    2    0  1/3]\n",
       "[   0    0    1 -8/3]\n",
       "[   0    0    0    0]"
      ]
     },
     "metadata": {},
     "output_type": "display_data"
    }
   ],
   "source": [
    "M = matrix(QQ,[[1,2,-1,3],[2,4,1,-2],[3,6,3,-7]])\n",
    "show(M)\n",
    "show(M.rref())"
   ]
  },
  {
   "cell_type": "markdown",
   "metadata": {},
   "source": [
    "$\\begin{bmatrix}\n",
    "    x \\\\\n",
    "    y \\\\\n",
    "    z \\\\\n",
    "    w\n",
    "\\end{bmatrix} = \\begin{bmatrix}\n",
    "    -2s -1/3u \\\\\n",
    "    s \\\\\n",
    "    8/3u \\\\\n",
    "    u\n",
    "\\end{bmatrix}\n",
    "= s \\begin{bmatrix}\n",
    "    -2 \\\\\n",
    "    1 \\\\\n",
    "    0 \\\\\n",
    "    0\n",
    "\\end{bmatrix}\n",
    "+u \\begin{bmatrix}\n",
    "    -1/3 \\\\\n",
    "    0 \\\\\n",
    "    8/3 \\\\\n",
    "    1\n",
    "\\end{bmatrix}$\n",
    "\n",
    "Thus some subspaces are:     \n",
    "$\\begin{bmatrix}\n",
    "    -2 \\\\\n",
    "    1 \\\\\n",
    "    0 \\\\\n",
    "    0\n",
    "\\end{bmatrix} \\begin{bmatrix}\n",
    "    -1/3 \\\\\n",
    "    0 \\\\\n",
    "    8/3 \\\\\n",
    "    1\n",
    "\\end{bmatrix}$"
   ]
  },
  {
   "cell_type": "markdown",
   "metadata": {},
   "source": [
    "Geometric vectors in R^2 that is closed in addiction but not multiplication         \n",
    "and vice versa.          \n",
    "\n",
    "\n",
    "Not closed in multiplication implies that\n",
    "c(u+v) != cu + cv\n"
   ]
  },
  {
   "cell_type": "code",
   "execution_count": null,
   "metadata": {},
   "outputs": [],
   "source": []
  }
 ],
 "metadata": {
  "kernelspec": {
   "display_name": "SageMath 8.5",
   "language": "",
   "name": "sagemath"
  },
  "language_info": {
   "codemirror_mode": {
    "name": "ipython",
    "version": 2
   },
   "file_extension": ".py",
   "mimetype": "text/x-python",
   "name": "python",
   "nbconvert_exporter": "python",
   "pygments_lexer": "ipython2",
   "version": "2.7.15"
  }
 },
 "nbformat": 4,
 "nbformat_minor": 2
}
