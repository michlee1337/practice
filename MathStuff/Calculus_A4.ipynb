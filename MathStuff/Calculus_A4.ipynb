{
 "cells": [
  {
   "cell_type": "markdown",
   "metadata": {},
   "source": [
    "# Michelle\n",
    "## Assignment 4\n",
    "## CS111A Fall 2018"
   ]
  },
  {
   "cell_type": "markdown",
   "metadata": {},
   "source": [
    "## Part A\n",
    "\n",
    "### A.1\n",
    "In the late 1860s, Adolf Fick, a professor of physiology in the Faculty of Medicine in W ̈urzberg, Germany, developed one of the methods we use today for measuring how much blood your heart pumps in a minute. Your cardiac output as you read this sentence is probably about 7 L/min. At rest it is likely to be a bit under 6 L/min. If you are a trained marathon runner running a marathon, your cardiac output can be as high as 30 L/min. Your cardiac output can be calculated with the formula\n",
    "\n",
    "$$y = \\frac{Q}{D}$$ \n",
    "\n",
    "where $Q$ is the number of milliliters of CO2 you exhale in a minute and $D$ is the difference between the CO2 concentration (ml/L) in the blood pumped to the lungs and the CO2 concentration in the blood returning from the lungs. With $Q = 233 ml/min$ and $D = 97 − 56 = 41 ml/L$, $y = 233 ml/min/ 41 ml/L ≈ 5.68 L/min$, fairly close to the 6 L/min that most people have at basal (resting) conditions. (Data\n",
    "courtesy of J. Kenneth Herd, M.D., Quillan College of Medicine.) \n",
    "Suppose that when $Q = 233$ and $D = 41$, we also know that $D$ is decreasing at the rate of 2 units a minute but that $Q$ remains unchanged. What is happening to the cardiac output?"
   ]
  },
  {
   "cell_type": "markdown",
   "metadata": {},
   "source": [
    "Objective function:  \n",
    "$$y = \\frac{Q}{D}$$  \n",
    "\n",
    "Other information:  \n",
    "When $Q = 233$ and $D = 41$  \n",
    "$\\frac{\\delta D}{\\delta T} = 2$  \n",
    "$\\frac{\\delta Q}{\\delta T} = 0$  \n",
    "\n",
    "What's happening to y?\n",
    "\n",
    "$\\frac{\\delta Y}{\\delta T} = \\frac{\\frac{\\delta Q}{\\delta T}*D - Q*\\frac{\\delta D}{}}{D^2}$ #quotient rule  \n",
    "  \n",
    "$\\frac{\\delta Y}{\\delta T} = (0*41 - 233*2)/41^2$\n",
    "$$\\frac{\\delta Y}{\\delta T} = -466/1681$$"
   ]
  },
  {
   "cell_type": "markdown",
   "metadata": {},
   "source": [
    "### A.2\n",
    "Suppose that a scientist has reason to believe that two quantities $x$ and $y$ are related linearly, that is $y = mx + b$, at least approximately, for some values of $m$ and $b$. The scientist performs an experiment and collects data in the form of points $(x_1, y_1)$, $(x_2, y_2)$, ... ,$(x_n, y_n)$, and then plots these points. The points don’t lie exactly on a straight line, so the scientist wants to find constants $m$ and $b$ so that the line $y = mx + b$ “fits” the points as well as possible. \n",
    "\n",
    "Let $d_i = y_i − (mx_i + b)$ be the vertical deviation of the point $(x_i, y_i)$ from the line. The method of least squares determines $m$ and $b$ so as to minimize $\\sum_{i=1}^{n} d^2_i$, the sum of the squares of these vertical deviations. Show that, according to this method,the line of best fit is obtained when m and b satisfy the following system of equations:\n",
    "\n",
    "$$m\\sum_{i=1}^{n} x_i + bn = \\sum_{i=1}^{n}y_i$$\n",
    "$$m\\sum_{i=1}^{n} x^2_i + b\\sum_{i=1}^{n}x_i = \\sum_{i=1}^{n}x_iy_i$$"
   ]
  },
  {
   "cell_type": "markdown",
   "metadata": {},
   "source": [
    "Line of best fit is when sum of squared errors ($\\sum_{i=1}^{n} d^2_i$) is minimized\n",
    "\n",
    "*Let* $f(x) = \\sum_{i=1}^{n} d^2_i$\n",
    "\n",
    "*substitute in the formula for* $d_i$  \n",
    "$f(x) = \\sum_{i=1}^{n} ( (y_i − (mx_i + b))^2)$    \n",
    "*simplify*\n",
    "$f(x) = \\sum_{i=1}^{n} (y_i − mx_i - b)^2$  "
   ]
  },
  {
   "cell_type": "markdown",
   "metadata": {},
   "source": [
    "The sum of squared errors is minimized at a critical point within the graph (when the instantaneous rate of change of the objective function along any variable is 0).  \n",
    "\n",
    "Objective function:  \n",
    "$$f(x) = \\sum_{i=1}^{n} (y_i − mx_i - b)^2$$  \n",
    "\n",
    "Variables:\n",
    "$$m$$\n",
    "$$b$$\n",
    "\n",
    "The instantaneous rate of change of the objective function along any variable is 0 when the partial derivatives are equal to 0.  \n",
    "\n",
    "*partial derivative by m:*  \n",
    "$\\frac{\\delta f}{\\delta m} =\\sum_{i=1}^{n} 2(y_i − mx_i - b)*-x_i$ #chain rule  \n",
    "$\\frac{\\delta f}{\\delta m} =-2\\sum_{i=1}^{n}(y_i − mx_i - b)*x_i$ #rearrange     \n",
    "*critical point when derivative = 0*   \n",
    "$0 =-2\\sum_{i=1}^{n}(y_i − mx_i - b)*x_i$   \n",
    "$0 =\\sum_{i=1}^{n}(y_i − mx_i - b)*x_i$   \n",
    "$0 =\\sum_{i=1}^{n}(x_iy_i − mx_i^2 - bx_i)$ #expand  \n",
    "$m\\sum_{i=1}^{n}x_i^2 + b\\sum_{i=1}^{n}x_i = \\sum_{i=1}^{n}x_iy_i$ #expand and rearrange\n",
    "\n",
    "*partial derivative by b:*  \n",
    "$\\frac{\\delta f}{\\delta b} = \\sum_{i=1}^{n} 2(y_i − mx_i - b)*-1$ #chain rule  \n",
    "$\\frac{\\delta f}{\\delta b} = -2\\sum_{i=1}^{n}(y_i − mx_i - b)$ #rearrange    \n",
    "*critical point when derivative = 0:*  \n",
    "$0 = -2\\sum_{i=1}^{n}(y_i − mx_i - b)$   \n",
    "$0 = \\sum_{i=1}^{n}(y_i − mx_i - b)$  \n",
    "$0 = \\sum_{i=1}^{n}y_i − m\\sum_{i=1}^{n}x_i - \\sum_{i=1}^{n}b)$  #expand  \n",
    "$m\\sum_{i=1}^{n}x_i + bn = \\sum_{i=1}^{n}y_i$ #rearrange  \n",
    "\n",
    "The partial derivatives of the objective function is 0 when $m$ and $b$ satisfy the following equations:  \n",
    "$$m\\sum_{i=1}^{n}x_i^2 + b\\sum_{i=1}^{n}x_i = \\sum_{i=1}^{n}x_iy_i$$\n",
    "$$m\\sum_{i=1}^{n}x_i + bn = \\sum_{i=1}^{n}y_i$$"
   ]
  },
  {
   "cell_type": "markdown",
   "metadata": {},
   "source": [
    "**Testing if it's min**       \n",
    "\n",
    "$\\frac{\\delta f}{\\delta m} =-2\\sum_{i=1}^{n}(y_i − mx_i - b)*x_i$     \n",
    "$\\frac{\\delta f}{\\delta m} =-2\\sum_{i=1}^{n}(y_ix_i − mx_i^2 - bx_i)$ #expand     \n",
    "$\\frac{\\delta f^2}{\\delta m^2} =4\\sum_{i=1}^{n}x_i$     \n",
    "\n",
    "\n",
    "$\\frac{\\delta f}{\\delta b} = -2\\sum_{i=1}^{n}(y_i − mx_i - b)$    \n",
    "$\\frac{\\delta f}{\\delta b} = -2(\\sum_{i=1}^{n}y_i − \\sum_{i=1}^{n}mx_i - nb)$     \n",
    "$\\frac{\\delta f^2}{\\delta b^2} = 2n$   \n",
    "\n",
    "*We can assume that n will be positive (number of datapoints > 0) but we cannot assume that the sum of all x values will be positive. The sum of x values will not be testable since it will depend on the dataset.*    \n",
    "\n",
    "*Algebraic proof will be far beyond the scope of this course*     \n",
    "\n",
    "*That said, since the function $f(x) = \\sum_{i=1}^{n} d^2_i$ is a squared quadratic function, the equation will be a concave up function. Hence, the only critical point should be a min point. Thus we can safely assume that this is a min point.*   "
   ]
  },
  {
   "cell_type": "markdown",
   "metadata": {},
   "source": [
    "## Part B\n",
    "\n",
    "### B.1\n",
    "Airlines want to maximize profits with every flight. Since cargo is expensive to fly, airlines are now charging baggage fees. With baggage fees, customers are less likely to take big bags with them, giving less of a profit to the airline. Let’s model a specific example:  \n",
    "\n",
    "(a) Airlines noticed that if they charge \\$20 for each bag, then in a given flight, 50 bags will be checked. They also noticed that for every \\$2 increase in the baggage fee, 2 fewer bags will be checked in. How can we model the revenue due to checked bags as a function of the number of price increases x? What are the constraints on the value of x?  "
   ]
  },
  {
   "cell_type": "markdown",
   "metadata": {},
   "source": [
    "**Revenue due to checked bags**   \n",
    "Objective function:   \n",
    "$revenue = number.of.bags * (20+2x)$  \n",
    "*number of bags is a dependent variable on price*   \n",
    "$r(p) = B(x)*(20+2x)$    \n",
    "  \n",
    "$B(x) = a - x$ #where a is an unknown   \n",
    "*sub in the variable values we were given to find unknown: 50 bags when \\$20 charged*    \n",
    "$50 = a -20$  \n",
    "$a = 70$   \n",
    "*sub the value of a back into function*  \n",
    "$B(p) = 70 - x$  \n",
    "\n",
    "Sub the function for number of bags back into the overall objective function    \n",
    "$r(p) = (70 - x)*(20+2x)$  \n",
    "\n",
    "**What are the constraints?**  \n",
    "There will likely be a constraint on the maximal number of bags that can be fit in the plane (max value of $B(p)$).\n"
   ]
  },
  {
   "cell_type": "markdown",
   "metadata": {},
   "source": [
    "(b) There are also some costs associated with carrying bags. This specific company noticed that the cost of checking N bags is equal to  \n",
    "$$C(N) = \\frac{N^2}{20} + 7N$$   \n",
    "\n",
    "Write a function that describes the profit from checked bags in terms of the\n",
    "number of price increases x.  "
   ]
  },
  {
   "cell_type": "markdown",
   "metadata": {},
   "source": [
    "$r(p) = (70 - x)*(20+2x) - (\\frac{N^2}{20} + 7N)$\n",
    "\n",
    "*replace N with the function for number of bags*\n",
    "\n",
    "$r(p) = (70 - x)*(20+2x) - (\\frac{(70-x)^2}{20} + 7(70-x))$  \n",
    "$r(p) = (70 - x)*(20+2x) - 7(70-x) - \\frac{(70-x)^2}{20}$  "
   ]
  },
  {
   "cell_type": "markdown",
   "metadata": {},
   "source": [
    "(c) Find the number of price increases x that will maximize this company’s profits. What will be the optimal baggage fee? How many bags will be taken on the flight?"
   ]
  },
  {
   "cell_type": "markdown",
   "metadata": {},
   "source": [
    "**Find Maximal Point**  \n",
    "$r(p) = (70 - x)*(20+2x) - 7(70-x) - \\frac{(70-x)^2}{20}$  \n",
    "\n",
    "**Find critical points (instantaneous rate of change = 0)**  \n",
    " \n",
    "$\\frac {\\delta r}{\\delta x}$   \n",
    "$=  \\frac {\\delta}{\\delta x}[(70-x)(2x+20)] - 7(\\frac {\\delta}{\\delta x}[70-x] - \\frac{1}{20}\\frac {\\delta}{\\delta x}[(70-x)^2])$   \n",
    "$= -1(2x+20)+2(70-x)-7(-1)-\\frac{1}{20}2(70-x)(-1)$   \n",
    "$= -1(2x+20)+2(70-x)+7-\\frac{x-70}{10}$   \n",
    "$= -2x-20+140-2x+7-\\frac{x-70}{10}$   \n",
    "$= -4x+127-\\frac{x-70}{10}$   \n",
    "$= -\\frac{41x-1340}{10}$\n",
    "\n",
    "*equate to 0*  \n",
    "$0 = -\\frac{41x-1340}{10}$  \n",
    "$0 = 41x-1340$  \n",
    "$41x=1340$  \n",
    "$x=\\frac{1340}{41}$  \n",
    "\n",
    "**Check that it is a maximal point**\n",
    "$\\frac {\\delta r}{\\delta x}= -\\frac{41x-1340}{10}$  \n",
    "$\\frac {\\delta r}{\\delta x}= -\\frac{1}{10}41x-1340$  \n",
    "\n",
    "$\\frac {\\delta r^2}{\\delta x^2} = -\\frac{1}{10}\\frac{\\delta}{\\delta x}[41x-1340]$   \n",
    "$\\frac {\\delta r^2}{\\delta x^2} = -\\frac{1}{10}41$  \n",
    "$\\frac {\\delta r^2}{\\delta x^2} = -\\frac{41}{10}$\n",
    "${\\delta r^2}{\\delta x^2} < 0$   \n",
    "*:. Hence this is a maximal point*  \n",
    "\n",
    "**Optimal Baggage Fee**  \n",
    "$=\\frac{1340}{41}$   \n",
    "\n",
    "**How many bags will be on this flight?**  \n",
    "$B(p) = 70 - (\\frac{1340}{41})$  \n",
    "$B(p) = 70 - 37.32$   \n",
    "*round down*  \n",
    "$= 37$"
   ]
  },
  {
   "cell_type": "markdown",
   "metadata": {},
   "source": [
    "### B.2\n",
    "Three alleles (alternative versions of a gene) A,B, and O determine the four blood types A (AA or AO), B (BB or BO), O (OO), and AB. The Hardy-Weinberg\n",
    "Law states that the proportion of individuals in a population who carry two different allelles is\n",
    "\n",
    "$$P = 2pq + 2pr + 2rq$$\n",
    "\n",
    "where p, q, and r are the proportions of A, B, and O in the population. Use the fact that $p + q + r = 1$ to determine the maximal value P can take."
   ]
  },
  {
   "cell_type": "markdown",
   "metadata": {},
   "source": [
    "**Objective Function O(p,q,r)**  \n",
    "$P(p,q,r) = 2pq + 2pr + 2rq$  \n",
    "\n",
    "**Constraint Function C(p,q,r)**  \n",
    "$p+q+r=1$  \n",
    "\n",
    "**Find Maximum**  \n",
    "*use Lagrange Multipliers*\n",
    "\n",
    "**Find Critical Points**  \n",
    "\n",
    "*find derivatives of all 3 factors in both objective and constraint function\\[s\\]*    \n",
    "$\\frac{\\delta P}{\\delta p} = 2q + 2r$    \n",
    "$\\frac{\\delta P}{\\delta q} = 2p + 2r$  \n",
    "$\\frac{\\delta P}{\\delta r} = 2p + 2q$    \n",
    "\n",
    "$\\frac{\\delta C}{\\delta p} =1$    \n",
    "$\\frac{\\delta C}{\\delta q} =1$    \n",
    "$\\frac{\\delta C}{\\delta r} =1$     \n",
    "\n",
    "*find equation set*    \n",
    "A: $2q + 2r = \\lambda 1$    \n",
    "B: $2p + 2r = \\lambda 1$    \n",
    "C: $2p + 2q = \\lambda 1$    \n",
    "D: $p+q+r=1$       \n",
    "\n",
    "*find variable value combinations that satisfy the equation set*       \n",
    "A-B:    \n",
    "$2q-2p = 0$     \n",
    "$2q = 2p$     \n",
    "\n",
    "B-C:    \n",
    "$2r -2q = 0$    \n",
    "$2r= 2q = 2p$    \n",
    "\n",
    "C-A:    \n",
    "$2p -2r = 0$    \n",
    "$2p = 2r = 2q = 2p$     \n",
    "E: $p = r = q = p$    \n",
    "\n",
    "*sub into D*:    \n",
    "$p+p+p=1$      \n",
    "$p=\\frac{1}{3}$      \n",
    "\n",
    "*sub into E*     \n",
    "$p = r = q = p = \\frac{1}{3}$    \n",
    "\n",
    "*sub values back into objective function*      \n",
    "$P(\\frac{1}{3},\\frac{1}{3},\\frac{1}{3}) = 2\\frac{1}{3}^2 + 2\\frac{1}{3}^2 + 2\\frac{1}{3}^2$   \n",
    "$P(\\frac{1}{3},\\frac{1}{3},\\frac{1}{3}) = \\frac{6}{9}$\n",
    "\n",
    "*check any other point in the graph*   \n",
    "Constraint: $p+q+r=1$    \n",
    "*a random set of variable values that satisfy the constraint*      \n",
    "$p = 1; q = 0; r = 0$    \n",
    "\n",
    "$P(1,0,0) = 2(1)(0) + 2(1)(0) + 2(0)(0)$     \n",
    "$P(1,0,0) = 0$    \n",
    "$P(1,0,0) < P(\\frac{1}{3},\\frac{1}{3},\\frac{1}{3})$     "
   ]
  },
  {
   "cell_type": "markdown",
   "metadata": {},
   "source": [
    "Since Lagrange Multipliers method ensures you get either the max or min point and there exists a point in the objective function that is lower than the point that the Lagrange method gave us, we can conclude that the point that Lagrange method gave us is not min, and therefore must be max."
   ]
  },
  {
   "cell_type": "markdown",
   "metadata": {},
   "source": [
    "# Appendix   \n",
    "**#deduction: ** In situations where algebraic proof would have been unnecessarily complex, I used deduction on mathematical laws to prove min and max points. Most notably in A2 and B2.\n",
    "\n",
    "**#testability: ** In question A2, I identified when specific lines of proof would not be testable (by nature of the question or the material covered in the course) and identified an alternative way to prove the question."
   ]
  }
 ],
 "metadata": {
  "kernelspec": {
   "display_name": "SageMath 8.3",
   "language": "",
   "name": "sagemath"
  },
  "language_info": {
   "codemirror_mode": {
    "name": "ipython",
    "version": 2
   },
   "file_extension": ".py",
   "mimetype": "text/x-python",
   "name": "python",
   "nbconvert_exporter": "python",
   "pygments_lexer": "ipython2",
   "version": "2.7.15"
  }
 },
 "nbformat": 4,
 "nbformat_minor": 2
}
