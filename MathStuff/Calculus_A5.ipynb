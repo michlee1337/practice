{
 "cells": [
  {
   "cell_type": "markdown",
   "metadata": {},
   "source": [
    "<center><b><h1>Assignment 5</h1></b></center>\n",
    "<center><b><h1>Michelle S Lee</h1></b></center>\n",
    "<center><b><h1>CS111A Fall 2018</h1></b></center>\n",
    "\n",
    "<div style=\"page-break-after: always;\"></div>\n"
   ]
  },
  {
   "cell_type": "markdown",
   "metadata": {},
   "source": [
    "# Part A\n",
    "## A.1 Handle the heat\n",
    "\n",
    "\n",
    "Let $x$ be the length of east/west walls, $y$ be the length of north/ south walls, and $z$ the height of the building   "
   ]
  },
  {
   "cell_type": "markdown",
   "metadata": {},
   "source": [
    "## (a)  \n",
    "**Setting up the functions and variables**\n",
    "\n",
    "Constraints\n",
    "$$x >= 30$$\n",
    "$$y >= 30$$\n",
    "$$z >= 4$$\n",
    "$$xyz = 400$$\n",
    "\n",
    "Objective function (to be minimized):\n",
    "$$f(x,y) = 20xz + 16yz + 6xy$$\n",
    "\n",
    "Constraint functions:\n",
    "$$x >= 30$$\n",
    "$$y >= 30$$\n",
    "$$z >= 4$$\n",
    "$$xyz = 4000$$\n",
    "\n",
    "**simplify by removing a variable from the equation**     \n",
    "$xyz = 4000$       \n",
    "$z = \\frac {4000}{xy}$\n",
    " \n",
    "Subbing $z = 400/xy$ into objective function:       \n",
    "$$f(x,y) = 20x\\frac {4000}{xy} + 16y\\frac {4000}{xy} + 6xy$$\n",
    "$$= \\frac {80000}{y} + \\frac {64000}{x} + 6xy$$\n",
    "\n",
    "subbing $z = 400/xy$ into constraint function:       \n",
    "$\\frac {4000}{xy} >= 4$     \n",
    "$\\frac {1000}{y} >= x$      \n",
    "$\\frac {1000}{x} >= y$     \n",
    "\n",
    "simplified constraint:     \n",
    "$$ 30 <= x <= \\frac {1000}{y}$$\n",
    "$$30 <= y <= \\frac {1000}{x}$$"
   ]
  },
  {
   "cell_type": "code",
   "execution_count": 3,
   "metadata": {
    "scrolled": true
   },
   "outputs": [
    {
     "name": "stderr",
     "output_type": "stream",
     "text": [
      "/opt/sagemath-8.3/local/lib/python2.7/site-packages/sage/repl/ipython_kernel/__main__.py:13: RuntimeWarning: divide by zero encountered in divide\n",
      "/opt/sagemath-8.3/local/lib/python2.7/site-packages/sage/repl/ipython_kernel/__main__.py:18: RuntimeWarning: divide by zero encountered in divide\n"
     ]
    },
    {
     "data": {
      "text/plain": [
       "Text(0,0.5,u'Length of North/South walls')"
      ]
     },
     "execution_count": 3,
     "metadata": {},
     "output_type": "execute_result"
    },
    {
     "data": {
      "image/png": "[encoded data removed]",
      "text/plain": [
       "<matplotlib.figure.Figure object at 0x6fdb0c90510>"
      ]
     },
     "metadata": {},
     "output_type": "display_data"
    }
   ],
   "source": [
    "# plotting constraints\n",
    "\n",
    "import numpy as np\n",
    "import matplotlib.pyplot as plt\n",
    "\n",
    "x1 = np.linspace(0,40,40)\n",
    "y1 = np.full(40,30)\n",
    "\n",
    "x2 = np.full(40,30)\n",
    "y2 = np.linspace(0,40,40)\n",
    "plt.plot(x1,y1)\n",
    "plt.plot(x2,y2)\n",
    "plt.plot(x1,1000/x1)\n",
    "plt.ylim(0, 40)\n",
    "plt.xlim(0, 40)\n",
    "plt.fill_between(x1, 0, y1, facecolor='blue', alpha=0.3)\n",
    "plt.fill_between(x1, 0, 40, where=x1<=30,facecolor='yellow', alpha=0.3)\n",
    "plt.fill_between(x1, 1000/x1,40,facecolor='green', alpha=0.3)\n",
    "plt.title(\"Constraints on Input Variables\")\n",
    "plt.xlabel(\"Length of East/West walls\")\n",
    "plt.ylabel(\"Length of North/South walls\")"
   ]
  },
  {
   "cell_type": "markdown",
   "metadata": {},
   "source": [
    "## (b)\n"
   ]
  },
  {
   "cell_type": "markdown",
   "metadata": {},
   "source": [
    "**Find Critical Points of Objective Function**    \n",
    "Critical points are when the rate of change in any direction = 0\n",
    "\n",
    "Rate of change on the x axis:     \n",
    "$\\frac{\\delta f}{\\delta x} = -64000x^-2 + 6y$    \n",
    "*sub in rate of change = 0*    \n",
    "$6y = 64000x^-2$    \n",
    "$y = \\frac {32000}{3x^2}$    \n",
    "\n",
    "Rate of change on the y axis:     \n",
    "$\\frac{\\delta f}{\\delta y} = -80000y^-2 + 6x$   \n",
    "*sub in rate of change = 0*   \n",
    "$0 = -80000y^-2 + 6x$    \n",
    "*sub in $y = -\\frac {32000}{3x^2}$*    \n",
    "$0 = -80000(-\\frac {32000}{3x^2})^-2 + 6x$    \n",
    "$0 = -80000(-\\frac {3x^2}{32000})^2 + 6x$   \n",
    "$6x = 80000(\\frac {9x^4}{1024000000})$   \n",
    "$6x = (\\frac {9x^4}{12800})$     \n",
    "$x^3 = \\frac{12800*6}{9}$   \n",
    "$x =(\\frac{25600}{3})^\\frac{1}{3}$   \n",
    "$x \\approx 20.435$    \n",
    "\n",
    "Sub $x \\approx 20.435$ to find y:        \n",
    "$y = \\frac {32000}{3(((\\frac{25600}{3})^\\frac{1}{3})^2}$    \n",
    "$y = \\frac {32000}{3(\\frac{25600}{3})^\\frac{2}{3}}$    \n",
    "$y \\approx 25.544$    \n",
    "\n",
    "Critical Point of objective function:   \n",
    "$$(20.435,25.544)$$   \n",
    "Citical point is not within constraints      \n",
    "Thus we have to check the boundaries     "
   ]
  },
  {
   "cell_type": "markdown",
   "metadata": {},
   "source": [
    "________\n",
    "**Checking Boundaries: $x = 30$**    \n",
    "\n",
    "$$f(30,y) = \\frac {80000}{y} + \\frac {64000}{30} + 6(30)y$$   \n",
    "$$f(30,y) = \\frac {80000}{y} + \\frac {6400}{3} + 180y$$   \n",
    "\n",
    "$\\frac{\\delta f}{\\delta y} = 180-\\frac {80000}{y^2}$      \n",
    "Critical Points for Boundary 1:    \n",
    "$0 = 180-\\frac {80000}{y^2}$      \n",
    "$\\frac {80000}{y^2} = 180$     \n",
    "$\\frac {80000}{180} = y^2$         \n",
    "$y = (\\frac {80000}{180})^\\frac {1}{2}$    \n",
    "$y \\approx 21.082$     \n",
    "\n",
    "Nature of Critical Point on Boundary 1:       \n",
    "$\\frac{\\delta f^2}{\\delta y^2} = 2\\frac {80000}{y^3}$   \n",
    "$\\frac{\\delta f^2}{\\delta y^2}$ is positive, indicating a minimum point.     \n",
    "\n",
    ":. Along the line $x = 30$, there is a minimum point at $y \\approx 21.082$.\n",
    "\n",
    "Thus, we know that $f(30,y)$ is an increasing function within the constraints of our boundary.     \n",
    "\n",
    "Hence the minimum on this boundary is at $y=30$ and maximum is at $y=\\frac {1000}{x} = \\frac {1000}{30}$     \n",
    "**Minimum:**     \n",
    "$$f(30,30) = \\frac {80000}{30} + \\frac {64000}{30} + 6(30)(30)$$    \n",
    "$$f(30,30) \\approx 10200$$      \n",
    "**Maximum:**     \n",
    "$$f(30,\\frac {1000}{30}) = \\frac {80000}{\\frac {1000}{30}} + \\frac {64000}{30} + 6(30)(\\frac {1000}{30})$$       \n",
    "$$f(30,\\frac {1000}{30}) \\approx 10533$$    \n",
    "________"
   ]
  },
  {
   "cell_type": "code",
   "execution_count": 1,
   "metadata": {},
   "outputs": [
    {
     "data": {
      "text/plain": [
       "21.0818510677892"
      ]
     },
     "execution_count": 1,
     "metadata": {},
     "output_type": "execute_result"
    }
   ],
   "source": [
    "(80000/180)^0.5"
   ]
  },
  {
   "cell_type": "markdown",
   "metadata": {},
   "source": [
    "\n",
    "$\\frac{\\delta f}{\\delta y}$ is positive for any value of y more than 30. Thus $f(30,y)$ is an increasing function within the constraint.\n",
    "\n",
    "Hence the minimum on this boundary is at $y=30$ and maximum is at $y=\\frac {1000}{x} = \\frac {1000}{30}$     \n",
    "*Minimum: *     \n",
    "$f(30,30) = \\frac {80000}{30} + \\frac {64000}{30} + 6(30)(30)$       \n",
    "$f(30,30) \\approx 10200$      \n",
    "*Maximum: *     \n",
    "$f(30,\\frac {1000}{30}) = \\frac {80000}{\\frac {1000}{30}} + \\frac {64000}{30} + 6(30)(\\frac {1000}{30})$       \n",
    "$f(30,\\frac {1000}{30}) \\approx 10533$   \n",
    "\n",
    "**On $y = 30$**     \n",
    "$$f(x,30) = \\frac {80000}{30} + \\frac {64000}{x} + 6x(30)$$   \n",
    "$$f(x,30) = \\frac {80000}{30} + \\frac {64000}{x} + 180x$$   \n",
    "\n",
    "$\\frac{\\delta f}{\\delta x} = 180-\\frac {64000}{y^2}$  \n",
    "\n",
    "$\\frac{\\delta f}{\\delta x} = 180-\\frac {64000}{y^2}$      \n",
    "\n",
    "$\\frac{\\delta f}{\\delta x}$is positive for any value of y more than 30. Thus $f(30,y)$ is an increasing function within the constraint.\n",
    "\n",
    "Hence the minimum on this boundary is at $x=30$ and maximum is at $x=\\frac {1000}{y} = \\frac {1000}{30}$     \n",
    "*Minimum: *     \n",
    "$f(30,30) = \\frac {80000}{30} + \\frac {64000}{30} + 6(30)(30)$       \n",
    "$f(30,30) \\approx 10200$      \n",
    "*Maximum: *     \n",
    "$f(\\frac {1000}{30},30) = \\frac {80000}{30} + \\frac {64000}{\\frac {1000}{30}} + 6(\\frac {1000}{30})(30)$    \n",
    "$f(30,\\frac {1000}{30}) \\approx 10587$   \n",
    "\n",
    "**On $x = \\frac{1000}{y}$**     \n",
    "$$f(\\frac{1000}{y},y) = \\frac {80000}{y} + \\frac {64000}{\\frac{1000}{y}} + 6(\\frac{1000}{y})y$$\n",
    "$$f(\\frac{1000}{y},y) = \\frac {80000}{y} + 64y + 6000$$\n",
    "\n",
    "$\\frac{\\delta f}{\\delta y} = 64-\\frac{80000}{y^2}$\n",
    "\n",
    "$\\frac{\\delta f}{\\delta x}$is negative for any value between 30 to $\\frac{1000}{30}$. Thus $f(\\frac{1000}{y},y)$ is a decreasing function within the constraint.\n",
    "\n",
    "Hence the minimum on this boundary is at $y=\\frac {1000}{30}$ and maximum is at $y=30$     \n",
    "*Minimum: *     \n",
    "$f(\\frac{1000}{\\frac {1000}{30}},\\frac {1000}{30}) = \\frac {80000}{\\frac {1000}{30}} + 64\\frac {1000}{30} + 6000$       \n",
    "$f(\\frac{1000}{\\frac {1000}{30}},\\frac {1000}{30}) \\approx 10533$     \n",
    "*Maximum: *     \n",
    "$f(\\frac{1000}{30},30) = \\frac {80000}{30} + 64(30) + 6000$     \n",
    "$f(\\frac{1000}{30},30) \\approx 10587$     "
   ]
  },
  {
   "cell_type": "markdown",
   "metadata": {},
   "source": [
    "The absolute minimum of this function is 10200 units/ m^2.     \n",
    "This is achieved when      \n",
    "$x = 30$;      \n",
    "$y=30$;     \n",
    "$z = \\frac {4000}{xy}$      \n",
    "$z = \\frac {40}{9}$.     "
   ]
  },
  {
   "cell_type": "code",
   "execution_count": 1,
   "metadata": {},
   "outputs": [
    {
     "data": {
      "text/plain": [
       "40/9"
      ]
     },
     "execution_count": 1,
     "metadata": {},
     "output_type": "execute_result"
    }
   ],
   "source": [
    "4000/(30^2)"
   ]
  },
  {
   "cell_type": "code",
   "execution_count": null,
   "metadata": {},
   "outputs": [],
   "source": []
  }
 ],
 "metadata": {
  "kernelspec": {
   "display_name": "SageMath 8.3",
   "language": "",
   "name": "sagemath"
  },
  "language_info": {
   "codemirror_mode": {
    "name": "ipython",
    "version": 2
   },
   "file_extension": ".py",
   "mimetype": "text/x-python",
   "name": "python",
   "nbconvert_exporter": "python",
   "pygments_lexer": "ipython2",
   "version": "2.7.15"
  }
 },
 "nbformat": 4,
 "nbformat_minor": 2
}
