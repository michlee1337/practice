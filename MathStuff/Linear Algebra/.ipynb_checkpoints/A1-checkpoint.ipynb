{
 "cells": [
  {
   "cell_type": "markdown",
   "metadata": {},
   "source": [
    "## Q1\n",
    "### (a) Show that the following two matrices are row-equivalent\n",
    "\n",
    "$$M1 = \\begin{bmatrix}\n",
    "    0 & 1 & -3 & 2 \\\\\n",
    "    3 & 0 & 6 & 3 \\\\\n",
    "    4 & -1 & 11 & 2 \n",
    "\\end{bmatrix} $$\n",
    "\n",
    "$$M2 = \\begin{bmatrix}\n",
    "    3 & -1 & 9 & 1 \\\\\n",
    "    0 & 5 & -15 & 10 \\\\\n",
    "    1 & 0 & 2 & 1 \n",
    "\\end{bmatrix} $$"
   ]
  },
  {
   "cell_type": "code",
   "execution_count": 1,
   "metadata": {},
   "outputs": [
    {
     "data": {
      "text/html": [
       "<html><script type=\"math/tex; mode=display\">\\newcommand{\\Bold}[1]{\\mathbf{#1}}\\left(\\begin{array}{rrrr}\n",
       "1 & 0 & 2 & 1 \\\\\n",
       "0 & 1 & -3 & 2 \\\\\n",
       "0 & 0 & 0 & 0\n",
       "\\end{array}\\right)</script></html>"
      ],
      "text/plain": [
       "[ 1  0  2  1]\n",
       "[ 0  1 -3  2]\n",
       "[ 0  0  0  0]"
      ]
     },
     "metadata": {},
     "output_type": "display_data"
    },
    {
     "data": {
      "text/html": [
       "<html><script type=\"math/tex; mode=display\">\\newcommand{\\Bold}[1]{\\mathbf{#1}}\\left(\\begin{array}{rrrr}\n",
       "1 & 0 & 2 & 1 \\\\\n",
       "0 & 1 & -3 & 2 \\\\\n",
       "0 & 0 & 0 & 0\n",
       "\\end{array}\\right)</script></html>"
      ],
      "text/plain": [
       "[ 1  0  2  1]\n",
       "[ 0  1 -3  2]\n",
       "[ 0  0  0  0]"
      ]
     },
     "metadata": {},
     "output_type": "display_data"
    }
   ],
   "source": [
    "M1 = matrix(QQ, [[0,1,-3,2],[3,0,6,3],[4,-1,11,2]])\n",
    "M2 = matrix(QQ,[[3,-1,9,1],[0,5,-15,10],[1,0,2,1]])\n",
    "\n",
    "show(M1.rref())\n",
    "show(M2.rref())"
   ]
  },
  {
   "cell_type": "markdown",
   "metadata": {},
   "source": [
    "Both matrices have the same RREF, thus they are row equivalent. To find the elementary matrix that transforms M1 to M2, we solve for A in the following equation:\n",
    "\n",
    "\\begin{gather}\n",
    "A\n",
    " \\begin{bmatrix}\n",
    "    0 & 1 & -3 & 2 \\\\\n",
    "    3 & 0 & 6 & 3 \\\\\n",
    "    4 & -1 & 11 & 2 \n",
    "\\end{bmatrix}\n",
    " =\n",
    " \\begin{bmatrix}\n",
    "    3 & -1 & 9 & 1 \\\\\n",
    "    0 & 5 & -15 & 10 \\\\\n",
    "    1 & 0 & 2 & 1 \n",
    "\\end{bmatrix}\n",
    "\\end{gather}\n"
   ]
  },
  {
   "cell_type": "markdown",
   "metadata": {},
   "source": [
    "First we find the inverse of M1"
   ]
  },
  {
   "cell_type": "code",
   "execution_count": 2,
   "metadata": {},
   "outputs": [
    {
     "data": {
      "text/plain": [
       "[ 1  0  2  1]\n",
       "[ 0  1 -3  2]\n",
       "[ 0  0  0  0]"
      ]
     },
     "execution_count": 2,
     "metadata": {},
     "output_type": "execute_result"
    }
   ],
   "source": [
    "# find the steps that make M1 into reduced form\n",
    "\n",
    "M1 = matrix(QQ, [[0,1,-3,2],[3,0,6,3],[4,-1,11,2]])\n",
    "M1.swap_rows(0,2)\n",
    "M1.swap_rows(1,2)\n",
    "M1.rescale_row(0,1/4)\n",
    "M1.add_multiple_of_row(2,0,-3)\n",
    "M1.add_multiple_of_row(2,1,-3/4)\n",
    "M1.add_multiple_of_row(0,1,1/4)\n",
    "\n",
    "M1"
   ]
  },
  {
   "cell_type": "markdown",
   "metadata": {},
   "source": [
    "### (b)\n"
   ]
  },
  {
   "cell_type": "code",
   "execution_count": 3,
   "metadata": {},
   "outputs": [
    {
     "data": {
      "text/html": [
       "<html><script type=\"math/tex; mode=display\">\\newcommand{\\Bold}[1]{\\mathbf{#1}}\\left(\\begin{array}{rrr}\n",
       "1 & 0 & 1 \\\\\n",
       "0 & 1 & 2 \\\\\n",
       "0 & 0 & 0\n",
       "\\end{array}\\right)</script></html>"
      ],
      "text/plain": [
       "[1 0 1]\n",
       "[0 1 2]\n",
       "[0 0 0]"
      ]
     },
     "metadata": {},
     "output_type": "display_data"
    },
    {
     "data": {
      "text/html": [
       "<html><script type=\"math/tex; mode=display\">\\newcommand{\\Bold}[1]{\\mathbf{#1}}\\left(\\begin{array}{rrr}\n",
       "1 & 0 & 1 \\\\\n",
       "0 & 1 & 2 \\\\\n",
       "0 & 0 & 0\n",
       "\\end{array}\\right)</script></html>"
      ],
      "text/plain": [
       "[1 0 1]\n",
       "[0 1 2]\n",
       "[0 0 0]"
      ]
     },
     "metadata": {},
     "output_type": "display_data"
    }
   ],
   "source": [
    "B1 = matrix(QQ, [[0,1,2],[3,0,3],[4,-1,2]])\n",
    "B2 = matrix(QQ,[[3,-1,1],[0,5,10],[1,0,1]])\n",
    "\n",
    "show(B1.rref())\n",
    "show(B2.rref())"
   ]
  },
  {
   "cell_type": "code",
   "execution_count": 4,
   "metadata": {},
   "outputs": [
    {
     "data": {
      "text/html": [
       "<html><script type=\"math/tex; mode=display\">\\newcommand{\\Bold}[1]{\\mathbf{#1}}\\left(\\begin{array}{rrr}\n",
       "1 & 0 & 2 \\\\\n",
       "0 & 1 & -3 \\\\\n",
       "0 & 0 & 0\n",
       "\\end{array}\\right)</script></html>"
      ],
      "text/plain": [
       "[ 1  0  2]\n",
       "[ 0  1 -3]\n",
       "[ 0  0  0]"
      ]
     },
     "metadata": {},
     "output_type": "display_data"
    },
    {
     "data": {
      "text/html": [
       "<html><script type=\"math/tex; mode=display\">\\newcommand{\\Bold}[1]{\\mathbf{#1}}\\left(\\begin{array}{rrr}\n",
       "1 & 0 & 2 \\\\\n",
       "0 & 1 & -3 \\\\\n",
       "0 & 0 & 0\n",
       "\\end{array}\\right)</script></html>"
      ],
      "text/plain": [
       "[ 1  0  2]\n",
       "[ 0  1 -3]\n",
       "[ 0  0  0]"
      ]
     },
     "metadata": {},
     "output_type": "display_data"
    }
   ],
   "source": [
    "b1 = matrix(QQ, [[0,1,-3],[3,0,6],[4,-1,11]])\n",
    "b2 = matrix(QQ,[[3,-1,9],[0,5,-15],[1,0,2]])\n",
    "\n",
    "show(b1.rref())\n",
    "show(b2.rref())"
   ]
  },
  {
   "cell_type": "markdown",
   "metadata": {},
   "source": [
    "### (c)"
   ]
  },
  {
   "cell_type": "markdown",
   "metadata": {},
   "source": [
    "removing a column won't affect row equivalence of equivalent matrices because it is the equivalent of removing the same unknown from all equations. Thus removing an unknown \n",
    "\n",
    "# try with matrices w one solution? or no solutions?"
   ]
  },
  {
   "cell_type": "markdown",
   "metadata": {},
   "source": [
    "### (d)"
   ]
  },
  {
   "cell_type": "code",
   "execution_count": 5,
   "metadata": {},
   "outputs": [
    {
     "data": {
      "text/html": [
       "<html><script type=\"math/tex; mode=display\">\\newcommand{\\Bold}[1]{\\mathbf{#1}}\\left(\\begin{array}{rrr}\n",
       "1 & 2 & \\frac{5}{2} \\\\\n",
       "0 & 1 & -\\frac{6}{5} \\\\\n",
       "0 & 0 & 1\n",
       "\\end{array}\\right)</script></html>"
      ],
      "text/plain": [
       "[   1    2  5/2]\n",
       "[   0    1 -6/5]\n",
       "[   0    0    1]"
      ]
     },
     "metadata": {},
     "output_type": "display_data"
    },
    {
     "name": "stdout",
     "output_type": "stream",
     "text": [
      "CONTRADICTION: 0 = 1\n"
     ]
    }
   ],
   "source": [
    "d1 = matrix(QQ, [[2,4,5],[2,9,-1],[4,1,20]])\n",
    "d1.rescale_row(0,1/2)\n",
    "d1.add_multiple_of_row(1,0,-2)\n",
    "d1.add_multiple_of_row(2,0,-4)\n",
    "d1.rescale_row(1,1/5)\n",
    "d1.add_multiple_of_row(2,1,7)\n",
    "d1.rescale_row(2,5/8)\n",
    "#d1.add_multiple_of_row(0,1,-2)\n",
    "#d1.add_multiple_of_row(1,2,6/5)\n",
    "#d1.add_multiple_of_row(0,2,-49/10)\n",
    "\n",
    "show(d1)\n",
    "print('CONTRADICTION: 0 = 1')"
   ]
  },
  {
   "cell_type": "markdown",
   "metadata": {},
   "source": [
    "### (e)"
   ]
  },
  {
   "cell_type": "code",
   "execution_count": 6,
   "metadata": {},
   "outputs": [
    {
     "data": {
      "text/html": [
       "<html><script type=\"math/tex; mode=display\">\\newcommand{\\Bold}[1]{\\mathbf{#1}}\\left(\\begin{array}{rrr}\n",
       "1 & 0 & 0 \\\\\n",
       "0 & 1 & 0 \\\\\n",
       "0 & 0 & 1\n",
       "\\end{array}\\right)</script></html>"
      ],
      "text/plain": [
       "[1 0 0]\n",
       "[0 1 0]\n",
       "[0 0 1]"
      ]
     },
     "metadata": {},
     "output_type": "display_data"
    },
    {
     "name": "stdout",
     "output_type": "stream",
     "text": [
      "removing the last row would provide infinite solutions since you'd be removing the contradition but you'd be short one pivot\n"
     ]
    }
   ],
   "source": [
    "d1 = matrix(QQ, [[2,4,5],[2,9,-1],[4,1,20]])\n",
    "d1.rescale_row(0,1/2)\n",
    "d1.add_multiple_of_row(1,0,-2)\n",
    "d1.add_multiple_of_row(2,0,-4)\n",
    "d1.rescale_row(1,1/5)\n",
    "d1.add_multiple_of_row(2,1,7)\n",
    "d1.rescale_row(2,5/8)\n",
    "d1.add_multiple_of_row(0,1,-2)\n",
    "d1.add_multiple_of_row(1,2,6/5)\n",
    "d1.add_multiple_of_row(0,2,-49/10)\n",
    "\n",
    "show(d1)\n",
    "print('removing the last row would provide infinite solutions since you\\'d be removing the contradition but you\\'d be short one pivot')"
   ]
  },
  {
   "cell_type": "code",
   "execution_count": 7,
   "metadata": {},
   "outputs": [
    {
     "data": {
      "text/html": [
       "<html><script type=\"math/tex; mode=display\">\\newcommand{\\Bold}[1]{\\mathbf{#1}}\\left(\\begin{array}{rrr}\n",
       "1 & 0 & \\frac{75}{14} \\\\\n",
       "0 & 1 & -\\frac{10}{7}\n",
       "\\end{array}\\right)</script></html>"
      ],
      "text/plain": [
       "[    1     0 75/14]\n",
       "[    0     1 -10/7]"
      ]
     },
     "metadata": {},
     "output_type": "display_data"
    },
    {
     "name": "stdout",
     "output_type": "stream",
     "text": [
      "The same happens if you remove any other row\n"
     ]
    }
   ],
   "source": [
    "d2 = matrix(QQ, [[2,4,5],[4,1,20]])\n",
    "d2.rescale_row(0,1/2)\n",
    "d2.add_multiple_of_row(1,0,-4)\n",
    "d2.rescale_row(1,-1/7)\n",
    "d2.add_multiple_of_row(0,1,-2)\n",
    "\n",
    "show(d2)\n",
    "print('The same happens if you remove any other row')"
   ]
  },
  {
   "cell_type": "code",
   "execution_count": 8,
   "metadata": {},
   "outputs": [
    {
     "data": {
      "text/html": [
       "<html><script type=\"math/tex; mode=display\">\\newcommand{\\Bold}[1]{\\mathbf{#1}}\\left(\\begin{array}{rrr}\n",
       "1 & 0 & \\frac{181}{34} \\\\\n",
       "0 & 1 & -\\frac{22}{17}\n",
       "\\end{array}\\right)</script></html>"
      ],
      "text/plain": [
       "[     1      0 181/34]\n",
       "[     0      1 -22/17]"
      ]
     },
     "metadata": {},
     "output_type": "display_data"
    },
    {
     "name": "stdout",
     "output_type": "stream",
     "text": [
      "This tells us that removing a row increases your solution set. This makes sense because rows are essentially restrictions that the solution set has to meet.\n"
     ]
    }
   ],
   "source": [
    "d3 = matrix(QQ, [[2,9,-1],[4,1,20]])\n",
    "d3.rescale_row(0,1/2)\n",
    "d3.add_multiple_of_row(1,0,-4)\n",
    "d3.rescale_row(1,-1/17)\n",
    "d3.add_multiple_of_row(0,1,-9/2)\n",
    "\n",
    "show(d3)\n",
    "print('This tells us that removing a row increases your solution set. This makes sense because rows are essentially restrictions that the solution set has to meet.')"
   ]
  },
  {
   "cell_type": "markdown",
   "metadata": {},
   "source": [
    "### (f)\n",
    "\n",
    "(i) True: Row equivalent augemented matrices is defined by having the same RREF. Since the solution set is defined by the RREF, it then follows that matrices that have the same RREF have the same solution set. Thus, Equivalence implies the same solution set.     \n",
    "(ii) Unsure? Could diff rows map to the same solution set? I feel like yes cause theres more than one way to express the same equation.\n",
    "\n",
    "# check and try to come up to counterexamples"
   ]
  },
  {
   "cell_type": "markdown",
   "metadata": {},
   "source": [
    "# Q2"
   ]
  },
  {
   "cell_type": "code",
   "execution_count": 9,
   "metadata": {},
   "outputs": [
    {
     "ename": "SyntaxError",
     "evalue": "can't assign to operator (<ipython-input-9-d2e70cd74d93>, line 4)",
     "output_type": "error",
     "traceback": [
      "\u001b[0;36m  File \u001b[0;32m\"<ipython-input-9-d2e70cd74d93>\"\u001b[0;36m, line \u001b[0;32m4\u001b[0m\n\u001b[0;31m    a_y1+a_y2 = a_x1 + a_x2\u001b[0m\n\u001b[0;31mSyntaxError\u001b[0m\u001b[0;31m:\u001b[0m can't assign to operator\n"
     ]
    }
   ],
   "source": [
    "a_x1 = 200\n",
    "a_x2 = 200\n",
    "\n",
    "a_y1+a_y2 = a_x1 + a_x2\n",
    "\n",
    "b_y2 = 300\n",
    "b_x1 = a_x1\n",
    "b_x2 = e_y2\n",
    "b_y1+b_y2 = b_x1+b_x2\n",
    "\n",
    "c_y1 = 400\n",
    "c_x2 = 500\n",
    "c_x1 = b_y1\n",
    "c_y1+c_y2 = c_x1 + c_x2\n",
    "\n",
    "d_y1 = 400\n",
    "d_x1 = 200\n",
    "d_x2 = c_y2\n",
    "d_y1 + d_y2 = d_x1 + d_x2\n",
    "\n",
    "e_x1 = 300\n",
    "e_x2 = d_y2\n",
    "e_y1 + e_y2 = e_x1 + e_x2\n",
    "\n",
    "f_y1 = 200\n",
    "f_y2 = 100\n",
    "f_x1 = e_y1\n",
    "f_x2 = a_y2\n",
    "f_y1 + f_y2 = f_x1+ f_x2"
   ]
  },
  {
   "cell_type": "code",
   "execution_count": 10,
   "metadata": {},
   "outputs": [
    {
     "ename": "SyntaxError",
     "evalue": "can't assign to operator (<ipython-input-10-11d4eb7c2c0e>, line 4)",
     "output_type": "error",
     "traceback": [
      "\u001b[0;36m  File \u001b[0;32m\"<ipython-input-10-11d4eb7c2c0e>\"\u001b[0;36m, line \u001b[0;32m4\u001b[0m\n\u001b[0;31m    a_y1+a_y2 = a_x1 + a_x2\u001b[0m\n\u001b[0;31mSyntaxError\u001b[0m\u001b[0;31m:\u001b[0m can't assign to operator\n"
     ]
    }
   ],
   "source": [
    "a_x1 = 200\n",
    "a_x2 = 200\n",
    "\n",
    "a_y1+a_y2 = a_x1 + a_x2\n",
    "\n",
    "b_y2 = 300\n",
    "b_y1+b_y2 = a_y1+e_y2\n",
    "\n",
    "c_y1 = 400\n",
    "c_x2 = 500\n",
    "c_y1+c_y2 = b_y1 + c_x2\n",
    "\n",
    "d_y1 = 400\n",
    "d_x1 = 200\n",
    "d_y1 + d_y2 = d_x1 + c_y2\n",
    "\n",
    "e_x1 = 300\n",
    "e_y1 + e_y2 = e_x1 + d_y2\n",
    "\n",
    "f_y1 = 200\n",
    "f_y2 = 100\n",
    "f_y1 + f_y2 = e_y1+ a_y2"
   ]
  },
  {
   "cell_type": "code",
   "execution_count": 11,
   "metadata": {},
   "outputs": [
    {
     "ename": "SyntaxError",
     "evalue": "can't assign to operator (<ipython-input-11-2a013f3ddce1>, line 1)",
     "output_type": "error",
     "traceback": [
      "\u001b[0;36m  File \u001b[0;32m\"<ipython-input-11-2a013f3ddce1>\"\u001b[0;36m, line \u001b[0;32m1\u001b[0m\n\u001b[0;31m    a_y1+a_y2 = Integer(200) + Integer(200)\u001b[0m\n\u001b[0;31mSyntaxError\u001b[0m\u001b[0;31m:\u001b[0m can't assign to operator\n"
     ]
    }
   ],
   "source": [
    "a_y1+a_y2 = 200 + 200\n",
    "\n",
    "b_y1+300 = a_y1+e_y2\n",
    "\n",
    "400+c_y2 = b_y1 + 500\n",
    "\n",
    "400 + d_y2 = 200 + c_y2\n",
    "\n",
    "e_y1 + e_y2 = 300 + d_y2\n",
    "\n",
    "200 + 100 = e_y1+ a_y2"
   ]
  },
  {
   "cell_type": "code",
   "execution_count": 12,
   "metadata": {},
   "outputs": [
    {
     "ename": "SyntaxError",
     "evalue": "invalid syntax (<ipython-input-12-a80d90ac8642>, line 5)",
     "output_type": "error",
     "traceback": [
      "\u001b[0;36m  File \u001b[0;32m\"<ipython-input-12-a80d90ac8642>\"\u001b[0;36m, line \u001b[0;32m5\u001b[0m\n\u001b[0;31m    :. Integer(400) - a_y2 = b_y1 + Integer(300) - e_y2\u001b[0m\n\u001b[0m    ^\u001b[0m\n\u001b[0;31mSyntaxError\u001b[0m\u001b[0;31m:\u001b[0m invalid syntax\n"
     ]
    }
   ],
   "source": [
    "a_y1 = 200 + 200 - a_y2\n",
    "\n",
    "a_y1 = b_y1 + 300 - e_y2\n",
    "\n",
    ":. 400 - a_y2 = b_y1 + 300 - e_y2\n",
    "\n",
    "400+c_y2 = b_y1 + 500\n",
    "    \n",
    ":. 400 - a_y2 - 300 + e_y2= 400 + c_y2 - 500\n",
    ":. 100 - a_y2 + e_y2= c_y2 - 100\n",
    "\n",
    "\n",
    "400 + d_y2 = 200 + c_y2\n",
    "\n",
    "e_y1 + e_y2 = 300 + d_y2\n",
    "\n",
    "200 + 100 = e_y1+ a_y2"
   ]
  },
  {
   "cell_type": "code",
   "execution_count": 13,
   "metadata": {},
   "outputs": [
    {
     "data": {
      "text/html": [
       "<html><script type=\"math/tex; mode=display\">\\newcommand{\\Bold}[1]{\\mathbf{#1}}\\left(\\begin{array}{rrrrrrr}\n",
       "1 & 1 & 0 & 0 & 0 & 0 & 0 \\\\\n",
       "1 & 0 & -1 & 0 & 0 & 0 & 1 \\\\\n",
       "0 & 0 & 1 & -1 & 0 & 0 & 0 \\\\\n",
       "0 & 0 & 0 & 1 & -1 & 0 & 0 \\\\\n",
       "0 & 0 & 0 & 0 & 1 & -1 & -1 \\\\\n",
       "0 & 1 & 0 & 0 & 0 & 1 & 0\n",
       "\\end{array}\\right)</script></html>"
      ],
      "text/plain": [
       "[ 1  1  0  0  0  0  0]\n",
       "[ 1  0 -1  0  0  0  1]\n",
       "[ 0  0  1 -1  0  0  0]\n",
       "[ 0  0  0  1 -1  0  0]\n",
       "[ 0  0  0  0  1 -1 -1]\n",
       "[ 0  1  0  0  0  1  0]"
      ]
     },
     "metadata": {},
     "output_type": "display_data"
    },
    {
     "data": {
      "text/html": [
       "<html><script type=\"math/tex; mode=display\">\\newcommand{\\Bold}[1]{\\mathbf{#1}}\\left(\\begin{array}{r}\n",
       "a_{y_{1}} \\\\\n",
       "a_{y_{2}} \\\\\n",
       "b_{y_{1}} \\\\\n",
       "c_{y_{1}} \\\\\n",
       "d_{y_{1}} \\\\\n",
       "e_{y_{1}} \\\\\n",
       "e_{y_{2}}\n",
       "\\end{array}\\right)</script></html>"
      ],
      "text/plain": [
       "[a_y1]\n",
       "[a_y2]\n",
       "[b_y1]\n",
       "[c_y1]\n",
       "[d_y1]\n",
       "[e_y1]\n",
       "[e_y2]"
      ]
     },
     "metadata": {},
     "output_type": "display_data"
    },
    {
     "data": {
      "text/html": [
       "<html><script type=\"math/tex; mode=display\">\\newcommand{\\Bold}[1]{\\mathbf{#1}}\\left(\\begin{array}{r}\n",
       "400 \\\\\n",
       "300 \\\\\n",
       "-100 \\\\\n",
       "200 \\\\\n",
       "-300 \\\\\n",
       "300\n",
       "\\end{array}\\right)</script></html>"
      ],
      "text/plain": [
       "[ 400]\n",
       "[ 300]\n",
       "[-100]\n",
       "[ 200]\n",
       "[-300]\n",
       "[ 300]"
      ]
     },
     "metadata": {},
     "output_type": "display_data"
    }
   ],
   "source": [
    "var('a_y1,a_y2,b_y1,c_y1,d_y1,e_y1,e_y2')\n",
    "twoA = matrix(QQ, [[1,1,0,0,0,0,0],[1,0,-1,0,0,0,1],[0,0,1,-1,0,0,0],[0,0,0,1,-1,0,0],[0,0,0,0,1,-1,-1],[0,1,0,0,0,1,0]])\n",
    "twoX = matrix([[a_y1],[a_y2],[b_y1],[c_y1],[d_y1],[e_y1],[e_y2]])\n",
    "twoB = matrix(QQ,[[400],[300],[-100],[200],[-300],[300]])\n",
    "show(twoA)\n",
    "show(twoX)\n",
    "show(twoB)"
   ]
  },
  {
   "cell_type": "markdown",
   "metadata": {},
   "source": [
    "# Q3\n"
   ]
  },
  {
   "cell_type": "markdown",
   "metadata": {},
   "source": [
    "BC = -CB"
   ]
  },
  {
   "cell_type": "code",
   "execution_count": 14,
   "metadata": {},
   "outputs": [
    {
     "data": {
      "text/html": [
       "<html><script type=\"math/tex; mode=display\">\\newcommand{\\Bold}[1]{\\mathbf{#1}}\\left(\\begin{array}{rr}\n",
       "-1 & -2 \\\\\n",
       "-3 & -4\n",
       "\\end{array}\\right)</script></html>"
      ],
      "text/plain": [
       "[-1 -2]\n",
       "[-3 -4]"
      ]
     },
     "metadata": {},
     "output_type": "display_data"
    }
   ],
   "source": [
    "three = matrix(QQ,[[1,2],[3,4]])\n",
    "show(-three)"
   ]
  },
  {
   "cell_type": "code",
   "execution_count": 15,
   "metadata": {},
   "outputs": [
    {
     "data": {
      "text/plain": [
       "[ 2.00000000000000  2.50000000000000]\n",
       "[-2.00000000000000 -3.00000000000000]"
      ]
     },
     "execution_count": 15,
     "metadata": {},
     "output_type": "execute_result"
    }
   ],
   "source": [
    "var('a,b,c,d,e,f,g,h')\n",
    "\n",
    "a = 1\n",
    "e = 1\n",
    "b = 1\n",
    "g = 1\n",
    "c = -2\n",
    "f = 1.5\n",
    "h = 1\n",
    "d = 0\n",
    "\n",
    "t1 = matrix([[a,b],[c,d]])\n",
    "t2 = matrix([[e,f],[g,h]])\n",
    "\n",
    "t1*t2"
   ]
  },
  {
   "cell_type": "code",
   "execution_count": 16,
   "metadata": {},
   "outputs": [
    {
     "data": {
      "text/plain": [
       "[ 2.00000000000000 -1.00000000000000]\n",
       "[ 1.00000000000000 -1.00000000000000]"
      ]
     },
     "execution_count": 16,
     "metadata": {},
     "output_type": "execute_result"
    }
   ],
   "source": [
    "-t2*t1"
   ]
  },
  {
   "cell_type": "markdown",
   "metadata": {},
   "source": [
    "Therefore\n",
    "a1*a2 + b1*c2 = -a1*a2 - b2*c1\n",
    "\n",
    "a1*b2 + b1*d2 = -a2*b1 - b2*d1\n",
    "\n",
    "a2*c1 + c2*d1 = -a1*c2 - c1*d2\n",
    "\n",
    "b2*c1 + d1*d2 = -b1*c2 - d1*d2\n",
    "\n",
    "______\n",
    "\n",
    "2(a1*a2) = - b2*c1 - b1*c2\n",
    "a1*b2 + a2*b1 = -b1*d2 - b2*d1\n",
    "a2*c1 + a1*c2 = -c2*d1 - c1*d2\n",
    "b2*c1 + b1*c2 = -2(d1*d2)\n",
    "\n"
   ]
  },
  {
   "cell_type": "markdown",
   "metadata": {},
   "source": [
    "a1*a2 = A\n",
    "a1*b2 = B\n",
    "a1*c2 = C\n",
    "a2*b1 = D\n",
    "a2*c1 = E\n",
    "b1*c2 = F\n",
    "b1*d2 = G\n",
    "b2*c1 = H\n",
    "b2*d1 = I\n",
    "c2*d1 = J\n",
    "c1*d2 = K\n",
    "d1*d2 = L\n",
    "\n",
    "2A = -H-"
   ]
  },
  {
   "cell_type": "markdown",
   "metadata": {},
   "source": [
    "# Q4"
   ]
  },
  {
   "cell_type": "code",
   "execution_count": 135,
   "metadata": {},
   "outputs": [
    {
     "name": "stdout",
     "output_type": "stream",
     "text": [
      "[[7, 8], [11, 11]]\n",
      "[['h', 'i'], ['l', 'l']]\n",
      "[[7, 8], [11, 11]]\n"
     ]
    }
   ],
   "source": [
    "import string\n",
    "d = dict(zip(string.ascii_lowercase, range(0,26)))\n",
    "\n",
    "key = [[\"H\",\"I\"],[\"L\",\"L\"]]\n",
    "\n",
    "def toNum(arr):\n",
    "    for i in range(len(arr)):\n",
    "        for j in range(len(arr[i])):\n",
    "            arr[i][j] = d.get(arr[i][j].lower())\n",
    "    return(arr)\n",
    "\n",
    "def toChar(arr):\n",
    "    for i in range(len(arr)):\n",
    "        for j in range(len(arr[i])):\n",
    "            arr[i][j] = d.keys()[d.values().index(arr[i][j])]\n",
    "    return(arr)\n",
    "\n",
    "import numpy as np\n",
    "def encrypt(X,Y):\n",
    "    res_m = np.matmul(X,Y)\n",
    "    for i in range(len(res_m)):\n",
    "        for j in range(len(res_m[i])):\n",
    "            res_m[i][j] = int(res_m[i][j] % 26)\n",
    "    return(res_m.tolist())\n",
    "\n",
    "toNum(key)\n",
    "print(key)\n",
    "toChar(key)\n",
    "print(key)\n",
    "toNum(key)\n",
    "print(key)"
   ]
  },
  {
   "cell_type": "code",
   "execution_count": 139,
   "metadata": {
    "scrolled": true
   },
   "outputs": [
    {
     "name": "stdout",
     "output_type": "stream",
     "text": [
      "[['j'], ['t']]\n",
      "[['s'], ['r']]\n",
      "[['m'], ['u']]\n",
      "[['k'], ['g']]\n",
      "[['w'], ['o']]\n",
      "[['e'], ['l']]\n"
     ]
    }
   ],
   "source": [
    "message = [[['T'],['E']],[['S'],['T']],[['M'],['E']],[['S'],['S']],[['A'],['G']],[['E'],['X']]]\n",
    "\n",
    "for i in message:\n",
    "    toNum(i)\n",
    "\n",
    "for short in message:\n",
    "    scramble = encrypt(key,short)\n",
    "    scramble = toChar(scramble)\n",
    "    print(scramble)\n"
   ]
  },
  {
   "cell_type": "code",
   "execution_count": 140,
   "metadata": {},
   "outputs": [
    {
     "name": "stdout",
     "output_type": "stream",
     "text": [
      "[[7, 8], [11, 11]]\n",
      "[[-1.          0.72727273]\n",
      " [ 1.         -0.63636364]]\n",
      "[['c'], ['c']]\n",
      "[['f'], ['q']]\n",
      "[['k'], ['h']]\n",
      "[['e'], ['l']]\n",
      "[['u'], ['w']]\n",
      "[['l'], ['x']]\n",
      "[['p'], ['m']]\n",
      "[['y'], ['h']]\n",
      "[['d'], ['e']]\n",
      "[['n'], ['a']]\n",
      "[['n'], ['k']]\n"
     ]
    }
   ],
   "source": [
    "import numpy as np\n",
    "\n",
    "print(key)\n",
    "msg = [[['Q'],['W']],[['J'],['J']],[['O'],['P']],[['E'],['X']],[['W'],['G']],[['B'],['U']],[['P'],['F']],[['A'],['D']],[['H'],['R']],[['N'],['N']],[['Z'],['J']]]\n",
    "\n",
    "new_key = np.linalg.inv(key)\n",
    "print(new_key)\n",
    "\n",
    "for l in msg:\n",
    "    toNum(l)\n",
    "    scramble = encrypt(key,l)\n",
    "    scramble = toChar(scramble)\n",
    "    print(scramble)\n",
    "    \n",
    "# should be dcode hill\n",
    "    "
   ]
  },
  {
   "cell_type": "code",
   "execution_count": null,
   "metadata": {},
   "outputs": [],
   "source": []
  }
 ],
 "metadata": {
  "kernelspec": {
   "display_name": "SageMath 8.5",
   "language": "",
   "name": "sagemath"
  },
  "language_info": {
   "codemirror_mode": {
    "name": "ipython",
    "version": 2
   },
   "file_extension": ".py",
   "mimetype": "text/x-python",
   "name": "python",
   "nbconvert_exporter": "python",
   "pygments_lexer": "ipython2",
   "version": "2.7.15"
  }
 },
 "nbformat": 4,
 "nbformat_minor": 2
}
