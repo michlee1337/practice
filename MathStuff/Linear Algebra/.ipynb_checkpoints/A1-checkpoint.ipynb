{
 "cells": [
  {
   "cell_type": "markdown",
   "metadata": {},
   "source": [
    "## Q1\n",
    "### (a) Show that the following two matrices are row-equivalent\n",
    "\n",
    "$$M1 = \\begin{bmatrix}\n",
    "    0 & 1 & -3 & 2 \\\\\n",
    "    3 & 0 & 6 & 3 \\\\\n",
    "    4 & -1 & 11 & 2 \n",
    "\\end{bmatrix} $$\n",
    "\n",
    "$$M2 = \\begin{bmatrix}\n",
    "    3 & -1 & 9 & 1 \\\\\n",
    "    0 & 5 & -15 & 10 \\\\\n",
    "    1 & 0 & 2 & 1 \n",
    "\\end{bmatrix} $$"
   ]
  },
  {
   "cell_type": "code",
   "execution_count": 1,
   "metadata": {},
   "outputs": [
    {
     "data": {
      "text/html": [
       "<html><script type=\"math/tex; mode=display\">\\newcommand{\\Bold}[1]{\\mathbf{#1}}\\left(\\begin{array}{rrrr}\n",
       "1 & 0 & 2 & 1 \\\\\n",
       "0 & 1 & -3 & 2 \\\\\n",
       "0 & 0 & 0 & 0\n",
       "\\end{array}\\right)</script></html>"
      ],
      "text/plain": [
       "[ 1  0  2  1]\n",
       "[ 0  1 -3  2]\n",
       "[ 0  0  0  0]"
      ]
     },
     "metadata": {},
     "output_type": "display_data"
    },
    {
     "data": {
      "text/html": [
       "<html><script type=\"math/tex; mode=display\">\\newcommand{\\Bold}[1]{\\mathbf{#1}}\\left(\\begin{array}{rrrr}\n",
       "1 & 0 & 2 & 1 \\\\\n",
       "0 & 1 & -3 & 2 \\\\\n",
       "0 & 0 & 0 & 0\n",
       "\\end{array}\\right)</script></html>"
      ],
      "text/plain": [
       "[ 1  0  2  1]\n",
       "[ 0  1 -3  2]\n",
       "[ 0  0  0  0]"
      ]
     },
     "metadata": {},
     "output_type": "display_data"
    }
   ],
   "source": [
    "M1 = matrix(QQ, [[0,1,-3,2],[3,0,6,3],[4,-1,11,2]])\n",
    "M2 = matrix(QQ,[[3,-1,9,1],[0,5,-15,10],[1,0,2,1]])\n",
    "\n",
    "show(M1.rref())\n",
    "show(M2.rref())"
   ]
  },
  {
   "cell_type": "markdown",
   "metadata": {},
   "source": [
    "Both matrices have the same RREF, thus they are row equivalent. To find the elementary matrix that transforms M1 to M2, we solve for A in the following equation:\n",
    "\n",
    "\\begin{gather}\n",
    "A\n",
    " \\begin{bmatrix}\n",
    "    0 & 1 & -3 & 2 \\\\\n",
    "    3 & 0 & 6 & 3 \\\\\n",
    "    4 & -1 & 11 & 2 \n",
    "\\end{bmatrix}\n",
    " =\n",
    " \\begin{bmatrix}\n",
    "    3 & -1 & 9 & 1 \\\\\n",
    "    0 & 5 & -15 & 10 \\\\\n",
    "    1 & 0 & 2 & 1 \n",
    "\\end{bmatrix}\n",
    "\\end{gather}\n"
   ]
  },
  {
   "cell_type": "markdown",
   "metadata": {},
   "source": [
    "First we find the inverse of M1"
   ]
  },
  {
   "cell_type": "code",
   "execution_count": 2,
   "metadata": {},
   "outputs": [
    {
     "data": {
      "text/plain": [
       "[ 1  0  2  1]\n",
       "[ 0  1 -3  2]\n",
       "[ 0  0  0  0]"
      ]
     },
     "execution_count": 2,
     "metadata": {},
     "output_type": "execute_result"
    }
   ],
   "source": [
    "# find the steps that make M1 into reduced form\n",
    "\n",
    "M1 = matrix(QQ, [[0,1,-3,2],[3,0,6,3],[4,-1,11,2]])\n",
    "M1.swap_rows(0,2)\n",
    "M1.swap_rows(1,2)\n",
    "M1.rescale_row(0,1/4)\n",
    "M1.add_multiple_of_row(2,0,-3)\n",
    "M1.add_multiple_of_row(2,1,-3/4)\n",
    "M1.add_multiple_of_row(0,1,1/4)\n",
    "\n",
    "M1"
   ]
  },
  {
   "cell_type": "markdown",
   "metadata": {},
   "source": [
    "### (b)\n"
   ]
  },
  {
   "cell_type": "code",
   "execution_count": 3,
   "metadata": {},
   "outputs": [
    {
     "data": {
      "text/html": [
       "<html><script type=\"math/tex; mode=display\">\\newcommand{\\Bold}[1]{\\mathbf{#1}}\\left(\\begin{array}{rrr}\n",
       "1 & 0 & 1 \\\\\n",
       "0 & 1 & 2 \\\\\n",
       "0 & 0 & 0\n",
       "\\end{array}\\right)</script></html>"
      ],
      "text/plain": [
       "[1 0 1]\n",
       "[0 1 2]\n",
       "[0 0 0]"
      ]
     },
     "metadata": {},
     "output_type": "display_data"
    },
    {
     "data": {
      "text/html": [
       "<html><script type=\"math/tex; mode=display\">\\newcommand{\\Bold}[1]{\\mathbf{#1}}\\left(\\begin{array}{rrr}\n",
       "1 & 0 & 1 \\\\\n",
       "0 & 1 & 2 \\\\\n",
       "0 & 0 & 0\n",
       "\\end{array}\\right)</script></html>"
      ],
      "text/plain": [
       "[1 0 1]\n",
       "[0 1 2]\n",
       "[0 0 0]"
      ]
     },
     "metadata": {},
     "output_type": "display_data"
    }
   ],
   "source": [
    "B1 = matrix(QQ, [[0,1,2],[3,0,3],[4,-1,2]])\n",
    "B2 = matrix(QQ,[[3,-1,1],[0,5,10],[1,0,1]])\n",
    "\n",
    "show(B1.rref())\n",
    "show(B2.rref())"
   ]
  },
  {
   "cell_type": "code",
   "execution_count": 4,
   "metadata": {},
   "outputs": [
    {
     "data": {
      "text/html": [
       "<html><script type=\"math/tex; mode=display\">\\newcommand{\\Bold}[1]{\\mathbf{#1}}\\left(\\begin{array}{rrr}\n",
       "1 & 0 & 2 \\\\\n",
       "0 & 1 & -3 \\\\\n",
       "0 & 0 & 0\n",
       "\\end{array}\\right)</script></html>"
      ],
      "text/plain": [
       "[ 1  0  2]\n",
       "[ 0  1 -3]\n",
       "[ 0  0  0]"
      ]
     },
     "metadata": {},
     "output_type": "display_data"
    },
    {
     "data": {
      "text/html": [
       "<html><script type=\"math/tex; mode=display\">\\newcommand{\\Bold}[1]{\\mathbf{#1}}\\left(\\begin{array}{rrr}\n",
       "1 & 0 & 2 \\\\\n",
       "0 & 1 & -3 \\\\\n",
       "0 & 0 & 0\n",
       "\\end{array}\\right)</script></html>"
      ],
      "text/plain": [
       "[ 1  0  2]\n",
       "[ 0  1 -3]\n",
       "[ 0  0  0]"
      ]
     },
     "metadata": {},
     "output_type": "display_data"
    }
   ],
   "source": [
    "b1 = matrix(QQ, [[0,1,-3],[3,0,6],[4,-1,11]])\n",
    "b2 = matrix(QQ,[[3,-1,9],[0,5,-15],[1,0,2]])\n",
    "\n",
    "show(b1.rref())\n",
    "show(b2.rref())"
   ]
  },
  {
   "cell_type": "markdown",
   "metadata": {},
   "source": [
    "### (c)"
   ]
  },
  {
   "cell_type": "markdown",
   "metadata": {},
   "source": [
    "removing a column won't affect row equivalence of equivalent matrices because it is the equivalent of removing the same unknown from all equations. Thus removing an unknown \n",
    "\n",
    "# try with matrices w one solution? or no solutions?"
   ]
  },
  {
   "cell_type": "markdown",
   "metadata": {},
   "source": [
    "### (d)"
   ]
  },
  {
   "cell_type": "code",
   "execution_count": 5,
   "metadata": {},
   "outputs": [
    {
     "data": {
      "text/html": [
       "<html><script type=\"math/tex; mode=display\">\\newcommand{\\Bold}[1]{\\mathbf{#1}}\\left(\\begin{array}{rrr}\n",
       "1 & 2 & \\frac{5}{2} \\\\\n",
       "0 & 1 & -\\frac{6}{5} \\\\\n",
       "0 & 0 & 1\n",
       "\\end{array}\\right)</script></html>"
      ],
      "text/plain": [
       "[   1    2  5/2]\n",
       "[   0    1 -6/5]\n",
       "[   0    0    1]"
      ]
     },
     "metadata": {},
     "output_type": "display_data"
    },
    {
     "name": "stdout",
     "output_type": "stream",
     "text": [
      "CONTRADICTION: 0 = 1\n"
     ]
    }
   ],
   "source": [
    "d1 = matrix(QQ, [[2,4,5],[2,9,-1],[4,1,20]])\n",
    "d1.rescale_row(0,1/2)\n",
    "d1.add_multiple_of_row(1,0,-2)\n",
    "d1.add_multiple_of_row(2,0,-4)\n",
    "d1.rescale_row(1,1/5)\n",
    "d1.add_multiple_of_row(2,1,7)\n",
    "d1.rescale_row(2,5/8)\n",
    "#d1.add_multiple_of_row(0,1,-2)\n",
    "#d1.add_multiple_of_row(1,2,6/5)\n",
    "#d1.add_multiple_of_row(0,2,-49/10)\n",
    "\n",
    "show(d1)\n",
    "print('CONTRADICTION: 0 = 1')"
   ]
  },
  {
   "cell_type": "markdown",
   "metadata": {},
   "source": [
    "### (e)"
   ]
  },
  {
   "cell_type": "code",
   "execution_count": 6,
   "metadata": {},
   "outputs": [
    {
     "data": {
      "text/html": [
       "<html><script type=\"math/tex; mode=display\">\\newcommand{\\Bold}[1]{\\mathbf{#1}}\\left(\\begin{array}{rrr}\n",
       "1 & 0 & 0 \\\\\n",
       "0 & 1 & 0 \\\\\n",
       "0 & 0 & 1\n",
       "\\end{array}\\right)</script></html>"
      ],
      "text/plain": [
       "[1 0 0]\n",
       "[0 1 0]\n",
       "[0 0 1]"
      ]
     },
     "metadata": {},
     "output_type": "display_data"
    },
    {
     "name": "stdout",
     "output_type": "stream",
     "text": [
      "removing the last row would provide infinite solutions since you'd be removing the contradition but you'd be short one pivot\n"
     ]
    }
   ],
   "source": [
    "d1 = matrix(QQ, [[2,4,5],[2,9,-1],[4,1,20]])\n",
    "d1.rescale_row(0,1/2)\n",
    "d1.add_multiple_of_row(1,0,-2)\n",
    "d1.add_multiple_of_row(2,0,-4)\n",
    "d1.rescale_row(1,1/5)\n",
    "d1.add_multiple_of_row(2,1,7)\n",
    "d1.rescale_row(2,5/8)\n",
    "d1.add_multiple_of_row(0,1,-2)\n",
    "d1.add_multiple_of_row(1,2,6/5)\n",
    "d1.add_multiple_of_row(0,2,-49/10)\n",
    "\n",
    "show(d1)\n",
    "print('removing the last row would provide infinite solutions since you\\'d be removing the contradition but you\\'d be short one pivot')"
   ]
  },
  {
   "cell_type": "code",
   "execution_count": 7,
   "metadata": {},
   "outputs": [
    {
     "data": {
      "text/html": [
       "<html><script type=\"math/tex; mode=display\">\\newcommand{\\Bold}[1]{\\mathbf{#1}}\\left(\\begin{array}{rrr}\n",
       "1 & 0 & \\frac{75}{14} \\\\\n",
       "0 & 1 & -\\frac{10}{7}\n",
       "\\end{array}\\right)</script></html>"
      ],
      "text/plain": [
       "[    1     0 75/14]\n",
       "[    0     1 -10/7]"
      ]
     },
     "metadata": {},
     "output_type": "display_data"
    },
    {
     "name": "stdout",
     "output_type": "stream",
     "text": [
      "The same happens if you remove any other row\n"
     ]
    }
   ],
   "source": [
    "d2 = matrix(QQ, [[2,4,5],[4,1,20]])\n",
    "d2.rescale_row(0,1/2)\n",
    "d2.add_multiple_of_row(1,0,-4)\n",
    "d2.rescale_row(1,-1/7)\n",
    "d2.add_multiple_of_row(0,1,-2)\n",
    "\n",
    "show(d2)\n",
    "print('The same happens if you remove any other row')"
   ]
  },
  {
   "cell_type": "code",
   "execution_count": 8,
   "metadata": {},
   "outputs": [
    {
     "data": {
      "text/html": [
       "<html><script type=\"math/tex; mode=display\">\\newcommand{\\Bold}[1]{\\mathbf{#1}}\\left(\\begin{array}{rrr}\n",
       "1 & 0 & \\frac{181}{34} \\\\\n",
       "0 & 1 & -\\frac{22}{17}\n",
       "\\end{array}\\right)</script></html>"
      ],
      "text/plain": [
       "[     1      0 181/34]\n",
       "[     0      1 -22/17]"
      ]
     },
     "metadata": {},
     "output_type": "display_data"
    },
    {
     "name": "stdout",
     "output_type": "stream",
     "text": [
      "This tells us that removing a row increases your solution set. This makes sense because rows are essentially restrictions that the solution set has to meet.\n"
     ]
    }
   ],
   "source": [
    "d3 = matrix(QQ, [[2,9,-1],[4,1,20]])\n",
    "d3.rescale_row(0,1/2)\n",
    "d3.add_multiple_of_row(1,0,-4)\n",
    "d3.rescale_row(1,-1/17)\n",
    "d3.add_multiple_of_row(0,1,-9/2)\n",
    "\n",
    "show(d3)\n",
    "print('This tells us that removing a row increases your solution set. This makes sense because rows are essentially restrictions that the solution set has to meet.')"
   ]
  },
  {
   "cell_type": "markdown",
   "metadata": {},
   "source": [
    "### (f)\n",
    "\n",
    "(i) True: Row equivalent augemented matrices is defined by having the same RREF. Since the solution set is defined by the RREF, it then follows that matrices that have the same RREF have the same solution set. Thus, Equivalence implies the same solution set.     \n",
    "(ii) False. There's different ways to express the same solution set. Most obviously, you could have multiple unequivalent matrices with no solution set. Additionally, you could have multiple sets of equations that intersect at the same point without those sets being equivalent to each other\n",
    "# check and try to come up to counterexamples"
   ]
  },
  {
   "cell_type": "markdown",
   "metadata": {},
   "source": [
    "# Q2"
   ]
  },
  {
   "cell_type": "code",
   "execution_count": 13,
   "metadata": {},
   "outputs": [
    {
     "data": {
      "text/html": [
       "<html><script type=\"math/tex; mode=display\">\\newcommand{\\Bold}[1]{\\mathbf{#1}}\\left(\\begin{array}{rrrrrrr}\n",
       "1 & 1 & 0 & 0 & 0 & 0 & 0 \\\\\n",
       "1 & 0 & -1 & 0 & 0 & 0 & 1 \\\\\n",
       "0 & 0 & 1 & -1 & 0 & 0 & 0 \\\\\n",
       "0 & 0 & 0 & 1 & -1 & 0 & 0 \\\\\n",
       "0 & 0 & 0 & 0 & 1 & -1 & -1 \\\\\n",
       "0 & 1 & 0 & 0 & 0 & 1 & 0\n",
       "\\end{array}\\right)</script></html>"
      ],
      "text/plain": [
       "[ 1  1  0  0  0  0  0]\n",
       "[ 1  0 -1  0  0  0  1]\n",
       "[ 0  0  1 -1  0  0  0]\n",
       "[ 0  0  0  1 -1  0  0]\n",
       "[ 0  0  0  0  1 -1 -1]\n",
       "[ 0  1  0  0  0  1  0]"
      ]
     },
     "metadata": {},
     "output_type": "display_data"
    },
    {
     "data": {
      "text/html": [
       "<html><script type=\"math/tex; mode=display\">\\newcommand{\\Bold}[1]{\\mathbf{#1}}\\left(\\begin{array}{r}\n",
       "a_{y_{1}} \\\\\n",
       "a_{y_{2}} \\\\\n",
       "b_{y_{1}} \\\\\n",
       "c_{y_{1}} \\\\\n",
       "d_{y_{1}} \\\\\n",
       "e_{y_{1}} \\\\\n",
       "e_{y_{2}}\n",
       "\\end{array}\\right)</script></html>"
      ],
      "text/plain": [
       "[a_y1]\n",
       "[a_y2]\n",
       "[b_y1]\n",
       "[c_y1]\n",
       "[d_y1]\n",
       "[e_y1]\n",
       "[e_y2]"
      ]
     },
     "metadata": {},
     "output_type": "display_data"
    },
    {
     "data": {
      "text/html": [
       "<html><script type=\"math/tex; mode=display\">\\newcommand{\\Bold}[1]{\\mathbf{#1}}\\left(\\begin{array}{r}\n",
       "400 \\\\\n",
       "300 \\\\\n",
       "-100 \\\\\n",
       "200 \\\\\n",
       "-300 \\\\\n",
       "300\n",
       "\\end{array}\\right)</script></html>"
      ],
      "text/plain": [
       "[ 400]\n",
       "[ 300]\n",
       "[-100]\n",
       "[ 200]\n",
       "[-300]\n",
       "[ 300]"
      ]
     },
     "metadata": {},
     "output_type": "display_data"
    }
   ],
   "source": [
    "var('a_y1,a_y2,b_y1,c_y1,d_y1,e_y1,e_y2')\n",
    "twoA = matrix(QQ, [[1,1,0,0,0,0,0],[1,0,-1,0,0,0,1],[0,0,1,-1,0,0,0],[0,0,0,1,-1,0,0],[0,0,0,0,1,-1,-1],[0,1,0,0,0,1,0]])\n",
    "twoX = matrix([[a_y1],[a_y2],[b_y1],[c_y1],[d_y1],[e_y1],[e_y2]])\n",
    "twoB = matrix(QQ,[[400],[300],[-100],[200],[-300],[300]])\n",
    "show(twoA)\n",
    "show(twoX)\n",
    "show(twoB)"
   ]
  },
  {
   "cell_type": "code",
   "execution_count": 4,
   "metadata": {},
   "outputs": [
    {
     "data": {
      "text/html": [
       "<html><script type=\"math/tex; mode=display\">\\newcommand{\\Bold}[1]{\\mathbf{#1}}\\left(\\begin{array}{rrrrrrrr}\n",
       "1 & 1 & 0 & 0 & 0 & 0 & 0 & 400 \\\\\n",
       "1 & 0 & -1 & 0 & 0 & 0 & 1 & 300 \\\\\n",
       "0 & 0 & 1 & -1 & 0 & 0 & 0 & -100 \\\\\n",
       "0 & 0 & 0 & 1 & -1 & 0 & 0 & 200 \\\\\n",
       "0 & 0 & 0 & 0 & 1 & -1 & -1 & -300 \\\\\n",
       "0 & 1 & 0 & 0 & 0 & 1 & 0 & 300\n",
       "\\end{array}\\right)</script></html>"
      ],
      "text/plain": [
       "[   1    1    0    0    0    0    0  400]\n",
       "[   1    0   -1    0    0    0    1  300]\n",
       "[   0    0    1   -1    0    0    0 -100]\n",
       "[   0    0    0    1   -1    0    0  200]\n",
       "[   0    0    0    0    1   -1   -1 -300]\n",
       "[   0    1    0    0    0    1    0  300]"
      ]
     },
     "metadata": {},
     "output_type": "display_data"
    },
    {
     "data": {
      "text/plain": [
       "[   1    0    0    0    0   -1    0  100]\n",
       "[   0    1    0    0    0    1    0  300]\n",
       "[   0    0    1    0    0   -1   -1 -200]\n",
       "[   0    0    0    1    0   -1   -1 -100]\n",
       "[   0    0    0    0    1   -1   -1 -300]\n",
       "[   0    0    0    0    0    0    0    0]"
      ]
     },
     "execution_count": 4,
     "metadata": {},
     "output_type": "execute_result"
    }
   ],
   "source": [
    "# augmented matrices version\n",
    "\n",
    "twoAug = matrix(QQ, [[1,1,0,0,0,0,0,400],[1,0,-1,0,0,0,1,300],[0,0,1,-1,0,0,0,-100],[0,0,0,1,-1,0,0,200],[0,0,0,0,1,-1,-1,-300],[0,1,0,0,0,1,0,300]])\n",
    "show(twoAug)\n",
    "twoAug.rref()\n"
   ]
  },
  {
   "cell_type": "markdown",
   "metadata": {},
   "source": [
    "# show the plane of answers"
   ]
  },
  {
   "cell_type": "markdown",
   "metadata": {},
   "source": [
    "# Q3\n"
   ]
  },
  {
   "cell_type": "markdown",
   "metadata": {},
   "source": [
    "BC = -CB"
   ]
  },
  {
   "cell_type": "code",
   "execution_count": 14,
   "metadata": {},
   "outputs": [
    {
     "data": {
      "text/html": [
       "<html><script type=\"math/tex; mode=display\">\\newcommand{\\Bold}[1]{\\mathbf{#1}}\\left(\\begin{array}{rr}\n",
       "-1 & -2 \\\\\n",
       "-3 & -4\n",
       "\\end{array}\\right)</script></html>"
      ],
      "text/plain": [
       "[-1 -2]\n",
       "[-3 -4]"
      ]
     },
     "metadata": {},
     "output_type": "display_data"
    }
   ],
   "source": [
    "three = matrix(QQ,[[1,2],[3,4]])\n",
    "show(-three)"
   ]
  },
  {
   "cell_type": "code",
   "execution_count": 27,
   "metadata": {
    "scrolled": true
   },
   "outputs": [
    {
     "data": {
      "text/plain": [
       "[a^2 + b*c a*b + b*d]\n",
       "[a*c + c*d b*c + d^2]"
      ]
     },
     "execution_count": 27,
     "metadata": {},
     "output_type": "execute_result"
    }
   ],
   "source": [
    "var('a,b,c,d,e,f,g,h')\n",
    "\n",
    "t1 = matrix([[a,b],[c,d]])\n",
    "t2 = matrix([[e,f],[g,h]])\n",
    "\n",
    "t1*t1"
   ]
  },
  {
   "cell_type": "code",
   "execution_count": 26,
   "metadata": {},
   "outputs": [
    {
     "data": {
      "text/plain": [
       "[ -c*f - 4 -2*f - 12]\n",
       "[ -2*c + 4         8]"
      ]
     },
     "execution_count": 26,
     "metadata": {},
     "output_type": "execute_result"
    }
   ],
   "source": [
    "-t2*t1"
   ]
  },
  {
   "cell_type": "code",
   "execution_count": null,
   "metadata": {},
   "outputs": [],
   "source": [
    "therefore when         \n",
    "ae + bg = -ae -cf\n",
    "af + bh = -be - df\n",
    "ce + dg = -ag - ch\n",
    "cf + dh = -bg - dh\n",
    "\n",
    "\n",
    "-2ae = cf + bg\n",
    "af + bh = -be - df\n",
    "ce + dg = -ag - ch\n",
    "cf + bg = -2dh\n",
    "\n",
    "\n",
    ":. ae = dh\n",
    "    \n",
    "bg +4 = -cf-4\n",
    "bg + cf = -8\n",
    "\n",
    "cf = -4"
   ]
  },
  {
   "cell_type": "code",
   "execution_count": 32,
   "metadata": {},
   "outputs": [
    {
     "data": {
      "text/plain": [
       "[0 0]\n",
       "[0 0]"
      ]
     },
     "execution_count": 32,
     "metadata": {},
     "output_type": "execute_result"
    }
   ],
   "source": [
    "w1 = matrix([[2,2],[-2,-2]])\n",
    "\n",
    "w1*w1"
   ]
  },
  {
   "cell_type": "markdown",
   "metadata": {},
   "source": [
    "Therefore when \n",
    "a^2 +bc = 0\n",
    "ab + bd = 0\n",
    "ac + cd = 0\n",
    "bc + d^2 = 0\n",
    "\n",
    "a^2 = d^2\n",
    "____\n",
    "d^2 +bc = 0\n",
    "db + bd = 0\n",
    "dc + cd = 0\n",
    "_____\n",
    "\n",
    "\n",
    "d = sqrt(-bc)\n",
    "\n"
   ]
  },
  {
   "cell_type": "code",
   "execution_count": 38,
   "metadata": {},
   "outputs": [
    {
     "data": {
      "text/html": [
       "<html><script type=\"math/tex; mode=display\">\\newcommand{\\Bold}[1]{\\mathbf{#1}}\\left(\\begin{array}{rr}\n",
       "-2 & 1 \\\\\n",
       "-1 & 2\n",
       "\\end{array}\\right)</script></html>"
      ],
      "text/plain": [
       "[-2  1]\n",
       "[-1  2]"
      ]
     },
     "metadata": {},
     "output_type": "display_data"
    },
    {
     "data": {
      "text/html": [
       "<html><script type=\"math/tex; mode=display\">\\newcommand{\\Bold}[1]{\\mathbf{#1}}\\left(\\begin{array}{rr}\n",
       "-1 & 1 \\\\\n",
       "-2 & 0\n",
       "\\end{array}\\right)</script></html>"
      ],
      "text/plain": [
       "[-1  1]\n",
       "[-2  0]"
      ]
     },
     "metadata": {},
     "output_type": "display_data"
    }
   ],
   "source": [
    "# A + B must have determinant of zero\n",
    "# ad - bc = 0\n",
    "# so \n",
    "\n",
    "# if new mat = [-3,2],[,-3,2]\n",
    "\n",
    "\n",
    "a1 = matrix([[-2,1],[-1,2]])\n",
    "a2 = matrix([[-1,1],[-2,0]])\n",
    "show(a1)\n",
    "show(a2)"
   ]
  },
  {
   "cell_type": "code",
   "execution_count": 53,
   "metadata": {},
   "outputs": [
    {
     "data": {
      "text/plain": [
       "0"
      ]
     },
     "execution_count": 53,
     "metadata": {},
     "output_type": "execute_result"
    }
   ],
   "source": [
    "# A and B must have determinant of zero\n",
    "# A + B must have det of non-zero\n",
    "b1 = matrix([[-3,2],[-3,2]])\n",
    "b2 = matrix([[6,3],[8,4]])\n",
    "#b1.det()\n",
    "#b2.det()\n",
    "\n",
    "#(b1+b2).det()\n",
    "\n",
    "# as long as a != c and b != d"
   ]
  },
  {
   "cell_type": "markdown",
   "metadata": {},
   "source": [
    "# Q4"
   ]
  },
  {
   "cell_type": "code",
   "execution_count": 178,
   "metadata": {},
   "outputs": [
    {
     "data": {
      "text/html": [
       "<html><script type=\"math/tex; mode=display\">\\newcommand{\\Bold}[1]{\\mathbf{#1}}\\left(\\begin{array}{rr}\n",
       "7 & 8 \\\\\n",
       "11 & 11\n",
       "\\end{array}\\right)</script></html>"
      ],
      "text/plain": [
       "[ 7  8]\n",
       "[11 11]"
      ]
     },
     "metadata": {},
     "output_type": "display_data"
    },
    {
     "data": {
      "text/html": [
       "<html><script type=\"math/tex; mode=display\">\\newcommand{\\Bold}[1]{\\mathbf{#1}}\\left[\\left(\\begin{array}{r}\n",
       "19 \\\\\n",
       "4\n",
       "\\end{array}\\right), \\left(\\begin{array}{r}\n",
       "18 \\\\\n",
       "19\n",
       "\\end{array}\\right), \\left(\\begin{array}{r}\n",
       "12 \\\\\n",
       "4\n",
       "\\end{array}\\right), \\left(\\begin{array}{r}\n",
       "18 \\\\\n",
       "18\n",
       "\\end{array}\\right), \\left(\\begin{array}{r}\n",
       "0 \\\\\n",
       "6\n",
       "\\end{array}\\right), \\left(\\begin{array}{r}\n",
       "4 \\\\\n",
       "23\n",
       "\\end{array}\\right)\\right]</script></html>"
      ],
      "text/plain": [
       "[\n",
       "[19]  [18]  [12]  [18]  [0]  [ 4]\n",
       "[ 4], [19], [ 4], [18], [6], [23]\n",
       "]"
      ]
     },
     "metadata": {},
     "output_type": "display_data"
    },
    {
     "ename": "TypeError",
     "evalue": "object of type 'sage.matrix.matrix_integer_dense.Matrix_integer_dense' has no len()",
     "output_type": "error",
     "traceback": [
      "\u001b[0;31m---------------------------------------------------------------------------\u001b[0m",
      "\u001b[0;31mTypeError\u001b[0m                                 Traceback (most recent call last)",
      "\u001b[0;32m<ipython-input-178-c9b190cc7c9c>\u001b[0m in \u001b[0;36m<module>\u001b[0;34m()\u001b[0m\n\u001b[1;32m     32\u001b[0m \u001b[0;34m\u001b[0m\u001b[0m\n\u001b[1;32m     33\u001b[0m \u001b[0;32mfor\u001b[0m \u001b[0mj\u001b[0m \u001b[0;32min\u001b[0m \u001b[0mmsg_m\u001b[0m\u001b[0;34m:\u001b[0m\u001b[0;34m\u001b[0m\u001b[0m\n\u001b[0;32m---> 34\u001b[0;31m     \u001b[0mencrypted_m\u001b[0m\u001b[0;34m.\u001b[0m\u001b[0mappend\u001b[0m\u001b[0;34m(\u001b[0m\u001b[0mtoChar\u001b[0m\u001b[0;34m(\u001b[0m\u001b[0mkey_m\u001b[0m\u001b[0;34m*\u001b[0m\u001b[0mj\u001b[0m \u001b[0;34m%\u001b[0m \u001b[0mInteger\u001b[0m\u001b[0;34m(\u001b[0m\u001b[0;36m26\u001b[0m\u001b[0;34m)\u001b[0m\u001b[0;34m)\u001b[0m\u001b[0;34m)\u001b[0m\u001b[0;34m\u001b[0m\u001b[0m\n\u001b[0m\u001b[1;32m     35\u001b[0m \u001b[0;34m\u001b[0m\u001b[0m\n\u001b[1;32m     36\u001b[0m     \u001b[0mshow\u001b[0m\u001b[0;34m(\u001b[0m\u001b[0mencrypted_m\u001b[0m\u001b[0;34m)\u001b[0m\u001b[0;34m\u001b[0m\u001b[0m\n",
      "\u001b[0;32m<ipython-input-178-c9b190cc7c9c>\u001b[0m in \u001b[0;36mtoChar\u001b[0;34m(arr)\u001b[0m\n\u001b[1;32m     10\u001b[0m \u001b[0;34m\u001b[0m\u001b[0m\n\u001b[1;32m     11\u001b[0m \u001b[0;32mdef\u001b[0m \u001b[0mtoChar\u001b[0m\u001b[0;34m(\u001b[0m\u001b[0marr\u001b[0m\u001b[0;34m)\u001b[0m\u001b[0;34m:\u001b[0m\u001b[0;34m\u001b[0m\u001b[0m\n\u001b[0;32m---> 12\u001b[0;31m     \u001b[0;32mfor\u001b[0m \u001b[0mi\u001b[0m \u001b[0;32min\u001b[0m \u001b[0mrange\u001b[0m\u001b[0;34m(\u001b[0m\u001b[0mlen\u001b[0m\u001b[0;34m(\u001b[0m\u001b[0marr\u001b[0m\u001b[0;34m)\u001b[0m\u001b[0;34m)\u001b[0m\u001b[0;34m:\u001b[0m\u001b[0;34m\u001b[0m\u001b[0m\n\u001b[0m\u001b[1;32m     13\u001b[0m         \u001b[0;32mfor\u001b[0m \u001b[0mj\u001b[0m \u001b[0;32min\u001b[0m \u001b[0mrange\u001b[0m\u001b[0;34m(\u001b[0m\u001b[0mlen\u001b[0m\u001b[0;34m(\u001b[0m\u001b[0marr\u001b[0m\u001b[0;34m[\u001b[0m\u001b[0mi\u001b[0m\u001b[0;34m]\u001b[0m\u001b[0;34m)\u001b[0m\u001b[0;34m)\u001b[0m\u001b[0;34m:\u001b[0m\u001b[0;34m\u001b[0m\u001b[0m\n\u001b[1;32m     14\u001b[0m             \u001b[0marr\u001b[0m\u001b[0;34m[\u001b[0m\u001b[0mi\u001b[0m\u001b[0;34m]\u001b[0m\u001b[0;34m[\u001b[0m\u001b[0mj\u001b[0m\u001b[0;34m]\u001b[0m \u001b[0;34m=\u001b[0m \u001b[0md\u001b[0m\u001b[0;34m.\u001b[0m\u001b[0mkeys\u001b[0m\u001b[0;34m(\u001b[0m\u001b[0;34m)\u001b[0m\u001b[0;34m[\u001b[0m\u001b[0md\u001b[0m\u001b[0;34m.\u001b[0m\u001b[0mvalues\u001b[0m\u001b[0;34m(\u001b[0m\u001b[0;34m)\u001b[0m\u001b[0;34m.\u001b[0m\u001b[0mindex\u001b[0m\u001b[0;34m(\u001b[0m\u001b[0marr\u001b[0m\u001b[0;34m[\u001b[0m\u001b[0mi\u001b[0m\u001b[0;34m]\u001b[0m\u001b[0;34m[\u001b[0m\u001b[0mj\u001b[0m\u001b[0;34m]\u001b[0m\u001b[0;34m)\u001b[0m\u001b[0;34m]\u001b[0m\u001b[0;34m\u001b[0m\u001b[0m\n",
      "\u001b[0;31mTypeError\u001b[0m: object of type 'sage.matrix.matrix_integer_dense.Matrix_integer_dense' has no len()"
     ]
    }
   ],
   "source": [
    "key = [[\"H\",\"I\"],[\"L\",\"L\"]]\n",
    "\n",
    "def toNum(arr):\n",
    "    if type(arr) is not list:\n",
    "        arr = arr.tolist()\n",
    "    for i in range(len(arr)):\n",
    "        for j in range(len(arr[i])):\n",
    "            arr[i][j] = d.get(arr[i][j].lower())\n",
    "    return(arr)\n",
    "\n",
    "def toChar(arr):\n",
    "    for i in range(len(arr)):\n",
    "        for j in range(len(arr[i])):\n",
    "            arr[i][j] = d.keys()[d.values().index(arr[i][j])]\n",
    "    return(arr)\n",
    "\n",
    "toNum(key)\n",
    "key_m = matrix(key)\n",
    "show(key_m)\n",
    "\n",
    "message = [[['T'],['E']],[['S'],['T']],[['M'],['E']],[['S'],['S']],[['A'],['G']],[['E'],['X']]]\n",
    "\n",
    "msg_m = []\n",
    "\n",
    "for i in message:\n",
    "    toNum(i)\n",
    "    msg_m.append(matrix(i))\n",
    "\n",
    "show(msg_m)\n",
    "\n",
    "encrypted_m = []\n",
    "\n",
    "for j in msg_m:\n",
    "    encrypted_m.append(toChar(key_m*j % 26))\n",
    "\n",
    "    show(encrypted_m)\n",
    "    "
   ]
  },
  {
   "cell_type": "code",
   "execution_count": 70,
   "metadata": {},
   "outputs": [
    {
     "name": "stdout",
     "output_type": "stream",
     "text": [
      "[[7, 8], [11, 11]]\n",
      "[['h', 'i'], ['l', 'l']]\n",
      "[[7, 8], [11, 11]]\n"
     ]
    }
   ],
   "source": [
    "import string\n",
    "d = dict(zip(string.ascii_lowercase, range(0,26)))\n",
    "\n",
    "key = [[\"H\",\"I\"],[\"L\",\"L\"]]\n",
    "\n",
    "def toNum(arr):\n",
    "    for i in range(len(arr)):\n",
    "        for j in range(len(arr[i])):\n",
    "            arr[i][j] = d.get(arr[i][j].lower())\n",
    "    return(arr)\n",
    "\n",
    "def toChar(arr):\n",
    "    for i in range(len(arr)):\n",
    "        for j in range(len(arr[i])):\n",
    "            arr[i][j] = d.keys()[d.values().index(arr[i][j])]\n",
    "    return(arr)\n",
    "\n",
    "import numpy as np\n",
    "def encrypt(X,Y):\n",
    "    res_m = np.matmul(X,Y)\n",
    "    for i in range(len(res_m)):\n",
    "        for j in range(len(res_m[i])):\n",
    "            res_m[i][j] = int(res_m[i][j] % 26)\n",
    "    return(res_m)\n",
    "\n",
    "toNum(key)\n",
    "print(key)\n",
    "toChar(key)\n",
    "print(key)\n",
    "toNum(key)\n",
    "print(key)"
   ]
  },
  {
   "cell_type": "code",
   "execution_count": 79,
   "metadata": {
    "scrolled": true
   },
   "outputs": [
    {
     "name": "stdout",
     "output_type": "stream",
     "text": [
      "[['j'], ['t']]\n",
      "[['s'], ['r']]\n",
      "[['m'], ['u']]\n",
      "[['k'], ['g']]\n",
      "[['w'], ['o']]\n",
      "[['e'], ['l']]\n"
     ]
    }
   ],
   "source": [
    "message = [[['T'],['E']],[['S'],['T']],[['M'],['E']],[['S'],['S']],[['A'],['G']],[['E'],['X']]]\n",
    "\n",
    "for i in message:\n",
    "    toNum(i)\n",
    "\n",
    "test = [[9],[19]]    \n",
    "    \n",
    "for short in message:\n",
    "    scramble = encrypt(key,short).tolist()\n",
    "    scramble = toChar(scramble)\n",
    "    print(scramble)\n"
   ]
  },
  {
   "cell_type": "code",
   "execution_count": 91,
   "metadata": {},
   "outputs": [
    {
     "name": "stdout",
     "output_type": "stream",
     "text": [
      "[[-1.0, 0.7272727272727273], [1.0, -0.6363636363636364]]\n",
      "('mod', [[25.0, 0.7272727272727273], [1.0, 25.363636363636363]])\n",
      "[['a'], ['c']]\n",
      "[['x'], ['d']]\n",
      "[['w'], ['e']]\n",
      "[['m'], ['p']]\n",
      "[['i'], ['s']]\n",
      "[['n'], ['o']]\n",
      "[['o'], ['l']]\n",
      "[['c'], ['y']]\n",
      "[['f'], ['w']]\n",
      "[['w'], ['e']]\n",
      "[['h'], ['t']]\n"
     ]
    }
   ],
   "source": [
    "import numpy as np\n",
    "msg = [[['Q'],['W']],[['J'],['J']],[['O'],['P']],[['E'],['X']],[['W'],['G']],[['B'],['U']],[['P'],['F']],[['A'],['D']],[['H'],['R']],[['N'],['N']],[['Z'],['J']]]\n",
    "\n",
    "new_key = np.linalg.inv(key).tolist()\n",
    "print(new_key)\n",
    "for i in range(len(new_key)):\n",
    "    for j in range(len(new_key[i])):\n",
    "        new_key[i][j] = new_key[i][j] % 26\n",
    "print('mod',new_key)\n",
    "\n",
    "\n",
    "for l in msg:\n",
    "    toNum(l)\n",
    "    un = encrypt(new_key,l).tolist()\n",
    "    un = toChar(un)\n",
    "    print(un)\n",
    " \n",
    "# should be ACHIEVINGEXTRAORDINARY\n",
    "\n",
    "    "
   ]
  },
  {
   "cell_type": "code",
   "execution_count": null,
   "metadata": {},
   "outputs": [],
   "source": []
  },
  {
   "cell_type": "code",
   "execution_count": null,
   "metadata": {},
   "outputs": [],
   "source": []
  }
 ],
 "metadata": {
  "kernelspec": {
   "display_name": "SageMath 8.5",
   "language": "",
   "name": "sagemath"
  },
  "language_info": {
   "codemirror_mode": {
    "name": "ipython",
    "version": 2
   },
   "file_extension": ".py",
   "mimetype": "text/x-python",
   "name": "python",
   "nbconvert_exporter": "python",
   "pygments_lexer": "ipython2",
   "version": "2.7.15"
  }
 },
 "nbformat": 4,
 "nbformat_minor": 2
}
