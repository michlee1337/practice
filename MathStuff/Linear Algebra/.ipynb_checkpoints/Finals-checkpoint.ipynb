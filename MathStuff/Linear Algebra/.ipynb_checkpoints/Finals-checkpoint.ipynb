{
 "cells": [
  {
   "cell_type": "markdown",
   "metadata": {},
   "source": [
    "# 2. Multinational Mayhem"
   ]
  },
  {
   "cell_type": "markdown",
   "metadata": {},
   "source": [
    "## (a) Find transformation matrix A"
   ]
  },
  {
   "cell_type": "markdown",
   "metadata": {},
   "source": [
    "A is such that the following is True:\n",
    "$\\begin{bmatrix}\n",
    "    Am_{n+1}\\\\\n",
    "    As_{n+1}\\\\\n",
    "    Eu_{n+1}\n",
    "\\end{bmatrix} = A\\begin{bmatrix}\n",
    "    Am_{n}\\\\\n",
    "    As_{n}\\\\\n",
    "    Eu_{n}\n",
    "\\end{bmatrix}$\n",
    "\n",
    "Thus the columns of A will need to tell us what component of the current rows (states) will go to the corresponding row (state) in the next state.\n",
    "\n",
    "Thus, $A_{ij}$ will tell us the component of the jth current state that will go to the ith next state.\n",
    "\n",
    "Each column is where the money currently is (current state) and each row is where the money will go with the next transformation (next state).\n",
    "\n",
    "In the order Americas, Asia, Europe:\n",
    "\n",
    "$A = \\begin{bmatrix}\n",
    "    1/2 & 1/2 & 1/2\\\\\n",
    "    1/4 & 1/2 & 0\\\\\n",
    "    1/4 & 0 & 1/2\n",
    "\\end{bmatrix}$"
   ]
  },
  {
   "cell_type": "code",
   "execution_count": 1,
   "metadata": {
    "scrolled": true
   },
   "outputs": [
    {
     "data": {
      "text/plain": [
       "(2, 1/2, 3/2)"
      ]
     },
     "execution_count": 1,
     "metadata": {},
     "output_type": "execute_result"
    }
   ],
   "source": [
    "A = matrix([[1/2,1/2,1/2],[1/4,1/2,0],[1/4,0,1/2]])\n",
    "\n",
    "i_state = vector([2,0,2])\n",
    "\n",
    "A*i_state"
   ]
  },
  {
   "cell_type": "markdown",
   "metadata": {},
   "source": [
    "_______"
   ]
  },
  {
   "cell_type": "markdown",
   "metadata": {},
   "source": [
    "## (b) Diagonalize A"
   ]
  },
  {
   "cell_type": "markdown",
   "metadata": {},
   "source": [
    "**Finding Eigenvalues**      \n",
    "Since eigenvectors ($\\vec{v}$) are vectors that only change by a scalar multiple ($\\lambda$) during transformation ($A$), they can be expressed by the following equation:    \n",
    "$A\\vec{v}=\\lambda\\vec{v}$     \n",
    "\n",
    "To make everything in this equation matrix multiplication, it's less awkward to write it as:   \n",
    "$A\\vec{v}=\\lambda I\\vec{v}$      \n",
    "\n",
    "Then we can factor our the $v$:      \n",
    "$A\\vec{v}-\\lambda I\\vec{v} = \\vec{0}$      \n",
    "$(A-\\lambda I)\\vec{v} = \\vec{0}$      \n",
    "\n",
    "Since eigenvectors must be non-zero, this tells us that $v$ must be in the nullspace of ($A-\\lambda I$).     \n",
    "Thus, the nullspace of $A-\\lambda I$ is not empty.     \n",
    "Thus, $A-\\lambda I$ is not full rank (it's rank is less than its' number of columns/rows).      \n",
    "Thus, $A-\\lambda I$ is singular, which means its determinant has to be $0$.\n",
    "\n",
    "$A-\\lambda I=\\begin{bmatrix}\n",
    "    1/2 - \\lambda & 1/2 & 1/2\\\\\n",
    "    1/4 & 1/2 - \\lambda & 0\\\\\n",
    "    1/4 & 0 & 1/2 - \\lambda\n",
    "\\end{bmatrix}$      \n",
    "\n",
    "Expanding this matrix along the last row:     \n",
    "\n",
    "$det(A)=1/4(0 - 1/2(1/2-\\lambda))-0+(1/2-\\lambda)((1/2-\\lambda)^2-1/2(1/4))$        \n",
    "$det(A)=1/4(- 1/4+1/2\\lambda)+(1/2-\\lambda)(1/4-\\lambda+\\lambda^2-1/8)$        \n",
    "$det(A)=-1/16+1/8\\lambda+1/8-1/2\\lambda+1/2\\lambda^2-1/16-1/4\\lambda + \\lambda^2 - \\lambda^3 + 1/8\\lambda$      \n",
    "$det(A)=-1/2\\lambda+3/2\\lambda^2 - \\lambda^3$      \n",
    "\n",
    "From this equation we see that $\\lambda=0$ OR $\\lambda=1/2$ OR $\\lambda=1$           "
   ]
  },
  {
   "cell_type": "markdown",
   "metadata": {},
   "source": [
    "**Finding Eigenvectors**        \n",
    "We can find the eigenvectors by plugging the eigenvalues we found into the same equation:     \n",
    "\n",
    "$\\begin{bmatrix}\n",
    "    1/2 - \\lambda & 1/2 & 1/2\\\\\n",
    "    1/4 & 1/2 - \\lambda & 0\\\\\n",
    "    1/4 & 0 & 1/2 - \\lambda\n",
    "\\end{bmatrix}\\begin{bmatrix}\n",
    "    x\\\\\n",
    "    y\\\\\n",
    "    z\n",
    "\\end{bmatrix}=\\begin{bmatrix}\n",
    "    0\\\\\n",
    "    0\\\\\n",
    "    0\n",
    "\\end{bmatrix}$"
   ]
  },
  {
   "cell_type": "markdown",
   "metadata": {},
   "source": [
    "**Eigenvector[s] with Eigenvalue 0**        \n",
    "$\\begin{bmatrix}\n",
    "    1/2 - 0 & 1/2 & 1/2\\\\\n",
    "    1/4 & 1/2 - 0 & 0\\\\\n",
    "    1/4 & 0 & 1/2 - 0\n",
    "\\end{bmatrix}\\begin{bmatrix}\n",
    "    x_1\\\\\n",
    "    y_1\\\\\n",
    "    z_1\n",
    "\\end{bmatrix}=\\begin{bmatrix}\n",
    "    0\\\\\n",
    "    0\\\\\n",
    "    0\n",
    "\\end{bmatrix}$\n",
    "\n",
    "$\\begin{bmatrix}\n",
    "    1/2 & 1/2 & 1/2\\\\\n",
    "    1/4 & 1/2 & 0\\\\\n",
    "    1/4 & 0 & 1/2\n",
    "\\end{bmatrix}\\begin{bmatrix}\n",
    "    x_1\\\\\n",
    "    y_1\\\\\n",
    "    z_1\n",
    "\\end{bmatrix}=\\begin{bmatrix}\n",
    "    0\\\\\n",
    "    0\\\\\n",
    "    0\n",
    "\\end{bmatrix}$"
   ]
  },
  {
   "cell_type": "code",
   "execution_count": 4,
   "metadata": {},
   "outputs": [
    {
     "data": {
      "text/plain": [
       "[ 1  0  2  0]\n",
       "[ 0  1 -1  0]\n",
       "[ 0  0  0  0]"
      ]
     },
     "execution_count": 4,
     "metadata": {},
     "output_type": "execute_result"
    }
   ],
   "source": [
    "m1 = matrix([[1/2,1/2,1/2,0],[1/4,1/2,0,0],[1/4,0,1/2,0]])\n",
    "\n",
    "m1.rref()"
   ]
  },
  {
   "cell_type": "markdown",
   "metadata": {},
   "source": [
    "Let $z_1 = t$      \n",
    "\n",
    "$x_1 + 2t = 0$      \n",
    "$y_1 - t = 0$       \n",
    "$z_1 = t$       \n",
    "\n",
    "$\\begin{bmatrix}\n",
    "    x_1\\\\\n",
    "    y_1\\\\\n",
    "    z_1\n",
    "\\end{bmatrix}=t\\begin{bmatrix}\n",
    "    -2\\\\\n",
    "    1\\\\\n",
    "    1\n",
    "\\end{bmatrix}$\n",
    "\n",
    "The eigenvector corresponding with eigenvalue $0$ is $\\begin{bmatrix}\n",
    "    -2\\\\\n",
    "    1\\\\\n",
    "    1\n",
    "\\end{bmatrix}$."
   ]
  },
  {
   "cell_type": "markdown",
   "metadata": {},
   "source": [
    "**Eigenvector[s] with Eigenvalue 1/2**        \n",
    "$\\begin{bmatrix}\n",
    "    1/2 - 1/2 & 1/2 & 1/2\\\\\n",
    "    1/4 & 1/2 - 1/2 & 0\\\\\n",
    "    1/4 & 0 & 1/2 - 1/2\n",
    "\\end{bmatrix}\\begin{bmatrix}\n",
    "    x_2\\\\\n",
    "    y_2\\\\\n",
    "    z_2\n",
    "\\end{bmatrix}=\\begin{bmatrix}\n",
    "    0\\\\\n",
    "    0\\\\\n",
    "    0\n",
    "\\end{bmatrix}$\n",
    "\n",
    "$\\begin{bmatrix}\n",
    "    0 & 1/2 & 1/2\\\\\n",
    "    1/4 & 0 & 0\\\\\n",
    "    1/4 & 0 & 0\n",
    "\\end{bmatrix}\\begin{bmatrix}\n",
    "    x_2\\\\\n",
    "    y_2\\\\\n",
    "    z_2\n",
    "\\end{bmatrix}=\\begin{bmatrix}\n",
    "    0\\\\\n",
    "    0\\\\\n",
    "    0\n",
    "\\end{bmatrix}$"
   ]
  },
  {
   "cell_type": "code",
   "execution_count": 7,
   "metadata": {
    "scrolled": false
   },
   "outputs": [
    {
     "data": {
      "text/plain": [
       "[1 0 0 0]\n",
       "[0 1 1 0]\n",
       "[0 0 0 0]"
      ]
     },
     "execution_count": 7,
     "metadata": {},
     "output_type": "execute_result"
    }
   ],
   "source": [
    "m2 = matrix([[0,1/2,1/2,0],[1/4,0,0,0],[1/4,0,0,0]])\n",
    "\n",
    "m2.rref()"
   ]
  },
  {
   "cell_type": "markdown",
   "metadata": {},
   "source": [
    "Let $z_2 = t$      \n",
    "\n",
    "$x_2 = 0$      \n",
    "$y_2 + t = 0$       \n",
    "$z_2 = t$       \n",
    "\n",
    "$\\begin{bmatrix}\n",
    "    x_2\\\\\n",
    "    y_2\\\\\n",
    "    z_2\n",
    "\\end{bmatrix}=t\\begin{bmatrix}\n",
    "    0\\\\\n",
    "    -1\\\\\n",
    "    1\n",
    "\\end{bmatrix}$\n",
    "\n",
    "The eigenvector corresponding with eigenvalue $1/2$ is $\\begin{bmatrix}\n",
    "    0\\\\\n",
    "    -1\\\\\n",
    "    1\n",
    "\\end{bmatrix}$."
   ]
  },
  {
   "cell_type": "markdown",
   "metadata": {},
   "source": [
    "**Eigenvector[s] with Eigenvalue 1**        \n",
    "$\\begin{bmatrix}\n",
    "    1/2 - 1 & 1/2 & 1/2\\\\\n",
    "    1/4 & 1/2 - 1 & 0\\\\\n",
    "    1/4 & 0 & 1/2 - 1\n",
    "\\end{bmatrix}\\begin{bmatrix}\n",
    "    x_3\\\\\n",
    "    y_3\\\\\n",
    "    z_3\n",
    "\\end{bmatrix}=\\begin{bmatrix}\n",
    "    0\\\\\n",
    "    0\\\\\n",
    "    0\n",
    "\\end{bmatrix}$\n",
    "\n",
    "$\\begin{bmatrix}\n",
    "    -1/2 & 1/2 & 1/2\\\\\n",
    "    1/4 & -1/2 & 0\\\\\n",
    "    1/4 & 0 & -1/2\n",
    "\\end{bmatrix}\\begin{bmatrix}\n",
    "    x_3\\\\\n",
    "    y_3\\\\\n",
    "    z_3\n",
    "\\end{bmatrix}=\\begin{bmatrix}\n",
    "    0\\\\\n",
    "    0\\\\\n",
    "    0\n",
    "\\end{bmatrix}$"
   ]
  },
  {
   "cell_type": "code",
   "execution_count": 9,
   "metadata": {
    "scrolled": true
   },
   "outputs": [
    {
     "data": {
      "text/plain": [
       "[ 1  0 -2  0]\n",
       "[ 0  1 -1  0]\n",
       "[ 0  0  0  0]"
      ]
     },
     "execution_count": 9,
     "metadata": {},
     "output_type": "execute_result"
    }
   ],
   "source": [
    "m3 = matrix([[-1/2,1/2,1/2,0],[1/4,-1/2,0,0],[1/4,0,-1/2,0]])\n",
    "\n",
    "m3.rref()"
   ]
  },
  {
   "cell_type": "markdown",
   "metadata": {},
   "source": [
    "Let $z_3 = t$      \n",
    "\n",
    "$x_3 - 2t = 0$      \n",
    "$y_3 - t = 0$       \n",
    "$z_3 = t$       \n",
    "\n",
    "$\\begin{bmatrix}\n",
    "    x_3\\\\\n",
    "    y_3\\\\\n",
    "    z_3\n",
    "\\end{bmatrix}=t\\begin{bmatrix}\n",
    "    2\\\\\n",
    "    1\\\\\n",
    "    1\n",
    "\\end{bmatrix}$\n",
    "\n",
    "The eigenvector corresponding with eigenvalue $1$ is $\\begin{bmatrix}\n",
    "    2\\\\\n",
    "    1\\\\\n",
    "    1\n",
    "\\end{bmatrix}$."
   ]
  },
  {
   "cell_type": "code",
   "execution_count": null,
   "metadata": {},
   "outputs": [],
   "source": []
  }
 ],
 "metadata": {
  "kernelspec": {
   "display_name": "SageMath 8.7",
   "language": "",
   "name": "sagemath"
  },
  "language_info": {
   "codemirror_mode": {
    "name": "ipython",
    "version": 2
   },
   "file_extension": ".py",
   "mimetype": "text/x-python",
   "name": "python",
   "nbconvert_exporter": "python",
   "pygments_lexer": "ipython2",
   "version": "2.7.15"
  }
 },
 "nbformat": 4,
 "nbformat_minor": 2
}
