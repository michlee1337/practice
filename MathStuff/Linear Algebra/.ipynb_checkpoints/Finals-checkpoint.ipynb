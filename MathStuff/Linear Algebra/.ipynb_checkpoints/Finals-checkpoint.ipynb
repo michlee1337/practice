{
 "cells": [
  {
   "cell_type": "markdown",
   "metadata": {},
   "source": [
    "# 2. Multinational Mayhem"
   ]
  },
  {
   "cell_type": "markdown",
   "metadata": {},
   "source": [
    "## (a) Find transformation matrix A"
   ]
  },
  {
   "cell_type": "markdown",
   "metadata": {},
   "source": [
    "A is such that the following is True:\n",
    "$\\begin{bmatrix}\n",
    "    Am_{n+1}\\\\\n",
    "    As_{n+1}\\\\\n",
    "    Eu_{n+1}\n",
    "\\end{bmatrix} = A\\begin{bmatrix}\n",
    "    Am_{n}\\\\\n",
    "    As_{n}\\\\\n",
    "    Eu_{n}\n",
    "\\end{bmatrix}$\n",
    "\n",
    "Thus the columns of A will need to tell us what component of the current rows (states) will go to the corresponding row (state) in the next state.\n",
    "\n",
    "Thus, $A_{ij}$ will tell us the component of the jth current state that will go to the ith next state.\n",
    "\n",
    "Each column is where the money currently is (current state) and each row is where the money will go with the next transformation (next state).\n",
    "\n",
    "In the order Americas, Asia, Europe:\n",
    "\n",
    "$A = \\begin{bmatrix}\n",
    "    1/2 & 1/2 & 1/2\\\\\n",
    "    1/4 & 1/2 & 0\\\\\n",
    "    1/4 & 0 & 1/2\n",
    "\\end{bmatrix}$"
   ]
  },
  {
   "cell_type": "code",
   "execution_count": 1,
   "metadata": {
    "scrolled": true
   },
   "outputs": [
    {
     "data": {
      "text/plain": [
       "(2, 1/2, 3/2)"
      ]
     },
     "execution_count": 1,
     "metadata": {},
     "output_type": "execute_result"
    }
   ],
   "source": [
    "A = matrix([[1/2,1/2,1/2],[1/4,1/2,0],[1/4,0,1/2]])\n",
    "\n",
    "i_state = vector([2,0,2])\n",
    "\n",
    "A*i_state"
   ]
  },
  {
   "cell_type": "markdown",
   "metadata": {},
   "source": [
    "_______"
   ]
  },
  {
   "cell_type": "markdown",
   "metadata": {},
   "source": [
    "## (b) Diagonalize A"
   ]
  },
  {
   "cell_type": "markdown",
   "metadata": {},
   "source": [
    "**Finding Eigenvalues**      \n",
    "Since eigenvectors ($\\vec{v}$) are vectors that only change by a scalar multiple ($\\lambda$) during transformation ($A$), they can be expressed by the following equation:    \n",
    "$A\\vec{v}=\\lambda\\vec{v}$     \n",
    "\n",
    "To make everything in this equation matrix multiplication, it's less awkward to write it as:   \n",
    "$A\\vec{v}=\\lambda I\\vec{v}$      \n",
    "\n",
    "Then we can factor our the $v$:      \n",
    "$A\\vec{v}-\\lambda I\\vec{v} = \\vec{0}$      \n",
    "$(A-\\lambda I)\\vec{v} = \\vec{0}$      \n",
    "\n",
    "Since eigenvectors must be non-zero, this tells us that $v$ must be in the nullspace of ($A-\\lambda I$).     \n",
    "Thus, the nullspace of $A-\\lambda I$ is not empty.     \n",
    "Thus, $A-\\lambda I$ is not full rank (it's rank is less than its' number of columns/rows).      \n",
    "Thus, $A-\\lambda I$ is singular, which means its determinant has to be $0$.\n",
    "\n",
    "$A-\\lambda I=\\begin{bmatrix}\n",
    "    1/2 - \\lambda & 1/2 & 1/2\\\\\n",
    "    1/4 & 1/2 - \\lambda & 0\\\\\n",
    "    1/4 & 0 & 1/2 - \\lambda\n",
    "\\end{bmatrix}$      \n",
    "\n",
    "Expanding this matrix along the last row:     \n",
    "\n",
    "$det(A)=1/4(0 - 1/2(1/2-\\lambda))-0+(1/2-\\lambda)((1/2-\\lambda)^2-1/2(1/4))$        \n",
    "$det(A)=1/4(- 1/4+1/2\\lambda)+(1/2-\\lambda)(1/4-\\lambda+\\lambda^2-1/8)$        \n",
    "$det(A)=-1/16+1/8\\lambda+1/8-1/2\\lambda+1/2\\lambda^2-1/16-1/4\\lambda + \\lambda^2 - \\lambda^3 + 1/8\\lambda$      \n",
    "$det(A)=-1/2\\lambda+3/2\\lambda^2 - \\lambda^3$      \n",
    "\n",
    "From this equation we see that $\\lambda=0$ OR $\\lambda=1/2$ OR $\\lambda=1$           "
   ]
  },
  {
   "cell_type": "markdown",
   "metadata": {},
   "source": [
    "**Eigenvalue Matrix D**      \n",
    "The diagonal matrix $D$ will have the $\\lambda$s on the diagonal entries.\n",
    "\n",
    "Thus, we know that the eigenvalue matrix $D$ is as follows:   \n",
    "$D = \\begin{bmatrix}\n",
    "    0 & 0 & 0\\\\\n",
    "    0 & 1/2 & 0\\\\\n",
    "    0 & 0 & 1\n",
    "\\end{bmatrix}$"
   ]
  },
  {
   "cell_type": "code",
   "execution_count": 10,
   "metadata": {},
   "outputs": [],
   "source": [
    "D = matrix([[0,0,0],[0,1/2,0],[0,0,1]])"
   ]
  },
  {
   "cell_type": "markdown",
   "metadata": {},
   "source": [
    "______"
   ]
  },
  {
   "cell_type": "markdown",
   "metadata": {},
   "source": [
    "**Finding Eigenvectors**        \n",
    "We can find the eigenvectors by plugging the eigenvalues we found into the same equation:     \n",
    "\n",
    "$\\begin{bmatrix}\n",
    "    1/2 - \\lambda & 1/2 & 1/2\\\\\n",
    "    1/4 & 1/2 - \\lambda & 0\\\\\n",
    "    1/4 & 0 & 1/2 - \\lambda\n",
    "\\end{bmatrix}\\begin{bmatrix}\n",
    "    x\\\\\n",
    "    y\\\\\n",
    "    z\n",
    "\\end{bmatrix}=\\begin{bmatrix}\n",
    "    0\\\\\n",
    "    0\\\\\n",
    "    0\n",
    "\\end{bmatrix}$"
   ]
  },
  {
   "cell_type": "markdown",
   "metadata": {},
   "source": [
    "**Eigenvector[s] with Eigenvalue 0**        \n",
    "$\\begin{bmatrix}\n",
    "    1/2 - 0 & 1/2 & 1/2\\\\\n",
    "    1/4 & 1/2 - 0 & 0\\\\\n",
    "    1/4 & 0 & 1/2 - 0\n",
    "\\end{bmatrix}\\begin{bmatrix}\n",
    "    x_1\\\\\n",
    "    y_1\\\\\n",
    "    z_1\n",
    "\\end{bmatrix}=\\begin{bmatrix}\n",
    "    0\\\\\n",
    "    0\\\\\n",
    "    0\n",
    "\\end{bmatrix}$\n",
    "\n",
    "$\\begin{bmatrix}\n",
    "    1/2 & 1/2 & 1/2\\\\\n",
    "    1/4 & 1/2 & 0\\\\\n",
    "    1/4 & 0 & 1/2\n",
    "\\end{bmatrix}\\begin{bmatrix}\n",
    "    x_1\\\\\n",
    "    y_1\\\\\n",
    "    z_1\n",
    "\\end{bmatrix}=\\begin{bmatrix}\n",
    "    0\\\\\n",
    "    0\\\\\n",
    "    0\n",
    "\\end{bmatrix}$"
   ]
  },
  {
   "cell_type": "code",
   "execution_count": 4,
   "metadata": {},
   "outputs": [
    {
     "data": {
      "text/plain": [
       "[ 1  0  2  0]\n",
       "[ 0  1 -1  0]\n",
       "[ 0  0  0  0]"
      ]
     },
     "execution_count": 4,
     "metadata": {},
     "output_type": "execute_result"
    }
   ],
   "source": [
    "m1 = matrix([[1/2,1/2,1/2,0],[1/4,1/2,0,0],[1/4,0,1/2,0]])\n",
    "\n",
    "m1.rref()"
   ]
  },
  {
   "cell_type": "markdown",
   "metadata": {},
   "source": [
    "Let $z_1 = t$      \n",
    "\n",
    "$x_1 + 2t = 0$      \n",
    "$y_1 - t = 0$       \n",
    "$z_1 = t$       \n",
    "\n",
    "$\\begin{bmatrix}\n",
    "    x_1\\\\\n",
    "    y_1\\\\\n",
    "    z_1\n",
    "\\end{bmatrix}=t\\begin{bmatrix}\n",
    "    -2\\\\\n",
    "    1\\\\\n",
    "    1\n",
    "\\end{bmatrix}$\n",
    "\n",
    "The eigenvector corresponding with eigenvalue $0$ is $\\begin{bmatrix}\n",
    "    -2\\\\\n",
    "    1\\\\\n",
    "    1\n",
    "\\end{bmatrix}$."
   ]
  },
  {
   "cell_type": "markdown",
   "metadata": {},
   "source": [
    "**Eigenvector[s] with Eigenvalue 1/2**        \n",
    "$\\begin{bmatrix}\n",
    "    1/2 - 1/2 & 1/2 & 1/2\\\\\n",
    "    1/4 & 1/2 - 1/2 & 0\\\\\n",
    "    1/4 & 0 & 1/2 - 1/2\n",
    "\\end{bmatrix}\\begin{bmatrix}\n",
    "    x_2\\\\\n",
    "    y_2\\\\\n",
    "    z_2\n",
    "\\end{bmatrix}=\\begin{bmatrix}\n",
    "    0\\\\\n",
    "    0\\\\\n",
    "    0\n",
    "\\end{bmatrix}$\n",
    "\n",
    "$\\begin{bmatrix}\n",
    "    0 & 1/2 & 1/2\\\\\n",
    "    1/4 & 0 & 0\\\\\n",
    "    1/4 & 0 & 0\n",
    "\\end{bmatrix}\\begin{bmatrix}\n",
    "    x_2\\\\\n",
    "    y_2\\\\\n",
    "    z_2\n",
    "\\end{bmatrix}=\\begin{bmatrix}\n",
    "    0\\\\\n",
    "    0\\\\\n",
    "    0\n",
    "\\end{bmatrix}$"
   ]
  },
  {
   "cell_type": "code",
   "execution_count": 7,
   "metadata": {
    "scrolled": false
   },
   "outputs": [
    {
     "data": {
      "text/plain": [
       "[1 0 0 0]\n",
       "[0 1 1 0]\n",
       "[0 0 0 0]"
      ]
     },
     "execution_count": 7,
     "metadata": {},
     "output_type": "execute_result"
    }
   ],
   "source": [
    "m2 = matrix([[0,1/2,1/2,0],[1/4,0,0,0],[1/4,0,0,0]])\n",
    "\n",
    "m2.rref()"
   ]
  },
  {
   "cell_type": "markdown",
   "metadata": {},
   "source": [
    "Let $z_2 = t$      \n",
    "\n",
    "$x_2 = 0$      \n",
    "$y_2 + t = 0$       \n",
    "$z_2 = t$       \n",
    "\n",
    "$\\begin{bmatrix}\n",
    "    x_2\\\\\n",
    "    y_2\\\\\n",
    "    z_2\n",
    "\\end{bmatrix}=t\\begin{bmatrix}\n",
    "    0\\\\\n",
    "    -1\\\\\n",
    "    1\n",
    "\\end{bmatrix}$\n",
    "\n",
    "The eigenvector corresponding with eigenvalue $1/2$ is $\\begin{bmatrix}\n",
    "    0\\\\\n",
    "    -1\\\\\n",
    "    1\n",
    "\\end{bmatrix}$."
   ]
  },
  {
   "cell_type": "markdown",
   "metadata": {},
   "source": [
    "**Eigenvector[s] with Eigenvalue 1**        \n",
    "$\\begin{bmatrix}\n",
    "    1/2 - 1 & 1/2 & 1/2\\\\\n",
    "    1/4 & 1/2 - 1 & 0\\\\\n",
    "    1/4 & 0 & 1/2 - 1\n",
    "\\end{bmatrix}\\begin{bmatrix}\n",
    "    x_3\\\\\n",
    "    y_3\\\\\n",
    "    z_3\n",
    "\\end{bmatrix}=\\begin{bmatrix}\n",
    "    0\\\\\n",
    "    0\\\\\n",
    "    0\n",
    "\\end{bmatrix}$\n",
    "\n",
    "$\\begin{bmatrix}\n",
    "    -1/2 & 1/2 & 1/2\\\\\n",
    "    1/4 & -1/2 & 0\\\\\n",
    "    1/4 & 0 & -1/2\n",
    "\\end{bmatrix}\\begin{bmatrix}\n",
    "    x_3\\\\\n",
    "    y_3\\\\\n",
    "    z_3\n",
    "\\end{bmatrix}=\\begin{bmatrix}\n",
    "    0\\\\\n",
    "    0\\\\\n",
    "    0\n",
    "\\end{bmatrix}$"
   ]
  },
  {
   "cell_type": "code",
   "execution_count": 9,
   "metadata": {
    "scrolled": true
   },
   "outputs": [
    {
     "data": {
      "text/plain": [
       "[ 1  0 -2  0]\n",
       "[ 0  1 -1  0]\n",
       "[ 0  0  0  0]"
      ]
     },
     "execution_count": 9,
     "metadata": {},
     "output_type": "execute_result"
    }
   ],
   "source": [
    "m3 = matrix([[-1/2,1/2,1/2,0],[1/4,-1/2,0,0],[1/4,0,-1/2,0]])\n",
    "\n",
    "m3.rref()"
   ]
  },
  {
   "cell_type": "markdown",
   "metadata": {},
   "source": [
    "Let $z_3 = t$      \n",
    "\n",
    "$x_3 - 2t = 0$      \n",
    "$y_3 - t = 0$       \n",
    "$z_3 = t$       \n",
    "\n",
    "$\\begin{bmatrix}\n",
    "    x_3\\\\\n",
    "    y_3\\\\\n",
    "    z_3\n",
    "\\end{bmatrix}=t\\begin{bmatrix}\n",
    "    2\\\\\n",
    "    1\\\\\n",
    "    1\n",
    "\\end{bmatrix}$\n",
    "\n",
    "The eigenvector corresponding with eigenvalue $1$ is $\\begin{bmatrix}\n",
    "    2\\\\\n",
    "    1\\\\\n",
    "    1\n",
    "\\end{bmatrix}$."
   ]
  },
  {
   "cell_type": "markdown",
   "metadata": {},
   "source": [
    "**Eigenvector Matrix S**      \n",
    "The nonsingular matrix $S$ will have the eigenvectors as the columns.\n",
    "\n",
    "Thus, we know that the eigenvector matrix $S$ is as follows:   \n",
    "$S = \\begin{bmatrix}\n",
    "    -2 & 0 & 2\\\\\n",
    "    1 & -1 & 1\\\\\n",
    "    1 & 1 & 1\n",
    "\\end{bmatrix}$"
   ]
  },
  {
   "cell_type": "code",
   "execution_count": 11,
   "metadata": {},
   "outputs": [],
   "source": [
    "S = matrix([[-2,0,2],[1,-1,1],[1,1,1]])"
   ]
  },
  {
   "cell_type": "markdown",
   "metadata": {},
   "source": [
    "_____"
   ]
  },
  {
   "cell_type": "markdown",
   "metadata": {},
   "source": [
    "**Diagonalizing A**     \n",
    "\n",
    "Thus, we can put this all together to the following equation:     \n",
    "$A = SDS^{-1}$     \n",
    "$A = \\begin{bmatrix}\n",
    "    -2 & 0 & 2\\\\\n",
    "    1 & -1 & 1\\\\\n",
    "    1 & 1 & 1\n",
    "\\end{bmatrix}\\begin{bmatrix}\n",
    "    0 & 0 & 0\\\\\n",
    "    0 & 1/2 & 0\\\\\n",
    "    0 & 0 & 1\n",
    "\\end{bmatrix}\\begin{bmatrix}\n",
    "    -2 & 1 & 1\\\\\n",
    "    0 & -1 & 1\\\\\n",
    "    2 & 1 & 1\n",
    "\\end{bmatrix}$     \n"
   ]
  },
  {
   "cell_type": "code",
   "execution_count": 13,
   "metadata": {
    "scrolled": false
   },
   "outputs": [
    {
     "data": {
      "text/plain": [
       "True"
      ]
     },
     "execution_count": 13,
     "metadata": {},
     "output_type": "execute_result"
    }
   ],
   "source": [
    "A == S*D*S.inverse()"
   ]
  },
  {
   "cell_type": "markdown",
   "metadata": {},
   "source": [
    "## (c) Initial Distribution C"
   ]
  },
  {
   "cell_type": "markdown",
   "metadata": {},
   "source": [
    "$y_0 = \\begin{bmatrix}\n",
    "    2\\\\\n",
    "    0\\\\\n",
    "    2\n",
    "\\end{bmatrix}$"
   ]
  },
  {
   "cell_type": "code",
   "execution_count": 15,
   "metadata": {},
   "outputs": [],
   "source": [
    "y0 = vector([2,0,2])"
   ]
  },
  {
   "cell_type": "markdown",
   "metadata": {},
   "source": [
    "## (d) Distribution in year k"
   ]
  },
  {
   "cell_type": "markdown",
   "metadata": {},
   "source": [
    "$y_0$ rewritten as a linear combination of eigenvectors will be $y_0 = xe_1 + ye_2 + ze_3$ where $x$, $y$, and $z$ fulfill the following equations:        \n",
    "\n",
    "$\\begin{bmatrix}\n",
    "    e_1 | e_2 | e_3\n",
    "\\end{bmatrix} * \\begin{bmatrix}\n",
    "    x\\\\\n",
    "    y\\\\\n",
    "    z\n",
    "\\end{bmatrix} = y_0$      \n",
    "\n",
    "A simple way to solve this equation would be to find the rref of the augmented matrix with $S$ on the left and $y_0$ on the right."
   ]
  },
  {
   "cell_type": "code",
   "execution_count": 17,
   "metadata": {
    "scrolled": true
   },
   "outputs": [
    {
     "data": {
      "text/plain": [
       "[1 0 0 0]\n",
       "[0 1 0 1]\n",
       "[0 0 1 1]"
      ]
     },
     "execution_count": 17,
     "metadata": {},
     "output_type": "execute_result"
    }
   ],
   "source": [
    "year1 = matrix(QQ,[[-2,0,2,2],[1,-1,1,0],[1,1,1,2]])\n",
    "\n",
    "year1.rref()"
   ]
  },
  {
   "cell_type": "markdown",
   "metadata": {},
   "source": [
    "This tells us that:     \n",
    "$x = 0$      \n",
    "$y = 1$      \n",
    "$z = 1$      \n",
    "\n",
    "Therefore,      \n",
    "$y_0 =\n",
    "    S\\begin{bmatrix}\n",
    "    0\\\\\n",
    "    1\\\\\n",
    "    1\n",
    "\\end{bmatrix}$          "
   ]
  },
  {
   "cell_type": "code",
   "execution_count": 20,
   "metadata": {
    "scrolled": true
   },
   "outputs": [
    {
     "data": {
      "text/plain": [
       "True"
      ]
     },
     "execution_count": 20,
     "metadata": {},
     "output_type": "execute_result"
    }
   ],
   "source": [
    "y0 == S*vector([0,1,1])"
   ]
  },
  {
   "cell_type": "markdown",
   "metadata": {},
   "source": [
    "$y_k = A^k*y_0$         \n",
    "$y_k = SD^kS^{-1}*S\\begin{bmatrix}\n",
    "    0\\\\\n",
    "    1\\\\\n",
    "    1\n",
    "\\end{bmatrix}$         \n",
    "\n",
    "$y_k = SD^k\\begin{bmatrix}\n",
    "    0\\\\\n",
    "    1\\\\\n",
    "    1\n",
    "\\end{bmatrix}$         \n",
    "\n",
    "$y_k = \\begin{bmatrix}\n",
    "    -2 & 0 & 2\\\\\n",
    "    1 & -1 & 1\\\\\n",
    "    1 & 1 & 1\n",
    "\\end{bmatrix}\\begin{bmatrix}\n",
    "    0 & 0 & 0\\\\\n",
    "    0 & 1/2 & 0\\\\\n",
    "    0 & 0 & 1\n",
    "\\end{bmatrix}^k\\begin{bmatrix}\n",
    "    0\\\\\n",
    "    1\\\\\n",
    "    1\n",
    "\\end{bmatrix}$         "
   ]
  },
  {
   "cell_type": "markdown",
   "metadata": {},
   "source": [
    "## (e) Long term distribution"
   ]
  },
  {
   "cell_type": "markdown",
   "metadata": {},
   "source": [
    "This tells us that the long term distribution will be equal to the third eigenvector $\\begin{bmatrix}\n",
    "    2\\\\\n",
    "    1\\\\\n",
    "    1\n",
    "\\end{bmatrix}$.\n",
    "\n",
    "\n",
    "**Evaluating $D^k$**        \n",
    "Since the first row of the eigenvalue matrix is full of zeroes, we will never have any component of eigenvector 1 in our state.\n",
    "\n",
    "Since the second row of the eigenvalue matrix only consists of values less than 1, it will approach zero as $k$ increases.      \n",
    "\n",
    "Since the last row of the eigenvalue matrix consists of only 0s and 1s, it will stay the same no matter how $k$ increases.     \n",
    "\n",
    "Thus, as $k$ becomes infinitely large, the only value left in the matrix will be the $1$ in the third row third column of the matrix.\n",
    "\n",
    "$D^\\infty = \\begin{bmatrix}\n",
    "    0 & 0 & 0\\\\\n",
    "    0 & 0 & 0\\\\\n",
    "    0 & 0 & 1\n",
    "\\end{bmatrix}$\n",
    "\n",
    "**Evaluating $D^k *$ coordinates of $y_0$**        \n",
    "Thus, when we multiply it with the coordinates of $y_0$, we get a bunch of zeroes and the last entry in the coordinates, which in this case is 1, resulting in $\\begin{bmatrix}\n",
    "    0\\\\\n",
    "    0\\\\\n",
    "    1\n",
    "\\end{bmatrix}$     \n",
    "\n",
    "**Evaluating $S * D^k *$ coordinates of $y_0$**         \n",
    "Thus, when we multiply this with $S$, we get back the third column of $S$, which is the third eigenvector.      \n",
    "\n",
    "**Overall**       \n",
    "Overall, this tells us that as $k$ increases, we approach a stable state which is equivalent to the third eigenvector since that is the only eigenvector with eigenvalue 1 and the other eigenvectors all have eigenvalues that are less than 1."
   ]
  },
  {
   "cell_type": "markdown",
   "metadata": {},
   "source": [
    "# 3. A vector space by any other name"
   ]
  },
  {
   "cell_type": "markdown",
   "metadata": {},
   "source": [
    "## (a)"
   ]
  },
  {
   "cell_type": "markdown",
   "metadata": {},
   "source": [
    "### (i)"
   ]
  },
  {
   "cell_type": "markdown",
   "metadata": {},
   "source": [
    "The range of $T$ would be $f(x)$ for $x \\in X$ in the map $X \\to Y$.\n",
    "\n",
    "Since $T(p(x)) = p(0)$, $f(x) = p(0)$. A 2 degree polynomial can be expressed as $ax^2+bx+c$, so $f(x) = a(0)^2 + b(0) + c$, which would equate to just $c$.\n",
    "\n",
    "Thus, the range of $T$ is just the one dimensional variation of possible constants $c$."
   ]
  },
  {
   "cell_type": "markdown",
   "metadata": {},
   "source": [
    "### (ii)"
   ]
  },
  {
   "cell_type": "markdown",
   "metadata": {},
   "source": [
    "Since we know that a linear transformation of $V$ to $W$ is a mapping of how vectors in $W$ can be expressed as a linear combination of basis vectors of $V$, we know that $T$ can be expressed as:       \n",
    "$T(x,y,z) = ax + by + cz$        \n",
    "where $x,y,z$ are basis vectors of $V$.\n",
    "\n",
    "**Closed under addition**       \n",
    "$T(x,y,z) + T(x',y',z') = ax + by + cz + ax' + by' + cz'$       \n",
    "$T(x,y,z) + T(x',y',z') = a(x+x') + b(y+y') + c(z + z')$       \n",
    "$T(x,y,z) + T(x',y',z') = T(x+x', y+y', z+z')$        \n",
    "\n",
    "**Closed under multiplication**       \n",
    "$kT(x,y,z) = k(ax + by + cz)$      \n",
    "$kT(x,y,z) = akx + bky + ckz$      \n",
    "$kT(x,y,z) = T(kx, ky, kz)$      \n",
    "\n",
    "**Contains zero vector**       \n",
    "$T(0,0,0) = a(0) + b(0) + c(0)$      \n",
    "$T(0,0,0) = 0$      \n"
   ]
  },
  {
   "cell_type": "markdown",
   "metadata": {},
   "source": [
    "### (iii)"
   ]
  },
  {
   "cell_type": "markdown",
   "metadata": {},
   "source": [
    "$T(x) = Ax$\n",
    "\n",
    "$\\begin{bmatrix}\n",
    "    x_1\\\\\n",
    "    x_2\\\\\n",
    "    ...\\\\\n",
    "    x_n\n",
    "\\end{bmatrix} = \\begin{bmatrix}\n",
    "    c_{11} & c_{12} & ... & c_{1m}\\\\\n",
    "    c_{21} & c_{22} & ... & c_{2m}\\\\\n",
    "    ...\\\\\n",
    "    c_{n1} & c_{n2} & ... & c_{nm}\n",
    "\\end{bmatrix}\\begin{bmatrix}\n",
    "    x_1\\\\\n",
    "    x_2\\\\\n",
    "    ...\\\\\n",
    "    x_m\n",
    "\\end{bmatrix}$\n",
    "\n",
    "$\\begin{bmatrix}\n",
    "    x_1\\\\\n",
    "    x_2\\\\\n",
    "    ...\\\\\n",
    "    x_n\n",
    "\\end{bmatrix} = \\begin{bmatrix}\n",
    "    c_{11}x_1 + c_{12}x_2 + ... + c_{1m}x_m\\\\\n",
    "    c_{21}x_1 + c_{22}x_2 + ... + c_{2m}x_m\\\\\n",
    "    ...\\\\\n",
    "    c_{n1}x_1 + c_{n2}x_2 + ... + c_{nm}x_m\n",
    "\\end{bmatrix}$\n",
    "\n",
    "Which can be simplified to:\n",
    "\n",
    "$\\begin{bmatrix}\n",
    "    x_1\\\\\n",
    "    x_2\\\\\n",
    "    ...\\\\\n",
    "    x_n\n",
    "\\end{bmatrix} = \\begin{bmatrix}\n",
    "    col_1 & col_2 & ... & col_m\n",
    "\\end{bmatrix}\\begin{bmatrix}\n",
    "    x_1\\\\\n",
    "    x_2\\\\\n",
    "    ...\\\\\n",
    "    x_m\n",
    "\\end{bmatrix}$\n",
    "\n",
    "$\\begin{bmatrix}\n",
    "    x_1\\\\\n",
    "    x_2\\\\\n",
    "    ...\\\\\n",
    "    x_n\n",
    "\\end{bmatrix} = \\begin{bmatrix}\n",
    "    col_1x_1 + col_2x_2 + ... + col_mx_m\n",
    "\\end{bmatrix}$"
   ]
  },
  {
   "cell_type": "markdown",
   "metadata": {},
   "source": [
    "Thus, $T(x)$ is equivalent to the column space of $A$, since it is just all possible combinations of the columns of $A$ (whose coefficients are denoted by $x$).\n",
    "\n",
    "Following this, we know that Null($T$) is the null space of $A$ since it all the $m \\times 1$ vectors ($x$) for which $Ax = 0$"
   ]
  },
  {
   "cell_type": "markdown",
   "metadata": {},
   "source": [
    "Since we know thatdim(row space) == dim(col space) and that dim(left null space) + dim(row space) = dim($R^m$). We can conclude that dim(null(T)) + dim(range(T)) = dim($R^m$)."
   ]
  },
  {
   "cell_type": "markdown",
   "metadata": {},
   "source": [
    "## (b)"
   ]
  },
  {
   "cell_type": "markdown",
   "metadata": {},
   "source": [
    "### (i)"
   ]
  },
  {
   "cell_type": "markdown",
   "metadata": {},
   "source": [
    "**Original transformation**      \n",
    "$T(x,y) = (x+y,x)$      \n",
    "$T(x) = x+y$       \n",
    "$T(y) = x$\n",
    "\n",
    "**Inverse transformation**      \n",
    "$x = T(y)$      \n",
    "$y = T(x) - x$       \n",
    "$y = T(x) - T(y)$   \n",
    "$T^{-1}(x,y) = (y,x-y)$      \n",
    "\n",
    "**Ensuring that the transformation is invertible**    \n",
    "$T^{-1}(T(x,y)) = T^{-1}(x+y,x)$      \n",
    "$T^{-1}(T(x,y)) = (x,x+y-x)$      \n",
    "$T^{-1}(T(x,y)) = (x,y)$      \n",
    "\n",
    "Thus, since the transformation $T^{-1}$ exists such that $T^{-1}(T(x,y))=(x,y)$, the transformation $T$ is invertible."
   ]
  },
  {
   "cell_type": "markdown",
   "metadata": {},
   "source": [
    "### (ii)"
   ]
  },
  {
   "cell_type": "markdown",
   "metadata": {},
   "source": [
    "$T(x,y) = (x+y,x)$\n",
    "\n",
    "$T(x) = x+y$       \n",
    "$T(y) = x$\n",
    "\n",
    "$\\begin{bmatrix}\n",
    "    T(x)\\\\\n",
    "    T(y)\n",
    "\\end{bmatrix} = \\begin{bmatrix}\n",
    "    1 & 1\\\\\n",
    "    1 & 0\n",
    "\\end{bmatrix}\\begin{bmatrix}\n",
    "    x\\\\\n",
    "    y\n",
    "\\end{bmatrix}$   \n",
    "\n",
    "Thus, $A = \\begin{bmatrix}\n",
    "    1 & 1\\\\\n",
    "    1 & 0\n",
    "\\end{bmatrix}$     "
   ]
  },
  {
   "cell_type": "markdown",
   "metadata": {},
   "source": [
    "$x = T(y)$      \n",
    "$y = T(x) - x$       \n",
    "$y = T(x) - T(y)$\n",
    "\n",
    "$\\begin{bmatrix}\n",
    "    x\\\\\n",
    "    y\n",
    "\\end{bmatrix} = \\begin{bmatrix}\n",
    "    0 & 1\\\\\n",
    "    1 & -1\n",
    "\\end{bmatrix}\\begin{bmatrix}\n",
    "    T(x)\\\\\n",
    "    T(y)\n",
    "\\end{bmatrix}$ \n",
    "\n",
    "Thus, $B = \\begin{bmatrix}\n",
    "    0 & 1\\\\\n",
    "    1 & -1\n",
    "\\end{bmatrix}$     "
   ]
  },
  {
   "cell_type": "code",
   "execution_count": 41,
   "metadata": {},
   "outputs": [],
   "source": [
    "f = matrix(QQ,[[1,1],[1,0]])"
   ]
  },
  {
   "cell_type": "code",
   "execution_count": 42,
   "metadata": {},
   "outputs": [],
   "source": [
    "g = matrix(QQ,[[0,1],[1,-1]])"
   ]
  },
  {
   "cell_type": "code",
   "execution_count": 43,
   "metadata": {
    "scrolled": true
   },
   "outputs": [
    {
     "data": {
      "text/plain": [
       "True"
      ]
     },
     "execution_count": 43,
     "metadata": {},
     "output_type": "execute_result"
    }
   ],
   "source": [
    "g == f.inverse()"
   ]
  },
  {
   "cell_type": "markdown",
   "metadata": {},
   "source": [
    "Thus we can see that $A$ and $B$ exists such that $B = A^{-1}$.     \n",
    "\n",
    "Since we know that $B$ should always undo the effect of $A$, we know that:    \n",
    "$BAX = X$         \n",
    "$BAXX^{-1} = XX^{-1}$       \n",
    "$BA = I$      \n",
    "$B = A^{-1}$"
   ]
  },
  {
   "cell_type": "markdown",
   "metadata": {},
   "source": [
    "## (c)"
   ]
  },
  {
   "cell_type": "markdown",
   "metadata": {},
   "source": [
    "### (i)"
   ]
  },
  {
   "cell_type": "markdown",
   "metadata": {},
   "source": [
    "$T(x,y,0) = (x,y)$        \n",
    "$T(x) = x$        \n",
    "$T(y) = y$        \n",
    "$T(0) = 0$        \n",
    "\n",
    "$T = \\begin{bmatrix}\n",
    "    1 & 0 & 0\\\\\n",
    "    0 & 1 & 0\n",
    "\\end{bmatrix}$         \n",
    "\n",
    "$x = T(x)$        \n",
    "$y = T(y)$        \n",
    "$0 = T(0)$        \n",
    "\n",
    "$T^{-1} = \\begin{bmatrix}\n",
    "    1 & 0\\\\\n",
    "    0 & 1\\\\\n",
    "    0 & 0\n",
    "\\end{bmatrix}$         \n",
    "\n",
    "Thus, since there exists an invertible linear map from $V$ to $R^2$, that means that every vector in $R^2$ can be expressed as a linear combination of vectors in $V$, and every vector in $V$ can be expressed as a linear combination of vectors in $R^2$. Thus, both $V$ and $R^2$ span the same vectorspace, making them isomorphic."
   ]
  },
  {
   "cell_type": "markdown",
   "metadata": {},
   "source": [
    "### (ii)"
   ]
  },
  {
   "cell_type": "markdown",
   "metadata": {},
   "source": [
    "$T(\\begin{bmatrix}\n",
    "    a & b & c\\\\\n",
    "    d & e & f\n",
    "\\end{bmatrix}) = (a,b,c,d,e,f)$      \n",
    "\n",
    "$T^{-1}(a,b,c,d,e,f) = a\\begin{bmatrix}\n",
    "    1 & 0 & 0\\\\\n",
    "    0 & 0 & 0\n",
    "\\end{bmatrix}+b\\begin{bmatrix}\n",
    "    0 & 1 & 0\\\\\n",
    "    0 & 0 & 0\n",
    "\\end{bmatrix}+c\\begin{bmatrix}\n",
    "    0 & 0 & 1\\\\\n",
    "    0 & 0 & 0\n",
    "\\end{bmatrix}+d\\begin{bmatrix}\n",
    "    0 & 0 & 0\\\\\n",
    "    1 & 0 & 0\n",
    "\\end{bmatrix}+e\\begin{bmatrix}\n",
    "    0 & 0 & 0\\\\\n",
    "    0 & 1 & 0\n",
    "\\end{bmatrix}+f\\begin{bmatrix}\n",
    "    0 & 0 & 0\\\\\n",
    "    0 & 0 & 1\n",
    "\\end{bmatrix}$\n",
    "\n",
    "# what"
   ]
  },
  {
   "cell_type": "markdown",
   "metadata": {},
   "source": [
    "## (d)"
   ]
  },
  {
   "cell_type": "markdown",
   "metadata": {},
   "source": [
    "### (i)"
   ]
  },
  {
   "cell_type": "markdown",
   "metadata": {},
   "source": [
    "If $T(V) \\to W$ is isomorphic, that means that $T^{-1}(T(v)) = v$ (the mapping is one-to-one. All every vector in $V$ maps to a single unique vector in $W$ and vice versa.). Thus the only vector $v$ for which $T^{-1}(T(v)) = 0$ is $v=0$.\n",
    "\n",
    "Thus, $null(T) = \\{ 0 \\}$"
   ]
  },
  {
   "cell_type": "markdown",
   "metadata": {},
   "source": [
    "$dim(null(T)) + dim(rank(T)) = dim(R^m)$            \n",
    "dim(rank(T)) = dim(R^m)$       \n",
    "\n",
    "Since the colspace of a trasnformation matrix is euivalent to its range and $dim(rank(T)) = R^m$, we know that the matrix is full rank. \n",
    "\n",
    "Since all the columns of $T$ are linearly independent and $w = c_1v_1 + c_2v_2 ... c_nv_n$ for any $w \\in W$, we thus know that $range(T) = W$.    \n",
    "Thus, $dim(W) = R^m = dim(V)$."
   ]
  },
  {
   "cell_type": "markdown",
   "metadata": {},
   "source": [
    "____IDEK____"
   ]
  },
  {
   "cell_type": "markdown",
   "metadata": {},
   "source": [
    "Since the only vector $v$ which maps to 0 is the null vector, this tells us that "
   ]
  },
  {
   "cell_type": "markdown",
   "metadata": {},
   "source": [
    "\n",
    "\n",
    "the colspace of the transformation matrix is equivalent to its range, this tells us that the transformation matrix is full rank. Since $W$ is $TV$ where $V$ is a \n",
    "\n",
    "Since $w = c_1v_1 + c_2v_2 ... c_nv_n$, and the only way to get the zero vector is if $v = 0$, this tells us that all the constants $c$ in the linear transformation are non-zero. Thus, \n",
    "\n",
    "a\n",
    "all every vector in $V$ maps to a single unique vector in $W$ and vice versa. \n",
    "\n",
    "$w = c_1v_1 + c_2v_2 ... c_nv_n$\n",
    "\n",
    "$v = d_1w_1 + d_2w_2 ... d_nw_n$\n",
    "\n",
    "Thus, since the linear transformation is invertible, every vector in $W$ is mapped to by a single unique vector in $V$. Thus, $dim(V) = dim(W)$. Since every vector in $W$ can be expressed by a unique linear combination in $V$, in the form $w = c_1v_1 + c_2v_2 ... c_nv_n$, the only vector in $W$ that is the zero vector woule be $w = c_1(0) + c_2(0) ... c_n(0)$, or equivalently the zero vector. Thus the only vector $v$ that would satisfy the equation $Av = 0$ would be the zero vector. Thus, T has a trivial nullspace.\n",
    "\n",
    "Since $dim(null(T)) + dim(rank(T)) = dim(R^m)$, $dim(rank(T)) = dim(R^m)$.\n",
    "\n",
    "\n",
    "\n",
    "\n",
    "For every vector $v$, $T(v) = w$ where $w$ is a vector in $W$. $Thus, there does not exist a vector $v$ for which $T(v) = 0$, meaning that the nullspace of $T$ is trivial.      \n",
    "\n",
    "Thus, $range(T) = W$.\n",
    "\n",
    "Thus, dim(V) = dim(W). "
   ]
  },
  {
   "cell_type": "markdown",
   "metadata": {},
   "source": [
    "### (ii)"
   ]
  },
  {
   "cell_type": "markdown",
   "metadata": {},
   "source": [
    "### (iii)"
   ]
  },
  {
   "cell_type": "markdown",
   "metadata": {},
   "source": [
    "## (e)"
   ]
  },
  {
   "cell_type": "markdown",
   "metadata": {},
   "source": [
    "### (i)"
   ]
  },
  {
   "cell_type": "markdown",
   "metadata": {},
   "source": [
    "### (ii)"
   ]
  },
  {
   "cell_type": "markdown",
   "metadata": {},
   "source": [
    "### (iii)"
   ]
  },
  {
   "cell_type": "code",
   "execution_count": null,
   "metadata": {},
   "outputs": [],
   "source": []
  }
 ],
 "metadata": {
  "kernelspec": {
   "display_name": "SageMath 8.7",
   "language": "",
   "name": "sagemath"
  },
  "language_info": {
   "codemirror_mode": {
    "name": "ipython",
    "version": 2
   },
   "file_extension": ".py",
   "mimetype": "text/x-python",
   "name": "python",
   "nbconvert_exporter": "python",
   "pygments_lexer": "ipython2",
   "version": "2.7.15"
  }
 },
 "nbformat": 4,
 "nbformat_minor": 2
}
