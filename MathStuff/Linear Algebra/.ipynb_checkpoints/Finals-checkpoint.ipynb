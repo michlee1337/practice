{
 "cells": [
  {
   "cell_type": "markdown",
   "metadata": {},
   "source": [
    "# 2. Multinational Mayhem"
   ]
  },
  {
   "cell_type": "markdown",
   "metadata": {},
   "source": [
    "## (a) Find transformation matrix A"
   ]
  },
  {
   "cell_type": "markdown",
   "metadata": {},
   "source": [
    "A is such that the following is True:\n",
    "$\\begin{bmatrix}\n",
    "    Am_{n+1}\\\\\n",
    "    As_{n+1}\\\\\n",
    "    Eu_{n+1}\n",
    "\\end{bmatrix} = A\\begin{bmatrix}\n",
    "    Am_{n}\\\\\n",
    "    As_{n}\\\\\n",
    "    Eu_{n}\n",
    "\\end{bmatrix}$\n",
    "\n",
    "Thus the columns of A will need to tell us what component of the current rows (states) will go to the corresponding row (state) in the next state.\n",
    "\n",
    "Thus, $A_{ij}$ will tell us the component of the jth current state that will go to the ith next state.\n",
    "\n",
    "Each column is where the money currently is (current state) and each row is where the money will go with the next transformation (next state).\n",
    "\n",
    "In the order Americas, Asia, Europe:\n",
    "\n",
    "$A = \\begin{bmatrix}\n",
    "    1/2 & 1/2 & 1/2\\\\\n",
    "    1/4 & 1/2 & 0\\\\\n",
    "    1/4 & 0 & 1/2\n",
    "\\end{bmatrix}$"
   ]
  },
  {
   "cell_type": "code",
   "execution_count": 1,
   "metadata": {
    "scrolled": true
   },
   "outputs": [
    {
     "data": {
      "text/plain": [
       "(2, 1/2, 3/2)"
      ]
     },
     "execution_count": 1,
     "metadata": {},
     "output_type": "execute_result"
    }
   ],
   "source": [
    "A = matrix([[1/2,1/2,1/2],[1/4,1/2,0],[1/4,0,1/2]])\n",
    "\n",
    "i_state = vector([2,0,2])\n",
    "\n",
    "A*i_state"
   ]
  },
  {
   "cell_type": "markdown",
   "metadata": {},
   "source": [
    "_______"
   ]
  },
  {
   "cell_type": "markdown",
   "metadata": {},
   "source": [
    "## (b) Diagonalize A"
   ]
  },
  {
   "cell_type": "markdown",
   "metadata": {},
   "source": [
    "**Finding Eigenvalues**      \n",
    "Since eigenvectors ($\\vec{v}$) are vectors that only change by a scalar multiple ($\\lambda$) during transformation ($A$), they can be expressed by the following equation:    \n",
    "$A\\vec{v}=\\lambda\\vec{v}$     \n",
    "\n",
    "To make everything in this equation matrix multiplication, it's less awkward to write it as:   \n",
    "$A\\vec{v}=\\lambda I\\vec{v}$      \n",
    "\n",
    "Then we can factor our the $v$:      \n",
    "$A\\vec{v}-\\lambda I\\vec{v} = \\vec{0}$      \n",
    "$(A-\\lambda I)\\vec{v} = \\vec{0}$      \n",
    "\n",
    "Since eigenvectors must be non-zero, this tells us that $v$ must be in the nullspace of ($A-\\lambda I$).     \n",
    "Thus, the nullspace of $A-\\lambda I$ is not empty.     \n",
    "Thus, $A-\\lambda I$ is not full rank (it's rank is less than its' number of columns/rows).      \n",
    "Thus, $A-\\lambda I$ is singular, which means its determinant has to be $0$.\n",
    "\n",
    "$A-\\lambda I=\\begin{bmatrix}\n",
    "    1/2 - \\lambda & 1/2 & 1/2\\\\\n",
    "    1/4 & 1/2 - \\lambda & 0\\\\\n",
    "    1/4 & 0 & 1/2 - \\lambda\n",
    "\\end{bmatrix}$      \n",
    "\n",
    "Expanding this matrix along the last row:     \n",
    "\n",
    "$det(A)=1/4(0 - 1/2(1/2-\\lambda))-0+(1/2-\\lambda)((1/2-\\lambda)^2-1/2(1/4))$        \n",
    "$det(A)=1/4(- 1/4+1/2\\lambda)+(1/2-\\lambda)(1/4-\\lambda+\\lambda^2-1/8)$        \n",
    "$det(A)=-1/16+1/8\\lambda+1/8-1/2\\lambda+1/2\\lambda^2-1/16-1/4\\lambda + \\lambda^2 - \\lambda^3 + 1/8\\lambda$      \n",
    "$det(A)=-1/2\\lambda+3/2\\lambda^2 - \\lambda^3$      \n",
    "\n",
    "From this equation we see that $\\lambda=0$ OR $\\lambda=1/2$ OR $\\lambda=1$           "
   ]
  },
  {
   "cell_type": "markdown",
   "metadata": {},
   "source": [
    "**Eigenvalue Matrix D**      \n",
    "The diagonal matrix $D$ will have the $\\lambda$s on the diagonal entries.\n",
    "\n",
    "Thus, we know that the eigenvalue matrix $D$ is as follows:   \n",
    "$D = \\begin{bmatrix}\n",
    "    0 & 0 & 0\\\\\n",
    "    0 & 1/2 & 0\\\\\n",
    "    0 & 0 & 1\n",
    "\\end{bmatrix}$"
   ]
  },
  {
   "cell_type": "code",
   "execution_count": 10,
   "metadata": {},
   "outputs": [],
   "source": [
    "D = matrix([[0,0,0],[0,1/2,0],[0,0,1]])"
   ]
  },
  {
   "cell_type": "markdown",
   "metadata": {},
   "source": [
    "______"
   ]
  },
  {
   "cell_type": "markdown",
   "metadata": {},
   "source": [
    "**Finding Eigenvectors**        \n",
    "We can find the eigenvectors by plugging the eigenvalues we found into the same equation:     \n",
    "\n",
    "$\\begin{bmatrix}\n",
    "    1/2 - \\lambda & 1/2 & 1/2\\\\\n",
    "    1/4 & 1/2 - \\lambda & 0\\\\\n",
    "    1/4 & 0 & 1/2 - \\lambda\n",
    "\\end{bmatrix}\\begin{bmatrix}\n",
    "    x\\\\\n",
    "    y\\\\\n",
    "    z\n",
    "\\end{bmatrix}=\\begin{bmatrix}\n",
    "    0\\\\\n",
    "    0\\\\\n",
    "    0\n",
    "\\end{bmatrix}$"
   ]
  },
  {
   "cell_type": "markdown",
   "metadata": {},
   "source": [
    "**Eigenvector[s] with Eigenvalue 0**        \n",
    "$\\begin{bmatrix}\n",
    "    1/2 - 0 & 1/2 & 1/2\\\\\n",
    "    1/4 & 1/2 - 0 & 0\\\\\n",
    "    1/4 & 0 & 1/2 - 0\n",
    "\\end{bmatrix}\\begin{bmatrix}\n",
    "    x_1\\\\\n",
    "    y_1\\\\\n",
    "    z_1\n",
    "\\end{bmatrix}=\\begin{bmatrix}\n",
    "    0\\\\\n",
    "    0\\\\\n",
    "    0\n",
    "\\end{bmatrix}$\n",
    "\n",
    "$\\begin{bmatrix}\n",
    "    1/2 & 1/2 & 1/2\\\\\n",
    "    1/4 & 1/2 & 0\\\\\n",
    "    1/4 & 0 & 1/2\n",
    "\\end{bmatrix}\\begin{bmatrix}\n",
    "    x_1\\\\\n",
    "    y_1\\\\\n",
    "    z_1\n",
    "\\end{bmatrix}=\\begin{bmatrix}\n",
    "    0\\\\\n",
    "    0\\\\\n",
    "    0\n",
    "\\end{bmatrix}$"
   ]
  },
  {
   "cell_type": "code",
   "execution_count": 4,
   "metadata": {},
   "outputs": [
    {
     "data": {
      "text/plain": [
       "[ 1  0  2  0]\n",
       "[ 0  1 -1  0]\n",
       "[ 0  0  0  0]"
      ]
     },
     "execution_count": 4,
     "metadata": {},
     "output_type": "execute_result"
    }
   ],
   "source": [
    "m1 = matrix([[1/2,1/2,1/2,0],[1/4,1/2,0,0],[1/4,0,1/2,0]])\n",
    "\n",
    "m1.rref()"
   ]
  },
  {
   "cell_type": "markdown",
   "metadata": {},
   "source": [
    "Let $z_1 = t$      \n",
    "\n",
    "$x_1 + 2t = 0$      \n",
    "$y_1 - t = 0$       \n",
    "$z_1 = t$       \n",
    "\n",
    "$\\begin{bmatrix}\n",
    "    x_1\\\\\n",
    "    y_1\\\\\n",
    "    z_1\n",
    "\\end{bmatrix}=t\\begin{bmatrix}\n",
    "    -2\\\\\n",
    "    1\\\\\n",
    "    1\n",
    "\\end{bmatrix}$\n",
    "\n",
    "The eigenvector corresponding with eigenvalue $0$ is $\\begin{bmatrix}\n",
    "    -2\\\\\n",
    "    1\\\\\n",
    "    1\n",
    "\\end{bmatrix}$."
   ]
  },
  {
   "cell_type": "markdown",
   "metadata": {},
   "source": [
    "**Eigenvector[s] with Eigenvalue 1/2**        \n",
    "$\\begin{bmatrix}\n",
    "    1/2 - 1/2 & 1/2 & 1/2\\\\\n",
    "    1/4 & 1/2 - 1/2 & 0\\\\\n",
    "    1/4 & 0 & 1/2 - 1/2\n",
    "\\end{bmatrix}\\begin{bmatrix}\n",
    "    x_2\\\\\n",
    "    y_2\\\\\n",
    "    z_2\n",
    "\\end{bmatrix}=\\begin{bmatrix}\n",
    "    0\\\\\n",
    "    0\\\\\n",
    "    0\n",
    "\\end{bmatrix}$\n",
    "\n",
    "$\\begin{bmatrix}\n",
    "    0 & 1/2 & 1/2\\\\\n",
    "    1/4 & 0 & 0\\\\\n",
    "    1/4 & 0 & 0\n",
    "\\end{bmatrix}\\begin{bmatrix}\n",
    "    x_2\\\\\n",
    "    y_2\\\\\n",
    "    z_2\n",
    "\\end{bmatrix}=\\begin{bmatrix}\n",
    "    0\\\\\n",
    "    0\\\\\n",
    "    0\n",
    "\\end{bmatrix}$"
   ]
  },
  {
   "cell_type": "code",
   "execution_count": 7,
   "metadata": {
    "scrolled": false
   },
   "outputs": [
    {
     "data": {
      "text/plain": [
       "[1 0 0 0]\n",
       "[0 1 1 0]\n",
       "[0 0 0 0]"
      ]
     },
     "execution_count": 7,
     "metadata": {},
     "output_type": "execute_result"
    }
   ],
   "source": [
    "m2 = matrix([[0,1/2,1/2,0],[1/4,0,0,0],[1/4,0,0,0]])\n",
    "\n",
    "m2.rref()"
   ]
  },
  {
   "cell_type": "markdown",
   "metadata": {},
   "source": [
    "Let $z_2 = t$      \n",
    "\n",
    "$x_2 = 0$      \n",
    "$y_2 + t = 0$       \n",
    "$z_2 = t$       \n",
    "\n",
    "$\\begin{bmatrix}\n",
    "    x_2\\\\\n",
    "    y_2\\\\\n",
    "    z_2\n",
    "\\end{bmatrix}=t\\begin{bmatrix}\n",
    "    0\\\\\n",
    "    -1\\\\\n",
    "    1\n",
    "\\end{bmatrix}$\n",
    "\n",
    "The eigenvector corresponding with eigenvalue $1/2$ is $\\begin{bmatrix}\n",
    "    0\\\\\n",
    "    -1\\\\\n",
    "    1\n",
    "\\end{bmatrix}$."
   ]
  },
  {
   "cell_type": "markdown",
   "metadata": {},
   "source": [
    "**Eigenvector[s] with Eigenvalue 1**        \n",
    "$\\begin{bmatrix}\n",
    "    1/2 - 1 & 1/2 & 1/2\\\\\n",
    "    1/4 & 1/2 - 1 & 0\\\\\n",
    "    1/4 & 0 & 1/2 - 1\n",
    "\\end{bmatrix}\\begin{bmatrix}\n",
    "    x_3\\\\\n",
    "    y_3\\\\\n",
    "    z_3\n",
    "\\end{bmatrix}=\\begin{bmatrix}\n",
    "    0\\\\\n",
    "    0\\\\\n",
    "    0\n",
    "\\end{bmatrix}$\n",
    "\n",
    "$\\begin{bmatrix}\n",
    "    -1/2 & 1/2 & 1/2\\\\\n",
    "    1/4 & -1/2 & 0\\\\\n",
    "    1/4 & 0 & -1/2\n",
    "\\end{bmatrix}\\begin{bmatrix}\n",
    "    x_3\\\\\n",
    "    y_3\\\\\n",
    "    z_3\n",
    "\\end{bmatrix}=\\begin{bmatrix}\n",
    "    0\\\\\n",
    "    0\\\\\n",
    "    0\n",
    "\\end{bmatrix}$"
   ]
  },
  {
   "cell_type": "code",
   "execution_count": 9,
   "metadata": {
    "scrolled": true
   },
   "outputs": [
    {
     "data": {
      "text/plain": [
       "[ 1  0 -2  0]\n",
       "[ 0  1 -1  0]\n",
       "[ 0  0  0  0]"
      ]
     },
     "execution_count": 9,
     "metadata": {},
     "output_type": "execute_result"
    }
   ],
   "source": [
    "m3 = matrix([[-1/2,1/2,1/2,0],[1/4,-1/2,0,0],[1/4,0,-1/2,0]])\n",
    "\n",
    "m3.rref()"
   ]
  },
  {
   "cell_type": "markdown",
   "metadata": {},
   "source": [
    "Let $z_3 = t$      \n",
    "\n",
    "$x_3 - 2t = 0$      \n",
    "$y_3 - t = 0$       \n",
    "$z_3 = t$       \n",
    "\n",
    "$\\begin{bmatrix}\n",
    "    x_3\\\\\n",
    "    y_3\\\\\n",
    "    z_3\n",
    "\\end{bmatrix}=t\\begin{bmatrix}\n",
    "    2\\\\\n",
    "    1\\\\\n",
    "    1\n",
    "\\end{bmatrix}$\n",
    "\n",
    "The eigenvector corresponding with eigenvalue $1$ is $\\begin{bmatrix}\n",
    "    2\\\\\n",
    "    1\\\\\n",
    "    1\n",
    "\\end{bmatrix}$."
   ]
  },
  {
   "cell_type": "markdown",
   "metadata": {},
   "source": [
    "**Eigenvector Matrix S**      \n",
    "The nonsingular matrix $S$ will have the eigenvectors as the columns.\n",
    "\n",
    "Thus, we know that the eigenvector matrix $S$ is as follows:   \n",
    "$S = \\begin{bmatrix}\n",
    "    -2 & 0 & 2\\\\\n",
    "    1 & -1 & 1\\\\\n",
    "    1 & 1 & 1\n",
    "\\end{bmatrix}$"
   ]
  },
  {
   "cell_type": "code",
   "execution_count": 11,
   "metadata": {},
   "outputs": [],
   "source": [
    "S = matrix([[-2,0,2],[1,-1,1],[1,1,1]])"
   ]
  },
  {
   "cell_type": "markdown",
   "metadata": {},
   "source": [
    "_____"
   ]
  },
  {
   "cell_type": "markdown",
   "metadata": {},
   "source": [
    "**Diagonalizing A**     \n",
    "\n",
    "Thus, we can put this all together to the following equation:     \n",
    "$A = SDS^{-1}$     \n",
    "$A = \\begin{bmatrix}\n",
    "    -2 & 0 & 2\\\\\n",
    "    1 & -1 & 1\\\\\n",
    "    1 & 1 & 1\n",
    "\\end{bmatrix}\\begin{bmatrix}\n",
    "    0 & 0 & 0\\\\\n",
    "    0 & 1/2 & 0\\\\\n",
    "    0 & 0 & 1\n",
    "\\end{bmatrix}\\begin{bmatrix}\n",
    "    -2 & 1 & 1\\\\\n",
    "    0 & -1 & 1\\\\\n",
    "    2 & 1 & 1\n",
    "\\end{bmatrix}$     \n"
   ]
  },
  {
   "cell_type": "code",
   "execution_count": 13,
   "metadata": {
    "scrolled": false
   },
   "outputs": [
    {
     "data": {
      "text/plain": [
       "True"
      ]
     },
     "execution_count": 13,
     "metadata": {},
     "output_type": "execute_result"
    }
   ],
   "source": [
    "A == S*D*S.inverse()"
   ]
  },
  {
   "cell_type": "markdown",
   "metadata": {},
   "source": [
    "## (c) Initial Distribution C"
   ]
  },
  {
   "cell_type": "markdown",
   "metadata": {},
   "source": [
    "$y_0 = \\begin{bmatrix}\n",
    "    2\\\\\n",
    "    0\\\\\n",
    "    2\n",
    "\\end{bmatrix}$"
   ]
  },
  {
   "cell_type": "code",
   "execution_count": 15,
   "metadata": {},
   "outputs": [],
   "source": [
    "y0 = vector([2,0,2])"
   ]
  },
  {
   "cell_type": "markdown",
   "metadata": {},
   "source": [
    "## (d) Distribution in year k"
   ]
  },
  {
   "cell_type": "markdown",
   "metadata": {},
   "source": [
    "$y_0$ rewritten as a linear combination of eigenvectors will be $y_0 = xe_1 + ye_2 + ze_3$ where $x$, $y$, and $z$ fulfill the following equations:        \n",
    "\n",
    "$\\begin{bmatrix}\n",
    "    e_1 | e_2 | e_3\n",
    "\\end{bmatrix} * \\begin{bmatrix}\n",
    "    x\\\\\n",
    "    y\\\\\n",
    "    z\n",
    "\\end{bmatrix} = y_0$      \n",
    "\n",
    "A simple way to solve this equation would be to find the rref of the augmented matrix with $S$ on the left and $y_0$ on the right."
   ]
  },
  {
   "cell_type": "code",
   "execution_count": 17,
   "metadata": {
    "scrolled": true
   },
   "outputs": [
    {
     "data": {
      "text/plain": [
       "[1 0 0 0]\n",
       "[0 1 0 1]\n",
       "[0 0 1 1]"
      ]
     },
     "execution_count": 17,
     "metadata": {},
     "output_type": "execute_result"
    }
   ],
   "source": [
    "year1 = matrix(QQ,[[-2,0,2,2],[1,-1,1,0],[1,1,1,2]])\n",
    "\n",
    "year1.rref()"
   ]
  },
  {
   "cell_type": "markdown",
   "metadata": {},
   "source": [
    "This tells us that:     \n",
    "$x = 0$      \n",
    "$y = 1$      \n",
    "$z = 1$      \n",
    "\n",
    "Therefore,      \n",
    "$y_0 =\n",
    "    S\\begin{bmatrix}\n",
    "    0\\\\\n",
    "    1\\\\\n",
    "    1\n",
    "\\end{bmatrix}$          "
   ]
  },
  {
   "cell_type": "code",
   "execution_count": 20,
   "metadata": {
    "scrolled": true
   },
   "outputs": [
    {
     "data": {
      "text/plain": [
       "True"
      ]
     },
     "execution_count": 20,
     "metadata": {},
     "output_type": "execute_result"
    }
   ],
   "source": [
    "y0 == S*vector([0,1,1])"
   ]
  },
  {
   "cell_type": "markdown",
   "metadata": {},
   "source": [
    "$y_k = A^k*y_0$         \n",
    "\n",
    "$y_k = SD^kS^{-1}*S\\begin{bmatrix}\n",
    "    0\\\\\n",
    "    1\\\\\n",
    "    1\n",
    "\\end{bmatrix}$         \n",
    "\n",
    "$y_k = SD^k\\begin{bmatrix}\n",
    "    0\\\\\n",
    "    1\\\\\n",
    "    1\n",
    "\\end{bmatrix}$         \n",
    "\n",
    "$y_k = \\begin{bmatrix}\n",
    "    -2 & 0 & 2\\\\\n",
    "    1 & -1 & 1\\\\\n",
    "    1 & 1 & 1\n",
    "\\end{bmatrix}\\begin{bmatrix}\n",
    "    0 & 0 & 0\\\\\n",
    "    0 & 1/2 & 0\\\\\n",
    "    0 & 0 & 1\n",
    "\\end{bmatrix}^k\\begin{bmatrix}\n",
    "    0\\\\\n",
    "    1\\\\\n",
    "    1\n",
    "\\end{bmatrix}$         \n",
    "\n",
    "$y_k = \\begin{bmatrix}\n",
    "    -2 & 0 & 2\\\\\n",
    "    1 & -1 & 1\\\\\n",
    "    1 & 1 & 1\n",
    "\\end{bmatrix}\\begin{bmatrix}\n",
    "    0 & 0 & 0\\\\\n",
    "    0 & 1/2^k & 0\\\\\n",
    "    0 & 0 & 1^k\n",
    "\\end{bmatrix}\\begin{bmatrix}\n",
    "    0\\\\\n",
    "    1\\\\\n",
    "    1\n",
    "\\end{bmatrix}$     \n",
    "\n",
    "$y_k = \\begin{bmatrix}\n",
    "    -2 & 0 & 2\\\\\n",
    "    1 & -1 & 1\\\\\n",
    "    1 & 1 & 1\n",
    "\\end{bmatrix}\\begin{bmatrix}\n",
    "    0\\\\\n",
    "    1/2^k\\\\\n",
    "    1^k\n",
    "\\end{bmatrix}$     \n",
    "\n",
    "$y_k = \\begin{bmatrix}\n",
    "    2(1^k)\\\\\n",
    "    -1(1/2^k)+1(1^k)\\\\\n",
    "    1(1/2^k)+1(1^k)\n",
    "\\end{bmatrix}$     "
   ]
  },
  {
   "cell_type": "markdown",
   "metadata": {},
   "source": [
    "## (e) Long term distribution"
   ]
  },
  {
   "cell_type": "markdown",
   "metadata": {},
   "source": [
    "This tells us that the long term distribution will be equal to the third eigenvector $\\begin{bmatrix}\n",
    "    2\\\\\n",
    "    1\\\\\n",
    "    1\n",
    "\\end{bmatrix}$.\n",
    "\n",
    "\n",
    "**Evaluating $D^k$**        \n",
    "Since the first row of the eigenvalue matrix is full of zeroes, we will never have any component of eigenvector 1 in our state.\n",
    "\n",
    "Since the second row of the eigenvalue matrix only consists of values less than 1, it will approach zero as $k$ increases.      \n",
    "\n",
    "Since the last row of the eigenvalue matrix consists of only 0s and 1s, it will stay the same no matter how $k$ increases.     \n",
    "\n",
    "Thus, as $k$ becomes infinitely large, the only value left in the matrix will be the $1$ in the third row third column of the matrix.\n",
    "\n",
    "$D^\\infty = \\begin{bmatrix}\n",
    "    0 & 0 & 0\\\\\n",
    "    0 & 0 & 0\\\\\n",
    "    0 & 0 & 1\n",
    "\\end{bmatrix}$\n",
    "\n",
    "**Evaluating $D^k *$ coordinates of $y_0$**        \n",
    "Thus, when we multiply it with the coordinates of $y_0$, we get a bunch of zeroes and the last entry in the coordinates, which in this case is 1, resulting in $\\begin{bmatrix}\n",
    "    0\\\\\n",
    "    0\\\\\n",
    "    1\n",
    "\\end{bmatrix}$     \n",
    "\n",
    "**Evaluating $S * D^k *$ coordinates of $y_0$**         \n",
    "Thus, when we multiply this with $S$, we get back the third column of $S$, which is the third eigenvector.      \n",
    "\n",
    "**Overall**       \n",
    "Overall, this tells us that as $k$ increases, we approach a stable state which is equivalent to the third eigenvector since that is the only eigenvector with eigenvalue 1 and the other eigenvectors all have eigenvalues that are less than 1."
   ]
  },
  {
   "cell_type": "markdown",
   "metadata": {},
   "source": [
    "# 3. A vector space by any other name"
   ]
  },
  {
   "cell_type": "markdown",
   "metadata": {},
   "source": [
    "## (a)"
   ]
  },
  {
   "cell_type": "markdown",
   "metadata": {},
   "source": [
    "### (i)"
   ]
  },
  {
   "cell_type": "markdown",
   "metadata": {},
   "source": [
    "The range of $T$ would be $f(x)$ for $x \\in X$ in the map $X \\to Y$.\n",
    "\n",
    "Since $T(p(x)) = p(0)$, $f(x) = p(0)$. A 2 degree polynomial can be expressed as $ax^2+bx+c$, so $f(x) = a(0)^2 + b(0) + c$, which would equate to just $c$.\n",
    "\n",
    "Thus, the range of $T$ is just the one dimensional variation of possible constants $c$. Thus, $range(T) = R$"
   ]
  },
  {
   "cell_type": "markdown",
   "metadata": {},
   "source": [
    "### (ii)"
   ]
  },
  {
   "cell_type": "markdown",
   "metadata": {},
   "source": [
    "Since we know that a linear transformation of $V$ to $W$ is a mapping of how vectors in $W$ can be expressed as a linear combination of basis vectors of $V$, we know that $T$ can be expressed as:       \n",
    "$T(x,y,z) = ax + by + cz$        \n",
    "where $x,y,z$ are basis vectors of $V$.\n",
    "\n",
    "**Closed under addition**       \n",
    "$T(x,y,z) + T(x',y',z') = ax + by + cz + ax' + by' + cz'$       \n",
    "$T(x,y,z) + T(x',y',z') = a(x+x') + b(y+y') + c(z + z')$       \n",
    "$T(x,y,z) + T(x',y',z') = T(x+x', y+y', z+z')$        \n",
    "\n",
    "**Closed under multiplication**       \n",
    "$kT(x,y,z) = k(ax + by + cz)$      \n",
    "$kT(x,y,z) = akx + bky + ckz$      \n",
    "$kT(x,y,z) = T(kx, ky, kz)$      \n",
    "\n",
    "**Contains zero vector**       \n",
    "$T(0,0,0) = a(0) + b(0) + c(0)$      \n",
    "$T(0,0,0) = 0$      \n"
   ]
  },
  {
   "cell_type": "markdown",
   "metadata": {},
   "source": [
    "### (iii)"
   ]
  },
  {
   "cell_type": "markdown",
   "metadata": {},
   "source": [
    "$T(x) = Ax$\n",
    "\n",
    "$\\begin{bmatrix}\n",
    "    x_1\\\\\n",
    "    x_2\\\\\n",
    "    ...\\\\\n",
    "    x_n\n",
    "\\end{bmatrix} = \\begin{bmatrix}\n",
    "    c_{11} & c_{12} & ... & c_{1m}\\\\\n",
    "    c_{21} & c_{22} & ... & c_{2m}\\\\\n",
    "    ...\\\\\n",
    "    c_{n1} & c_{n2} & ... & c_{nm}\n",
    "\\end{bmatrix}\\begin{bmatrix}\n",
    "    x_1\\\\\n",
    "    x_2\\\\\n",
    "    ...\\\\\n",
    "    x_m\n",
    "\\end{bmatrix}$\n",
    "\n",
    "$\\begin{bmatrix}\n",
    "    x_1\\\\\n",
    "    x_2\\\\\n",
    "    ...\\\\\n",
    "    x_n\n",
    "\\end{bmatrix} = \\begin{bmatrix}\n",
    "    c_{11}x_1 + c_{12}x_2 + ... + c_{1m}x_m\\\\\n",
    "    c_{21}x_1 + c_{22}x_2 + ... + c_{2m}x_m\\\\\n",
    "    ...\\\\\n",
    "    c_{n1}x_1 + c_{n2}x_2 + ... + c_{nm}x_m\n",
    "\\end{bmatrix}$\n",
    "\n",
    "Which can be simplified to:\n",
    "\n",
    "$\\begin{bmatrix}\n",
    "    x_1\\\\\n",
    "    x_2\\\\\n",
    "    ...\\\\\n",
    "    x_n\n",
    "\\end{bmatrix} = \\begin{bmatrix}\n",
    "    col_1 & col_2 & ... & col_m\n",
    "\\end{bmatrix}\\begin{bmatrix}\n",
    "    x_1\\\\\n",
    "    x_2\\\\\n",
    "    ...\\\\\n",
    "    x_m\n",
    "\\end{bmatrix}$\n",
    "\n",
    "$\\begin{bmatrix}\n",
    "    x_1\\\\\n",
    "    x_2\\\\\n",
    "    ...\\\\\n",
    "    x_n\n",
    "\\end{bmatrix} = \\begin{bmatrix}\n",
    "    col_1x_1 + col_2x_2 + ... + col_mx_m\n",
    "\\end{bmatrix}$"
   ]
  },
  {
   "cell_type": "markdown",
   "metadata": {},
   "source": [
    "Thus, $T(x)$ is equivalent to the column space of $A$, since it is just all possible combinations of the columns of $A$ (whose coefficients are denoted by $x$).\n",
    "\n",
    "Following this, we know that Null($T$) is the null space of $A$ since it all the $m \\times 1$ vectors ($x$) for which $Ax = 0$"
   ]
  },
  {
   "cell_type": "markdown",
   "metadata": {},
   "source": [
    "Since we know thatdim(row space) == dim(col space) and that dim(left null space) + dim(row space) = dim($R^m$). We can conclude that dim(null(T)) + dim(range(T)) = dim($R^m$)."
   ]
  },
  {
   "cell_type": "markdown",
   "metadata": {},
   "source": [
    "## (b)"
   ]
  },
  {
   "cell_type": "markdown",
   "metadata": {},
   "source": [
    "### (i)"
   ]
  },
  {
   "cell_type": "markdown",
   "metadata": {},
   "source": [
    "**Original transformation**      \n",
    "$T(x,y) = (x+y,x)$      \n",
    "$T(x) = x+y$       \n",
    "$T(y) = x$\n",
    "\n",
    "**Inverse transformation**      \n",
    "$x = T(y)$      \n",
    "$y = T(x) - x$       \n",
    "$y = T(x) - T(y)$   \n",
    "$T^{-1}(x,y) = (y,x-y)$      \n",
    "\n",
    "**Ensuring that the transformation is invertible**    \n",
    "$T^{-1}(T(x,y)) = T^{-1}(x+y,x)$      \n",
    "$T^{-1}(T(x,y)) = (x,x+y-x)$      \n",
    "$T^{-1}(T(x,y)) = (x,y)$      \n",
    "\n",
    "Thus, since the transformation $T^{-1}$ exists such that $T^{-1}(T(x,y))=(x,y)$, the transformation $T$ is invertible."
   ]
  },
  {
   "cell_type": "markdown",
   "metadata": {},
   "source": [
    "### (ii)"
   ]
  },
  {
   "cell_type": "markdown",
   "metadata": {},
   "source": [
    "$T(x,y) = (x+y,x)$\n",
    "\n",
    "$T(x) = x+y$       \n",
    "$T(y) = x$\n",
    "\n",
    "$\\begin{bmatrix}\n",
    "    T(x)\\\\\n",
    "    T(y)\n",
    "\\end{bmatrix} = \\begin{bmatrix}\n",
    "    1 & 1\\\\\n",
    "    1 & 0\n",
    "\\end{bmatrix}\\begin{bmatrix}\n",
    "    x\\\\\n",
    "    y\n",
    "\\end{bmatrix}$   \n",
    "\n",
    "Thus, $A = \\begin{bmatrix}\n",
    "    1 & 1\\\\\n",
    "    1 & 0\n",
    "\\end{bmatrix}$     "
   ]
  },
  {
   "cell_type": "markdown",
   "metadata": {},
   "source": [
    "$x = T(y)$      \n",
    "$y = T(x) - x$       \n",
    "$y = T(x) - T(y)$\n",
    "\n",
    "$\\begin{bmatrix}\n",
    "    x\\\\\n",
    "    y\n",
    "\\end{bmatrix} = \\begin{bmatrix}\n",
    "    0 & 1\\\\\n",
    "    1 & -1\n",
    "\\end{bmatrix}\\begin{bmatrix}\n",
    "    T(x)\\\\\n",
    "    T(y)\n",
    "\\end{bmatrix}$ \n",
    "\n",
    "Thus, $B = \\begin{bmatrix}\n",
    "    0 & 1\\\\\n",
    "    1 & -1\n",
    "\\end{bmatrix}$     "
   ]
  },
  {
   "cell_type": "code",
   "execution_count": 41,
   "metadata": {},
   "outputs": [],
   "source": [
    "f = matrix(QQ,[[1,1],[1,0]])"
   ]
  },
  {
   "cell_type": "code",
   "execution_count": 42,
   "metadata": {},
   "outputs": [],
   "source": [
    "g = matrix(QQ,[[0,1],[1,-1]])"
   ]
  },
  {
   "cell_type": "code",
   "execution_count": 43,
   "metadata": {
    "scrolled": true
   },
   "outputs": [
    {
     "data": {
      "text/plain": [
       "True"
      ]
     },
     "execution_count": 43,
     "metadata": {},
     "output_type": "execute_result"
    }
   ],
   "source": [
    "g == f.inverse()"
   ]
  },
  {
   "cell_type": "markdown",
   "metadata": {},
   "source": [
    "Thus we can see that $A$ and $B$ exists such that $B = A^{-1}$.     \n",
    "\n",
    "Since we know that $B$ \n",
    "\n",
    "\n",
    "\n",
    "should always undo the effect of $A$, we know that:   \n",
    "\n",
    "We know that for any transformed vector using $A$, $b$ should send the vector back to its original state.      \n",
    "$(Av) = v_t$         \n",
    "$B(v_t)=v$      \n",
    "\n",
    "Thus, we know that when we first multiply by $A$ and then $B$, we should not change the state of the vector.    \n",
    "$BAv = v$      \n",
    "\n",
    "If we right multiply both sides by $v^{-1}$\n",
    "$BAvv^{-1} = vv^{-1}$       \n",
    "$BA = I$      \n",
    "$B = A^{-1}$      \n",
    "\n",
    "Thus, we see that for all invertible maps from $R^n$ to $R^n$ (because only square matrices are invertible), $B = A^{-1}$."
   ]
  },
  {
   "cell_type": "markdown",
   "metadata": {},
   "source": [
    "## (c)"
   ]
  },
  {
   "cell_type": "markdown",
   "metadata": {},
   "source": [
    "### (i)"
   ]
  },
  {
   "cell_type": "markdown",
   "metadata": {},
   "source": [
    "$T(x,y,0) = (x,y)$        \n",
    "$T(x) = x$        \n",
    "$T(y) = y$        \n",
    "$T(0) = 0$        \n",
    "\n",
    "$T = \\begin{bmatrix}\n",
    "    1 & 0 & 0\\\\\n",
    "    0 & 1 & 0\n",
    "\\end{bmatrix}$         \n",
    "\n",
    "$x = T(x)$        \n",
    "$y = T(y)$        \n",
    "$0 = T(0)$        \n",
    "\n",
    "$T^{-1} = \\begin{bmatrix}\n",
    "    1 & 0\\\\\n",
    "    0 & 1\\\\\n",
    "    0 & 0\n",
    "\\end{bmatrix}$         \n",
    "\n",
    "Thus, since there exists an invertible linear map from $V$ to $R^2$, that means that every vector in $R^2$ can be expressed as a linear combination of vectors in $V$, and every vector in $V$ can be expressed as a linear combination of vectors in $R^2$. Thus, both $V$ and $R^2$ span the same vectorspace, making them isomorphic."
   ]
  },
  {
   "cell_type": "markdown",
   "metadata": {},
   "source": [
    "### (ii)"
   ]
  },
  {
   "cell_type": "markdown",
   "metadata": {},
   "source": [
    "$T(\\begin{bmatrix}\n",
    "    a & b & c\\\\\n",
    "    d & e & f\n",
    "\\end{bmatrix}) = (a,b,c,d,e,f)$      \n",
    "\n",
    "$T^{-1}(a,b,c,d,e,f) = a\\begin{bmatrix}\n",
    "    1 & 0 & 0\\\\\n",
    "    0 & 0 & 0\n",
    "\\end{bmatrix}+b\\begin{bmatrix}\n",
    "    0 & 1 & 0\\\\\n",
    "    0 & 0 & 0\n",
    "\\end{bmatrix}+c\\begin{bmatrix}\n",
    "    0 & 0 & 1\\\\\n",
    "    0 & 0 & 0\n",
    "\\end{bmatrix}+d\\begin{bmatrix}\n",
    "    0 & 0 & 0\\\\\n",
    "    1 & 0 & 0\n",
    "\\end{bmatrix}+e\\begin{bmatrix}\n",
    "    0 & 0 & 0\\\\\n",
    "    0 & 1 & 0\n",
    "\\end{bmatrix}+f\\begin{bmatrix}\n",
    "    0 & 0 & 0\\\\\n",
    "    0 & 0 & 1\n",
    "\\end{bmatrix}$"
   ]
  },
  {
   "cell_type": "markdown",
   "metadata": {},
   "source": [
    "## (d)"
   ]
  },
  {
   "cell_type": "markdown",
   "metadata": {},
   "source": [
    "### (i)"
   ]
  },
  {
   "cell_type": "markdown",
   "metadata": {},
   "source": [
    "**null(T) = {0}**      \n",
    "\n",
    "If $T(V) \\to W$ is isomorphic, that means that $T^{-1}(T(v)) = v$ (the mapping is one-to-one. \n",
    "\n",
    "In other words, since $T$ is a linear transformation, the only way to get the zero vector as an output is to have the zero vector as an input:     \n",
    "$T(0) = T(0-0)$       \n",
    "$T(0) = T(0)-T(0)$       \n",
    "$T(0) = 0$       \n",
    "\n",
    "Thus the only vector $v$ for which $T^{-1}(T(v)) = 0$ is $v=0$.\n",
    "\n",
    "Thus, $null(T) = \\{ 0 \\}$."
   ]
  },
  {
   "cell_type": "markdown",
   "metadata": {},
   "source": [
    "**Range(T) = W**       \n",
    "Since $dim(null(T)) + dim(range(T)) = dim(R^m)$            \n",
    "$dim(range(T)) = dim(R^m)$       \n",
    "\n",
    "In other words, all $m$ columns of $T$ are linearly independent, and thus form a basis for a colspace that spans $R^m$. \n",
    "\n",
    "Since we know that $W$ has to be a subset of $R^m$ (since it consists of vectors length $m$), and $range(T) = R^m$ we know that $range(T) = W$. "
   ]
  },
  {
   "cell_type": "markdown",
   "metadata": {},
   "source": [
    "**dim(W) = dim(V)**       \n",
    "Since we know that only the 0 vector will map to 0 (every vector other than $0$ will map to a unique vector in $W$), and that every vector in W can be expressed as a linear combination of $V$ ($range(T) = W$), we can conclude that V is a subset of W, and W is a subset of V. \n",
    "\n",
    "In other words $dim(V) <= dim(W) AND dim(W) <= dim(V)$. The only was this equation is satisfied is if $dim(V) = dim(W)$."
   ]
  },
  {
   "cell_type": "markdown",
   "metadata": {},
   "source": [
    "### (ii)"
   ]
  },
  {
   "cell_type": "markdown",
   "metadata": {},
   "source": [
    "**Every vector in V maps onto a unique vector in W**      \n",
    "Assuming that $w_1 = w_2$ for some vectors $w \\in W$,\n",
    "\n",
    "$w_1 - w_2 = 0$       \n",
    "\n",
    "Since we know both $w_1$ and $w_2$ are linear combinations of vectors $v \\in V$, this means that:      \n",
    "$T(v_1)-T(v_2) = 0$       \n",
    "\n",
    "Since these are linear combinations,      \n",
    "$T(v_1-v_2) = 0$       \n",
    "\n",
    "Since $null(T) = 0$, the only way $T(v_1-v_2) = 0$ is if $v_1 = v_2$. \n",
    "\n",
    "Thus, every transformation of a vector $v$ maps to a unique vector $w$ (Two different vectors $v$ will never get mapped to the same vector $w$). \n",
    " \n",
    "**Every vector in W can be expreessed as a linear transformation of V**   \n",
    "Since $range(T) = W$, this means that every vector in $w \\in W$ can be expressed as a linear combination of $v \\in V$. \n",
    "\n",
    "\n",
    "**Thus, Isomorphic**           \n",
    "Since every vector in $V$ can be found in $W$ and every vector $W$ can be found in $V$, this means that they span the exact same space and are isomorphic. "
   ]
  },
  {
   "cell_type": "markdown",
   "metadata": {},
   "source": [
    "### (iii)"
   ]
  },
  {
   "cell_type": "markdown",
   "metadata": {},
   "source": [
    "$T(c_1v_1+...+c_nv_n) = c_1w_1+...+c_nw_n$"
   ]
  },
  {
   "cell_type": "markdown",
   "metadata": {},
   "source": [
    "**T is a linear map**       "
   ]
  },
  {
   "cell_type": "markdown",
   "metadata": {},
   "source": [
    "Closed under addition       \n",
    "$T(a(c_1v_1+...+c_nv_n)) = a(c_1w_1+...+c_nw_n)$         \n",
    "$T(a(c_1v_1+...+c_nv_n)) = aT(c_1v_1+...+c_nv_n)$         \n",
    "\n",
    "Closed under multiplication   \n",
    "$T(c_1v_1+...+c_nv_n)+T(c_1v_1'+...+c_nv_n') = c_1w_1+...+c_nw_n+c_1w_1'+...+c_nw_n'$         \n",
    "$T(c_1v_1+...+c_nv_n)+T(c_1v_1'+...+c_nv_n') = c_1(w_1+w_1')+...+c_n(w_n+w_n')$         \n",
    "$T(c_1v_1+...+c_nv_n)+T(c_1v_1'+...+c_nv_n') = T(v_1+v_1'+...+v_n+v_n')$         \n",
    "\n",
    "Contains the zero vector       \n",
    "$T(c_1(0)+...+c_n(0)) = 0$."
   ]
  },
  {
   "cell_type": "markdown",
   "metadata": {},
   "source": [
    "**null(T) = {0}**       "
   ]
  },
  {
   "cell_type": "markdown",
   "metadata": {},
   "source": [
    "$null(T)$ is the space of all vectors $x$ for which $T(x) = 0$      \n",
    "\n",
    "Thus we have to find the vectors $v$ where \n",
    "$T(c_1v_1+...+c_nv_n) = 0$       \n",
    "$c_1w_1+...+c_nw_n = 0$       \n",
    "\n",
    "Since we know that $V$ is in the space $R^n$ and $W$ is also in the space $R^n$, this means that all constant $c$s in the transformation $T$ have to be non-zero (else $dim(W) < R^n $).     \n",
    "\n",
    "Additionally, since we know that ${v_1,...,v_n}$ and ${w_1,...,w_n}$ form bases, that means that all vector $v$s are linearly independent and all vector $w$s are linearly independent ($c_1w_1+...+c_{n-1}w_{n-1} != c_nw_n$).       \n",
    "\n",
    "Thus, since all the constants are non-zero and it is impossible to form any of the vector $w$s from a linear combination of other vector $w$s in the same set, the only way $c_1w_1+...+c_nw_n = 0$ is if $w_1,...,w_n$ was all zero as well.       \n",
    "\n",
    "Thus the only vector for which $T(c_1v_1+...+c_nv_n) = 0$ is the zero vector.\n",
    "\n",
    "Thus, $null(T) = \\{ 0 \\}$\n",
    "\n",
    "\n",
    "\n"
   ]
  },
  {
   "cell_type": "markdown",
   "metadata": {},
   "source": [
    "**range(T) = W**       "
   ]
  },
  {
   "cell_type": "markdown",
   "metadata": {},
   "source": [
    "Since $dim(null(T)) = 0$ and $dim(null(T)) + dim(range(T)) = dim(R^n)$, we know that:      \n",
    "$dim(range(T)) = dim(R^n)$.    \n",
    "\n",
    "In other words, the colspace of $T$ spans the entirely of $R^n$ space.     \n",
    "Since $W$ must be a subspace of $R^n$ space (since it consists of n basis vectors), $range(T) = W$."
   ]
  },
  {
   "cell_type": "markdown",
   "metadata": {},
   "source": [
    "**T is Isomorphic**       "
   ]
  },
  {
   "cell_type": "markdown",
   "metadata": {},
   "source": [
    "Since $null(T) = 0$, we know that every vector in $V$ maps to a vector in $W$.\n",
    "\n",
    "Since $range(T) = W$, we know that every vector in $W$ maps to a vector in $V$.\n",
    "\n",
    "Thus, since every vector in either space maps directly onto a vector in the other space, both vectorspaces span the same space. Thus, they are isomorphic."
   ]
  },
  {
   "cell_type": "markdown",
   "metadata": {},
   "source": [
    "## (e)"
   ]
  },
  {
   "cell_type": "markdown",
   "metadata": {},
   "source": [
    "### (i)"
   ]
  },
  {
   "cell_type": "markdown",
   "metadata": {},
   "source": [
    "**Defining the map**       \n",
    "$T(a+bx+cx^2+...+(n+1)x^n) = (a,b,c,...,n+1)$      "
   ]
  },
  {
   "cell_type": "markdown",
   "metadata": {},
   "source": [
    "**Same dimension**     \n",
    "Since $P(n)$ consists of $n+1$ independent variables, $dim(P(n)) = n+1$.    \n",
    "Since $R^{n+1}$ has $n+1$ independent variables, $dim(R^{n+1}) = n+1$.    \n",
    "Since $dim(P(n)) = dim(R^{n+1})$, the two spaces are isomorphic."
   ]
  },
  {
   "cell_type": "markdown",
   "metadata": {},
   "source": [
    "### (ii)"
   ]
  },
  {
   "cell_type": "markdown",
   "metadata": {},
   "source": [
    "**Defining the Map**"
   ]
  },
  {
   "cell_type": "markdown",
   "metadata": {},
   "source": [
    "$T(\\begin{bmatrix}\n",
    "    a_{11} & a_{12} & ... & a_{1m}\\\\\n",
    "    a_{21} & a_{22} & ... & a_{2m}\\\\\n",
    "    ...\\\\\n",
    "    a_{n1} & a_{n2} & ... & a_{nm}\n",
    "\\end{bmatrix}) = \\begin{bmatrix}\n",
    "    a_{11}\\\\\n",
    "    a_{12}\\\\\n",
    "    ...\\\\\n",
    "    a_{1m}\\\\\n",
    "    a_{21}\\\\\n",
    "    ...\\\\\n",
    "    a_{n1}\\\\\n",
    "    a_{n2}\\\\\n",
    "    ...\\\\\n",
    "    a_{nm}\n",
    "\\end{bmatrix}$"
   ]
  },
  {
   "cell_type": "markdown",
   "metadata": {},
   "source": [
    "**Same dimension**     \n",
    "Since $M_{n \\times m}$ consists of $n*m$ independent variables, $dim(M_{n \\times m}) = nm$.    \n",
    "Since $R^{nm}$ has $nm$ independent variables, $dim(R^{nm}) = nm$.    \n",
    "Since $dim(M_{n \\times m}) = dim(R^{nm})$, the two spaces are isomorphic."
   ]
  },
  {
   "cell_type": "markdown",
   "metadata": {},
   "source": [
    "### (iii)"
   ]
  },
  {
   "cell_type": "markdown",
   "metadata": {},
   "source": [
    "**Defining the Map**"
   ]
  },
  {
   "cell_type": "markdown",
   "metadata": {},
   "source": [
    "$T(a+bx+cx^2+dx^3+ex^4+fx^5) = \\begin{bmatrix}\n",
    "    a & c & e\\\\\n",
    "    b & d & f\n",
    "\\end{bmatrix}$"
   ]
  },
  {
   "cell_type": "markdown",
   "metadata": {},
   "source": [
    "**Same dimension**     \n",
    "Since $P(5)$ consists of $6$ independent variables, $dim(P(5)) = 6$.    \n",
    "Since $M_{2 \\times 3}$ has $6$ independent variables, $dim(M_{2 \\times 3}) = 6$.    \n",
    "Since $dim(P(5)) = dim(M_{2 \\times 3})$, the two spaces are isomorphic."
   ]
  }
 ],
 "metadata": {
  "kernelspec": {
   "display_name": "SageMath 8.7",
   "language": "",
   "name": "sagemath"
  },
  "language_info": {
   "codemirror_mode": {
    "name": "ipython",
    "version": 2
   },
   "file_extension": ".py",
   "mimetype": "text/x-python",
   "name": "python",
   "nbconvert_exporter": "python",
   "pygments_lexer": "ipython2",
   "version": "2.7.15"
  }
 },
 "nbformat": 4,
 "nbformat_minor": 2
}
