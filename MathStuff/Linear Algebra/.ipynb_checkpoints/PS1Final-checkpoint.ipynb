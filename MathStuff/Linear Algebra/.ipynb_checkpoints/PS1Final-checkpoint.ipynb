{
 "cells": [
  {
   "cell_type": "markdown",
   "metadata": {},
   "source": [
    "## Q1\n",
    "### (a) Show that the following two matrices are row-equivalent\n",
    "\n",
    "$$M1 = \\begin{bmatrix}\n",
    "    0 & 1 & -3 & 2 \\\\\n",
    "    3 & 0 & 6 & 3 \\\\\n",
    "    4 & -1 & 11 & 2 \n",
    "\\end{bmatrix} $$\n",
    "\n",
    "$$M2 = \\begin{bmatrix}\n",
    "    3 & -1 & 9 & 1 \\\\\n",
    "    0 & 5 & -15 & 10 \\\\\n",
    "    1 & 0 & 2 & 1 \n",
    "\\end{bmatrix} $$"
   ]
  },
  {
   "cell_type": "code",
   "execution_count": 2,
   "metadata": {},
   "outputs": [
    {
     "data": {
      "text/html": [
       "<html><script type=\"math/tex; mode=display\">\\newcommand{\\Bold}[1]{\\mathbf{#1}}\\left(\\begin{array}{rrrr}\n",
       "1 & 0 & 2 & 1 \\\\\n",
       "0 & 1 & -3 & 2 \\\\\n",
       "0 & 0 & 0 & 0\n",
       "\\end{array}\\right)</script></html>"
      ],
      "text/plain": [
       "[ 1  0  2  1]\n",
       "[ 0  1 -3  2]\n",
       "[ 0  0  0  0]"
      ]
     },
     "metadata": {},
     "output_type": "display_data"
    },
    {
     "data": {
      "text/html": [
       "<html><script type=\"math/tex; mode=display\">\\newcommand{\\Bold}[1]{\\mathbf{#1}}\\left(\\begin{array}{rrrr}\n",
       "1 & 0 & 2 & 1 \\\\\n",
       "0 & 1 & -3 & 2 \\\\\n",
       "0 & 0 & 0 & 0\n",
       "\\end{array}\\right)</script></html>"
      ],
      "text/plain": [
       "[ 1  0  2  1]\n",
       "[ 0  1 -3  2]\n",
       "[ 0  0  0  0]"
      ]
     },
     "metadata": {},
     "output_type": "display_data"
    }
   ],
   "source": [
    "M1 = matrix(QQ, [[0,1,-3,2],[3,0,6,3],[4,-1,11,2]])\n",
    "M2 = matrix(QQ,[[3,-1,9,1],[0,5,-15,10],[1,0,2,1]])\n",
    "\n",
    "show(M1.rref())\n",
    "show(M2.rref())"
   ]
  },
  {
   "cell_type": "markdown",
   "metadata": {},
   "source": [
    "Both matrices have the same RREF, thus they are row equivalent.\n"
   ]
  },
  {
   "cell_type": "markdown",
   "metadata": {},
   "source": [
    "### (b) Show that the matrices are row equivalent no matetr which column you remove\n"
   ]
  },
  {
   "cell_type": "code",
   "execution_count": 3,
   "metadata": {},
   "outputs": [
    {
     "data": {
      "text/html": [
       "<html><script type=\"math/tex; mode=display\">\\newcommand{\\Bold}[1]{\\mathbf{#1}}\\left(\\begin{array}{rrr}\n",
       "1 & 0 & 1 \\\\\n",
       "0 & 1 & 2 \\\\\n",
       "0 & 0 & 0\n",
       "\\end{array}\\right)</script></html>"
      ],
      "text/plain": [
       "[1 0 1]\n",
       "[0 1 2]\n",
       "[0 0 0]"
      ]
     },
     "metadata": {},
     "output_type": "display_data"
    },
    {
     "data": {
      "text/html": [
       "<html><script type=\"math/tex; mode=display\">\\newcommand{\\Bold}[1]{\\mathbf{#1}}\\left(\\begin{array}{rrr}\n",
       "1 & 0 & 1 \\\\\n",
       "0 & 1 & 2 \\\\\n",
       "0 & 0 & 0\n",
       "\\end{array}\\right)</script></html>"
      ],
      "text/plain": [
       "[1 0 1]\n",
       "[0 1 2]\n",
       "[0 0 0]"
      ]
     },
     "metadata": {},
     "output_type": "display_data"
    }
   ],
   "source": [
    "B1 = matrix(QQ, [[0,1,2],[3,0,3],[4,-1,2]])\n",
    "B2 = matrix(QQ,[[3,-1,1],[0,5,10],[1,0,1]])\n",
    "\n",
    "show(B1.rref())\n",
    "show(B2.rref())"
   ]
  },
  {
   "cell_type": "markdown",
   "metadata": {},
   "source": [
    "As we can see, removing the third column still maintains the row equivalency as they still have the same RREF."
   ]
  },
  {
   "cell_type": "code",
   "execution_count": 4,
   "metadata": {},
   "outputs": [
    {
     "data": {
      "text/html": [
       "<html><script type=\"math/tex; mode=display\">\\newcommand{\\Bold}[1]{\\mathbf{#1}}\\left(\\begin{array}{rrr}\n",
       "1 & 0 & 2 \\\\\n",
       "0 & 1 & -3 \\\\\n",
       "0 & 0 & 0\n",
       "\\end{array}\\right)</script></html>"
      ],
      "text/plain": [
       "[ 1  0  2]\n",
       "[ 0  1 -3]\n",
       "[ 0  0  0]"
      ]
     },
     "metadata": {},
     "output_type": "display_data"
    },
    {
     "data": {
      "text/html": [
       "<html><script type=\"math/tex; mode=display\">\\newcommand{\\Bold}[1]{\\mathbf{#1}}\\left(\\begin{array}{rrr}\n",
       "1 & 0 & 2 \\\\\n",
       "0 & 1 & -3 \\\\\n",
       "0 & 0 & 0\n",
       "\\end{array}\\right)</script></html>"
      ],
      "text/plain": [
       "[ 1  0  2]\n",
       "[ 0  1 -3]\n",
       "[ 0  0  0]"
      ]
     },
     "metadata": {},
     "output_type": "display_data"
    }
   ],
   "source": [
    "b1 = matrix(QQ, [[0,1,-3],[3,0,6],[4,-1,11]])\n",
    "b2 = matrix(QQ,[[3,-1,9],[0,5,-15],[1,0,2]])\n",
    "\n",
    "show(b1.rref())\n",
    "show(b2.rref())"
   ]
  },
  {
   "cell_type": "markdown",
   "metadata": {},
   "source": [
    "Removing the fourth column also maintains the row equivalency as they still have the same RREF."
   ]
  },
  {
   "cell_type": "markdown",
   "metadata": {},
   "source": [
    "### (c) Could removing the same column from a pair of equivalent matrices affect row equivalence? If not, why?"
   ]
  },
  {
   "cell_type": "markdown",
   "metadata": {},
   "source": [
    "Removing a column won't affect row equivalence of equivalent matrices.       \n",
    "\n",
    "Algebraicly, this is because it is the equivalent of removing the same unknown from all equations. Thus removing the same unknown from all equations will not affect the equivalence of the proportions of coefficients of the other unknowns across the equations.       \n",
    "\n",
    "Geometrically, this is because it is the equivalent of removing one dimension of space from consideration. Since the rows in a RREF represent the basis vectors of the solution set, removing a column simply removes the same dimension from all of the basis vectors. Thus, that removal of a dimension will not affect the proportionality of the other dimensions. Essentially, our solution set will just lose one dimension of space, but will otherwise remain the same."
   ]
  },
  {
   "cell_type": "markdown",
   "metadata": {},
   "source": [
    "### (d) Show that the system of equations correwsponding to the following augmented matrix has no solutions.\n",
    "$$\\begin{bmatrix}\n",
    "    \\begin{array}{cc|c}  \n",
    " 2 & 4 & 5\\\\  \n",
    " 2 & 9 & -1\\\\\n",
    " 4 & 1 & 20\n",
    "\\end{array}\n",
    "\\end{bmatrix}$$"
   ]
  },
  {
   "cell_type": "code",
   "execution_count": 8,
   "metadata": {
    "scrolled": true
   },
   "outputs": [
    {
     "data": {
      "text/html": [
       "<html><script type=\"math/tex; mode=display\">\\newcommand{\\Bold}[1]{\\mathbf{#1}}\\left(\\begin{array}{rrr}\n",
       "1 & 0 & 0 \\\\\n",
       "0 & 1 & 0 \\\\\n",
       "0 & 0 & 1\n",
       "\\end{array}\\right)</script></html>"
      ],
      "text/plain": [
       "[1 0 0]\n",
       "[0 1 0]\n",
       "[0 0 1]"
      ]
     },
     "metadata": {},
     "output_type": "display_data"
    },
    {
     "name": "stdout",
     "output_type": "stream",
     "text": [
      "CONTRADICTION: 0 = 1\n"
     ]
    }
   ],
   "source": [
    "d1 = matrix(QQ, [[2,4,5],[2,9,-1],[4,1,20]])\n",
    "\n",
    "'''\n",
    "#___working by hand that was unnecessary__#\n",
    "d1.rescale_row(0,1/2)\n",
    "d1.add_multiple_of_row(1,0,-2)\n",
    "d1.add_multiple_of_row(2,0,-4)\n",
    "d1.rescale_row(1,1/5)\n",
    "d1.add_multiple_of_row(2,1,7)\n",
    "d1.rescale_row(2,5/8)\n",
    "'''\n",
    "\n",
    "show(d1.rref())\n",
    "print('CONTRADICTION: 0 = 1')"
   ]
  },
  {
   "cell_type": "markdown",
   "metadata": {},
   "source": [
    "Since there is a contradiction in one of the rows, there is no possible solution to this augmented matrix.     \n",
    "\n",
    "Algebraicly, if this matrix had a solution set, the solution set would have to satisfy 0x + 0y = 1. Thus, for there to be a solution, it would imply that 0 = 1 must be true. But since we know that 0 = 1 is False, this matrix must not have a solution set."
   ]
  },
  {
   "cell_type": "markdown",
   "metadata": {},
   "source": [
    "### (e) What happens to the solution set if you remove a row? What does it tell you about the effect of removing a row on row equivalence?"
   ]
  },
  {
   "cell_type": "code",
   "execution_count": 9,
   "metadata": {},
   "outputs": [
    {
     "data": {
      "text/html": [
       "<html><script type=\"math/tex; mode=display\">\\newcommand{\\Bold}[1]{\\mathbf{#1}}\\left(\\begin{array}{rrr}\n",
       "1 & 0 & \\frac{49}{10} \\\\\n",
       "0 & 1 & -\\frac{6}{5}\n",
       "\\end{array}\\right)</script></html>"
      ],
      "text/plain": [
       "[    1     0 49/10]\n",
       "[    0     1  -6/5]"
      ]
     },
     "metadata": {},
     "output_type": "display_data"
    },
    {
     "data": {
      "text/html": [
       "<html><script type=\"math/tex; mode=display\">\\newcommand{\\Bold}[1]{\\mathbf{#1}}\\left(\\begin{array}{rrr}\n",
       "1 & 0 & \\frac{75}{14} \\\\\n",
       "0 & 1 & -\\frac{10}{7}\n",
       "\\end{array}\\right)</script></html>"
      ],
      "text/plain": [
       "[    1     0 75/14]\n",
       "[    0     1 -10/7]"
      ]
     },
     "metadata": {},
     "output_type": "display_data"
    },
    {
     "data": {
      "text/html": [
       "<html><script type=\"math/tex; mode=display\">\\newcommand{\\Bold}[1]{\\mathbf{#1}}\\left(\\begin{array}{rrr}\n",
       "1 & 0 & \\frac{181}{34} \\\\\n",
       "0 & 1 & -\\frac{22}{17}\n",
       "\\end{array}\\right)</script></html>"
      ],
      "text/plain": [
       "[     1      0 181/34]\n",
       "[     0      1 -22/17]"
      ]
     },
     "metadata": {},
     "output_type": "display_data"
    }
   ],
   "source": [
    "d2 = matrix(QQ, [[2,4,5],[2,9,-1]])\n",
    "show(d2.rref())\n",
    "\n",
    "d3 = matrix(QQ, [[2,4,5],[4,1,20]])\n",
    "show(d3.rref())\n",
    "\n",
    "d4 = matrix(QQ, [[2,9,-1],[4,1,20]])\n",
    "show(d4.rref())"
   ]
  },
  {
   "cell_type": "markdown",
   "metadata": {},
   "source": [
    "Removing any of the rows would provide you with a solution set contianing exactly one solution (which varies depending on the row you choose to remove, since the rows that remain change and thus the intersection point between the rows that remain change) since you would remove the possible contradiction and be left with a matrix with a pivot in each column.       \n",
    "Thus, this tells us that removing a row does change row equivalence.     \n",
    "\n",
    "Algebraicly this is because removing a row is the equivalent of removing an equation. Thus the relationship between coefficients of unknowns  is affected by the removal of an equation as we are essentially removing a set of coefficients from consideration. Thus, it can be said that the removal of an equation is reducing the constraints that the solution has to meet, thus changing the solution set and changing the row equivalence.       \n",
    "\n",
    "Geometrically, this is because the removal of a row is the equivalent of the removal of a basis vector from consideration. Thus, the solution set (which is essentially the intersection of the basis vectors) will change with the removal of a basis vector. In the example given, there was previously no intersection point between all three basis vectors, but there are intersection points between any pair of the three basis vectors. Thus why there is no solution for the full 3 row matrix but there is a single solution whenever any of the rows are removed. Thus changing the solution set and changing the row equivalence.        "
   ]
  },
  {
   "cell_type": "markdown",
   "metadata": {},
   "source": [
    "### (f) Determine if the following sentences are True or False\n",
    "\n",
    "#### (i) Row equivalent augmented matrices have the same solution set.      \n",
    "TRUE: Row equivalent augemented matrices is defined by having the same RREF. Since the rows of the RREF define the basis vectors of the solution set, it then follows that matrices that have the same RREF have the same solution set.      \n",
    "\n",
    "\n",
    "#### (ii) Augmented matrices with the same solution set are row equivalent.\n",
    "FALSE: There's different ways to express the same solution set. The solution set is the space in which all the basis vectors of the matrix intersect, thus there are many ways to obtain the same intersection (ex: infinite pairs of 2d vectors could intersect at the origin). Most obviously, you could have multiple unequivalent matrices with no solution set.        \n",
    "Example 1:       \n",
    "$M1 = \\begin{bmatrix}\n",
    "    \\begin{array}{cc|c}  \n",
    " 1 & 0 & 1\\\\  \n",
    " 0 & 0 & 1\n",
    "\\end{array}\n",
    "\\end{bmatrix}$\n",
    "\n",
    "$M2 = \\begin{bmatrix}\n",
    "    \\begin{array}{cc|c}  \n",
    " 2 & 0 & 1\\\\  \n",
    " 0 & 0 & 1\n",
    "\\end{array}\n",
    "\\end{bmatrix}$\n",
    "\n",
    ":. Both M1 and M2 have no solution set, but are not row equivalent.     \n",
    "\n",
    "Example 2:       \n",
    "$M3 = \\begin{bmatrix}\n",
    "    \\begin{array}{cc|c}  \n",
    " 1 & 0 & 0\\\\  \n",
    " 0 & 1 & 0\n",
    "\\end{array}\n",
    "\\end{bmatrix}$\n",
    "\n",
    "$M4 = \\begin{bmatrix}\n",
    "    \\begin{array}{cc|c}  \n",
    " 2 & 0 & 0\\\\  \n",
    " 0 & 3 & 0\n",
    "\\end{array}\n",
    "\\end{bmatrix}$\n",
    "\n",
    ":. Both M3 and M4 have the solution set of {(0,0)} as they both only have the single solution of (0,0) but they are not r"
   ]
  },
  {
   "cell_type": "markdown",
   "metadata": {},
   "source": [
    "# Q2"
   ]
  },
  {
   "cell_type": "markdown",
   "metadata": {},
   "source": [
    "### (a) Define a linear system of equations that governs the flow of traffic."
   ]
  },
  {
   "cell_type": "markdown",
   "metadata": {},
   "source": [
    "Equations describing the flow of traffic at each of the 6 intersections. Ordered right to left, bottom to top.     \n",
    "\n",
    "#each intersection has two enterances and two exits\n",
    "#lets name each intersection a to f (starting from bottom right),\n",
    "#let all enterances be x and exits be y\n",
    "\n",
    "Assumption: Vehicles entering the intersection == Vehicles exiting the intersection    \n",
    "\n",
    "\n",
    "$a_{x1} + a_{x2} = a_{y1} + a_{y2}$     \n",
    "$b_{x1} + b_{x2} = b_{y1} + b_{y2}$      \n",
    "$c_{x1} + c_{x2} = c_{y1} + c_{y2}$      \n",
    "$d_{x1} + d_{x2} = d_{y1} + d_{y2}$      \n",
    "$e_{x1} + e_{x2} = e_{y1} + e_{y2}$     \n",
    "$f_{x1} + f_{x2} = f_{y1} + f_{y2}$     \n",
    "\n",
    "Since we know the numerical values to some of these unknowns and some of these unknowns are equivalent, lets replace the unknowns that we can.    \n",
    "\n",
    "$200 + 200 = a_y1 + a_y2$     \n",
    "$a_{y1} + e_{y2} = b_{y1} + 300$      \n",
    "$b_{y1} + 500 = c_{y1} + 400$      \n",
    "$c_{y1} + 200 = d_{y1} + 400$      \n",
    "$d_{y1} + 300 = e_{y1} + e_{y2}$     \n",
    "$a_{y2} + e_{y1} = 200 + 100$     \n",
    "\n",
    "Simplify these equations and put all constants on the right   \n",
    "\n",
    "$a_{y1} + a_{y2} = 400$    \n",
    "$a_{y1} + e_{y2} - b_{y1} = 300$      \n",
    "$b_{y1} - c_{y1} = - 100$      \n",
    "$c_{y1} - d_{y1} = 200$      \n",
    "$d_{y1} - e_{y1} - e_{y2} = - 300$      \n",
    "$a_{y2} + e_{y1} = 300$     \n",
    "\n",
    "Writing them with all coefficients for all unknowns    \n",
    "$1a_{y1} + 1a_{y2} + 0b_{y1} + 0c_{y1} + 0d_{y1} + 0e_{y1} + 0e_{y2} = 400$    \n",
    "$1a_{y1} + 0a_{y2} - 1b_{y1} + 0c_{y1} + 0d_{y1} + 0e_{y1} + 1e_{y2} = 300$      \n",
    "$0a_{y1} + 0a_{y2} + 1b_{y1} - 1c_{y1} + 0d_{y1} + 0e_{y1} + 0e_{y2} = - 100$      \n",
    "$0a_{y1} + 0a_{y2} + 0b_{y1} + 1c_{y1} - 1d_{y1} + 0e_{y1} + 0e_{y2} = 200$      \n",
    "$0a_{y1} + 0a_{y2} + 0b_{y1} + 0c_{y1} + 1d_{y1} - 1e_{y1} - 1e_{y2} = - 300$      \n",
    "$0a_{y1} + 1a_{y2} + 0b_{y1} + 0c_{y1} + 0d_{y1} + 1e_{y1} + 0e_{y2} = 300$ \n",
    "\n",
    "Express all these equations in the form of an augmented matrix, with each column representing an unknown."
   ]
  },
  {
   "cell_type": "code",
   "execution_count": 12,
   "metadata": {
    "scrolled": false
   },
   "outputs": [
    {
     "data": {
      "text/html": [
       "<html><script type=\"math/tex; mode=display\">\\newcommand{\\Bold}[1]{\\mathbf{#1}}\\left(\\begin{array}{rrrrrrrr}\n",
       "1 & 1 & 0 & 0 & 0 & 0 & 0 & 400 \\\\\n",
       "1 & 0 & -1 & 0 & 0 & 0 & 1 & 300 \\\\\n",
       "0 & 0 & 1 & -1 & 0 & 0 & 0 & -100 \\\\\n",
       "0 & 0 & 0 & 1 & -1 & 0 & 0 & 200 \\\\\n",
       "0 & 0 & 0 & 0 & 1 & -1 & -1 & -300 \\\\\n",
       "0 & 1 & 0 & 0 & 0 & 1 & 0 & 300\n",
       "\\end{array}\\right)</script></html>"
      ],
      "text/plain": [
       "[   1    1    0    0    0    0    0  400]\n",
       "[   1    0   -1    0    0    0    1  300]\n",
       "[   0    0    1   -1    0    0    0 -100]\n",
       "[   0    0    0    1   -1    0    0  200]\n",
       "[   0    0    0    0    1   -1   -1 -300]\n",
       "[   0    1    0    0    0    1    0  300]"
      ]
     },
     "metadata": {},
     "output_type": "display_data"
    }
   ],
   "source": [
    "twoAug = matrix(QQ, [[1,1,0,0,0,0,0,400],[1,0,-1,0,0,0,1,300],[0,0,1,-1,0,0,0,-100],[0,0,0,1,-1,0,0,200],[0,0,0,0,1,-1,-1,-300],[0,1,0,0,0,1,0,300]])\n",
    "show(twoAug)"
   ]
  },
  {
   "cell_type": "markdown",
   "metadata": {},
   "source": [
    "#### (b) Solve the system to find a model for the number of vehicles that will use each road segment"
   ]
  },
  {
   "cell_type": "markdown",
   "metadata": {},
   "source": [
    "Find the RREF."
   ]
  },
  {
   "cell_type": "code",
   "execution_count": 19,
   "metadata": {},
   "outputs": [
    {
     "data": {
      "text/html": [
       "<html><script type=\"math/tex; mode=display\">\\newcommand{\\Bold}[1]{\\mathbf{#1}}\\left(\\begin{array}{rrrrrrrr}\n",
       "1 & 0 & 0 & 0 & 0 & -1 & 0 & 100 \\\\\n",
       "0 & 1 & 0 & 0 & 0 & 1 & 0 & 300 \\\\\n",
       "0 & 0 & 1 & 0 & 0 & -1 & -1 & -200 \\\\\n",
       "0 & 0 & 0 & 1 & 0 & -1 & -1 & -100 \\\\\n",
       "0 & 0 & 0 & 0 & 1 & -1 & -1 & -300 \\\\\n",
       "0 & 0 & 0 & 0 & 0 & 0 & 0 & 0\n",
       "\\end{array}\\right)</script></html>"
      ],
      "text/plain": [
       "[   1    0    0    0    0   -1    0  100]\n",
       "[   0    1    0    0    0    1    0  300]\n",
       "[   0    0    1    0    0   -1   -1 -200]\n",
       "[   0    0    0    1    0   -1   -1 -100]\n",
       "[   0    0    0    0    1   -1   -1 -300]\n",
       "[   0    0    0    0    0    0    0    0]"
      ]
     },
     "metadata": {},
     "output_type": "display_data"
    }
   ],
   "source": [
    "show(twoAug.rref())"
   ]
  },
  {
   "cell_type": "markdown",
   "metadata": {},
   "source": [
    "Equation describing the capacity of each road      \n",
    "\n",
    "let $e_{y1} = s$ and $e_{y2} = t$      \n",
    "$a_{y1} = 100 + s $      \n",
    "$a_{y2} = 300 - s $      \n",
    "$b_{y1} = -200 + s + t $      \n",
    "$c_{y1} = -100 + s + t $      \n",
    "$d_{y1} = -300 + s + t $      \n",
    "$e_{y1} = s$      \n",
    "$e_{y2} = t$       "
   ]
  },
  {
   "cell_type": "markdown",
   "metadata": {},
   "source": [
    "#### (c) How many cars will the roads need to accomadate? Are there routes drivers should be encouraged to follow?"
   ]
  },
  {
   "cell_type": "markdown",
   "metadata": {},
   "source": [
    "It will ultimately depend on how many cars we will want to be on $e_{y1}$ and $e_{y2}$         \n",
    "Once we define how many cars we will want to be on those two roads, the number of cars the other roads will need to accomodate will follow the equations defined in part (b).     \n",
    "\n",
    "\n",
    "If $e_{y1}$ accomodates more than 100 cars, drivers should generally be encouraged to follow route $a_{y1}$ over route $a_{y2}$ as $a_{y1}$ will have a larger capacity. If $e_{y1}$ accomodates less than 100 cars, drivers should generally be encouraged to follow route $a_{y2}$    \n",
    "\n",
    "If $e_{y1} + e_{y2}$ accomodates more than 500, drivers should generally be encouraged to follow route $b_{y1}$ over route $b_{y2}$ and vice versa.        \n",
    "\n",
    "If $e_{y1} + e_{y2}$ accomodates more than 500, drivers should generally be encouraged to follow route $c_{y1}$ over route $c_{y2}$ and vice versa.      \n",
    "\n",
    "If $e_{y1} + e_{y2}$ accomodates more than 700, drivers should generally be encouraged to follow route $d_{y1}$ over route $d_{y2}$ and vice versa.      \n",
    "\n",
    "If $e_{y1} > e_{y2}$, drivers should generally be encouraged to follow route $e_{y1}$ over route $e_{y2}$ and vice versa.          "
   ]
  },
  {
   "cell_type": "markdown",
   "metadata": {},
   "source": [
    "#### (d)  Traffic disruptions occur fairly regularly in this area (e.g., parades, marches). Which segments of road can be totally closed and still maintain traffic flow? How about multiple connected segments?"
   ]
  },
  {
   "cell_type": "markdown",
   "metadata": {},
   "source": [
    "Checking if $a_{y1}$ can be closed:    \n",
    "$a_{y1} = 100 + s $    \n",
    "$a_{y1}$ being closed implies that $a_{y1} = 0$\n",
    "$0 = 100 + s $     \n",
    "$s = -100$     \n",
    "Thus $a_{y1}$ being closed implies that $s = -100$.    \n",
    "ASSUMPTION: roads cannot have negative capacity.\n",
    "Since $e_{y1} = s$, $a_{y1}$ being closed implies that $e_{y1} = -100$\n",
    "Based on the above assumption, $e_{y1} = -100$ is a contradiction.       \n",
    "Thus $a_{y1}$ cannot be closed.        \n",
    "\n",
    "Checking if $a_{y2}$ can be closed:    \n",
    "$a_{y2} = 300 - s$    \n",
    "Thus $a_{y2}$ being closed implies that $s = -300$       \n",
    "Since $e_{y1} = s$, this implies that $e_{y1} = -300$\n",
    "Based on the assumption that roads cannot have negative capacity, $e_{y1} = -300$ is a contradiction.         \n",
    "Thus $a_{y2}$ cannot be closed.        \n",
    "\n",
    "Checking if $b_{y1}$ can be closed:    \n",
    "$b_{y1} = -200 + s + t$    \n",
    "Thus $b_{y1}$ being closed implies that $s + t = 200$.     \n",
    "However $d_{y1} = -300 + s + t $        \n",
    "Thus $s + t = 200$ implies that $d_{y1} = -100$.            \n",
    "Based on the assumption that roads cannot have negative capacity, $d_{y1} = -100$ is a contradiction.         \n",
    "Thus $b_{y1}$ cannot be closed.       \n",
    "\n",
    "Checking if $c_{y1}$ can be closed:    \n",
    "$c_{y1} = -100 + s + t$    \n",
    "Thus $c_{y1}$ being closed implies that $s + t = 100$.     \n",
    "However $d_{y1} = -300 + s + t $            \n",
    "Thus $s + t = 200$ implies that $d_{y1} = -200$.            \n",
    "Based on the assumption that roads cannot have negative capacity, $d_{y1} = -200$ is a contradiction.         \n",
    "Thus $c_{y1}$ cannot be closed.       \n",
    "\n",
    "Checking if $d_{y1}$ can be closed:    \n",
    "$d_{y1} = -300 + s + t $    \n",
    "Thus $c_{y1}$ being closed implies that $s + t = 300$          \n",
    "As long as $s + t = 300$ still allows other road capacities to be $>= 0$, this should be possible.           \n",
    "$a_{y1} = 100 + s $      \n",
    "$a_{y2} = 300 - s $      \n",
    "$b_{y1} = -200 + 300$      \n",
    "$c_{y1} = -100 + 300$      \n",
    "$d_{y1} = -300 + 300$      \n",
    "$e_{y1} = s$\n",
    "$s + t = 300$    \n",
    "\n",
    "Simplified, this is      \n",
    "$a_{y1} = 100 + s $      \n",
    "$a_{y2} = 300 - s $      \n",
    "$b_{y1} = 100$      \n",
    "$c_{y1} = 200$      \n",
    "$d_{y1} = 0$      \n",
    "$e_{y1} = s$      \n",
    "$e_{y2} = t$      \n",
    "$s + t = 300$    \n",
    "Thus, as long as $s < 300$, this is possible.    \n",
    "Thus you can close only $d_{y1}$. It is also possible to close $d_{y1} and e_{y1}$ or $d_{y1},  e_{y2} and a_{y2}$. All other combinations of road closures including $d_{y1}$ would result in a contradiction.    \n",
    "\n",
    "Checking if $e_{y1}$ can be closed:     \n",
    "$e_{y1} = s$     \n",
    "Thus $e_{y1}$ being closed implies that $s = 0$.    \n",
    "As long as $s = 0$ still allows other road capacities to be $>= 0$, this should be possible.               \n",
    "$a_{y1} = 100$      \n",
    "$a_{y2} = 300$      \n",
    "$b_{y1} = -200 + t$      \n",
    "$c_{y1} = -100 + t$      \n",
    "$d_{y1} = -300 + t$      \n",
    "$e_{y1} = 0$\n",
    "$e_{y2} = t$      \n",
    "Thus, as long as $t >= 300$, this is possible. However, this means that it's impossible to close any other road when $e_{y1}$ is closed.      \n",
    "\n",
    "Checking if $e_{y2}$ can be closed:     \n",
    "$e_{y2} = t$     \n",
    "Thus $e_{y2}$ being closed implies that $t = 0$.    \n",
    "As long as $t = 0$ still allows other road capacities to be $>= 0$, this should be possible.        \n",
    "$a_{y1} = 100 + s$      \n",
    "$a_{y2} = 300 - s$      \n",
    "$b_{y1} = -200 + s$      \n",
    "$c_{y1} = -100 + s$      \n",
    "$d_{y1} = -300 + s$      \n",
    "$e_{y1} = s$      \n",
    "$e_{y2} = 0$         \n",
    "Thus, as long as $s == 300$, this is possible. However, this means that if $e_{y2}$ is closed, $a_{y2}$ has to be closed as well and all other roads have to be open. There is no other set of road closures that allows $e_{y2}$ to be closed. "
   ]
  },
  {
   "cell_type": "markdown",
   "metadata": {},
   "source": [
    "#### (e)  Due to the proximity of the International District to Seattle’s major sports arenas, overflow traffic is often redirected through the region. The civil engineers expect the following traffic pattern after large events. What effect would this have on the system? Are there alternate routes that vehicles should be directed to?"
   ]
  },
  {
   "cell_type": "markdown",
   "metadata": {},
   "source": [
    "Going back to the equations and seeing how they'll change\n",
    "\n",
    "$200 + 200 = a_y1 + a_y2$     \n",
    "$a_{y1} + e_{y2} = b_{y1} + 500$      \n",
    "$b_{y1} + 500 = c_{y1} + 500$      \n",
    "$c_{y1} + 200 = d_{y1} + 400$      \n",
    "$d_{y1} + 900 = e_{y1} + e_{y2}$     \n",
    "$a_{y2} + e_{y1} = 200 + 400$     \n",
    "\n",
    "Simplify these equations and put all constants on the right   \n",
    "\n",
    "$a_{y1} + a_{y2} = 400$    \n",
    "$a_{y1} + e_{y2} - b_{y1} = 500$      \n",
    "$b_{y1} - c_{y1} = 0$      \n",
    "$c_{y1} - d_{y1} = 200$      \n",
    "$d_{y1} - e_{y1} - e_{y2} = - 900$      \n",
    "$a_{y2} + e_{y1} = 600$     \n",
    "\n",
    "$1a_{y1} + 1a_{y2} + 0b_{y1} + 0c_{y1} + 0d_{y1} + 0e_{y1} + 0e_{y2} = 400$    \n",
    "$1a_{y1} + 0a_{y2} - 1b_{y1} + 0c_{y1} + 0d_{y1} + 0e_{y1} + 1e_{y2} = 500$      \n",
    "$0a_{y1} + 0a_{y2} + 1b_{y1} - 1c_{y1} + 0d_{y1} + 0e_{y1} + 0e_{y2} = - 0$      \n",
    "$0a_{y1} + 0a_{y2} + 0b_{y1} + 1c_{y1} - 1d_{y1} + 0e_{y1} + 0e_{y2} = 200$      \n",
    "$0a_{y1} + 0a_{y2} + 0b_{y1} + 0c_{y1} + 1d_{y1} - 1e_{y1} - 1e_{y2} = - 900$      \n",
    "$0a_{y1} + 1a_{y2} + 0b_{y1} + 0c_{y1} + 0d_{y1} + 1e_{y1} + 0e_{y2} = 600$ "
   ]
  },
  {
   "cell_type": "code",
   "execution_count": 18,
   "metadata": {
    "scrolled": false
   },
   "outputs": [
    {
     "data": {
      "text/html": [
       "<html><script type=\"math/tex; mode=display\">\\newcommand{\\Bold}[1]{\\mathbf{#1}}\\left(\\begin{array}{rrrrrrrr}\n",
       "1 & 1 & 0 & 0 & 0 & 0 & 0 & 400 \\\\\n",
       "1 & 0 & -1 & 0 & 0 & 0 & 1 & 500 \\\\\n",
       "0 & 0 & 1 & -1 & 0 & 0 & 0 & 0 \\\\\n",
       "0 & 0 & 0 & 1 & -1 & 0 & 0 & 200 \\\\\n",
       "0 & 0 & 0 & 0 & 1 & -1 & -1 & -900 \\\\\n",
       "0 & 1 & 0 & 0 & 0 & 1 & 0 & 600\n",
       "\\end{array}\\right)</script></html>"
      ],
      "text/plain": [
       "[   1    1    0    0    0    0    0  400]\n",
       "[   1    0   -1    0    0    0    1  500]\n",
       "[   0    0    1   -1    0    0    0    0]\n",
       "[   0    0    0    1   -1    0    0  200]\n",
       "[   0    0    0    0    1   -1   -1 -900]\n",
       "[   0    1    0    0    0    1    0  600]"
      ]
     },
     "metadata": {},
     "output_type": "display_data"
    },
    {
     "data": {
      "text/html": [
       "<html><script type=\"math/tex; mode=display\">\\newcommand{\\Bold}[1]{\\mathbf{#1}}\\left(\\begin{array}{rrrrrrrr}\n",
       "1 & 0 & 0 & 0 & 0 & -1 & 0 & -200 \\\\\n",
       "0 & 1 & 0 & 0 & 0 & 1 & 0 & 600 \\\\\n",
       "0 & 0 & 1 & 0 & 0 & -1 & -1 & -700 \\\\\n",
       "0 & 0 & 0 & 1 & 0 & -1 & -1 & -700 \\\\\n",
       "0 & 0 & 0 & 0 & 1 & -1 & -1 & -900 \\\\\n",
       "0 & 0 & 0 & 0 & 0 & 0 & 0 & 0\n",
       "\\end{array}\\right)</script></html>"
      ],
      "text/plain": [
       "[   1    0    0    0    0   -1    0 -200]\n",
       "[   0    1    0    0    0    1    0  600]\n",
       "[   0    0    1    0    0   -1   -1 -700]\n",
       "[   0    0    0    1    0   -1   -1 -700]\n",
       "[   0    0    0    0    1   -1   -1 -900]\n",
       "[   0    0    0    0    0    0    0    0]"
      ]
     },
     "metadata": {},
     "output_type": "display_data"
    }
   ],
   "source": [
    "newAug = matrix(QQ, [[1,1,0,0,0,0,0,400],[1,0,-1,0,0,0,1,500],[0,0,1,-1,0,0,0,0],[0,0,0,1,-1,0,0,200],[0,0,0,0,1,-1,-1,-900],[0,1,0,0,0,1,0,600]])\n",
    "\n",
    "show(newAug)\n",
    "show(newAug.rref())\n"
   ]
  },
  {
   "cell_type": "markdown",
   "metadata": {},
   "source": [
    "New equation describing the capacity of each road      \n",
    "\n",
    "#let $e_{y1} = s$ and $e_{y2} = t$      \n",
    "$a_{y1} = -200 + s$      \n",
    "$a_{y2} = 600 - s $      \n",
    "$b_{y1} = -700 + s + t $      \n",
    "$c_{y1} = -700 + s + t $      \n",
    "$d_{y1} = -900 + s + t $      \n",
    "$e_{y1} = s$      \n",
    "$e_{y2} = t$       "
   ]
  },
  {
   "cell_type": "markdown",
   "metadata": {},
   "source": [
    "Which routes drivers should take still depends on how many cars we will want to accomadate on $e_{y1}$ and $e_{y2}$         \n",
    "Once we define how many cars we will want to be on those two roads, the number of cars the other roads will need to accomodate will follow the equations defined in part (b).     \n",
    "\n",
    "\n",
    "If $e_{y1}$ accomodates more than 400 cars, drivers should generally be encouraged to follow route $a_{y1}$ over route $a_{y2}$ as $a_{y1}$ will have a larger capacity. If $e_{y1}$ accomodates less than 400 cars, drivers should generally be encouraged to follow route $a_{y2}$    \n",
    "\n",
    "If $e_{y1} + e_{y2}$ accomodates more than 1200, drivers should generally be encouraged to follow route $b_{y1}$ over route $b_{y2}$ and vice versa.        \n",
    "\n",
    "If $e_{y1} + e_{y2}$ accomodates more than 1200, drivers should generally be encouraged to follow route $c_{y1}$ over route $c_{y2}$ and vice versa.      \n",
    "\n",
    "If $e_{y1} + e_{y2}$ accomodates more than 1300, drivers should generally be encouraged to follow route $d_{y1}$ over route $d_{y2}$ and vice versa.      \n",
    "\n",
    "If $e_{y1} > e_{y2}$, drivers should generally be encouraged to follow route $e_{y1}$ over route $e_{y2}$ and vice versa.          "
   ]
  },
  {
   "cell_type": "markdown",
   "metadata": {},
   "source": [
    "# Q3"
   ]
  },
  {
   "cell_type": "markdown",
   "metadata": {},
   "source": [
    "#### (a) Find  M1 and M2 such that M1*M2= -M2*M1 (Excluding M1*M2 = 0)"
   ]
  },
  {
   "cell_type": "markdown",
   "metadata": {},
   "source": [
    "Since we know that BC = CB as long as both matrices involved are diagonally symmetrical (along both diagonals). Let's see what that would BC and -CB would look like if they satisfied that critieria:      \n"
   ]
  },
  {
   "cell_type": "code",
   "execution_count": 335,
   "metadata": {},
   "outputs": [
    {
     "data": {
      "text/html": [
       "<html><script type=\"math/tex; mode=display\">\\newcommand{\\Bold}[1]{\\mathbf{#1}}\\left(\\begin{array}{rr}\n",
       "a c + b d & b c + a d \\\\\n",
       "b c + a d & a c + b d\n",
       "\\end{array}\\right)</script></html>"
      ],
      "text/plain": [
       "[a*c + b*d b*c + a*d]\n",
       "[b*c + a*d a*c + b*d]"
      ]
     },
     "metadata": {},
     "output_type": "display_data"
    },
    {
     "data": {
      "text/html": [
       "<html><script type=\"math/tex; mode=display\">\\newcommand{\\Bold}[1]{\\mathbf{#1}}\\left(\\begin{array}{rr}\n",
       "-a c - b d & -b c - a d \\\\\n",
       "-b c - a d & -a c - b d\n",
       "\\end{array}\\right)</script></html>"
      ],
      "text/plain": [
       "[-a*c - b*d -b*c - a*d]\n",
       "[-b*c - a*d -a*c - b*d]"
      ]
     },
     "metadata": {},
     "output_type": "display_data"
    }
   ],
   "source": [
    "var('a,b,c,d')\n",
    "try1 = matrix([[a,b],[b,a]])\n",
    "try2 = matrix([[c,d],[d,c]])\n",
    "\n",
    "show(try1*try2)\n",
    "show(-try2*try1)"
   ]
  },
  {
   "cell_type": "markdown",
   "metadata": {},
   "source": [
    "Now, all we need to do is ensure that each positive pair of multiplication (ex: ac) is equivalent to it's negative pair (ex:-ac). This will be simple to do as long as we make sure that one item in each multiplication pair is negative.        \n",
    "\n",
    "\n",
    "Thus, to achieve BC = -CB, we should just have both matrices be diagonally symmetrical (along both diagonals) AND put a negative in the first row first col of one matrix and a negative in the second row second col of the other.   "
   ]
  },
  {
   "cell_type": "markdown",
   "metadata": {},
   "source": [
    "Example: "
   ]
  },
  {
   "cell_type": "code",
   "execution_count": 191,
   "metadata": {
    "scrolled": false
   },
   "outputs": [
    {
     "name": "stdout",
     "output_type": "stream",
     "text": [
      "Matrix 1:\n"
     ]
    },
    {
     "data": {
      "text/html": [
       "<html><script type=\"math/tex; mode=display\">\\newcommand{\\Bold}[1]{\\mathbf{#1}}\\left(\\begin{array}{rr}\n",
       "4 & 5 \\\\\n",
       "5 & -4\n",
       "\\end{array}\\right)</script></html>"
      ],
      "text/plain": [
       "[ 4  5]\n",
       "[ 5 -4]"
      ]
     },
     "metadata": {},
     "output_type": "display_data"
    },
    {
     "name": "stdout",
     "output_type": "stream",
     "text": [
      "Matrix 2:\n"
     ]
    },
    {
     "data": {
      "text/html": [
       "<html><script type=\"math/tex; mode=display\">\\newcommand{\\Bold}[1]{\\mathbf{#1}}\\left(\\begin{array}{rr}\n",
       "-5 & 4 \\\\\n",
       "4 & 5\n",
       "\\end{array}\\right)</script></html>"
      ],
      "text/plain": [
       "[-5  4]\n",
       "[ 4  5]"
      ]
     },
     "metadata": {},
     "output_type": "display_data"
    },
    {
     "name": "stdout",
     "output_type": "stream",
     "text": [
      "Matrix 1 * Matrix 2:\n"
     ]
    },
    {
     "data": {
      "text/html": [
       "<html><script type=\"math/tex; mode=display\">\\newcommand{\\Bold}[1]{\\mathbf{#1}}\\left(\\begin{array}{rr}\n",
       "0 & 41 \\\\\n",
       "-41 & 0\n",
       "\\end{array}\\right)</script></html>"
      ],
      "text/plain": [
       "[  0  41]\n",
       "[-41   0]"
      ]
     },
     "metadata": {},
     "output_type": "display_data"
    },
    {
     "name": "stdout",
     "output_type": "stream",
     "text": [
      "- Matrix 2 * Matrix 1:\n"
     ]
    },
    {
     "data": {
      "text/html": [
       "<html><script type=\"math/tex; mode=display\">\\newcommand{\\Bold}[1]{\\mathbf{#1}}\\left(\\begin{array}{rr}\n",
       "0 & 41 \\\\\n",
       "-41 & 0\n",
       "\\end{array}\\right)</script></html>"
      ],
      "text/plain": [
       "[  0  41]\n",
       "[-41   0]"
      ]
     },
     "metadata": {},
     "output_type": "display_data"
    }
   ],
   "source": [
    "t1 = matrix([[4,5],[5,-4]])\n",
    "t2 = matrix([[-5,4],[4,5]])\n",
    "print('Matrix 1:')\n",
    "show(t1)\n",
    "print('Matrix 2:')\n",
    "show(t2)\n",
    "print('Matrix 1 * Matrix 2:')\n",
    "show(t1*t2)\n",
    "print('- Matrix 2 * Matrix 1:')\n",
    "show(-t2*t1)"
   ]
  },
  {
   "cell_type": "markdown",
   "metadata": {},
   "source": [
    "#### (b) Find a non zero matrix M such that M^2 = 0"
   ]
  },
  {
   "cell_type": "markdown",
   "metadata": {},
   "source": [
    "$ M*M = \\begin{bmatrix}\n",
    "    0 & 0 \\\\\n",
    "    0 & 0 \n",
    "\\end{bmatrix} $         \n",
    "Given that $ M = \\begin{bmatrix}\n",
    "    a & b \\\\\n",
    "    c & d  \n",
    "\\end{bmatrix} $      \n",
    "Then we know      \n",
    "$a^2 + bc = 0$       \n",
    "$ab + bd = 0$       \n",
    "$ac + cd = 0$     \n",
    "$bc + d^2 = 0$       \n",
    "\n",
    "\n",
    "Thus, the simplest way to create M would be to have a matrix of all the same integer, but to make all entries in the second column negative."
   ]
  },
  {
   "cell_type": "code",
   "execution_count": 199,
   "metadata": {},
   "outputs": [
    {
     "name": "stdout",
     "output_type": "stream",
     "text": [
      "M1: \n"
     ]
    },
    {
     "data": {
      "text/html": [
       "<html><script type=\"math/tex; mode=display\">\\newcommand{\\Bold}[1]{\\mathbf{#1}}\\left(\\begin{array}{rr}\n",
       "6 & -6 \\\\\n",
       "6 & -6\n",
       "\\end{array}\\right)</script></html>"
      ],
      "text/plain": [
       "[ 6 -6]\n",
       "[ 6 -6]"
      ]
     },
     "metadata": {},
     "output_type": "display_data"
    },
    {
     "name": "stdout",
     "output_type": "stream",
     "text": [
      "M^2: \n"
     ]
    },
    {
     "data": {
      "text/html": [
       "<html><script type=\"math/tex; mode=display\">\\newcommand{\\Bold}[1]{\\mathbf{#1}}\\left(\\begin{array}{rr}\n",
       "0 & 0 \\\\\n",
       "0 & 0\n",
       "\\end{array}\\right)</script></html>"
      ],
      "text/plain": [
       "[0 0]\n",
       "[0 0]"
      ]
     },
     "metadata": {},
     "output_type": "display_data"
    }
   ],
   "source": [
    "M = matrix([[6,-6],[6,-6]])\n",
    "print('M1: ')\n",
    "show(M)\n",
    "print('M^2: ')\n",
    "show(M*M)"
   ]
  },
  {
   "cell_type": "markdown",
   "metadata": {},
   "source": [
    "#### (c) Invertible matrices M1 and M2 so that M1 + M2 is not invertible"
   ]
  },
  {
   "cell_type": "markdown",
   "metadata": {},
   "source": [
    "So that means that the matrix (M1+M2) must have a determinent of zero.       \n",
    "Thus, any resulting matrix that has $ad - bc = 0$       \n",
    "The easiest way to do that would be to have the same integers in column one, the same integers in column two, and have one column be positive signed while the other is negative signed.    \n",
    "So one possible non invertible matrix is $ M = \\begin{bmatrix}\n",
    "    -3 & 2 \\\\\n",
    "    -3 & 2  \n",
    "\\end{bmatrix} $"
   ]
  },
  {
   "cell_type": "code",
   "execution_count": 212,
   "metadata": {},
   "outputs": [
    {
     "name": "stdout",
     "output_type": "stream",
     "text": [
      "M: \n"
     ]
    },
    {
     "data": {
      "text/html": [
       "<html><script type=\"math/tex; mode=display\">\\newcommand{\\Bold}[1]{\\mathbf{#1}}\\left(\\begin{array}{rr}\n",
       "-3 & 2 \\\\\n",
       "-3 & 2\n",
       "\\end{array}\\right)</script></html>"
      ],
      "text/plain": [
       "[-3  2]\n",
       "[-3  2]"
      ]
     },
     "metadata": {},
     "output_type": "display_data"
    },
    {
     "name": "stdout",
     "output_type": "stream",
     "text": [
      "('M determinent: ', 0)\n"
     ]
    }
   ],
   "source": [
    "m = matrix([[-3,2],[-3,2]])\n",
    "print(\"M: \")\n",
    "show(m)\n",
    "print(\"M determinent: \",m.det())"
   ]
  },
  {
   "cell_type": "markdown",
   "metadata": {},
   "source": [
    "To make M1 and M2 equal to M without having a determinent of 0, we just have to make sure that the elementwise addition will add up to M while avoiding the constraints we listed above for M (having the same integers in each column and having opposing signs in different columns).     \n"
   ]
  },
  {
   "cell_type": "code",
   "execution_count": 213,
   "metadata": {},
   "outputs": [
    {
     "name": "stdout",
     "output_type": "stream",
     "text": [
      "M1\n"
     ]
    },
    {
     "data": {
      "text/html": [
       "<html><script type=\"math/tex; mode=display\">\\newcommand{\\Bold}[1]{\\mathbf{#1}}\\left(\\begin{array}{rr}\n",
       "-2 & 1 \\\\\n",
       "-1 & 2\n",
       "\\end{array}\\right)</script></html>"
      ],
      "text/plain": [
       "[-2  1]\n",
       "[-1  2]"
      ]
     },
     "metadata": {},
     "output_type": "display_data"
    },
    {
     "name": "stdout",
     "output_type": "stream",
     "text": [
      "('M1 determinent: ', -3)\n",
      "M2\n"
     ]
    },
    {
     "data": {
      "text/html": [
       "<html><script type=\"math/tex; mode=display\">\\newcommand{\\Bold}[1]{\\mathbf{#1}}\\left(\\begin{array}{rr}\n",
       "-1 & 1 \\\\\n",
       "-2 & 0\n",
       "\\end{array}\\right)</script></html>"
      ],
      "text/plain": [
       "[-1  1]\n",
       "[-2  0]"
      ]
     },
     "metadata": {},
     "output_type": "display_data"
    },
    {
     "name": "stdout",
     "output_type": "stream",
     "text": [
      "('M2 determinent: ', 2)\n"
     ]
    }
   ],
   "source": [
    "a1 = matrix([[-2,1],[-1,2]])\n",
    "a2 = matrix([[-1,1],[-2,0]])\n",
    "print('M1')\n",
    "show(a1)\n",
    "print('M1 determinent: ', a1.det())\n",
    "print('M2')\n",
    "show(a2)\n",
    "print('M2 determinent: ', a2.det())\n"
   ]
  },
  {
   "cell_type": "markdown",
   "metadata": {},
   "source": [
    "#### (d) Non-invertible matrices M1 and M2 so that M1 + M2 is invertible"
   ]
  },
  {
   "cell_type": "markdown",
   "metadata": {},
   "source": [
    "Now M1 and M2 must have a determinent of zero while M1 + M2 must have a non zero determinent.    \n",
    "\n",
    "Again, we can follow the principles listed above to define non invertible matrices (having the same integers in each column and having opposing signs in different columns).       \n",
    "\n",
    "However, in order to have M1 + M2 have a non zero determinent, we need to define at least one of the two matrices through a different rule. Thus, lets define one of the matrices using 4 different integers, as long ad == bc. A pair of integers we can use to achieve this is (6,3) and (8,2)."
   ]
  },
  {
   "cell_type": "code",
   "execution_count": 220,
   "metadata": {},
   "outputs": [
    {
     "name": "stdout",
     "output_type": "stream",
     "text": [
      "('M1 determinent: ', 0)\n",
      "('M2 determinent: ', 0)\n",
      "('M1+M2 determinent: ', -7)\n"
     ]
    }
   ],
   "source": [
    "# A and B must have determinant of zero\n",
    "# A + B must have det of non-zero\n",
    "b1 = matrix([[-3,2],[-3,2]])\n",
    "b2 = matrix([[6,-3],[6,-3]])\n",
    "b3 = matrix([[6,3],[8,4]])\n",
    "print('M1 determinent: ', b1.det())\n",
    "print('M2 determinent: ', b2.det())\n",
    "\n",
    "print('M1+M2 determinent: ',(b1+b3).det())"
   ]
  },
  {
   "cell_type": "markdown",
   "metadata": {},
   "source": [
    "# Q4"
   ]
  },
  {
   "cell_type": "markdown",
   "metadata": {},
   "source": [
    "#### (a) Find the key matrix corresponding to $ \\begin{bmatrix}\n",
    "    H & I \\\\\n",
    "    L & L  \n",
    "\\end{bmatrix} $\n",
    "\n"
   ]
  },
  {
   "cell_type": "code",
   "execution_count": 298,
   "metadata": {},
   "outputs": [
    {
     "name": "stdout",
     "output_type": "stream",
     "text": [
      "Key Matrix: \n"
     ]
    },
    {
     "data": {
      "text/html": [
       "<html><script type=\"math/tex; mode=display\">\\newcommand{\\Bold}[1]{\\mathbf{#1}}\\left(\\begin{array}{rr}\n",
       "7 & 8 \\\\\n",
       "11 & 11\n",
       "\\end{array}\\right)</script></html>"
      ],
      "text/plain": [
       "[ 7  8]\n",
       "[11 11]"
      ]
     },
     "metadata": {},
     "output_type": "display_data"
    }
   ],
   "source": [
    "import string\n",
    "d = dict(zip(string.ascii_lowercase, range(0,26)))\n",
    "\n",
    "key = [[\"H\",\"I\"],[\"L\",\"L\"]]\n",
    "\n",
    "def toNum(arr):\n",
    "    if type(arr) is not list:\n",
    "        arr = arr.tolist()\n",
    "    for i in range(len(arr)):\n",
    "        for j in range(len(arr[i])):\n",
    "            arr[i][j] = d.get(arr[i][j].lower())\n",
    "    return(arr)\n",
    "\n",
    "print('Key Matrix: ')\n",
    "toNum(key)\n",
    "show(matrix(key))"
   ]
  },
  {
   "cell_type": "markdown",
   "metadata": {},
   "source": [
    "#### (a) Convert the following matrices to mumbers\n",
    "\n",
    "$ \\begin{bmatrix}\n",
    "    T \\\\\n",
    "    E  \n",
    "\\end{bmatrix} $ $ \\begin{bmatrix}\n",
    "    S \\\\\n",
    "    T  \n",
    "\\end{bmatrix} $ $ \\begin{bmatrix}\n",
    "    M \\\\\n",
    "    E  \n",
    "\\end{bmatrix} $ $ \\begin{bmatrix}\n",
    "    S \\\\\n",
    "    S  \n",
    "\\end{bmatrix} $ $ \\begin{bmatrix}\n",
    "    A \\\\\n",
    "    G  \n",
    "\\end{bmatrix} $ $ \\begin{bmatrix}\n",
    "    E \\\\\n",
    "    X  \n",
    "\\end{bmatrix} $\n",
    "\n"
   ]
  },
  {
   "cell_type": "code",
   "execution_count": 299,
   "metadata": {},
   "outputs": [
    {
     "data": {
      "text/html": [
       "<html><script type=\"math/tex; mode=display\">\\newcommand{\\Bold}[1]{\\mathbf{#1}}\\left[\\left(\\begin{array}{r}\n",
       "19 \\\\\n",
       "4\n",
       "\\end{array}\\right), \\left(\\begin{array}{r}\n",
       "18 \\\\\n",
       "19\n",
       "\\end{array}\\right), \\left(\\begin{array}{r}\n",
       "12 \\\\\n",
       "4\n",
       "\\end{array}\\right), \\left(\\begin{array}{r}\n",
       "18 \\\\\n",
       "18\n",
       "\\end{array}\\right), \\left(\\begin{array}{r}\n",
       "0 \\\\\n",
       "6\n",
       "\\end{array}\\right), \\left(\\begin{array}{r}\n",
       "4 \\\\\n",
       "23\n",
       "\\end{array}\\right)\\right]</script></html>"
      ],
      "text/plain": [
       "[\n",
       "[19]  [18]  [12]  [18]  [0]  [ 4]\n",
       "[ 4], [19], [ 4], [18], [6], [23]\n",
       "]"
      ]
     },
     "metadata": {},
     "output_type": "display_data"
    }
   ],
   "source": [
    "message = [[['T'],['E']],[['S'],['T']],[['M'],['E']],[['S'],['S']],[['A'],['G']],[['E'],['X']]]\n",
    "\n",
    "msg_num = []\n",
    "\n",
    "for i in message:\n",
    "    toNum(i)\n",
    "    msg_num.append(matrix(i))\n",
    "\n",
    "show(msg_num) "
   ]
  },
  {
   "cell_type": "markdown",
   "metadata": {},
   "source": [
    "#### (c) Encrypt the columns (multiply by key, modulo 26)"
   ]
  },
  {
   "cell_type": "code",
   "execution_count": 300,
   "metadata": {},
   "outputs": [
    {
     "data": {
      "text/html": [
       "<html><script type=\"math/tex; mode=display\">\\newcommand{\\Bold}[1]{\\mathbf{#1}}\\left[\\left[9\\right], \\left[19\\right]\\right]</script></html>"
      ],
      "text/plain": [
       "[[9], [19]]"
      ]
     },
     "metadata": {},
     "output_type": "display_data"
    },
    {
     "data": {
      "text/html": [
       "<html><script type=\"math/tex; mode=display\">\\newcommand{\\Bold}[1]{\\mathbf{#1}}\\left[\\left[18\\right], \\left[17\\right]\\right]</script></html>"
      ],
      "text/plain": [
       "[[18], [17]]"
      ]
     },
     "metadata": {},
     "output_type": "display_data"
    },
    {
     "data": {
      "text/html": [
       "<html><script type=\"math/tex; mode=display\">\\newcommand{\\Bold}[1]{\\mathbf{#1}}\\left[\\left[12\\right], \\left[20\\right]\\right]</script></html>"
      ],
      "text/plain": [
       "[[12], [20]]"
      ]
     },
     "metadata": {},
     "output_type": "display_data"
    },
    {
     "data": {
      "text/html": [
       "<html><script type=\"math/tex; mode=display\">\\newcommand{\\Bold}[1]{\\mathbf{#1}}\\left[\\left[10\\right], \\left[6\\right]\\right]</script></html>"
      ],
      "text/plain": [
       "[[10], [6]]"
      ]
     },
     "metadata": {},
     "output_type": "display_data"
    },
    {
     "data": {
      "text/html": [
       "<html><script type=\"math/tex; mode=display\">\\newcommand{\\Bold}[1]{\\mathbf{#1}}\\left[\\left[22\\right], \\left[14\\right]\\right]</script></html>"
      ],
      "text/plain": [
       "[[22], [14]]"
      ]
     },
     "metadata": {},
     "output_type": "display_data"
    },
    {
     "data": {
      "text/html": [
       "<html><script type=\"math/tex; mode=display\">\\newcommand{\\Bold}[1]{\\mathbf{#1}}\\left[\\left[4\\right], \\left[11\\right]\\right]</script></html>"
      ],
      "text/plain": [
       "[[4], [11]]"
      ]
     },
     "metadata": {},
     "output_type": "display_data"
    }
   ],
   "source": [
    "import numpy as np\n",
    "def encrypt(X,Y):\n",
    "    res_m = np.matmul(X,Y)\n",
    "    for i in range(len(res_m)):\n",
    "        for j in range(len(res_m[i])):\n",
    "            res_m[i][j] = int(res_m[i][j] % 26)\n",
    "    return(res_m.tolist())\n",
    "\n",
    "msg_crypt = []\n",
    "for i in msg_num:\n",
    "    msg_crypt.append(encrypt(key,i))\n",
    "    \n",
    "for j in range(len(msg_crypt)):\n",
    "    show(msg_crypt[j])"
   ]
  },
  {
   "cell_type": "markdown",
   "metadata": {},
   "source": [
    "#### (d) Convert the encryption back to letters"
   ]
  },
  {
   "cell_type": "code",
   "execution_count": 332,
   "metadata": {
    "scrolled": true
   },
   "outputs": [
    {
     "data": {
      "text/html": [
       "<html><script type=\"math/tex; mode=display\">\\newcommand{\\Bold}[1]{\\mathbf{#1}}\\left[\\left[\\verb|j|\\right], \\left[\\verb|t|\\right]\\right]</script></html>"
      ],
      "text/plain": [
       "[['j'], ['t']]"
      ]
     },
     "metadata": {},
     "output_type": "display_data"
    },
    {
     "data": {
      "text/html": [
       "<html><script type=\"math/tex; mode=display\">\\newcommand{\\Bold}[1]{\\mathbf{#1}}\\left[\\left[\\verb|s|\\right], \\left[\\verb|r|\\right]\\right]</script></html>"
      ],
      "text/plain": [
       "[['s'], ['r']]"
      ]
     },
     "metadata": {},
     "output_type": "display_data"
    },
    {
     "data": {
      "text/html": [
       "<html><script type=\"math/tex; mode=display\">\\newcommand{\\Bold}[1]{\\mathbf{#1}}\\left[\\left[\\verb|m|\\right], \\left[\\verb|u|\\right]\\right]</script></html>"
      ],
      "text/plain": [
       "[['m'], ['u']]"
      ]
     },
     "metadata": {},
     "output_type": "display_data"
    },
    {
     "data": {
      "text/html": [
       "<html><script type=\"math/tex; mode=display\">\\newcommand{\\Bold}[1]{\\mathbf{#1}}\\left[\\left[\\verb|k|\\right], \\left[\\verb|g|\\right]\\right]</script></html>"
      ],
      "text/plain": [
       "[['k'], ['g']]"
      ]
     },
     "metadata": {},
     "output_type": "display_data"
    },
    {
     "data": {
      "text/html": [
       "<html><script type=\"math/tex; mode=display\">\\newcommand{\\Bold}[1]{\\mathbf{#1}}\\left[\\left[\\verb|w|\\right], \\left[\\verb|o|\\right]\\right]</script></html>"
      ],
      "text/plain": [
       "[['w'], ['o']]"
      ]
     },
     "metadata": {},
     "output_type": "display_data"
    },
    {
     "data": {
      "text/html": [
       "<html><script type=\"math/tex; mode=display\">\\newcommand{\\Bold}[1]{\\mathbf{#1}}\\left[\\left[\\verb|e|\\right], \\left[\\verb|l|\\right]\\right]</script></html>"
      ],
      "text/plain": [
       "[['e'], ['l']]"
      ]
     },
     "metadata": {},
     "output_type": "display_data"
    }
   ],
   "source": [
    "def toChar(arr):\n",
    "    for i in range(len(arr)):\n",
    "        for j in range(len(arr[i])):\n",
    "            arr[i][j] = d.keys()[d.values().index(arr[i][j])]\n",
    "    return(arr)\n",
    "\n",
    "msg_scramble = []\n",
    "for k in msg_crypt:\n",
    "    msg_scramble.append(toChar(k))\n",
    "\n",
    "for l in range(len(msg_scramble)):\n",
    "    show(msg_scramble[l])"
   ]
  },
  {
   "cell_type": "markdown",
   "metadata": {},
   "source": [
    "#### (e) Decrypt the scrambled string, as well as \"QWKKOPEXWGBUPFADHRNNZJ\""
   ]
  },
  {
   "cell_type": "code",
   "execution_count": 333,
   "metadata": {},
   "outputs": [
    {
     "name": "stdout",
     "output_type": "stream",
     "text": [
      "numerical decrypted new string\n"
     ]
    },
    {
     "data": {
      "text/html": [
       "<html><script type=\"math/tex; mode=display\">\\newcommand{\\Bold}[1]{\\mathbf{#1}}\\left[\\left[\\left(\\begin{array}{r}\n",
       "19 \\\\\n",
       "4\n",
       "\\end{array}\\right)\\right], \\left[\\left(\\begin{array}{r}\n",
       "18 \\\\\n",
       "19\n",
       "\\end{array}\\right)\\right], \\left[\\left(\\begin{array}{r}\n",
       "12 \\\\\n",
       "4\n",
       "\\end{array}\\right)\\right], \\left[\\left(\\begin{array}{r}\n",
       "18 \\\\\n",
       "18\n",
       "\\end{array}\\right)\\right], \\left[\\left(\\begin{array}{r}\n",
       "0 \\\\\n",
       "6\n",
       "\\end{array}\\right)\\right], \\left[\\left(\\begin{array}{r}\n",
       "4 \\\\\n",
       "23\n",
       "\\end{array}\\right)\\right]\\right]</script></html>"
      ],
      "text/plain": [
       "[[\n",
       "[19]\n",
       "[ 4]\n",
       "],\n",
       " [\n",
       "[18]\n",
       "[19]\n",
       "],\n",
       " [\n",
       "[12]\n",
       "[ 4]\n",
       "],\n",
       " [\n",
       "[18]\n",
       "[18]\n",
       "],\n",
       " [\n",
       "[0]\n",
       "[6]\n",
       "],\n",
       " [\n",
       "[ 4]\n",
       "[23]\n",
       "]]"
      ]
     },
     "metadata": {},
     "output_type": "display_data"
    },
    {
     "name": "stdout",
     "output_type": "stream",
     "text": [
      "numerical decrypted new string\n"
     ]
    },
    {
     "data": {
      "text/html": [
       "<html><script type=\"math/tex; mode=display\">\\newcommand{\\Bold}[1]{\\mathbf{#1}}\\left[\\left[\\left(\\begin{array}{r}\n",
       "0 \\\\\n",
       "2\n",
       "\\end{array}\\right)\\right], \\left[\\left(\\begin{array}{r}\n",
       "7 \\\\\n",
       "8\n",
       "\\end{array}\\right)\\right], \\left[\\left(\\begin{array}{r}\n",
       "4 \\\\\n",
       "21\n",
       "\\end{array}\\right)\\right], \\left[\\left(\\begin{array}{r}\n",
       "8 \\\\\n",
       "13\n",
       "\\end{array}\\right)\\right], \\left[\\left(\\begin{array}{r}\n",
       "6 \\\\\n",
       "4\n",
       "\\end{array}\\right)\\right], \\left[\\left(\\begin{array}{r}\n",
       "23 \\\\\n",
       "19\n",
       "\\end{array}\\right)\\right], \\left[\\left(\\begin{array}{r}\n",
       "17 \\\\\n",
       "0\n",
       "\\end{array}\\right)\\right], \\left[\\left(\\begin{array}{r}\n",
       "14 \\\\\n",
       "17\n",
       "\\end{array}\\right)\\right], \\left[\\left(\\begin{array}{r}\n",
       "3 \\\\\n",
       "8\n",
       "\\end{array}\\right)\\right], \\left[\\left(\\begin{array}{r}\n",
       "13 \\\\\n",
       "0\n",
       "\\end{array}\\right)\\right], \\left[\\left(\\begin{array}{r}\n",
       "17 \\\\\n",
       "24\n",
       "\\end{array}\\right)\\right]\\right]</script></html>"
      ],
      "text/plain": [
       "[[\n",
       "[0]\n",
       "[2]\n",
       "],\n",
       " [\n",
       "[7]\n",
       "[8]\n",
       "],\n",
       " [\n",
       "[ 4]\n",
       "[21]\n",
       "],\n",
       " [\n",
       "[ 8]\n",
       "[13]\n",
       "],\n",
       " [\n",
       "[6]\n",
       "[4]\n",
       "],\n",
       " [\n",
       "[23]\n",
       "[19]\n",
       "],\n",
       " [\n",
       "[17]\n",
       "[ 0]\n",
       "],\n",
       " [\n",
       "[14]\n",
       "[17]\n",
       "],\n",
       " [\n",
       "[3]\n",
       "[8]\n",
       "],\n",
       " [\n",
       "[13]\n",
       "[ 0]\n",
       "],\n",
       " [\n",
       "[17]\n",
       "[24]\n",
       "]]"
      ]
     },
     "metadata": {},
     "output_type": "display_data"
    }
   ],
   "source": [
    "def charMatrix(x):\n",
    "    return(d.keys()[d.values().index(x)])\n",
    "\n",
    "def decrypt(key,msg):\n",
    "    # inverse and mod the key\n",
    "    new_key = matrix(key).inverse()%26 \n",
    "    # translate msg to num\n",
    "    msg_num = matrix(toNum(msg))\n",
    "    # multiply each msg by key and mod\n",
    "    msg_crypt = (new_key*msg_num) % 26  \n",
    "    return(msg_crypt)\n",
    "\n",
    "# decrypt past scrambled string\n",
    "msg1_crypt1 = []\n",
    "for i in msg_scramble:\n",
    "    msg1_crypt1.append([decrypt(key,i)])\n",
    "\n",
    "print('numerical decrypted new string')\n",
    "show(msg1_crypt1)\n",
    "\n",
    "# decrypt new scrambled string\n",
    "msg2 = [[['Q'],['W']],[['J'],['J']],[['O'],['P']],[['E'],['X']],[['W'],['G']],[['B'],['U']],[['P'],['F']],[['A'],['D']],[['H'],['R']],[['N'],['N']],[['Z'],['J']]]\n",
    "\n",
    "msg2_crypt1 = []\n",
    "for i in msg2:\n",
    "    msg2_crypt1.append([decrypt(key,i)])\n",
    "print('numerical decrypted new string')\n",
    "show(msg2_crypt1)"
   ]
  },
  {
   "cell_type": "code",
   "execution_count": 334,
   "metadata": {},
   "outputs": [
    {
     "name": "stdout",
     "output_type": "stream",
     "text": [
      "Fully decrypted old string\n"
     ]
    },
    {
     "data": {
      "text/html": [
       "<html><script type=\"math/tex; mode=display\">\\newcommand{\\Bold}[1]{\\mathbf{#1}}\\left[\\left[\\verb|t|, \\verb|e|\\right], \\left[\\verb|s|, \\verb|t|\\right], \\left[\\verb|m|, \\verb|e|\\right], \\left[\\verb|s|, \\verb|s|\\right], \\left[\\verb|a|, \\verb|g|\\right], \\left[\\verb|e|, \\verb|x|\\right]\\right]</script></html>"
      ],
      "text/plain": [
       "[['t', 'e'], ['s', 't'], ['m', 'e'], ['s', 's'], ['a', 'g'], ['e', 'x']]"
      ]
     },
     "metadata": {},
     "output_type": "display_data"
    },
    {
     "name": "stdout",
     "output_type": "stream",
     "text": [
      "Fully decrypted new string\n"
     ]
    },
    {
     "data": {
      "text/html": [
       "<html><script type=\"math/tex; mode=display\">\\newcommand{\\Bold}[1]{\\mathbf{#1}}\\left[\\left[\\verb|a|, \\verb|c|\\right], \\left[\\verb|h|, \\verb|i|\\right], \\left[\\verb|e|, \\verb|v|\\right], \\left[\\verb|i|, \\verb|n|\\right], \\left[\\verb|g|, \\verb|e|\\right], \\left[\\verb|x|, \\verb|t|\\right], \\left[\\verb|r|, \\verb|a|\\right], \\left[\\verb|o|, \\verb|r|\\right], \\left[\\verb|d|, \\verb|i|\\right], \\left[\\verb|n|, \\verb|a|\\right], \\left[\\verb|r|, \\verb|y|\\right]\\right]</script></html>"
      ],
      "text/plain": [
       "[['a', 'c'],\n",
       " ['h', 'i'],\n",
       " ['e', 'v'],\n",
       " ['i', 'n'],\n",
       " ['g', 'e'],\n",
       " ['x', 't'],\n",
       " ['r', 'a'],\n",
       " ['o', 'r'],\n",
       " ['d', 'i'],\n",
       " ['n', 'a'],\n",
       " ['r', 'y']]"
      ]
     },
     "metadata": {},
     "output_type": "display_data"
    }
   ],
   "source": [
    "# Converting back to list hand because Sage Matrices are confusing:\n",
    "# old string\n",
    "msg1_crypt2 = [[19,4],[18,19],[12,4],[18,18],[0,6],[4,23]]\n",
    "print('Fully decrypted old string')\n",
    "show(toChar(msg1_crypt2))\n",
    "\n",
    "# new string\n",
    "msg2_crypt2 = [[0,2],[7,8],[4,21],[8,13],[6,4],[23,19],[17,0],[14,17],[3,8],[13,0],[17,24]]\n",
    "print('Fully decrypted new string')\n",
    "show(toChar(msg2_crypt2))\n"
   ]
  },
  {
   "cell_type": "markdown",
   "metadata": {},
   "source": [
    "#### Resulting matrix spells: achieving extraordinary"
   ]
  },
  {
   "cell_type": "markdown",
   "metadata": {},
   "source": [
    "#### (d) Why is Hill's cipher more effective than a standard substitution cipher (like Caesar Cipher)? What steps could you take to make the message more secure?"
   ]
  },
  {
   "cell_type": "markdown",
   "metadata": {},
   "source": [
    "Due to it's use of linear algebra, it allows us to operate on more than one element at a time (whereas standard substitution ciphers only operate on one element at a time).      \n",
    "\n",
    "Additionally, since it is fairly easy to add more transformations in linear algebra (as long as the transformation matrix is the right dimension), we could make the cipher more secure by requiring more than one transformation in encryption and decryption.          \n",
    "\n",
    "These additional transformation could use the same key more times, or use different keys of the same dimension. Thus, we could encode the message with more than one key (in order) to increase the security.       "
   ]
  },
  {
   "cell_type": "markdown",
   "metadata": {},
   "source": [
    "# HCs\n",
    "\n",
    "#### #decisionselection: \n",
    "In Q3, I used a combination of Successive Approximation (esp in part a) and means-end analysis (esp in part b-d) to find matrices that satisfied the critieria based on my knowledge of the criteria that they would need to meet, past knowledge on how to create matrices that met similar criteria, and some trial and observation.       \n",
    "\n",
    "#### #modelling: \n",
    "In Q2, I clearly defined the variables and the relationships between them as well as the overall assumptions I made to create the model. Using this model, I then made clear predictions of what roads could and could not be closed (and in what combination) as well as what would happen when some assumptions of the model were changed.\n",
    "\n",
    "#### #levelsofanalysis: \n",
    "Wherever possible, I tried to incorporate both the algebraic and geometric interpretation of matrices into my answers in an attempt to have a more holistic and complete interpretation."
   ]
  }
 ],
 "metadata": {
  "kernelspec": {
   "display_name": "SageMath 8.5",
   "language": "",
   "name": "sagemath"
  },
  "language_info": {
   "codemirror_mode": {
    "name": "ipython",
    "version": 2
   },
   "file_extension": ".py",
   "mimetype": "text/x-python",
   "name": "python",
   "nbconvert_exporter": "python",
   "pygments_lexer": "ipython2",
   "version": "2.7.15"
  }
 },
 "nbformat": 4,
 "nbformat_minor": 2
}
