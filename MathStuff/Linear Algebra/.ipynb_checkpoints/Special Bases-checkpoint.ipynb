{
 "cells": [
  {
   "cell_type": "markdown",
   "metadata": {},
   "source": [
    "# EigenLBA"
   ]
  },
  {
   "cell_type": "markdown",
   "metadata": {},
   "source": [
    "# QR Factorization"
   ]
  },
  {
   "cell_type": "markdown",
   "metadata": {},
   "source": [
    "$$A=\\begin{bmatrix}\n",
    "    2 & 3 \\\\\n",
    "    0 & -2\n",
    "\\end{bmatrix}$$\n",
    "\n",
    "To orthonormalize $A$, we first have to find its' eigenvectors an eigenvalues\n",
    "\n",
    "**Finding Eigenvalues**      \n",
    "Since eigenvectors ($\\vec{v}$) are vectors that only change by a scalar multiple ($\\lambda$) during transformation ($A$), they can be expressed by the following equation:    \n",
    "$A\\vec{v}=\\lambda\\vec{v}$     \n",
    "To make everything in this equation matrix multiplication, it's less awkward to write it as:   \n",
    "$A\\vec{v}=\\lambda I\\vec{v}$      \n",
    "Then we can factor our the $v$:      \n",
    "$A\\vec{v}-\\lambda I\\vec{v} = \\vec{0}$      \n",
    "$(A-\\lambda I)\\vec{v} = \\vec{0}$      \n",
    "Since eigenvectors must be non-zero, the only way to transform a non zero vector to the zero vector is if the matrix denotes a transformation into a lower dimension (the matrix has a determinant of zero) *(3Blue1Brown, 2016)*.\n",
    "\n",
    "Thus, ($A-\\lambda I$) must have a determinant of $0$.      \n",
    "$A-\\lambda I=\\begin{bmatrix}\n",
    "    2-\\lambda & 3 \\\\\n",
    "    0 & -2-\\lambda\n",
    "\\end{bmatrix}$      \n",
    "$det(A)=(2-\\lambda)(-2-\\lambda)-(3*0)=0$      \n",
    "$det(A)=(2-\\lambda)(-2-\\lambda)=0$      \n",
    "\n",
    "From this equation we see that $\\lambda=2$ OR $\\lambda=-2$      "
   ]
  },
  {
   "cell_type": "markdown",
   "metadata": {},
   "source": [
    "**Finding Eigenvectors**        \n",
    "We can find the eigenvectors by plugging the eigenvalues we found into the same equation.    \n",
    "\n",
    "First with $\\lambda = 2$:      \n",
    "$\\begin{bmatrix}\n",
    "    2-2 & 3 \\\\\n",
    "    0 & -2-2\n",
    "\\end{bmatrix}\\begin{bmatrix}\n",
    "    x \\\\\n",
    "    y\n",
    "\\end{bmatrix}=\\begin{bmatrix}\n",
    "    0 \\\\\n",
    "    0\n",
    "\\end{bmatrix}$     "
   ]
  },
  {
   "cell_type": "code",
   "execution_count": 25,
   "metadata": {
    "scrolled": false
   },
   "outputs": [
    {
     "data": {
      "text/plain": [
       "[0 1 0]\n",
       "[0 0 0]"
      ]
     },
     "execution_count": 25,
     "metadata": {},
     "output_type": "execute_result"
    }
   ],
   "source": [
    "Am1 = matrix(QQ,[[0,3,0],[0,-4,0]])\n",
    "Am1.rref()"
   ]
  },
  {
   "cell_type": "markdown",
   "metadata": {},
   "source": [
    "Thus, we get the equation  \n",
    "$y = 0$     \n",
    "Letting $x = t$, we get:     \n",
    "\n",
    "$\\begin{bmatrix}\n",
    "    x \\\\\n",
    "    y\n",
    "\\end{bmatrix}=t\\begin{bmatrix}\n",
    "    0 \\\\\n",
    "    1\n",
    "\\end{bmatrix}$\n",
    "\n",
    "\n",
    "Thus, the eigenvector with $\\lambda = 2$ is $\\begin{bmatrix}\n",
    "    0 \\\\\n",
    "    1\n",
    "\\end{bmatrix}$"
   ]
  },
  {
   "cell_type": "markdown",
   "metadata": {},
   "source": [
    "Next with $\\lambda = -2$:      \n",
    "$\\begin{bmatrix}\n",
    "    2+2 & 3 \\\\\n",
    "    0 & -2+2\n",
    "\\end{bmatrix}\\begin{bmatrix}\n",
    "    x \\\\\n",
    "    y\n",
    "\\end{bmatrix}=\\begin{bmatrix}\n",
    "    0 \\\\\n",
    "    0\n",
    "\\end{bmatrix}$     "
   ]
  },
  {
   "cell_type": "code",
   "execution_count": 24,
   "metadata": {},
   "outputs": [
    {
     "data": {
      "text/plain": [
       "[  1 3/4   0]\n",
       "[  0   0   0]"
      ]
     },
     "execution_count": 24,
     "metadata": {},
     "output_type": "execute_result"
    }
   ],
   "source": [
    "Am2 = matrix(QQ,[[4,3,0],[0,0,0]])\n",
    "Am2.rref()"
   ]
  },
  {
   "cell_type": "markdown",
   "metadata": {},
   "source": [
    "Thus, we get the equation  \n",
    "$x + 3/4y = 0$     \n",
    "which simplifies to $x = -3/4y$     \n",
    "\n",
    "Letting $y = t$, we get:     \n",
    "\n",
    "$\\begin{bmatrix}\n",
    "    x \\\\\n",
    "    y\n",
    "\\end{bmatrix}=t\\begin{bmatrix}\n",
    "    -3/4 \\\\\n",
    "    1\n",
    "\\end{bmatrix}$"
   ]
  },
  {
   "cell_type": "markdown",
   "metadata": {},
   "source": [
    "\n",
    "\\end{bmatrix}$ "
   ]
  },
  {
   "cell_type": "markdown",
   "metadata": {},
   "source": [
    "$\\begin{bmatrix}\n",
    "    x \\\\\n",
    "    y\n",
    "\\end{bmatrix}=t\\begin{bmatrix}\n",
    "    0 \\\\\n",
    "    1\n",
    "\\end{bmatrix}$\n",
    "\n",
    "The eigenvector corresponding to $\\lambda = -2$ is $\\begin{bmatrix}\n",
    "    0 \\\\\n",
    "    1\n",
    "\\end{bmatrix}$    "
   ]
  },
  {
   "cell_type": "code",
   "execution_count": 19,
   "metadata": {},
   "outputs": [
    {
     "data": {
      "text/plain": [
       "[  3 3/2]\n",
       "[ -2  -2]"
      ]
     },
     "execution_count": 19,
     "metadata": {},
     "output_type": "execute_result"
    }
   ],
   "source": [
    "S = matrix(QQ,[[0,-3/4],[1,1]])\n",
    "#D = matrix(QQ,[[-3/4,0],[1,1]])\n",
    "\n",
    "A*S"
   ]
  },
  {
   "cell_type": "code",
   "execution_count": 20,
   "metadata": {
    "scrolled": true
   },
   "outputs": [
    {
     "data": {
      "text/plain": [
       "[  0 3/2]\n",
       "[  2  -2]"
      ]
     },
     "execution_count": 20,
     "metadata": {},
     "output_type": "execute_result"
    }
   ],
   "source": [
    "S*D"
   ]
  },
  {
   "cell_type": "code",
   "execution_count": 21,
   "metadata": {},
   "outputs": [
    {
     "data": {
      "text/plain": [
       "[ 2  0]\n",
       "[ 0 -2]"
      ]
     },
     "execution_count": 21,
     "metadata": {},
     "output_type": "execute_result"
    }
   ],
   "source": [
    "D"
   ]
  },
  {
   "cell_type": "code",
   "execution_count": 5,
   "metadata": {},
   "outputs": [
    {
     "data": {
      "text/plain": [
       "True"
      ]
     },
     "execution_count": 5,
     "metadata": {},
     "output_type": "execute_result"
    }
   ],
   "source": [
    "A = matrix(QQ,[[2,3],[0,-2]])\n",
    "\n",
    "# Get matrix of eigenvectors (S) and eigenvalues (D)\n",
    "D, S = A.eigenmatrix_right()\n",
    "\n",
    "# check\n",
    "A*S == S*D"
   ]
  },
  {
   "cell_type": "code",
   "execution_count": 15,
   "metadata": {},
   "outputs": [
    {
     "data": {
      "text/plain": [
       "[ 2  0]\n",
       "[ 0 -2]"
      ]
     },
     "execution_count": 15,
     "metadata": {},
     "output_type": "execute_result"
    }
   ],
   "source": [
    "D"
   ]
  },
  {
   "cell_type": "markdown",
   "metadata": {},
   "source": [
    "# References\n",
    "\n",
    "3Blue1Brown, 2016. Eigenvectors and Eigenvalues | Essense of linear algebra, chapter 14. Retrieved from https://www.youtube.com/watch?v=PFDu9oVAE-g."
   ]
  },
  {
   "cell_type": "code",
   "execution_count": null,
   "metadata": {},
   "outputs": [],
   "source": []
  }
 ],
 "metadata": {
  "kernelspec": {
   "display_name": "SageMath 8.7",
   "language": "",
   "name": "sagemath"
  },
  "language_info": {
   "codemirror_mode": {
    "name": "ipython",
    "version": 2
   },
   "file_extension": ".py",
   "mimetype": "text/x-python",
   "name": "python",
   "nbconvert_exporter": "python",
   "pygments_lexer": "ipython2",
   "version": "2.7.15"
  }
 },
 "nbformat": 4,
 "nbformat_minor": 2
}
