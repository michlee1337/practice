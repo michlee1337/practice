{
 "cells": [
  {
   "cell_type": "markdown",
   "metadata": {},
   "source": [
    "# 1. EigenLBA"
   ]
  },
  {
   "cell_type": "markdown",
   "metadata": {},
   "source": [
    "## (a) Network"
   ]
  },
  {
   "cell_type": "markdown",
   "metadata": {},
   "source": [
    "## (b) Modelling: Estimation Process and Assumptions"
   ]
  },
  {
   "cell_type": "markdown",
   "metadata": {},
   "source": [
    "My network is a major neighbourhood grocery store.\n",
    "\n",
    "I went during a relatively not busy time (around 8pm) to make counting easier, as it is way too busy during peak hours. I counted the number of people moving between each node over a 15 minute period, and then calculated the number of people who stayed at each node by deducting the number of people who moved away from the number of people who moved to the node.\n",
    "\n",
    "My assumption is that people staying at the node is number of people entering - number of people leaving. "
   ]
  },
  {
   "cell_type": "markdown",
   "metadata": {},
   "source": [
    "## (c) Modelling: Matrix"
   ]
  },
  {
   "cell_type": "code",
   "execution_count": 250,
   "metadata": {},
   "outputs": [],
   "source": [
    "M = matrix(QQ,[[-3, 6, 5, 3, 3],\n",
    "                  [3, 1, 4, 6, 3],\n",
    "                  [3, 3, 1, 3, 7],\n",
    "                  [6, 3, 3, 0, 5],\n",
    "                  [8, 3, 3, 5, 1]])"
   ]
  },
  {
   "cell_type": "markdown",
   "metadata": {},
   "source": [
    "_________"
   ]
  },
  {
   "cell_type": "markdown",
   "metadata": {},
   "source": [
    "## (d) Changing to Probabilities"
   ]
  },
  {
   "cell_type": "code",
   "execution_count": 251,
   "metadata": {
    "scrolled": true
   },
   "outputs": [
    {
     "data": {
      "text/plain": [
       "[-3/17   3/8  5/16  3/17  3/19]\n",
       "[ 3/17  1/16   1/4  6/17  3/19]\n",
       "[ 3/17  3/16  1/16  3/17  7/19]\n",
       "[ 6/17  3/16  3/16     0  5/19]\n",
       "[ 8/17  3/16  3/16  5/17  1/19]"
      ]
     },
     "execution_count": 251,
     "metadata": {},
     "output_type": "execute_result"
    }
   ],
   "source": [
    "M = matrix(QQ,[[-3, 6, 5, 3, 3],\n",
    "                  [3, 1, 4, 6, 3],\n",
    "                  [3, 3, 1, 3, 7],\n",
    "                  [6, 3, 3, 0, 5],\n",
    "                  [8, 3, 3, 5, 1]])\n",
    "\n",
    "M = M.transpose()\n",
    "\n",
    "for i in range(len(M[0])):\n",
    "    M[i] = M[i]/sum(M[i])\n",
    "\n",
    "M = M.transpose()\n",
    "M"
   ]
  },
  {
   "cell_type": "markdown",
   "metadata": {},
   "source": [
    "_________"
   ]
  },
  {
   "cell_type": "markdown",
   "metadata": {},
   "source": [
    "## (e) Eigens"
   ]
  },
  {
   "cell_type": "code",
   "execution_count": 252,
   "metadata": {},
   "outputs": [],
   "source": [
    "D,S = M.eigenmatrix_right()"
   ]
  },
  {
   "cell_type": "code",
   "execution_count": 320,
   "metadata": {},
   "outputs": [
    {
     "name": "stdout",
     "output_type": "stream",
     "text": [
      "eigenvalues\n"
     ]
    },
    {
     "data": {
      "text/plain": [
       "[                                           1                                            0                                            0                                            0                                            0]\n",
       "[                                           0                         -0.2637258044744608?                                            0                                            0                                            0]\n",
       "[                                           0                                            0                         -0.1810018769566180?                                            0                                            0]\n",
       "[                                           0                                            0                                            0 -0.2770556639284235? - 0.1640735676119522?*I                                            0]\n",
       "[                                           0                                            0                                            0                                            0 -0.2770556639284235? + 0.1640735676119522?*I]"
      ]
     },
     "execution_count": 320,
     "metadata": {},
     "output_type": "execute_result"
    }
   ],
   "source": [
    "print('eigenvalues')\n",
    "D"
   ]
  },
  {
   "cell_type": "code",
   "execution_count": 322,
   "metadata": {},
   "outputs": [
    {
     "name": "stdout",
     "output_type": "stream",
     "text": [
      "eigenvectors\n"
     ]
    },
    {
     "data": {
      "text/plain": [
       "[                                           1                                            1                                            1                                            1                                            1]\n",
       "[                               346064/307071                          -1.823193551205371?                          -4.418069402168773?  0.2537632114565907? - 0.1669774912373533?*I  0.2537632114565907? + 0.1669774912373533?*I]\n",
       "[                               115720/102357                           3.010319879727358?                           7.394042796731479?  0.0753259062706636? - 0.8691116032655037?*I  0.0753259062706636? + 0.8691116032655037?*I]\n",
       "[                                 13435/12042                         0.05669398985682224?                          -1.647750265280112? -0.5076186827775782? + 0.3524658204049876?*I -0.5076186827775782? - 0.3524658204049876?*I]\n",
       "[                               132031/102357                          -2.243820318378809?                          -2.328223129282595? -0.8214704349496760? + 0.6836232740978693?*I -0.8214704349496760? - 0.6836232740978693?*I]"
      ]
     },
     "execution_count": 322,
     "metadata": {},
     "output_type": "execute_result"
    }
   ],
   "source": [
    "print('eigenvectors')\n",
    "S"
   ]
  },
  {
   "cell_type": "markdown",
   "metadata": {},
   "source": [
    "## (f) Long Term Behavior"
   ]
  },
  {
   "cell_type": "markdown",
   "metadata": {},
   "source": [
    "### Testing eigenvectors and random distributions"
   ]
  },
  {
   "cell_type": "code",
   "execution_count": 310,
   "metadata": {},
   "outputs": [],
   "source": [
    "e1 = vector(S[0])\n",
    "\n",
    "e2 = vector(S[1])\n",
    "\n",
    "e3 = vector(S[2])\n",
    "\n",
    "e4 = vector(S[3])\n",
    "\n",
    "e5 = vector(S[4])\n",
    "\n",
    "start1 = vector([1,0,0,0,0])\n",
    "\n",
    "start2 = vector([1/5,1/5,1/5,1/5,1/5])\n",
    "\n",
    "start3 = vector([0,1/4,1/4,1/4,1/4])"
   ]
  },
  {
   "cell_type": "code",
   "execution_count": 311,
   "metadata": {},
   "outputs": [
    {
     "name": "stdout",
     "output_type": "stream",
     "text": [
      "('ev 1 is', (1, 1, 1, 1, 1))\n",
      "(0.845394736842105, 0.999806501547988, 0.971362229102167, 0.991099071207430, 1.19233746130031)\n",
      "(0.892454473947800, 0.992579251993693, 1.01154322354043, 0.981741766131660, 1.12168128438641)\n",
      "(0.882905242468216, 0.995019783143054, 0.998171054822064, 0.985038360119622, 1.13886555944704)\n"
     ]
    }
   ],
   "source": [
    "# testing eigenvalue 1\n",
    "\n",
    "print('ev 1 is', e1)\n",
    "\n",
    "e1_s1 = M*e1\n",
    "print(N(e1_s1))\n",
    "\n",
    "e1_s2 = M^2*e1\n",
    "print(N(e1_s2))\n",
    "\n",
    "e1_s3 = M^600*e1\n",
    "print(N(e1_s3))"
   ]
  },
  {
   "cell_type": "code",
   "execution_count": 312,
   "metadata": {},
   "outputs": [
    {
     "name": "stdout",
     "output_type": "stream",
     "text": [
      "('ev 2 is', (346064/307071, -1.823193551205371?, -4.418069402168773?, 0.2537632114565907? - 0.1669774912373533?*I, 0.2537632114565907? + 0.1669774912373533?*I))\n",
      "(-2.17837412091057 - 0.00310174906323257*I, -0.889956115880761 - 0.0325683651639420*I, -0.280825206082149 + 0.0320514069867365*I, -0.705698071824720 + 0.0439414450624614*I, -0.551899354003760 - 0.0403227378220234*I)\n",
      "(-0.813465251706490, -0.916762048081893, -0.919665474051360, -0.907565658252508, -1.04929443660971)\n",
      "(-0.813465251706490, -0.916762048081893, -0.919665474051360, -0.907565658252508, -1.04929443660971)\n"
     ]
    }
   ],
   "source": [
    "# testing eigenvalue 2\n",
    "\n",
    "print('ev 2 is', e2)\n",
    "\n",
    "e2_s1 = M*e2\n",
    "print(N(e2_s1))\n",
    "\n",
    "e2_s2 = M^501*e2\n",
    "print(N(e2_s2))\n",
    "\n",
    "e2_s3 = M^600*e2\n",
    "print(N(e2_s3))"
   ]
  },
  {
   "cell_type": "code",
   "execution_count": 313,
   "metadata": {},
   "outputs": [
    {
     "name": "stdout",
     "output_type": "stream",
     "text": [
      "('ev 3 is', (115720/102357, 3.010319879727358?, 7.394042796731479?, 0.0753259062706636? - 0.8691116032655037?*I, 0.0753259062706636? + 0.8691116032655037?*I))\n",
      "(3.26518537021085 - 0.0161444879863561*I, 2.27464419959415 - 0.169517123856739*I, 1.26711643871464 + 0.166826375859013*I, 2.36965926835424 + 0.228713579806711*I, 2.50896208100677 - 0.209878343822629*I)\n",
      "(2.06344973629766, 2.32547413966839, 2.33283901916200, 2.30214642145483, 2.66165804129777)\n",
      "(2.06344973629766, 2.32547413966839, 2.33283901916200, 2.30214642145483, 2.66165804129777)\n"
     ]
    }
   ],
   "source": [
    "# testing eigenvalue 3\n",
    "\n",
    "print('ev 3 is', e3)\n",
    "\n",
    "e3_s1 = M*e3\n",
    "print(N(e3_s1))\n",
    "\n",
    "e3_s2 = M^501*e3\n",
    "print(N(e3_s2))\n",
    "\n",
    "e3_s3 = M^600*e3\n",
    "print(N(e3_s3))"
   ]
  },
  {
   "cell_type": "code",
   "execution_count": 314,
   "metadata": {},
   "outputs": [
    {
     "name": "stdout",
     "output_type": "stream",
     "text": [
      "('ev 4 is', (13435/12042, 0.05669398985682224?, -1.647750265280112?, -0.5076186827775782? + 0.3524658204049876?*I, -0.5076186827775782? - 0.3524658204049876?*I))\n",
      "(-0.860276231479151 + 0.00654735270102144*I, -0.470819611492108 + 0.0687472033607252*I, -0.172067011582069 - 0.0676559779105549*I, -0.0381380477444256 - 0.0927541632644704*I, 0.0506857200470953 + 0.0851155851132787*I)\n",
      "(-0.263214391782364, -0.296638319078559, -0.297577785760185, -0.293662626938720, -0.339522058690831)\n",
      "(-0.263214391782364, -0.296638319078559, -0.297577785760185, -0.293662626938720, -0.339522058690831)\n"
     ]
    }
   ],
   "source": [
    "# testing eigenvalue 4\n",
    "\n",
    "print('ev 4 is', e4)\n",
    "\n",
    "e4_s1 = M*e4\n",
    "print(N(e4_s1))\n",
    "\n",
    "e4_s2 = M^501*e4\n",
    "print(N(e4_s2))\n",
    "\n",
    "e4_s3 = M^600*e4\n",
    "print(N(e4_s3))"
   ]
  },
  {
   "cell_type": "code",
   "execution_count": 315,
   "metadata": {},
   "outputs": [
    {
     "name": "stdout",
     "output_type": "stream",
     "text": [
      "('ev 5 is', (132031/102357, -2.243820318378809?, -2.328223129282595?, -0.8214704349496760? + 0.6836232740978693?*I, -0.8214704349496760? - 0.6836232740978693?*I))\n",
      "(-2.07130420475688 + 0.0126988843485672*I, -0.914300523675621 + 0.133338285659956*I, -0.786212000058945 - 0.131221804935195*I, -0.618173319805235 - 0.179900861604702*I, -0.535087374767360 + 0.165085496531374*I)\n",
      "(-0.869675335277019, -0.980109893891987, -0.983213945292034, -0.970278037655436, -1.12180021094757)\n",
      "(-0.869675335277019, -0.980109893891987, -0.983213945292034, -0.970278037655436, -1.12180021094757)\n"
     ]
    }
   ],
   "source": [
    "# testing eigenvalue 5\n",
    "\n",
    "print('ev 5 is', e5)\n",
    "\n",
    "e5_s1 = M*e5\n",
    "print(N(e5_s1))\n",
    "\n",
    "e5_s2 = M^60*e5\n",
    "print(N(e5_s2))\n",
    "\n",
    "e5_s3 = M^600*e5\n",
    "print(N(e5_s3))"
   ]
  },
  {
   "cell_type": "code",
   "execution_count": 316,
   "metadata": {},
   "outputs": [
    {
     "name": "stdout",
     "output_type": "stream",
     "text": [
      "(0.176581048493643, 0.199003956628611, 0.199634210964413, 0.197007672023924, 0.227773111889409)\n",
      "(0.176581048493643, 0.199003956628611, 0.199634210964413, 0.197007672023924, 0.227773111889409)\n",
      "(0.176581048493643, 0.199003956628611, 0.199634210964413, 0.197007672023924, 0.227773111889409)\n"
     ]
    }
   ],
   "source": [
    "a = M^500*start1\n",
    "print(N(a))\n",
    "\n",
    "b = M^501*start1\n",
    "print(N(b))\n",
    "\n",
    "c = M^600*start1\n",
    "print(N(c))"
   ]
  },
  {
   "cell_type": "code",
   "execution_count": 317,
   "metadata": {},
   "outputs": [
    {
     "name": "stdout",
     "output_type": "stream",
     "text": [
      "(0.176581048493643, 0.199003956628611, 0.199634210964413, 0.197007672023924, 0.227773111889409)\n",
      "(0.176581048493643, 0.199003956628611, 0.199634210964413, 0.197007672023924, 0.227773111889409)\n",
      "(0.176581048493643, 0.199003956628611, 0.199634210964413, 0.197007672023924, 0.227773111889409)\n"
     ]
    }
   ],
   "source": [
    "a2 = M^500*start2\n",
    "print(N(a2))\n",
    "\n",
    "b2 = M^501*start2\n",
    "print(N(b2))\n",
    "\n",
    "c2 = M^600*start2\n",
    "print(N(c2))"
   ]
  },
  {
   "cell_type": "code",
   "execution_count": 318,
   "metadata": {},
   "outputs": [
    {
     "name": "stdout",
     "output_type": "stream",
     "text": [
      "(0.176581048493643, 0.199003956628611, 0.199634210964413, 0.197007672023924, 0.227773111889409)\n",
      "(0.176581048493643, 0.199003956628611, 0.199634210964413, 0.197007672023924, 0.227773111889409)\n",
      "(0.176581048493643, 0.199003956628611, 0.199634210964413, 0.197007672023924, 0.227773111889409)\n"
     ]
    }
   ],
   "source": [
    "a3 = M^500*start3\n",
    "print(N(a3))\n",
    "\n",
    "b3 = M^501*start3\n",
    "print(N(b3))\n",
    "\n",
    "c3 = M^600*start3\n",
    "print(N(c3))"
   ]
  },
  {
   "cell_type": "markdown",
   "metadata": {},
   "source": [
    "### Long Term Behavior"
   ]
  },
  {
   "cell_type": "markdown",
   "metadata": {},
   "source": [
    "Since one of our eigenvalues is 1, we know that a steady state exists. When I start out with any random vector, I always reach the steady state\n",
    "\n",
    "As we can see, any starting vector containing only real numbers will reach a stable state with a distribution of [9/50, 10/50, 10/50, 10/50, 11/50].\n",
    "\n",
    "There are other eigenvalues and eigenvectors, but they all include imaginary numbers. If we begin with one of these eigenvectors (that include imaginary numbers) we converge to different steady states."
   ]
  },
  {
   "cell_type": "markdown",
   "metadata": {},
   "source": [
    "_________"
   ]
  },
  {
   "cell_type": "markdown",
   "metadata": {},
   "source": [
    "# 2. QR Factorization"
   ]
  },
  {
   "cell_type": "markdown",
   "metadata": {},
   "source": [
    "## (a) Orthonormalize"
   ]
  },
  {
   "cell_type": "markdown",
   "metadata": {},
   "source": [
    "$$A=\\begin{bmatrix}\n",
    "    2 & 3 \\\\\n",
    "    0 & -2\n",
    "\\end{bmatrix}$$\n",
    "\n",
    "$V1=\\begin{bmatrix}\n",
    "    2\\\\\n",
    "    0\n",
    "\\end{bmatrix}$\n",
    "\n",
    "$V2=\\begin{bmatrix}\n",
    "    3\\\\\n",
    "    -2\n",
    "\\end{bmatrix}$\n",
    "\n",
    "**Normalize the first vector**:     \n"
   ]
  },
  {
   "cell_type": "code",
   "execution_count": 119,
   "metadata": {},
   "outputs": [
    {
     "data": {
      "text/plain": [
       "(1, 0)"
      ]
     },
     "execution_count": 119,
     "metadata": {},
     "output_type": "execute_result"
    }
   ],
   "source": [
    "A = matrix(QQ,[[2,3],[0,-2]])\n",
    "v1 = vector([2,0])\n",
    "a = v1.norm()\n",
    "# divide the first first vector by its length\n",
    "w1 = v1/a\n",
    "w1"
   ]
  },
  {
   "cell_type": "markdown",
   "metadata": {},
   "source": [
    "**Make the second vector orthogonal to the first vector**      "
   ]
  },
  {
   "cell_type": "code",
   "execution_count": 120,
   "metadata": {},
   "outputs": [
    {
     "data": {
      "text/plain": [
       "(0, -2)"
      ]
     },
     "execution_count": 120,
     "metadata": {},
     "output_type": "execute_result"
    }
   ],
   "source": [
    "v2 = vector([3,-2])\n",
    "b = w1.dot_product(v2)\n",
    "\n",
    "w2 = v2 - (b*w1)\n",
    "w2"
   ]
  },
  {
   "cell_type": "markdown",
   "metadata": {},
   "source": [
    "**Normalize the second vector**      "
   ]
  },
  {
   "cell_type": "code",
   "execution_count": 121,
   "metadata": {
    "scrolled": true
   },
   "outputs": [
    {
     "data": {
      "text/plain": [
       "(0, -1)"
      ]
     },
     "execution_count": 121,
     "metadata": {},
     "output_type": "execute_result"
    }
   ],
   "source": [
    "d = w2.norm()\n",
    "w2 = w2/d\n",
    "w2"
   ]
  },
  {
   "cell_type": "code",
   "execution_count": 122,
   "metadata": {},
   "outputs": [
    {
     "name": "stdout",
     "output_type": "stream",
     "text": [
      "(2, 3, 2)\n"
     ]
    }
   ],
   "source": [
    "print(a,b,d)"
   ]
  },
  {
   "cell_type": "markdown",
   "metadata": {},
   "source": [
    "**Putting the new vectors together to form $Q$**      "
   ]
  },
  {
   "cell_type": "code",
   "execution_count": 123,
   "metadata": {
    "scrolled": true
   },
   "outputs": [
    {
     "data": {
      "text/plain": [
       "[ 1  0]\n",
       "[ 0 -1]"
      ]
     },
     "execution_count": 123,
     "metadata": {},
     "output_type": "execute_result"
    }
   ],
   "source": [
    "Q = matrix(QQ,[w1,w2]).transpose()\n",
    "Q"
   ]
  },
  {
   "cell_type": "markdown",
   "metadata": {},
   "source": [
    "_________"
   ]
  },
  {
   "cell_type": "markdown",
   "metadata": {},
   "source": [
    "## (b) Find R"
   ]
  },
  {
   "cell_type": "markdown",
   "metadata": {},
   "source": [
    "**Using Sage**"
   ]
  },
  {
   "cell_type": "markdown",
   "metadata": {},
   "source": [
    "Since we already know Q and A, and since Q is necessarily an invertible matrix (since the inverse of an orthonormal matrix is simply its transpose as Q^TQ=I: any vector dotted by itself will become its length which is 1 since all vectors are normalized, and any vector dotted with any other vector will become 0 since they're orthogonal), we can easily find R by rearranging the equation:   \n",
    "\n",
    "$A=QR$    \n",
    "$Q^TA=R$"
   ]
  },
  {
   "cell_type": "code",
   "execution_count": 55,
   "metadata": {},
   "outputs": [
    {
     "data": {
      "text/plain": [
       "[2 3]\n",
       "[0 2]"
      ]
     },
     "execution_count": 55,
     "metadata": {},
     "output_type": "execute_result"
    }
   ],
   "source": [
    "R1 = Q.inverse()*A\n",
    "R1"
   ]
  },
  {
   "cell_type": "markdown",
   "metadata": {},
   "source": [
    "$R = \\begin{bmatrix}\n",
    "    2 & 3 \\\\\n",
    "    0 & 2\n",
    "\\end{bmatrix}$"
   ]
  },
  {
   "cell_type": "markdown",
   "metadata": {},
   "source": [
    "**Using Dot Products**"
   ]
  },
  {
   "cell_type": "markdown",
   "metadata": {},
   "source": [
    "However, analyzing $R$ deeper shows us its relationship with the Gram-Schmidt process.\n",
    "\n",
    "\n",
    "If we abstract the values and just look at the equations:\n",
    "\n",
    "$A = QR$       \n",
    "\n",
    "Let original vectors be denoted by $v$ and orthonormalized vectors be denoted by $w$\n",
    "\n",
    "$\\begin{bmatrix}\n",
    "    v1 & v2\n",
    "\\end{bmatrix} = \\begin{bmatrix}\n",
    "    w1 & w2\n",
    "\\end{bmatrix}\\begin{bmatrix}\n",
    "    a & b \\\\\n",
    "    c & d\n",
    "\\end{bmatrix}$    \n",
    "\n",
    "Expanding this out we get:     \n",
    "$\\begin{bmatrix}\n",
    "    v1 & v2\n",
    "\\end{bmatrix} = \\begin{bmatrix}\n",
    "    aw1+cw2 & bw1+dw2\n",
    "\\end{bmatrix}$     \n",
    "\n",
    "In other words,      \n",
    "$v1=aw1+cw2$     \n",
    "and     \n",
    "$v2=bw1+dw2$       \n",
    "\n",
    "\n",
    "Essentially, this is saying that the original vectors $v$ can be decomposed into linear combinations of the orthonormalized vectors $w$ which makes a lot of that is how the $w$s are derived.      \n",
    "\n",
    "To get the compositions, we need to get the dot products of each $v$ onto the $w$ components.\n",
    "\n",
    "**Understanding $a$**      \n",
    "$a = v1 \\bullet w1$.     \n",
    "Additionally since we know that $w1$ is just a normalized version of $v1$, $a$ is equal to the length of $w1$.\n",
    "\n",
    "\n",
    "**Understanding $c$**      \n",
    "$c = v1 \\bullet w2$.       \n",
    "Additionally since the way Gram Schmidt algorithm works is by basing the orthonormal basis on the first vector considered (it only scales the first vector then makes all other vectors orthogonal), we know that $w2$ should be orthogonal to $v1$. Thus, $c=0$.\n",
    "\n",
    "**Understanding $b$**      \n",
    "$b = v2 \\bullet w1$.\n",
    "\n",
    "**Understanding $d$**      \n",
    "$b = v2 \\bullet w2$.\n",
    "\n",
    "**Why $R$ is Upper Triangular**      \n",
    "This explains why $R$ is always an upper triangular matrix. Because the way Gram Schmidt works is that it makes each vector orthogonal to the vectors that have come before it, the components of all $w_{>n}$s in $v_n$ will always be 0.\n",
    "\n",
    "**Shortcut to Finding R after doing Gram-Schmidt**    \n",
    "Since we already calculated all these dot products when doing the Gram-Schmidt process, we can use them again to fill our R"
   ]
  },
  {
   "cell_type": "code",
   "execution_count": 56,
   "metadata": {
    "scrolled": false
   },
   "outputs": [
    {
     "data": {
      "text/plain": [
       "True"
      ]
     },
     "execution_count": 56,
     "metadata": {},
     "output_type": "execute_result"
    }
   ],
   "source": [
    "R2 = matrix(QQ,[[a,b],[0,d]])\n",
    "R2 == R1"
   ]
  },
  {
   "cell_type": "markdown",
   "metadata": {},
   "source": [
    "_________"
   ]
  },
  {
   "cell_type": "markdown",
   "metadata": {},
   "source": [
    "## (c) Repeat with 3d Matrix"
   ]
  },
  {
   "cell_type": "markdown",
   "metadata": {},
   "source": [
    "### Finding Q"
   ]
  },
  {
   "cell_type": "markdown",
   "metadata": {},
   "source": [
    "**Normalize v1**"
   ]
  },
  {
   "cell_type": "code",
   "execution_count": 84,
   "metadata": {
    "scrolled": true
   },
   "outputs": [
    {
     "data": {
      "text/plain": [
       "(1/2*sqrt(2), 1/2*sqrt(2), 0)"
      ]
     },
     "execution_count": 84,
     "metadata": {},
     "output_type": "execute_result"
    }
   ],
   "source": [
    "At = matrix(QQ,[[1,1,0],[1,0,1],[0,1,1]])\n",
    "vt1 = vector([1,1,0])\n",
    "vt2 = vector([1,0,1])\n",
    "vt3 = vector([0,1,1])\n",
    "\n",
    "a = vt1.norm()\n",
    "# divide the first first vector by its length\n",
    "wt1 = vt1/a\n",
    "wt1"
   ]
  },
  {
   "cell_type": "markdown",
   "metadata": {},
   "source": [
    "**Orthogonalize v2**"
   ]
  },
  {
   "cell_type": "code",
   "execution_count": 85,
   "metadata": {
    "scrolled": true
   },
   "outputs": [
    {
     "data": {
      "text/plain": [
       "(1/2, -1/2, 1)"
      ]
     },
     "execution_count": 85,
     "metadata": {},
     "output_type": "execute_result"
    }
   ],
   "source": [
    "b = wt1.dot_product(vt2)\n",
    "\n",
    "wt2 = vt2 - (b*wt1)\n",
    "wt2"
   ]
  },
  {
   "cell_type": "markdown",
   "metadata": {},
   "source": [
    "**Normalize v2**"
   ]
  },
  {
   "cell_type": "code",
   "execution_count": 86,
   "metadata": {},
   "outputs": [
    {
     "data": {
      "text/plain": [
       "(1/3*sqrt(3/2), -1/3*sqrt(3/2), 2/3*sqrt(3/2))"
      ]
     },
     "execution_count": 86,
     "metadata": {},
     "output_type": "execute_result"
    }
   ],
   "source": [
    "e = wt2.norm()\n",
    "\n",
    "wt2 = wt2/e\n",
    "wt2"
   ]
  },
  {
   "cell_type": "markdown",
   "metadata": {},
   "source": [
    "**Orthogonalize v3**"
   ]
  },
  {
   "cell_type": "code",
   "execution_count": 87,
   "metadata": {
    "scrolled": true
   },
   "outputs": [
    {
     "data": {
      "text/plain": [
       "(-2/3, 2/3, 2/3)"
      ]
     },
     "execution_count": 87,
     "metadata": {},
     "output_type": "execute_result"
    }
   ],
   "source": [
    "c = wt1.dot_product(vt3)\n",
    "f = wt2.dot_product(vt3)\n",
    "\n",
    "wt3 = vt3 - (c*wt1) - (f*wt2)\n",
    "wt3"
   ]
  },
  {
   "cell_type": "markdown",
   "metadata": {},
   "source": [
    "**Normalize v3**"
   ]
  },
  {
   "cell_type": "code",
   "execution_count": 88,
   "metadata": {
    "scrolled": false
   },
   "outputs": [
    {
     "data": {
      "text/plain": [
       "(-sqrt(1/3), sqrt(1/3), sqrt(1/3))"
      ]
     },
     "execution_count": 88,
     "metadata": {},
     "output_type": "execute_result"
    }
   ],
   "source": [
    "i = wt3.norm()\n",
    "wt3 = wt3/i\n",
    "wt3"
   ]
  },
  {
   "cell_type": "markdown",
   "metadata": {},
   "source": [
    "**Putting the new vectors together to form $Q$**      "
   ]
  },
  {
   "cell_type": "code",
   "execution_count": 89,
   "metadata": {
    "scrolled": false
   },
   "outputs": [
    {
     "data": {
      "text/plain": [
       "[   1/2*sqrt(2)  1/3*sqrt(3/2)     -sqrt(1/3)]\n",
       "[   1/2*sqrt(2) -1/3*sqrt(3/2)      sqrt(1/3)]\n",
       "[             0  2/3*sqrt(3/2)      sqrt(1/3)]"
      ]
     },
     "execution_count": 89,
     "metadata": {},
     "output_type": "execute_result"
    }
   ],
   "source": [
    "Qt = matrix([wt1,wt2,wt3]).transpose()\n",
    "Qt"
   ]
  },
  {
   "cell_type": "markdown",
   "metadata": {},
   "source": [
    "### Finding R"
   ]
  },
  {
   "cell_type": "markdown",
   "metadata": {},
   "source": [
    "**Using Sage**   "
   ]
  },
  {
   "cell_type": "code",
   "execution_count": 90,
   "metadata": {
    "scrolled": true
   },
   "outputs": [
    {
     "data": {
      "text/plain": [
       "[      sqrt(2)   1/2*sqrt(2)   1/2*sqrt(2)]\n",
       "[            0     sqrt(3/2) 1/3*sqrt(3/2)]\n",
       "[            0             0   2*sqrt(1/3)]"
      ]
     },
     "execution_count": 90,
     "metadata": {},
     "output_type": "execute_result"
    }
   ],
   "source": [
    "Rt1 = Qt.inverse()*At\n",
    "Rt1"
   ]
  },
  {
   "cell_type": "markdown",
   "metadata": {},
   "source": [
    "**Using Dot Products**   "
   ]
  },
  {
   "cell_type": "code",
   "execution_count": 93,
   "metadata": {},
   "outputs": [
    {
     "data": {
      "text/plain": [
       "True"
      ]
     },
     "execution_count": 93,
     "metadata": {},
     "output_type": "execute_result"
    }
   ],
   "source": [
    "Rt2 = matrix([[a,b,c],[0,e,f],[0,0,i]])\n",
    "Rt2==Rt1"
   ]
  },
  {
   "cell_type": "markdown",
   "metadata": {},
   "source": [
    "_________"
   ]
  },
  {
   "cell_type": "markdown",
   "metadata": {},
   "source": [
    "## (d) vector b as a linear combination of q1 and q2"
   ]
  },
  {
   "cell_type": "code",
   "execution_count": 355,
   "metadata": {},
   "outputs": [
    {
     "data": {
      "image/png": "[encoded data removed]",
      "text/plain": [
       "Graphics object consisting of 7 graphics primitives"
      ]
     },
     "execution_count": 355,
     "metadata": {},
     "output_type": "execute_result"
    }
   ],
   "source": [
    "B = vector([0.5,-0.5])\n",
    "a = plot(w1)\n",
    "b = plot(w2)\n",
    "c = plot(B,rgbcolor=(0,0,0))\n",
    "# plot projection\n",
    "proj1 = B.dot_product(w1)*w1\n",
    "proj2 = B.dot_product(w2)*w2\n",
    "ded1 = B - proj1\n",
    "ded2 = B - proj2\n",
    "\n",
    "d = plot(proj1, rgbcolor=(1,0,0),\n",
    "         title=\"$B$ as a linear combination of $q_1$ and $q_2$\")\n",
    "e = plot(proj2, rgbcolor=(1,0,0))\n",
    "\n",
    "f = line([proj1,proj1+ded1], rgbcolor=(1,0,0),linestyle='--')\n",
    "g = line([proj2,proj2+ded2], rgbcolor=(1,0,0),linestyle='--')\n",
    "\n",
    "a+b+c+d+e+f+g"
   ]
  },
  {
   "cell_type": "markdown",
   "metadata": {},
   "source": [
    "$B$ can be written as $a+b$ where $a$ is equal to the dot projection of $B$ on to $q_1$ and $b$ is equal to the dot projection of $B$ on to $q_2$.\n",
    "\n",
    "Thus, $B = (B \\bullet q_1)q_1+(B \\bullet q_2)q_2$"
   ]
  },
  {
   "cell_type": "markdown",
   "metadata": {},
   "source": [
    "_________"
   ]
  },
  {
   "cell_type": "markdown",
   "metadata": {},
   "source": [
    "## (e) vector c as a linear combination of q1, q2 and q3"
   ]
  },
  {
   "cell_type": "code",
   "execution_count": 363,
   "metadata": {
    "scrolled": true
   },
   "outputs": [
    {
     "data": {
      "text/html": [
       "\n",
       "<iframe srcdoc=\"\n",
       "<html>\n",
       "<head>\n",
       "  <style>\n",
       "    * {\n",
       "      margin: 0;\n",
       "      padding: 0;\n",
       "      overflow: hidden;\n",
       "    }\n",
       "    body, html {      \n",
       "      height: 100%;\n",
       "      width: 100%;\n",
       "    }\n",
       "  </style>\n",
       "  <script type=&quot;text/javascript&quot; src=&quot;/nbextensions/jsmol/JSmol.min.js&quot;></script>\n",
       "</head>\n",
       "<body>\n",
       "  <script type=&quot;text/javascript&quot;>\n",
       "    var script = [\n",
       "  'data &quot;model list&quot;',\n",
       "  '10',\n",
       "  'empty',\n",
       "  'Xx -3.0 -4.0 -3.0',\n",
       "  'Xx 0.0 -4.0 -3.0',\n",
       "  'Xx 3.0 -4.0 -3.0',\n",
       "  'Xx 4.0 -3.0 -3.0',\n",
       "  'Xx 4.0 0.0 -3.0',\n",
       "  'Xx 4.0 3.0 -3.0',\n",
       "  'Xx -4.0 -3.0 -3.0',\n",
       "  'Xx -4.0 -3.0 0.0',\n",
       "  'Xx -4.0 -3.0 3.0',\n",
       "  'Xx 5.5 5.5 5.5',\n",
       "  'end &quot;model list&quot;; show data',\n",
       "  'select *',\n",
       "  'wireframe off; spacefill off',\n",
       "  'set labelOffset 0 0',\n",
       "  'background [255,255,255]',\n",
       "  'spin OFF',\n",
       "  'moveto 0 -764 -346 -545 76.39',\n",
       "  'centerAt absolute {0 0 0}',\n",
       "  'zoom 100',\n",
       "  'frank OFF',\n",
       "  'set perspectivedepth ON',\n",
       "  'draw line_1 diameter 1 arrow {-0.303061543301 -0.803847577293 -3.0}  {3.0 3.0 -3.0} ',\n",
       "  'color $line_1  [102,102,255]',\n",
       "  'draw line_2 diameter 1 arrow {-0.303061543301 -0.803847577293 -3.0}  {1.60396192787 -3.0 3.0} ',\n",
       "  'color $line_2  [102,102,255]',\n",
       "  'draw line_3 diameter 1 arrow {-0.303061543301 -0.803847577293 -3.0}  {-3.0 2.30198096394 1.24264068712} ',\n",
       "  'color $line_3  [102,102,255]',\n",
       "  'draw line_4 diameter 1 arrow {-0.303061543301 -0.803847577293 -3.0}  {2.03255567264 1.88587883921 0.674234614175} ',\n",
       "  'color $line_4  [0,0,0]',\n",
       "  'draw line_5 diameter 1 arrow {-0.303061543301 -0.803847577293 -3.0}  {2.03255567264 1.88587883921 -3.0} ',\n",
       "  'color $line_5  [255,0,0]',\n",
       "  'draw line_6 diameter 1 arrow {-0.303061543301 -0.803847577293 -3.0}  {0.475477528681 -1.70042304946 -0.550510257217} ',\n",
       "  'color $line_6  [255,0,0]',\n",
       "  'draw line_7 diameter 1 arrow {-0.303061543301 -0.803847577293 -3.0}  {-1.08160061528 0.0927278948747 -1.77525512861} ',\n",
       "  'color $line_7  [255,0,0]',\n",
       "  'draw line_8 diameter 1 curve {2.03255567264 1.88587883921 -3.0}  {2.03255567264 1.88587883921 0.674234614175} ',\n",
       "  'color $line_8  [255,0,0]',\n",
       "  'draw line_9 diameter 1 curve {0.475477528681 -1.70042304946 -0.550510257217}  {2.03255567264 1.88587883921 0.674234614175} ',\n",
       "  'color $line_9  [255,0,0]',\n",
       "  'draw line_10 diameter 1 curve {-1.08160061528 0.0927278948747 -1.77525512861}  {2.03255567264 1.88587883921 0.674234614175} ',\n",
       "  'color $line_10  [255,0,0]',\n",
       "  'draw line_11 diameter 1 curve {-3.0 -3.0 -3.0}  {-3.0 3.0 -3.0} ',\n",
       "  'color $line_11 translucent 0.5 [0,0,0]',\n",
       "  'draw line_12 diameter 1 curve {-3.0 3.0 -3.0}  {3.0 3.0 -3.0} ',\n",
       "  'color $line_12 translucent 0.5 [0,0,0]',\n",
       "  'draw line_13 diameter 1 curve {3.0 3.0 -3.0}  {3.0 -3.0 -3.0} ',\n",
       "  'color $line_13 translucent 0.5 [0,0,0]',\n",
       "  'draw line_14 diameter 1 curve {3.0 -3.0 -3.0}  {-3.0 -3.0 -3.0} ',\n",
       "  'color $line_14 translucent 0.5 [0,0,0]',\n",
       "  'draw line_15 diameter 1 curve {-3.0 -3.0 -3.0}  {-3.0 -3.0 3.0} ',\n",
       "  'color $line_15 translucent 0.5 [0,0,0]',\n",
       "  'draw line_16 diameter 1 curve {-3.0 -3.0 3.0}  {-3.0 3.0 3.0} ',\n",
       "  'color $line_16 translucent 0.5 [0,0,0]',\n",
       "  'draw line_17 diameter 1 curve {-3.0 3.0 3.0}  {3.0 3.0 3.0} ',\n",
       "  'color $line_17 translucent 0.5 [0,0,0]',\n",
       "  'draw line_18 diameter 1 curve {3.0 3.0 3.0}  {3.0 -3.0 3.0} ',\n",
       "  'color $line_18 translucent 0.5 [0,0,0]',\n",
       "  'draw line_19 diameter 1 curve {3.0 -3.0 3.0}  {-3.0 -3.0 3.0} ',\n",
       "  'color $line_19 translucent 0.5 [0,0,0]',\n",
       "  'draw line_20 diameter 1 curve {-3.0 -3.0 3.0} ',\n",
       "  'color $line_20 translucent 0.5 [0,0,0]',\n",
       "  'draw line_21 diameter 1 curve {-3.0 3.0 -3.0}  {-3.0 3.0 3.0} ',\n",
       "  'color $line_21 translucent 0.5 [0,0,0]',\n",
       "  'draw line_22 diameter 1 curve {3.0 -3.0 -3.0}  {3.0 -3.0 3.0} ',\n",
       "  'color $line_22 translucent 0.5 [0,0,0]',\n",
       "  'draw line_23 diameter 1 curve {3.0 3.0 -3.0}  {3.0 3.0 3.0} ',\n",
       "  'color $line_23 translucent 0.5 [0,0,0]',\n",
       "  'select atomno = 1',\n",
       "  'color atom  [76,76,76]',\n",
       "  'label &quot;-0.58&quot;',\n",
       "  'select atomno = 2',\n",
       "  'color atom  [76,76,76]',\n",
       "  'label &quot;0.06&quot;',\n",
       "  'select atomno = 3',\n",
       "  'color atom  [76,76,76]',\n",
       "  'label &quot;0.71&quot;',\n",
       "  'select atomno = 4',\n",
       "  'color atom  [76,76,76]',\n",
       "  'label &quot;-0.41&quot;',\n",
       "  'select atomno = 5',\n",
       "  'color atom  [76,76,76]',\n",
       "  'label &quot;0.15&quot;',\n",
       "  'select atomno = 6',\n",
       "  'color atom  [76,76,76]',\n",
       "  'label &quot;0.71&quot;',\n",
       "  'select atomno = 7',\n",
       "  'color atom  [76,76,76]',\n",
       "  'label &quot;0.00&quot;',\n",
       "  'select atomno = 8',\n",
       "  'color atom  [76,76,76]',\n",
       "  'label &quot;0.41&quot;',\n",
       "  'select atomno = 9',\n",
       "  'color atom  [76,76,76]',\n",
       "  'label &quot;0.82&quot;',\n",
       "  'isosurface fullylit; pmesh o* fullylit; set antialiasdisplay on;',\n",
       "].join('\\n');;\n",
       "    var Info = {\n",
       "      width: '100%',\n",
       "      height: '500',\n",
       "      debug: false,\n",
       "      disableInitialConsole: true,   // very slow when used with inline mesh\n",
       "      color: '#3131ff',\n",
       "      addSelectionOptions: false,\n",
       "      use: 'HTML5',\n",
       "      j2sPath: '/nbextensions/jsmol/j2s',\n",
       "      script: script,\n",
       "    };\n",
       "    var jmolApplet0 = Jmol.getApplet('jmolApplet0', Info);\n",
       "  </script>\n",
       "</body>\n",
       "</html>\n",
       "\" \n",
       "        width=\"100%\"\n",
       "        height=\"500\"\n",
       "        style=\"border: 0;\">\n",
       "</iframe>\n"
      ],
      "text/plain": [
       "Graphics3d Object"
      ]
     },
     "execution_count": 363,
     "metadata": {},
     "output_type": "execute_result"
    }
   ],
   "source": [
    "C = vector([0.5,0.5,0.5])\n",
    "at = plot(wt1)\n",
    "bt = plot(wt2)\n",
    "ct = plot(wt3)\n",
    "dt = plot(C,rgbcolor=(0,0,0))\n",
    "\n",
    "# plot projection\n",
    "projt1 = C.dot_product(wt1)*wt1\n",
    "projt2 = C.dot_product(wt2)*wt2\n",
    "projt3 = C.dot_product(wt3)*wt3\n",
    "\n",
    "dedt1 = C - projt1\n",
    "dedt2 = C - projt2\n",
    "dedt3 = C - projt3\n",
    "\n",
    "et = plot(projt1, rgbcolor=(1,0,0),\n",
    "         title=\"$C$ as a linear combination of $q_1$, $q_2$ and $q_3$\")\n",
    "ft = plot(projt2, rgbcolor=(1,0,0))\n",
    "gt = plot(projt3, rgbcolor=(1,0,0))\n",
    "\n",
    "\n",
    "ht = line([projt1,projt1+dedt1], rgbcolor=(1,0,0),linestyle='--')\n",
    "it = line([projt2,projt2+dedt2], rgbcolor=(1,0,0),linestyle='--')\n",
    "jt = line([projt3,projt3+dedt3], rgbcolor=(1,0,0),linestyle='--')\n",
    "\n",
    "at+bt+ct+dt+et+ft+gt+ht+it+jt"
   ]
  },
  {
   "cell_type": "markdown",
   "metadata": {},
   "source": [
    "Similarly, $C$ can be written as $a+b+c$ where $a$ is equal to the dot projection of $C$ on to $q_1$, $b$ is equal to the dot projection of $C$ on to $q_2$, and $c$ is equal to the dot projection of $C$ on to $q_3$.\n",
    "\n",
    "Thus, $C = (C \\bullet q_1)q_1+(C \\bullet q_2)q_2+(C \\bullet q_3)q_3$"
   ]
  },
  {
   "cell_type": "markdown",
   "metadata": {},
   "source": [
    "_________"
   ]
  },
  {
   "cell_type": "markdown",
   "metadata": {},
   "source": [
    "## (f) How is R related to the steps performed to find Q?"
   ]
  },
  {
   "cell_type": "markdown",
   "metadata": {},
   "source": [
    "Since the columns of $R$ tell us the coefficients of the linear combinations of the orthonormalized vector $q$s to get the original vector $v$s, and to find $Q$ we reduce all the vectors to their orthogonal components and then nromalize them to length one, they coefficients in R denote the deductions we make from the original matrix $A$ to find $Q$. \n",
    "\n",
    "\n",
    "$R$ denotes the components of $q$s in the original vector $v$s, and to find $Q$ we have to deduct all of the components $q_{i}$ for $i<n$ from vector $v_n$ and then divide it by the number of length-one components of itself to normalize it."
   ]
  },
  {
   "cell_type": "markdown",
   "metadata": {},
   "source": [
    "## (g) What the entries of R must be in general?"
   ]
  },
  {
   "cell_type": "markdown",
   "metadata": {},
   "source": [
    "Since R denotes the components of $q_i$ that can be found in $v_i$, and we know that $q_i$ are orthonormalized versions of $v_1$, the entries of R are generally:\n",
    "$$Entry_{ij} = v_i \\bullet u_j$$\n",
    "\n",
    "Thus the diagonals of R are simply the lengths of the vector of that column/ row number.\n",
    "\n",
    "This explains why all numbers below the diagonal are $0$. Since gram-schmidt works by making each vector orthogonal from all the vectors before it in sequential order, the orthonormalized vectors will be orthogonal to all vectors that came before it: $u_n \\bullet V_i = 0$ for $i < n$."
   ]
  },
  {
   "cell_type": "markdown",
   "metadata": {},
   "source": [
    "_________"
   ]
  },
  {
   "cell_type": "markdown",
   "metadata": {},
   "source": [
    "## (h) Change of Basis Matrix from A to Q? Relation to R?"
   ]
  },
  {
   "cell_type": "markdown",
   "metadata": {},
   "source": [
    "To change basis, we always transform the vectors by a  matrix that denotes the components of the new basis that give us to old matrix. Thus, the columns of the change of basis matrix must always tell us the coefficients of the linear combination of the old bases vectors that give us the new basis vector.\n",
    "\n",
    "So for a transformation from A to Q, we need a matrix that tells us the linear combinations of A that give us Q.\n",
    "\n",
    "This is exactly the $R$ matrix. Hence, $R$ is the change of basis matrix from $A$ to $Q$."
   ]
  },
  {
   "cell_type": "markdown",
   "metadata": {},
   "source": [
    "**Proof:**"
   ]
  },
  {
   "cell_type": "code",
   "execution_count": 369,
   "metadata": {},
   "outputs": [
    {
     "name": "stdout",
     "output_type": "stream",
     "text": [
      "omg it worked\n"
     ]
    }
   ],
   "source": [
    "test = matrix(QQ,[[1,0,2,3],[0,-1,0,-2]])\n",
    "\n",
    "\n",
    "\n",
    "if test.rref() == matrix(QQ,[[1,0,2,3],[0,1,0,2]]):\n",
    "    print('omg it worked')"
   ]
  },
  {
   "cell_type": "markdown",
   "metadata": {},
   "source": [
    "_________"
   ]
  }
 ],
 "metadata": {
  "kernelspec": {
   "display_name": "SageMath 8.7",
   "language": "",
   "name": "sagemath"
  },
  "language_info": {
   "codemirror_mode": {
    "name": "ipython",
    "version": 2
   },
   "file_extension": ".py",
   "mimetype": "text/x-python",
   "name": "python",
   "nbconvert_exporter": "python",
   "pygments_lexer": "ipython2",
   "version": "2.7.15"
  }
 },
 "nbformat": 4,
 "nbformat_minor": 2
}
