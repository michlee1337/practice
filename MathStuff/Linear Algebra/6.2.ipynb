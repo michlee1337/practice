{
 "cells": [
  {
   "cell_type": "code",
   "execution_count": 1,
   "metadata": {},
   "outputs": [],
   "source": [
    "A = matrix(QQ,[[1,-1],[2,0],[2,4]])"
   ]
  },
  {
   "cell_type": "code",
   "execution_count": 4,
   "metadata": {},
   "outputs": [
    {
     "data": {
      "text/plain": [
       "[1 0]\n",
       "[0 1]\n",
       "[0 0]"
      ]
     },
     "execution_count": 4,
     "metadata": {},
     "output_type": "execute_result"
    }
   ],
   "source": [
    "A.rref()"
   ]
  },
  {
   "cell_type": "code",
   "execution_count": 7,
   "metadata": {},
   "outputs": [
    {
     "data": {
      "text/plain": [
       "[ 1  0 -4]\n",
       "[ 0  1  3]"
      ]
     },
     "execution_count": 7,
     "metadata": {},
     "output_type": "execute_result"
    }
   ],
   "source": [
    "A.transpose().rref()"
   ]
  },
  {
   "cell_type": "markdown",
   "metadata": {},
   "source": [
    "Collspace: The two vectors. 2 dim; <1,2,2>; <-1,0,4>, in R^3\n",
    "\n",
    "Rowspace (Collspace transpose): two vectors LI. 2 dim <1,-1>; <2,0>, in R^2\n",
    "\n",
    "Null space: 0; 0 dim\n",
    "\n",
    "Left Null space: <4,-3,1>\n",
    "\n",
    "\n",
    "### why is it called left???\n"
   ]
  },
  {
   "cell_type": "code",
   "execution_count": 18,
   "metadata": {
    "scrolled": true
   },
   "outputs": [
    {
     "data": {
      "text/plain": [
       "[1 0 1 1]\n",
       "[0 1 2 1]\n",
       "[0 0 0 0]"
      ]
     },
     "execution_count": 18,
     "metadata": {},
     "output_type": "execute_result"
    }
   ],
   "source": [
    "v1 = vector([1,2,2])\n",
    "v2 = vector([-1,0,4])\n",
    "v3 = vector([-1,2,10])\n",
    "v4 = vector([0,2,6])\n",
    "\n",
    "B = matrix(QQ,[v1,v2,v3,v4]).transpose()\n",
    "B.rref()"
   ]
  },
  {
   "cell_type": "code",
   "execution_count": 19,
   "metadata": {},
   "outputs": [
    {
     "data": {
      "text/plain": [
       "[ 1  0 -4]\n",
       "[ 0  1  3]\n",
       "[ 0  0  0]\n",
       "[ 0  0  0]"
      ]
     },
     "execution_count": 19,
     "metadata": {},
     "output_type": "execute_result"
    }
   ],
   "source": [
    "B.transpose().rref()"
   ]
  },
  {
   "cell_type": "markdown",
   "metadata": {},
   "source": [
    "Collspace: <1,2,2> and <-1,0,4>; 2 dim; in R^3\n",
    "\n",
    "Rowspace (Collspace transpose): <1,-1,-1,0> and <2,0,2,2>; 2 dim; in R^4\n",
    "\n",
    "Null space: <-1,-2,1,0> and <-1,-1,0,1>; 2 dim; in R^4\n",
    "\n",
    "Left Null space: <4,-3,1>; 1 dim; in R^3 \n",
    "\n",
    "### what is the diff between a 2d set of 2 dim and a 3 dim setnb  of 2 dim?"
   ]
  },
  {
   "cell_type": "markdown",
   "metadata": {},
   "source": [
    "# Thoughts\n",
    "\n",
    "collspace and left null space are subspaces of the same vector space. because they both contain vectors of the same length (as by definition, null space will have the number of rows equivalent to the columns of its matrix).\n",
    "\n",
    "same for rowspace and null space\n",
    "\n",
    "why orthogonal with these pairs? confuze.\n"
   ]
  },
  {
   "cell_type": "code",
   "execution_count": null,
   "metadata": {},
   "outputs": [],
   "source": []
  }
 ],
 "metadata": {
  "kernelspec": {
   "display_name": "SageMath 8.5",
   "language": "",
   "name": "sagemath"
  },
  "language_info": {
   "codemirror_mode": {
    "name": "ipython",
    "version": 2
   },
   "file_extension": ".py",
   "mimetype": "text/x-python",
   "name": "python",
   "nbconvert_exporter": "python",
   "pygments_lexer": "ipython2",
   "version": "2.7.15"
  }
 },
 "nbformat": 4,
 "nbformat_minor": 2
}
