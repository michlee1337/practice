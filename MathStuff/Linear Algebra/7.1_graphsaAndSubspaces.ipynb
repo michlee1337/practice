{
 "cells": [
  {
   "cell_type": "code",
   "execution_count": 3,
   "metadata": {},
   "outputs": [],
   "source": [
    "G = matrix(QQ,[[-1,1,0,0,0,0],[1,0,-1,0,0,0],[0,-1,0,0,1,0],[0,-1,0,1,0,0],[0,0,1,-1,0,0],[0,0,0,1,-1,0],[0,0,0,-1,0,1],[0,0,-1,0,0,1],[0,0,0,0,1,-1]])"
   ]
  },
  {
   "cell_type": "code",
   "execution_count": 5,
   "metadata": {},
   "outputs": [
    {
     "data": {
      "text/html": [
       "<html><script type=\"math/tex; mode=display\">\\newcommand{\\Bold}[1]{\\mathbf{#1}}\\left(\\begin{array}{rrrrrr}\n",
       "-1 & 1 & 0 & 0 & 0 & 0 \\\\\n",
       "1 & 0 & -1 & 0 & 0 & 0 \\\\\n",
       "0 & -1 & 0 & 0 & 1 & 0 \\\\\n",
       "0 & -1 & 0 & 1 & 0 & 0 \\\\\n",
       "0 & 0 & 1 & -1 & 0 & 0 \\\\\n",
       "0 & 0 & 0 & 1 & -1 & 0 \\\\\n",
       "0 & 0 & 0 & -1 & 0 & 1 \\\\\n",
       "0 & 0 & -1 & 0 & 0 & 1 \\\\\n",
       "0 & 0 & 0 & 0 & 1 & -1\n",
       "\\end{array}\\right)</script></html>"
      ],
      "text/plain": [
       "[-1  1  0  0  0  0]\n",
       "[ 1  0 -1  0  0  0]\n",
       "[ 0 -1  0  0  1  0]\n",
       "[ 0 -1  0  1  0  0]\n",
       "[ 0  0  1 -1  0  0]\n",
       "[ 0  0  0  1 -1  0]\n",
       "[ 0  0  0 -1  0  1]\n",
       "[ 0  0 -1  0  0  1]\n",
       "[ 0  0  0  0  1 -1]"
      ]
     },
     "metadata": {},
     "output_type": "display_data"
    }
   ],
   "source": [
    "show(G)"
   ]
  },
  {
   "cell_type": "markdown",
   "metadata": {},
   "source": [
    "Basis for fundamental subspaces"
   ]
  },
  {
   "cell_type": "code",
   "execution_count": 6,
   "metadata": {},
   "outputs": [
    {
     "data": {
      "text/plain": [
       "[ 1  0  0  0  0 -1]\n",
       "[ 0  1  0  0  0 -1]\n",
       "[ 0  0  1  0  0 -1]\n",
       "[ 0  0  0  1  0 -1]\n",
       "[ 0  0  0  0  1 -1]\n",
       "[ 0  0  0  0  0  0]\n",
       "[ 0  0  0  0  0  0]\n",
       "[ 0  0  0  0  0  0]\n",
       "[ 0  0  0  0  0  0]"
      ]
     },
     "execution_count": 6,
     "metadata": {},
     "output_type": "execute_result"
    }
   ],
   "source": [
    "G.rref()"
   ]
  },
  {
   "cell_type": "markdown",
   "metadata": {},
   "source": [
    "## col space: \n",
    "the first 5 cols\n",
    "\n",
    "## null space:\n",
    "<1,1,1,1,1,1>\n",
    "\n"
   ]
  },
  {
   "cell_type": "code",
   "execution_count": 9,
   "metadata": {},
   "outputs": [
    {
     "data": {
      "text/plain": [
       "[-1  1  0  0  0  0  0  0  0]\n",
       "[ 1  0 -1 -1  0  0  0  0  0]\n",
       "[ 0 -1  0  0  1  0  0 -1  0]\n",
       "[ 0  0  0  1 -1  1 -1  0  0]\n",
       "[ 0  0  1  0  0 -1  0  0  1]\n",
       "[ 0  0  0  0  0  0  1  1 -1]"
      ]
     },
     "execution_count": 9,
     "metadata": {},
     "output_type": "execute_result"
    }
   ],
   "source": [
    "G.transpose()"
   ]
  },
  {
   "cell_type": "code",
   "execution_count": 8,
   "metadata": {
    "scrolled": true
   },
   "outputs": [
    {
     "data": {
      "text/plain": [
       "[ 1  0  0  0 -1  0  0  1  0]\n",
       "[ 0  1  0  0 -1  0  0  1  0]\n",
       "[ 0  0  1  0  0 -1  0  0  1]\n",
       "[ 0  0  0  1 -1  1  0  1 -1]\n",
       "[ 0  0  0  0  0  0  1  1 -1]\n",
       "[ 0  0  0  0  0  0  0  0  0]"
      ]
     },
     "execution_count": 8,
     "metadata": {},
     "output_type": "execute_result"
    }
   ],
   "source": [
    "G.transpose().rref()"
   ]
  },
  {
   "cell_type": "markdown",
   "metadata": {},
   "source": [
    "## row space: \n",
    "the first 4 rows in transposed matrix + 7th\n",
    "\n",
    "## left null space:\n",
    "<1,1,0,1,1,0,0,0,0>, <0,0,1,-1,0,1,0,0,0>, <-1,-1,0,-1,-1,0,0,1,0>,<0,0,-1,1,1,0,0,0,1>\n",
    "\n",
    "\n"
   ]
  },
  {
   "cell_type": "code",
   "execution_count": 64,
   "metadata": {},
   "outputs": [],
   "source": [
    "colspace = matrix(QQ,[[-1,1,0,0,0],[1,0,-1,0,0],[0,-1,0,0,1],[0,-1,0,1,0],[0,0,1,-1,0],[0,0,0,1,-1],[0,0,0,-1,0],[0,0,-1,0,0],[0,0,0,0,1]]).transpose()\n",
    "v1 = matrix(QQ,[1,1,0,1,1,0,0,0,0])\n",
    "v2 = matrix(QQ,[0,0,1,-1,0,1,0,0,0])\n",
    "v3 = matrix(QQ,[-1,-1,0,-1,-1,0,0,1,0])\n",
    "v4 = matrix(QQ,[0,0,-1,1,1,0,0,0,1])\n"
   ]
  },
  {
   "cell_type": "code",
   "execution_count": 65,
   "metadata": {
    "scrolled": true
   },
   "outputs": [
    {
     "name": "stdout",
     "output_type": "stream",
     "text": [
      "(5, 9)\n",
      "(1, 9)\n"
     ]
    }
   ],
   "source": [
    "print(colspace.nrows(),colspace.ncols())\n",
    "print(v1.nrows(),v1.ncols())"
   ]
  },
  {
   "cell_type": "code",
   "execution_count": 66,
   "metadata": {},
   "outputs": [
    {
     "data": {
      "text/plain": [
       "[-1  1  0  0  0  0  0  0  0]\n",
       "[ 1  0 -1 -1  0  0  0  0  0]\n",
       "[ 0 -1  0  0  1  0  0 -1  0]\n",
       "[ 0  0  0  1 -1  1 -1  0  0]\n",
       "[ 0  0  1  0  0 -1  0  0  1]"
      ]
     },
     "execution_count": 66,
     "metadata": {},
     "output_type": "execute_result"
    }
   ],
   "source": [
    "colspace"
   ]
  },
  {
   "cell_type": "code",
   "execution_count": 70,
   "metadata": {},
   "outputs": [
    {
     "name": "stdout",
     "output_type": "stream",
     "text": [
      "0\n",
      "0\n",
      "v3\n",
      "0\n",
      "0\n",
      "0\n",
      "0\n",
      "v3\n",
      "0\n",
      "0\n",
      "0\n",
      "0\n",
      "v3\n",
      "-1\n",
      "1\n",
      "0\n",
      "0\n",
      "v3\n",
      "0\n",
      "0\n",
      "0\n",
      "0\n",
      "v3\n",
      "0\n",
      "0\n"
     ]
    }
   ],
   "source": [
    "for cols in colspace:\n",
    "    print(cols.dot_product(v1[0]))\n",
    "    print(cols.dot_product(v2[0]))\n",
    "    print('v3')\n",
    "    print(cols.dot_product(v3[0]))\n",
    "    print(cols.dot_product(v4[0]))"
   ]
  },
  {
   "cell_type": "code",
   "execution_count": 19,
   "metadata": {},
   "outputs": [],
   "source": [
    "z = matrix(QQ,[[-1,1,0,0,0],[0,-1,1,0,0],[1,0,-1,0,0],[-1,0,0,1,0],[0,0,-1,1,0],[-1,0,0,0,1],[0,0,0,-1,1]])"
   ]
  },
  {
   "cell_type": "code",
   "execution_count": null,
   "metadata": {},
   "outputs": [],
   "source": []
  }
 ],
 "metadata": {
  "kernelspec": {
   "display_name": "SageMath 8.5",
   "language": "",
   "name": "sagemath"
  },
  "language_info": {
   "codemirror_mode": {
    "name": "ipython",
    "version": 2
   },
   "file_extension": ".py",
   "mimetype": "text/x-python",
   "name": "python",
   "nbconvert_exporter": "python",
   "pygments_lexer": "ipython2",
   "version": "2.7.15"
  }
 },
 "nbformat": 4,
 "nbformat_minor": 2
}
