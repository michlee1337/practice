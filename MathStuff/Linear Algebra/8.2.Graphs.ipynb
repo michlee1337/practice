{
 "cells": [
  {
   "cell_type": "code",
   "execution_count": 60,
   "metadata": {},
   "outputs": [
    {
     "data": {
      "text/plain": [
       "[-1  1  0  0]\n",
       "[-1  0  1  0]\n",
       "[ 0 -1  1  0]\n",
       "[ 0 -1  0  1]\n",
       "[-1  0  0  1]\n",
       "[ 0  0 -1  1]"
      ]
     },
     "execution_count": 60,
     "metadata": {},
     "output_type": "execute_result"
    }
   ],
   "source": [
    "IM = matrix(QQ,[[-1,1,0,0],[-1,0,1,0],[0,-1,1,0],[0,-1,0,1],[-1,0,0,1],[0,0,-1,1]])\n",
    "IM"
   ]
  },
  {
   "cell_type": "code",
   "execution_count": 64,
   "metadata": {},
   "outputs": [
    {
     "data": {
      "text/plain": [
       "[-1  1  0  0]\n",
       "[ 0 -1  1  0]\n",
       "[ 0 -1  1  0]\n",
       "[ 0 -1  0  1]\n",
       "[-1  0  0  1]\n",
       "[ 0  0 -1  1]"
      ]
     },
     "execution_count": 64,
     "metadata": {},
     "output_type": "execute_result"
    }
   ],
   "source": [
    "IMs = IM\n",
    "IMs.rescale_row(0,-1)\n",
    "IMs.add_multiple_of_row(1,0,-1)\n",
    "\n",
    "IMs"
   ]
  },
  {
   "cell_type": "code",
   "execution_count": 59,
   "metadata": {},
   "outputs": [
    {
     "data": {
      "text/plain": [
       "[ 1  0  0 -1]\n",
       "[ 0  1  0 -1]\n",
       "[ 0  0  1 -1]\n",
       "[ 0  0  0  0]\n",
       "[ 0  0  0  0]\n",
       "[ 0  0  0  0]"
      ]
     },
     "execution_count": 59,
     "metadata": {},
     "output_type": "execute_result"
    }
   ],
   "source": [
    "IM.rref()"
   ]
  },
  {
   "cell_type": "code",
   "execution_count": 6,
   "metadata": {},
   "outputs": [
    {
     "data": {
      "text/plain": [
       "(0, 0, 0, 0, 0, 0)"
      ]
     },
     "execution_count": 6,
     "metadata": {},
     "output_type": "execute_result"
    }
   ],
   "source": [
    "z = vector([1,1,1,1])\n",
    "IM*z"
   ]
  },
  {
   "cell_type": "code",
   "execution_count": 12,
   "metadata": {},
   "outputs": [
    {
     "data": {
      "text/plain": [
       "[-1 -1  0  0 -1  0]\n",
       "[ 1  0 -1 -1  0  0]\n",
       "[ 0  1  1  0  0 -1]\n",
       "[ 0  0  0  1  1  1]"
      ]
     },
     "execution_count": 12,
     "metadata": {},
     "output_type": "execute_result"
    }
   ],
   "source": [
    "IMt = IM.transpose()\n",
    "IMt"
   ]
  },
  {
   "cell_type": "code",
   "execution_count": 13,
   "metadata": {},
   "outputs": [
    {
     "data": {
      "text/plain": [
       "[ 1  0 -1  0  1  1]\n",
       "[ 0  1  1  0  0 -1]\n",
       "[ 0  0  0  1  1  1]\n",
       "[ 0  0  0  0  0  0]"
      ]
     },
     "execution_count": 13,
     "metadata": {},
     "output_type": "execute_result"
    }
   ],
   "source": [
    "IMt.rref()"
   ]
  },
  {
   "cell_type": "code",
   "execution_count": 65,
   "metadata": {},
   "outputs": [],
   "source": [
    "#left null \n",
    "\n",
    "v1 = vector([1,-1,1,0,0,0])\n",
    "v2 = vector([-1,0,0,-1,1,0])\n",
    "v3 = vector([-1,1,0,-1,0,1])"
   ]
  },
  {
   "cell_type": "code",
   "execution_count": 66,
   "metadata": {},
   "outputs": [
    {
     "name": "stdout",
     "output_type": "stream",
     "text": [
      "0\n",
      "0\n",
      "0\n",
      "0\n",
      "______\n",
      "0\n",
      "0\n",
      "0\n",
      "0\n",
      "______\n",
      "0\n",
      "0\n",
      "0\n",
      "0\n"
     ]
    }
   ],
   "source": [
    "for i in IMt:\n",
    "    print(i*v1)\n",
    "print('______')\n",
    "for i in IMt:\n",
    "    print(i*v2)\n",
    "print('______')\n",
    "for i in IMt:\n",
    "    print(i*v3)\n"
   ]
  }
 ],
 "metadata": {
  "kernelspec": {
   "display_name": "SageMath 8.5",
   "language": "",
   "name": "sagemath"
  },
  "language_info": {
   "codemirror_mode": {
    "name": "ipython",
    "version": 2
   },
   "file_extension": ".py",
   "mimetype": "text/x-python",
   "name": "python",
   "nbconvert_exporter": "python",
   "pygments_lexer": "ipython2",
   "version": "2.7.15"
  }
 },
 "nbformat": 4,
 "nbformat_minor": 2
}
