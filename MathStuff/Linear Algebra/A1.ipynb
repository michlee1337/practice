{
 "cells": [
  {
   "cell_type": "markdown",
   "metadata": {},
   "source": [
    "## Q1\n",
    "### (a) Show that the following two matrices are row-equivalent\n",
    "\n",
    "$$M1 = \\begin{bmatrix}\n",
    "    0 & 1 & -3 & 2 \\\\\n",
    "    3 & 0 & 6 & 3 \\\\\n",
    "    4 & -1 & 11 & 2 \n",
    "\\end{bmatrix} $$\n",
    "\n",
    "$$M2 = \\begin{bmatrix}\n",
    "    3 & -1 & 9 & 1 \\\\\n",
    "    0 & 5 & -15 & 10 \\\\\n",
    "    1 & 0 & 2 & 1 \n",
    "\\end{bmatrix} $$"
   ]
  },
  {
   "cell_type": "code",
   "execution_count": 10,
   "metadata": {},
   "outputs": [
    {
     "data": {
      "text/html": [
       "<html><script type=\"math/tex; mode=display\">\\newcommand{\\Bold}[1]{\\mathbf{#1}}\\left(\\begin{array}{rrrr}\n",
       "1 & 0 & 2 & 1 \\\\\n",
       "0 & 1 & -3 & 2 \\\\\n",
       "0 & 0 & 0 & 0\n",
       "\\end{array}\\right)</script></html>"
      ],
      "text/plain": [
       "[ 1  0  2  1]\n",
       "[ 0  1 -3  2]\n",
       "[ 0  0  0  0]"
      ]
     },
     "metadata": {},
     "output_type": "display_data"
    },
    {
     "data": {
      "text/html": [
       "<html><script type=\"math/tex; mode=display\">\\newcommand{\\Bold}[1]{\\mathbf{#1}}\\left(\\begin{array}{rrrr}\n",
       "1 & 0 & 2 & 1 \\\\\n",
       "0 & 1 & -3 & 2 \\\\\n",
       "0 & 0 & 0 & 0\n",
       "\\end{array}\\right)</script></html>"
      ],
      "text/plain": [
       "[ 1  0  2  1]\n",
       "[ 0  1 -3  2]\n",
       "[ 0  0  0  0]"
      ]
     },
     "metadata": {},
     "output_type": "display_data"
    }
   ],
   "source": [
    "M1 = matrix(QQ, [[0,1,-3,2],[3,0,6,3],[4,-1,11,2]])\n",
    "M2 = matrix(QQ,[[3,-1,9,1],[0,5,-15,10],[1,0,2,1]])\n",
    "\n",
    "show(M1.rref())\n",
    "show(M2.rref())"
   ]
  },
  {
   "cell_type": "markdown",
   "metadata": {},
   "source": [
    "Both matrices have the same RREF, thus they are row equivalent. To find the elementary matrix that transforms M1 to M2, we solve for A in the following equation:\n",
    "\n",
    "\\begin{gather}\n",
    "A\n",
    " \\begin{bmatrix}\n",
    "    0 & 1 & -3 & 2 \\\\\n",
    "    3 & 0 & 6 & 3 \\\\\n",
    "    4 & -1 & 11 & 2 \n",
    "\\end{bmatrix}\n",
    " =\n",
    " \\begin{bmatrix}\n",
    "    3 & -1 & 9 & 1 \\\\\n",
    "    0 & 5 & -15 & 10 \\\\\n",
    "    1 & 0 & 2 & 1 \n",
    "\\end{bmatrix}\n",
    "\\end{gather}\n"
   ]
  },
  {
   "cell_type": "markdown",
   "metadata": {},
   "source": [
    "First we find the inverse of M1"
   ]
  },
  {
   "cell_type": "code",
   "execution_count": 26,
   "metadata": {},
   "outputs": [
    {
     "data": {
      "text/plain": [
       "[ 1  0  2  1]\n",
       "[ 0  1 -3  2]\n",
       "[ 0  0  0  0]"
      ]
     },
     "execution_count": 26,
     "metadata": {},
     "output_type": "execute_result"
    }
   ],
   "source": [
    "# find the steps that make M1 into reduced form\n",
    "\n",
    "M1 = matrix(QQ, [[0,1,-3,2],[3,0,6,3],[4,-1,11,2]])\n",
    "M1.swap_rows(0,2)\n",
    "M1.swap_rows(1,2)\n",
    "M1.rescale_row(0,1/4)\n",
    "M1.add_multiple_of_row(2,0,-3)\n",
    "M1.add_multiple_of_row(2,1,-3/4)\n",
    "M1.add_multiple_of_row(0,1,1/4)\n",
    "\n",
    "M1"
   ]
  },
  {
   "cell_type": "markdown",
   "metadata": {},
   "source": [
    "### (b)\n"
   ]
  },
  {
   "cell_type": "code",
   "execution_count": 27,
   "metadata": {},
   "outputs": [
    {
     "data": {
      "text/html": [
       "<html><script type=\"math/tex; mode=display\">\\newcommand{\\Bold}[1]{\\mathbf{#1}}\\left(\\begin{array}{rrr}\n",
       "1 & 0 & 1 \\\\\n",
       "0 & 1 & 2 \\\\\n",
       "0 & 0 & 0\n",
       "\\end{array}\\right)</script></html>"
      ],
      "text/plain": [
       "[1 0 1]\n",
       "[0 1 2]\n",
       "[0 0 0]"
      ]
     },
     "metadata": {},
     "output_type": "display_data"
    },
    {
     "data": {
      "text/html": [
       "<html><script type=\"math/tex; mode=display\">\\newcommand{\\Bold}[1]{\\mathbf{#1}}\\left(\\begin{array}{rrr}\n",
       "1 & 0 & 1 \\\\\n",
       "0 & 1 & 2 \\\\\n",
       "0 & 0 & 0\n",
       "\\end{array}\\right)</script></html>"
      ],
      "text/plain": [
       "[1 0 1]\n",
       "[0 1 2]\n",
       "[0 0 0]"
      ]
     },
     "metadata": {},
     "output_type": "display_data"
    }
   ],
   "source": [
    "B1 = matrix(QQ, [[0,1,2],[3,0,3],[4,-1,2]])\n",
    "B2 = matrix(QQ,[[3,-1,1],[0,5,10],[1,0,1]])\n",
    "\n",
    "show(B1.rref())\n",
    "show(B2.rref())"
   ]
  },
  {
   "cell_type": "code",
   "execution_count": 28,
   "metadata": {},
   "outputs": [
    {
     "data": {
      "text/html": [
       "<html><script type=\"math/tex; mode=display\">\\newcommand{\\Bold}[1]{\\mathbf{#1}}\\left(\\begin{array}{rrr}\n",
       "1 & 0 & 2 \\\\\n",
       "0 & 1 & -3 \\\\\n",
       "0 & 0 & 0\n",
       "\\end{array}\\right)</script></html>"
      ],
      "text/plain": [
       "[ 1  0  2]\n",
       "[ 0  1 -3]\n",
       "[ 0  0  0]"
      ]
     },
     "metadata": {},
     "output_type": "display_data"
    },
    {
     "data": {
      "text/html": [
       "<html><script type=\"math/tex; mode=display\">\\newcommand{\\Bold}[1]{\\mathbf{#1}}\\left(\\begin{array}{rrr}\n",
       "1 & 0 & 2 \\\\\n",
       "0 & 1 & -3 \\\\\n",
       "0 & 0 & 0\n",
       "\\end{array}\\right)</script></html>"
      ],
      "text/plain": [
       "[ 1  0  2]\n",
       "[ 0  1 -3]\n",
       "[ 0  0  0]"
      ]
     },
     "metadata": {},
     "output_type": "display_data"
    }
   ],
   "source": [
    "b1 = matrix(QQ, [[0,1,-3],[3,0,6],[4,-1,11]])\n",
    "b2 = matrix(QQ,[[3,-1,9],[0,5,-15],[1,0,2]])\n",
    "\n",
    "show(b1.rref())\n",
    "show(b2.rref())"
   ]
  },
  {
   "cell_type": "markdown",
   "metadata": {},
   "source": [
    "### (c)"
   ]
  },
  {
   "cell_type": "markdown",
   "metadata": {},
   "source": [
    "removing a column won't affect row equivalence of equivalent matrices because it is the equivalent of removing the same unknown from all equations. Thus removing an unknown \n",
    "\n",
    "# try with matrices w one solution? or no solutions?"
   ]
  },
  {
   "cell_type": "markdown",
   "metadata": {},
   "source": [
    "### (d)"
   ]
  },
  {
   "cell_type": "code",
   "execution_count": 48,
   "metadata": {},
   "outputs": [
    {
     "data": {
      "text/html": [
       "<html><script type=\"math/tex; mode=display\">\\newcommand{\\Bold}[1]{\\mathbf{#1}}\\left(\\begin{array}{rrr}\n",
       "1 & 2 & \\frac{5}{2} \\\\\n",
       "0 & 1 & -\\frac{6}{5} \\\\\n",
       "0 & 0 & 1\n",
       "\\end{array}\\right)</script></html>"
      ],
      "text/plain": [
       "[   1    2  5/2]\n",
       "[   0    1 -6/5]\n",
       "[   0    0    1]"
      ]
     },
     "metadata": {},
     "output_type": "display_data"
    },
    {
     "name": "stdout",
     "output_type": "stream",
     "text": [
      "CONTRADICTION: 0 = 1\n"
     ]
    }
   ],
   "source": [
    "d1 = matrix(QQ, [[2,4,5],[2,9,-1],[4,1,20]])\n",
    "d1.rescale_row(0,1/2)\n",
    "d1.add_multiple_of_row(1,0,-2)\n",
    "d1.add_multiple_of_row(2,0,-4)\n",
    "d1.rescale_row(1,1/5)\n",
    "d1.add_multiple_of_row(2,1,7)\n",
    "d1.rescale_row(2,5/8)\n",
    "#d1.add_multiple_of_row(0,1,-2)\n",
    "#d1.add_multiple_of_row(1,2,6/5)\n",
    "#d1.add_multiple_of_row(0,2,-49/10)\n",
    "\n",
    "show(d1)\n",
    "print('CONTRADICTION: 0 = 1')"
   ]
  },
  {
   "cell_type": "markdown",
   "metadata": {},
   "source": [
    "### (e)"
   ]
  },
  {
   "cell_type": "code",
   "execution_count": 61,
   "metadata": {},
   "outputs": [
    {
     "data": {
      "text/html": [
       "<html><script type=\"math/tex; mode=display\">\\newcommand{\\Bold}[1]{\\mathbf{#1}}\\left(\\begin{array}{rrr}\n",
       "1 & 0 & 0 \\\\\n",
       "0 & 1 & 0 \\\\\n",
       "0 & 0 & 1\n",
       "\\end{array}\\right)</script></html>"
      ],
      "text/plain": [
       "[1 0 0]\n",
       "[0 1 0]\n",
       "[0 0 1]"
      ]
     },
     "metadata": {},
     "output_type": "display_data"
    },
    {
     "name": "stdout",
     "output_type": "stream",
     "text": [
      "removing the last row would provide infinite solutions since you'd be removing the contradition but you'd be short one pivot\n"
     ]
    }
   ],
   "source": [
    "d1 = matrix(QQ, [[2,4,5],[2,9,-1],[4,1,20]])\n",
    "d1.rescale_row(0,1/2)\n",
    "d1.add_multiple_of_row(1,0,-2)\n",
    "d1.add_multiple_of_row(2,0,-4)\n",
    "d1.rescale_row(1,1/5)\n",
    "d1.add_multiple_of_row(2,1,7)\n",
    "d1.rescale_row(2,5/8)\n",
    "d1.add_multiple_of_row(0,1,-2)\n",
    "d1.add_multiple_of_row(1,2,6/5)\n",
    "d1.add_multiple_of_row(0,2,-49/10)\n",
    "\n",
    "show(d1)\n",
    "print('removing the last row would provide infinite solutions since you\\'d be removing the contradition but you\\'d be short one pivot')"
   ]
  },
  {
   "cell_type": "code",
   "execution_count": 67,
   "metadata": {},
   "outputs": [
    {
     "data": {
      "text/html": [
       "<html><script type=\"math/tex; mode=display\">\\newcommand{\\Bold}[1]{\\mathbf{#1}}\\left(\\begin{array}{rrr}\n",
       "1 & 0 & \\frac{75}{14} \\\\\n",
       "0 & 1 & -\\frac{10}{7}\n",
       "\\end{array}\\right)</script></html>"
      ],
      "text/plain": [
       "[    1     0 75/14]\n",
       "[    0     1 -10/7]"
      ]
     },
     "metadata": {},
     "output_type": "display_data"
    },
    {
     "name": "stdout",
     "output_type": "stream",
     "text": [
      "The same happens if you remove any other row\n"
     ]
    }
   ],
   "source": [
    "d2 = matrix(QQ, [[2,4,5],[4,1,20]])\n",
    "d2.rescale_row(0,1/2)\n",
    "d2.add_multiple_of_row(1,0,-4)\n",
    "d2.rescale_row(1,-1/7)\n",
    "d2.add_multiple_of_row(0,1,-2)\n",
    "\n",
    "show(d2)\n",
    "print('The same happens if you remove any other row')"
   ]
  },
  {
   "cell_type": "code",
   "execution_count": 72,
   "metadata": {},
   "outputs": [
    {
     "data": {
      "text/html": [
       "<html><script type=\"math/tex; mode=display\">\\newcommand{\\Bold}[1]{\\mathbf{#1}}\\left(\\begin{array}{rrr}\n",
       "1 & 0 & \\frac{181}{34} \\\\\n",
       "0 & 1 & -\\frac{22}{17}\n",
       "\\end{array}\\right)</script></html>"
      ],
      "text/plain": [
       "[     1      0 181/34]\n",
       "[     0      1 -22/17]"
      ]
     },
     "metadata": {},
     "output_type": "display_data"
    },
    {
     "name": "stdout",
     "output_type": "stream",
     "text": [
      "This tells us that removing a row increases your solution set. This makes sense because rows are essentially restrictions that the solution set has to meet.\n"
     ]
    }
   ],
   "source": [
    "d3 = matrix(QQ, [[2,9,-1],[4,1,20]])\n",
    "d3.rescale_row(0,1/2)\n",
    "d3.add_multiple_of_row(1,0,-4)\n",
    "d3.rescale_row(1,-1/17)\n",
    "d3.add_multiple_of_row(0,1,-9/2)\n",
    "\n",
    "show(d3)\n",
    "print('This tells us that removing a row increases your solution set. This makes sense because rows are essentially restrictions that the solution set has to meet.')"
   ]
  },
  {
   "cell_type": "markdown",
   "metadata": {},
   "source": [
    "### (f)\n",
    "\n",
    "(i) True: Row equivalent augemented matrices is defined by having the same RREF. Since the solution set is defined by the RREF, it then follows that matrices that have the same RREF have the same solution set. Thus, Equivalence implies the same solution set.     \n",
    "(ii) Unsure? Could diff rows map to the same solution set? I feel like yes cause theres more than one way to express the same equation.\n",
    "\n",
    "# check and try to come up to counterexamples"
   ]
  },
  {
   "cell_type": "markdown",
   "metadata": {},
   "source": [
    "# Q2"
   ]
  },
  {
   "cell_type": "code",
   "execution_count": 73,
   "metadata": {},
   "outputs": [
    {
     "ename": "SyntaxError",
     "evalue": "can't assign to operator (<ipython-input-73-11d4eb7c2c0e>, line 4)",
     "output_type": "error",
     "traceback": [
      "\u001b[0;36m  File \u001b[0;32m\"<ipython-input-73-11d4eb7c2c0e>\"\u001b[0;36m, line \u001b[0;32m4\u001b[0m\n\u001b[0;31m    a_y1+a_y2 = a_x1 + a_x2\u001b[0m\n\u001b[0;31mSyntaxError\u001b[0m\u001b[0;31m:\u001b[0m can't assign to operator\n"
     ]
    }
   ],
   "source": [
    "a_x1 = 200\n",
    "a_x2 = 200\n",
    "\n",
    "a_y1+a_y2 = a_x1 + a_x2\n",
    "\n",
    "b_y2 = 300\n",
    "b_x1 = a_x1\n",
    "b_x2 = e_y2\n",
    "b_y1+b_y2 = b_x1+b_x2\n",
    "\n",
    "c_y1 = 400\n",
    "c_x2 = 500\n",
    "c_x1 = b_y1\n",
    "c_y1+c_y2 = c_x1 + c_x2\n",
    "\n",
    "d_y1 = 400\n",
    "d_x1 = 200\n",
    "d_x2 = c_y2\n",
    "d_y1 + d_y2 = d_x1 + d_x2\n",
    "\n",
    "e_x1 = 300\n",
    "e_x2 = d_y2\n",
    "e_y1 + e_y2 = e_x1 + e_x2\n",
    "\n",
    "f_y1 = 200\n",
    "f_y2 = 100\n",
    "f_x1 = e_y1\n",
    "f_x2 = a_y2\n",
    "f_y1 + f_y2 = f_x1+ f_x2"
   ]
  },
  {
   "cell_type": "code",
   "execution_count": 73,
   "metadata": {},
   "outputs": [
    {
     "ename": "SyntaxError",
     "evalue": "can't assign to operator (<ipython-input-73-11d4eb7c2c0e>, line 4)",
     "output_type": "error",
     "traceback": [
      "\u001b[0;36m  File \u001b[0;32m\"<ipython-input-73-11d4eb7c2c0e>\"\u001b[0;36m, line \u001b[0;32m4\u001b[0m\n\u001b[0;31m    a_y1+a_y2 = a_x1 + a_x2\u001b[0m\n\u001b[0;31mSyntaxError\u001b[0m\u001b[0;31m:\u001b[0m can't assign to operator\n"
     ]
    }
   ],
   "source": [
    "a_x1 = 200\n",
    "a_x2 = 200\n",
    "\n",
    "a_y1+a_y2 = a_x1 + a_x2\n",
    "\n",
    "b_y2 = 300\n",
    "b_y1+b_y2 = a_y1+e_y2\n",
    "\n",
    "c_y1 = 400\n",
    "c_x2 = 500\n",
    "c_y1+c_y2 = b_y1 + c_x2\n",
    "\n",
    "d_y1 = 400\n",
    "d_x1 = 200\n",
    "d_y1 + d_y2 = d_x1 + c_y2\n",
    "\n",
    "e_x1 = 300\n",
    "e_y1 + e_y2 = e_x1 + d_y2\n",
    "\n",
    "f_y1 = 200\n",
    "f_y2 = 100\n",
    "f_y1 + f_y2 = e_y1+ a_y2"
   ]
  },
  {
   "cell_type": "code",
   "execution_count": null,
   "metadata": {},
   "outputs": [],
   "source": [
    "a_y1+a_y2 = 200 + 200\n",
    "\n",
    "b_y1+300 = a_y1+e_y2\n",
    "\n",
    "400+c_y2 = b_y1 + 500\n",
    "\n",
    "400 + d_y2 = 200 + c_y2\n",
    "\n",
    "e_y1 + e_y2 = 300 + d_y2\n",
    "\n",
    "200 + 100 = e_y1+ a_y2"
   ]
  },
  {
   "cell_type": "code",
   "execution_count": null,
   "metadata": {},
   "outputs": [],
   "source": [
    "a_y1 = 200 + 200 - a_y2\n",
    "\n",
    "a_y1 = b_y1 + 300 - e_y2\n",
    "\n",
    ":. 400 - a_y2 = b_y1 + 300 - e_y2\n",
    "\n",
    "400+c_y2 = b_y1 + 500\n",
    "    \n",
    ":. 400 - a_y2 - 300 + e_y2= 400 + c_y2 - 500\n",
    ":. 100 - a_y2 + e_y2= c_y2 - 100\n",
    "\n",
    "\n",
    "400 + d_y2 = 200 + c_y2\n",
    "\n",
    "e_y1 + e_y2 = 300 + d_y2\n",
    "\n",
    "200 + 100 = e_y1+ a_y2"
   ]
  },
  {
   "cell_type": "code",
   "execution_count": 85,
   "metadata": {},
   "outputs": [
    {
     "data": {
      "text/html": [
       "<html><script type=\"math/tex; mode=display\">\\newcommand{\\Bold}[1]{\\mathbf{#1}}\\left(\\begin{array}{r}\n",
       "a_{y_{1}} + a_{y_{2}} \\\\\n",
       "a_{y_{1}} - b_{y_{1}} + e_{y_{2}} \\\\\n",
       "b_{y_{1}} - c_{y_{1}} \\\\\n",
       "c_{y_{1}} - d_{y_{1}} \\\\\n",
       "d_{y_{1}} - e_{y_{1}} - e_{y_{2}} \\\\\n",
       "a_{y_{2}} + e_{y_{1}}\n",
       "\\end{array}\\right)</script></html>"
      ],
      "text/plain": [
       "[       a_y1 + a_y2]\n",
       "[a_y1 - b_y1 + e_y2]\n",
       "[       b_y1 - c_y1]\n",
       "[       c_y1 - d_y1]\n",
       "[d_y1 - e_y1 - e_y2]\n",
       "[       a_y2 + e_y1]"
      ]
     },
     "metadata": {},
     "output_type": "display_data"
    },
    {
     "data": {
      "text/html": [
       "<html><script type=\"math/tex; mode=display\">\\newcommand{\\Bold}[1]{\\mathbf{#1}}\\left(\\begin{array}{r}\n",
       "400 \\\\\n",
       "300 \\\\\n",
       "-100 \\\\\n",
       "200 \\\\\n",
       "-300 \\\\\n",
       "300\n",
       "\\end{array}\\right)</script></html>"
      ],
      "text/plain": [
       "[ 400]\n",
       "[ 300]\n",
       "[-100]\n",
       "[ 200]\n",
       "[-300]\n",
       "[ 300]"
      ]
     },
     "metadata": {},
     "output_type": "display_data"
    }
   ],
   "source": [
    "var('a_y1,a_y2,b_y1,c_y1,d_y1,e_y1,e_y2')\n",
    "twoA = matrix(QQ, [[1,1,0,0,0,0,0],[1,0,-1,0,0,0,1],[0,0,1,-1,0,0,0],[0,0,0,1,-1,0,0],[0,0,0,0,1,-1,-1],[0,1,0,0,0,1,0]])\n",
    "twoX = matrix([[a_y1],[a_y2],[b_y1],[c_y1],[d_y1],[e_y1],[e_y2]])\n",
    "twoB = matrix(QQ,[[400],[300],[-100],[200],[-300],[300]])\n",
    "show(twoA*twoX)\n",
    "show(twoB)"
   ]
  },
  {
   "cell_type": "markdown",
   "metadata": {},
   "source": [
    "# Q3\n"
   ]
  },
  {
   "cell_type": "code",
   "execution_count": null,
   "metadata": {},
   "outputs": [],
   "source": []
  }
 ],
 "metadata": {
  "kernelspec": {
   "display_name": "SageMath 8.5",
   "language": "",
   "name": "sagemath"
  },
  "language_info": {
   "codemirror_mode": {
    "name": "ipython",
    "version": 2
   },
   "file_extension": ".py",
   "mimetype": "text/x-python",
   "name": "python",
   "nbconvert_exporter": "python",
   "pygments_lexer": "ipython2",
   "version": "2.7.15"
  }
 },
 "nbformat": 4,
 "nbformat_minor": 2
}
