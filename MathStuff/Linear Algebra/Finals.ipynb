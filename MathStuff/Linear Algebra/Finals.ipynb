{
 "cells": [
  {
   "cell_type": "markdown",
   "metadata": {},
   "source": [
    "# 2. Multinational Mayhem"
   ]
  },
  {
   "cell_type": "markdown",
   "metadata": {},
   "source": [
    "## (a) Find transformation matrix A"
   ]
  },
  {
   "cell_type": "markdown",
   "metadata": {},
   "source": [
    "A is such that the following is True:\n",
    "$\\begin{bmatrix}\n",
    "    Am_{n+1}\\\\\n",
    "    As_{n+1}\\\\\n",
    "    Eu_{n+1}\n",
    "\\end{bmatrix} = A\\begin{bmatrix}\n",
    "    Am_{n}\\\\\n",
    "    As_{n}\\\\\n",
    "    Eu_{n}\n",
    "\\end{bmatrix}$\n",
    "\n",
    "Thus the columns of A will need to tell us what component of the current rows (states) will go to the corresponding row (state) in the next state.\n",
    "\n",
    "Thus, $A_{ij}$ will tell us the component of the jth current state that will go to the ith next state.\n",
    "\n",
    "Each column is where the money currently is (current state) and each row is where the money will go with the next transformation (next state).\n",
    "\n",
    "In the order Americas, Asia, Europe:\n",
    "\n",
    "$A = \\begin{bmatrix}\n",
    "    1/2 & 1/2 & 1/2\\\\\n",
    "    1/4 & 1/2 & 0\\\\\n",
    "    1/4 & 0 & 1/2\n",
    "\\end{bmatrix}$"
   ]
  },
  {
   "cell_type": "code",
   "execution_count": 1,
   "metadata": {
    "scrolled": true
   },
   "outputs": [
    {
     "data": {
      "text/plain": [
       "(2, 1/2, 3/2)"
      ]
     },
     "execution_count": 1,
     "metadata": {},
     "output_type": "execute_result"
    }
   ],
   "source": [
    "A = matrix([[1/2,1/2,1/2],[1/4,1/2,0],[1/4,0,1/2]])\n",
    "\n",
    "i_state = vector([2,0,2])\n",
    "\n",
    "A*i_state"
   ]
  },
  {
   "cell_type": "markdown",
   "metadata": {},
   "source": [
    "_______"
   ]
  },
  {
   "cell_type": "markdown",
   "metadata": {},
   "source": [
    "## (b) Diagonalize A"
   ]
  },
  {
   "cell_type": "markdown",
   "metadata": {},
   "source": [
    "**Finding Eigenvalues**      \n",
    "Since eigenvectors ($\\vec{v}$) are vectors that only change by a scalar multiple ($\\lambda$) during transformation ($A$), they can be expressed by the following equation:    \n",
    "$A\\vec{v}=\\lambda\\vec{v}$     \n",
    "\n",
    "To make everything in this equation matrix multiplication, it's less awkward to write it as:   \n",
    "$A\\vec{v}=\\lambda I\\vec{v}$      \n",
    "\n",
    "Then we can factor our the $v$:      \n",
    "$A\\vec{v}-\\lambda I\\vec{v} = \\vec{0}$      \n",
    "$(A-\\lambda I)\\vec{v} = \\vec{0}$      \n",
    "\n",
    "Since eigenvectors must be non-zero, this tells us that $v$ must be in the nullspace of ($A-\\lambda I$).     \n",
    "Thus, the nullspace of $A-\\lambda I$ is not empty.     \n",
    "Thus, $A-\\lambda I$ is not full rank (it's rank is less than its' number of columns/rows).      \n",
    "Thus, $A-\\lambda I$ is singular, which means its determinant has to be $0$.\n",
    "\n",
    "$A-\\lambda I=\\begin{bmatrix}\n",
    "    1/2 - \\lambda & 1/2 & 1/2\\\\\n",
    "    1/4 & 1/2 - \\lambda & 0\\\\\n",
    "    1/4 & 0 & 1/2 - \\lambda\n",
    "\\end{bmatrix}$      \n",
    "\n",
    "Expanding this matrix along the last row:     \n",
    "\n",
    "$det(A)=1/4(0 - 1/2(1/2-\\lambda))-0+(1/2-\\lambda)((1/2-\\lambda)^2-1/2(1/4))$        \n",
    "$det(A)=1/4(- 1/4+1/2\\lambda)+(1/2-\\lambda)(1/4-\\lambda+\\lambda^2-1/8)$        \n",
    "$det(A)=-1/16+1/8\\lambda+1/8-1/2\\lambda+1/2\\lambda^2-1/16-1/4\\lambda + \\lambda^2 - \\lambda^3 + 1/8\\lambda$      \n",
    "$det(A)=-1/2\\lambda+3/2\\lambda^2 - \\lambda^3$      \n",
    "\n",
    "From this equation we see that $\\lambda=0$ OR $\\lambda=1/2$ OR $\\lambda=1$           "
   ]
  },
  {
   "cell_type": "markdown",
   "metadata": {},
   "source": [
    "**Eigenvalue Matrix D**      \n",
    "The diagonal matrix $D$ will have the $\\lambda$s on the diagonal entries.\n",
    "\n",
    "Thus, we know that the eigenvalue matrix $D$ is as follows:   \n",
    "$D = \\begin{bmatrix}\n",
    "    0 & 0 & 0\\\\\n",
    "    0 & 1/2 & 0\\\\\n",
    "    0 & 0 & 1\n",
    "\\end{bmatrix}$"
   ]
  },
  {
   "cell_type": "code",
   "execution_count": 10,
   "metadata": {},
   "outputs": [],
   "source": [
    "D = matrix([[0,0,0],[0,1/2,0],[0,0,1]])"
   ]
  },
  {
   "cell_type": "markdown",
   "metadata": {},
   "source": [
    "______"
   ]
  },
  {
   "cell_type": "markdown",
   "metadata": {},
   "source": [
    "**Finding Eigenvectors**        \n",
    "We can find the eigenvectors by plugging the eigenvalues we found into the same equation:     \n",
    "\n",
    "$\\begin{bmatrix}\n",
    "    1/2 - \\lambda & 1/2 & 1/2\\\\\n",
    "    1/4 & 1/2 - \\lambda & 0\\\\\n",
    "    1/4 & 0 & 1/2 - \\lambda\n",
    "\\end{bmatrix}\\begin{bmatrix}\n",
    "    x\\\\\n",
    "    y\\\\\n",
    "    z\n",
    "\\end{bmatrix}=\\begin{bmatrix}\n",
    "    0\\\\\n",
    "    0\\\\\n",
    "    0\n",
    "\\end{bmatrix}$"
   ]
  },
  {
   "cell_type": "markdown",
   "metadata": {},
   "source": [
    "**Eigenvector[s] with Eigenvalue 0**        \n",
    "$\\begin{bmatrix}\n",
    "    1/2 - 0 & 1/2 & 1/2\\\\\n",
    "    1/4 & 1/2 - 0 & 0\\\\\n",
    "    1/4 & 0 & 1/2 - 0\n",
    "\\end{bmatrix}\\begin{bmatrix}\n",
    "    x_1\\\\\n",
    "    y_1\\\\\n",
    "    z_1\n",
    "\\end{bmatrix}=\\begin{bmatrix}\n",
    "    0\\\\\n",
    "    0\\\\\n",
    "    0\n",
    "\\end{bmatrix}$\n",
    "\n",
    "$\\begin{bmatrix}\n",
    "    1/2 & 1/2 & 1/2\\\\\n",
    "    1/4 & 1/2 & 0\\\\\n",
    "    1/4 & 0 & 1/2\n",
    "\\end{bmatrix}\\begin{bmatrix}\n",
    "    x_1\\\\\n",
    "    y_1\\\\\n",
    "    z_1\n",
    "\\end{bmatrix}=\\begin{bmatrix}\n",
    "    0\\\\\n",
    "    0\\\\\n",
    "    0\n",
    "\\end{bmatrix}$"
   ]
  },
  {
   "cell_type": "code",
   "execution_count": 4,
   "metadata": {},
   "outputs": [
    {
     "data": {
      "text/plain": [
       "[ 1  0  2  0]\n",
       "[ 0  1 -1  0]\n",
       "[ 0  0  0  0]"
      ]
     },
     "execution_count": 4,
     "metadata": {},
     "output_type": "execute_result"
    }
   ],
   "source": [
    "m1 = matrix([[1/2,1/2,1/2,0],[1/4,1/2,0,0],[1/4,0,1/2,0]])\n",
    "\n",
    "m1.rref()"
   ]
  },
  {
   "cell_type": "markdown",
   "metadata": {},
   "source": [
    "Let $z_1 = t$      \n",
    "\n",
    "$x_1 + 2t = 0$      \n",
    "$y_1 - t = 0$       \n",
    "$z_1 = t$       \n",
    "\n",
    "$\\begin{bmatrix}\n",
    "    x_1\\\\\n",
    "    y_1\\\\\n",
    "    z_1\n",
    "\\end{bmatrix}=t\\begin{bmatrix}\n",
    "    -2\\\\\n",
    "    1\\\\\n",
    "    1\n",
    "\\end{bmatrix}$\n",
    "\n",
    "The eigenvector corresponding with eigenvalue $0$ is $\\begin{bmatrix}\n",
    "    -2\\\\\n",
    "    1\\\\\n",
    "    1\n",
    "\\end{bmatrix}$."
   ]
  },
  {
   "cell_type": "markdown",
   "metadata": {},
   "source": [
    "**Eigenvector[s] with Eigenvalue 1/2**        \n",
    "$\\begin{bmatrix}\n",
    "    1/2 - 1/2 & 1/2 & 1/2\\\\\n",
    "    1/4 & 1/2 - 1/2 & 0\\\\\n",
    "    1/4 & 0 & 1/2 - 1/2\n",
    "\\end{bmatrix}\\begin{bmatrix}\n",
    "    x_2\\\\\n",
    "    y_2\\\\\n",
    "    z_2\n",
    "\\end{bmatrix}=\\begin{bmatrix}\n",
    "    0\\\\\n",
    "    0\\\\\n",
    "    0\n",
    "\\end{bmatrix}$\n",
    "\n",
    "$\\begin{bmatrix}\n",
    "    0 & 1/2 & 1/2\\\\\n",
    "    1/4 & 0 & 0\\\\\n",
    "    1/4 & 0 & 0\n",
    "\\end{bmatrix}\\begin{bmatrix}\n",
    "    x_2\\\\\n",
    "    y_2\\\\\n",
    "    z_2\n",
    "\\end{bmatrix}=\\begin{bmatrix}\n",
    "    0\\\\\n",
    "    0\\\\\n",
    "    0\n",
    "\\end{bmatrix}$"
   ]
  },
  {
   "cell_type": "code",
   "execution_count": 7,
   "metadata": {
    "scrolled": false
   },
   "outputs": [
    {
     "data": {
      "text/plain": [
       "[1 0 0 0]\n",
       "[0 1 1 0]\n",
       "[0 0 0 0]"
      ]
     },
     "execution_count": 7,
     "metadata": {},
     "output_type": "execute_result"
    }
   ],
   "source": [
    "m2 = matrix([[0,1/2,1/2,0],[1/4,0,0,0],[1/4,0,0,0]])\n",
    "\n",
    "m2.rref()"
   ]
  },
  {
   "cell_type": "markdown",
   "metadata": {},
   "source": [
    "Let $z_2 = t$      \n",
    "\n",
    "$x_2 = 0$      \n",
    "$y_2 + t = 0$       \n",
    "$z_2 = t$       \n",
    "\n",
    "$\\begin{bmatrix}\n",
    "    x_2\\\\\n",
    "    y_2\\\\\n",
    "    z_2\n",
    "\\end{bmatrix}=t\\begin{bmatrix}\n",
    "    0\\\\\n",
    "    -1\\\\\n",
    "    1\n",
    "\\end{bmatrix}$\n",
    "\n",
    "The eigenvector corresponding with eigenvalue $1/2$ is $\\begin{bmatrix}\n",
    "    0\\\\\n",
    "    -1\\\\\n",
    "    1\n",
    "\\end{bmatrix}$."
   ]
  },
  {
   "cell_type": "markdown",
   "metadata": {},
   "source": [
    "**Eigenvector[s] with Eigenvalue 1**        \n",
    "$\\begin{bmatrix}\n",
    "    1/2 - 1 & 1/2 & 1/2\\\\\n",
    "    1/4 & 1/2 - 1 & 0\\\\\n",
    "    1/4 & 0 & 1/2 - 1\n",
    "\\end{bmatrix}\\begin{bmatrix}\n",
    "    x_3\\\\\n",
    "    y_3\\\\\n",
    "    z_3\n",
    "\\end{bmatrix}=\\begin{bmatrix}\n",
    "    0\\\\\n",
    "    0\\\\\n",
    "    0\n",
    "\\end{bmatrix}$\n",
    "\n",
    "$\\begin{bmatrix}\n",
    "    -1/2 & 1/2 & 1/2\\\\\n",
    "    1/4 & -1/2 & 0\\\\\n",
    "    1/4 & 0 & -1/2\n",
    "\\end{bmatrix}\\begin{bmatrix}\n",
    "    x_3\\\\\n",
    "    y_3\\\\\n",
    "    z_3\n",
    "\\end{bmatrix}=\\begin{bmatrix}\n",
    "    0\\\\\n",
    "    0\\\\\n",
    "    0\n",
    "\\end{bmatrix}$"
   ]
  },
  {
   "cell_type": "code",
   "execution_count": 9,
   "metadata": {
    "scrolled": true
   },
   "outputs": [
    {
     "data": {
      "text/plain": [
       "[ 1  0 -2  0]\n",
       "[ 0  1 -1  0]\n",
       "[ 0  0  0  0]"
      ]
     },
     "execution_count": 9,
     "metadata": {},
     "output_type": "execute_result"
    }
   ],
   "source": [
    "m3 = matrix([[-1/2,1/2,1/2,0],[1/4,-1/2,0,0],[1/4,0,-1/2,0]])\n",
    "\n",
    "m3.rref()"
   ]
  },
  {
   "cell_type": "markdown",
   "metadata": {},
   "source": [
    "Let $z_3 = t$      \n",
    "\n",
    "$x_3 - 2t = 0$      \n",
    "$y_3 - t = 0$       \n",
    "$z_3 = t$       \n",
    "\n",
    "$\\begin{bmatrix}\n",
    "    x_3\\\\\n",
    "    y_3\\\\\n",
    "    z_3\n",
    "\\end{bmatrix}=t\\begin{bmatrix}\n",
    "    2\\\\\n",
    "    1\\\\\n",
    "    1\n",
    "\\end{bmatrix}$\n",
    "\n",
    "The eigenvector corresponding with eigenvalue $1$ is $\\begin{bmatrix}\n",
    "    2\\\\\n",
    "    1\\\\\n",
    "    1\n",
    "\\end{bmatrix}$."
   ]
  },
  {
   "cell_type": "markdown",
   "metadata": {},
   "source": [
    "**Eigenvector Matrix S**      \n",
    "The nonsingular matrix $S$ will have the eigenvectors as the columns.\n",
    "\n",
    "Thus, we know that the eigenvector matrix $S$ is as follows:   \n",
    "$S = \\begin{bmatrix}\n",
    "    -2 & 0 & 2\\\\\n",
    "    1 & -1 & 1\\\\\n",
    "    1 & 1 & 1\n",
    "\\end{bmatrix}$"
   ]
  },
  {
   "cell_type": "code",
   "execution_count": 11,
   "metadata": {},
   "outputs": [],
   "source": [
    "S = matrix([[-2,0,2],[1,-1,1],[1,1,1]])"
   ]
  },
  {
   "cell_type": "markdown",
   "metadata": {},
   "source": [
    "_____"
   ]
  },
  {
   "cell_type": "markdown",
   "metadata": {},
   "source": [
    "**Diagonalizing A**     \n",
    "\n",
    "Thus, we can put this all together to the following equation:     \n",
    "$A = SDS^{-1}$     \n",
    "$A = \\begin{bmatrix}\n",
    "    -2 & 0 & 2\\\\\n",
    "    1 & -1 & 1\\\\\n",
    "    1 & 1 & 1\n",
    "\\end{bmatrix}\\begin{bmatrix}\n",
    "    0 & 0 & 0\\\\\n",
    "    0 & 1/2 & 0\\\\\n",
    "    0 & 0 & 1\n",
    "\\end{bmatrix}\\begin{bmatrix}\n",
    "    -2 & 1 & 1\\\\\n",
    "    0 & -1 & 1\\\\\n",
    "    2 & 1 & 1\n",
    "\\end{bmatrix}$     \n"
   ]
  },
  {
   "cell_type": "code",
   "execution_count": 13,
   "metadata": {
    "scrolled": false
   },
   "outputs": [
    {
     "data": {
      "text/plain": [
       "True"
      ]
     },
     "execution_count": 13,
     "metadata": {},
     "output_type": "execute_result"
    }
   ],
   "source": [
    "A == S*D*S.inverse()"
   ]
  },
  {
   "cell_type": "markdown",
   "metadata": {},
   "source": [
    "## (c) Initial Distribution C"
   ]
  },
  {
   "cell_type": "markdown",
   "metadata": {},
   "source": [
    "$y_0 = \\begin{bmatrix}\n",
    "    2\\\\\n",
    "    0\\\\\n",
    "    2\n",
    "\\end{bmatrix}$"
   ]
  },
  {
   "cell_type": "code",
   "execution_count": 15,
   "metadata": {},
   "outputs": [],
   "source": [
    "y0 = vector([2,0,2])"
   ]
  },
  {
   "cell_type": "markdown",
   "metadata": {},
   "source": [
    "## (d) Distribution in year k"
   ]
  },
  {
   "cell_type": "markdown",
   "metadata": {},
   "source": [
    "$y_0$ rewritten as a linear combination of eigenvectors will be $y_0 = xe_1 + ye_2 + ze_3$ where $x$, $y$, and $z$ fulfill the following equations:        \n",
    "\n",
    "$\\begin{bmatrix}\n",
    "    e_1 | e_2 | e_3\n",
    "\\end{bmatrix} * \\begin{bmatrix}\n",
    "    x\\\\\n",
    "    y\\\\\n",
    "    z\n",
    "\\end{bmatrix} = y_0$      \n",
    "\n",
    "A simple way to solve this equation would be to find the rref of the augmented matrix with $S$ on the left and $y_0$ on the right."
   ]
  },
  {
   "cell_type": "code",
   "execution_count": 17,
   "metadata": {
    "scrolled": true
   },
   "outputs": [
    {
     "data": {
      "text/plain": [
       "[1 0 0 0]\n",
       "[0 1 0 1]\n",
       "[0 0 1 1]"
      ]
     },
     "execution_count": 17,
     "metadata": {},
     "output_type": "execute_result"
    }
   ],
   "source": [
    "year1 = matrix(QQ,[[-2,0,2,2],[1,-1,1,0],[1,1,1,2]])\n",
    "\n",
    "year1.rref()"
   ]
  },
  {
   "cell_type": "markdown",
   "metadata": {},
   "source": [
    "This tells us that:     \n",
    "$x = 0$      \n",
    "$y = 1$      \n",
    "$z = 1$      \n",
    "\n",
    "Therefore,      \n",
    "$y_0 =\n",
    "    S\\begin{bmatrix}\n",
    "    0\\\\\n",
    "    1\\\\\n",
    "    1\n",
    "\\end{bmatrix}$          "
   ]
  },
  {
   "cell_type": "code",
   "execution_count": 20,
   "metadata": {
    "scrolled": true
   },
   "outputs": [
    {
     "data": {
      "text/plain": [
       "True"
      ]
     },
     "execution_count": 20,
     "metadata": {},
     "output_type": "execute_result"
    }
   ],
   "source": [
    "y0 == S*vector([0,1,1])"
   ]
  },
  {
   "cell_type": "markdown",
   "metadata": {},
   "source": [
    "$y_k = A^k*y_0$         \n",
    "$y_k = SD^kS^{-1}*S\\begin{bmatrix}\n",
    "    0\\\\\n",
    "    1\\\\\n",
    "    1\n",
    "\\end{bmatrix}$         \n",
    "\n",
    "$y_k = SD^k\\begin{bmatrix}\n",
    "    0\\\\\n",
    "    1\\\\\n",
    "    1\n",
    "\\end{bmatrix}$         \n",
    "\n",
    "$y_k = \\begin{bmatrix}\n",
    "    -2 & 0 & 2\\\\\n",
    "    1 & -1 & 1\\\\\n",
    "    1 & 1 & 1\n",
    "\\end{bmatrix}\\begin{bmatrix}\n",
    "    0 & 0 & 0\\\\\n",
    "    0 & 1/2 & 0\\\\\n",
    "    0 & 0 & 1\n",
    "\\end{bmatrix}^k\\begin{bmatrix}\n",
    "    0\\\\\n",
    "    1\\\\\n",
    "    1\n",
    "\\end{bmatrix}$         "
   ]
  },
  {
   "cell_type": "markdown",
   "metadata": {},
   "source": [
    "## (e) Long term distribution"
   ]
  },
  {
   "cell_type": "markdown",
   "metadata": {},
   "source": [
    "This tells us that the long term distribution will be equal to the third eigenvector $\\begin{bmatrix}\n",
    "    2\\\\\n",
    "    1\\\\\n",
    "    1\n",
    "\\end{bmatrix}$.\n",
    "\n",
    "Since the first row of the eigenvalue matrix is full of zeroes, we will never have any component of eigenvector 1 in our state.\n",
    "\n",
    "Since the second row of the eigenvalue matrix only consists of values less than 1, it will approach zero as $k$ increases.      \n",
    "\n",
    "Since the last row of the eigenvalue matrix consists of only 0s and 1s, it will stay the same no matter how $k$ increases.     \n",
    "\n",
    "Thus, as $k$ becomes infinitely large, the only value left in the matrix will be the $1$ in the third row third column of the matrix.\n",
    "\n",
    "$D^\\infty = \\begin{bmatrix}\n",
    "    0 & 0 & 0\\\\\n",
    "    0 & 0 & 0\\\\\n",
    "    0 & 0 & 1\n",
    "\\end{bmatrix}$\n",
    "\n",
    "\n",
    "Thus when we multiply it with the coordinates of $y_0$, we get a bunch of zeroes and the last entry in the coordinates, which in this case is 1, resulting in $\\begin{bmatrix}\n",
    "    0\\\\\n",
    "    0\\\\\n",
    "    1\n",
    "\\end{bmatrix}$"
   ]
  },
  {
   "cell_type": "code",
   "execution_count": 21,
   "metadata": {},
   "outputs": [
    {
     "data": {
      "text/plain": [
       "[-2  0  2]\n",
       "[ 1 -1  1]\n",
       "[ 1  1  1]"
      ]
     },
     "execution_count": 21,
     "metadata": {},
     "output_type": "execute_result"
    }
   ],
   "source": [
    "S"
   ]
  },
  {
   "cell_type": "code",
   "execution_count": 22,
   "metadata": {},
   "outputs": [
    {
     "data": {
      "text/plain": [
       "[  0   0   0]\n",
       "[  0 1/2   0]\n",
       "[  0   0   1]"
      ]
     },
     "execution_count": 22,
     "metadata": {},
     "output_type": "execute_result"
    }
   ],
   "source": [
    "D"
   ]
  },
  {
   "cell_type": "code",
   "execution_count": null,
   "metadata": {},
   "outputs": [],
   "source": [
    "overleaf"
   ]
  }
 ],
 "metadata": {
  "kernelspec": {
   "display_name": "SageMath 8.7",
   "language": "",
   "name": "sagemath"
  },
  "language_info": {
   "codemirror_mode": {
    "name": "ipython",
    "version": 2
   },
   "file_extension": ".py",
   "mimetype": "text/x-python",
   "name": "python",
   "nbconvert_exporter": "python",
   "pygments_lexer": "ipython2",
   "version": "2.7.15"
  }
 },
 "nbformat": 4,
 "nbformat_minor": 2
}
