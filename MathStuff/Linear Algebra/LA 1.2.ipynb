{
 "cells": [
  {
   "cell_type": "code",
   "execution_count": 3,
   "metadata": {},
   "outputs": [
    {
     "name": "stdout",
     "output_type": "stream",
     "text": [
      "initial\n",
      "[ 1 -1  2 -3]\n",
      "[-2  1 -3  2]\n",
      "[ 3  4 -5 11]\n",
      "\n",
      "\n",
      "gaussian\n",
      "[ 1 -1  2 -3]\n",
      "[ 0 -1  1 -4]\n",
      "[ 0  0 -4 -8]\n",
      "\n",
      "\n",
      "echelon\n",
      "[ 1  0  0 -1]\n",
      "[ 0  1  0  6]\n",
      "[ 0  0  1  2]\n",
      "\n",
      "\n",
      "solution\n",
      "[ 1  0  0 -1]\n",
      "[ 0  1  0  6]\n",
      "[ 0  0  1  2]\n"
     ]
    }
   ],
   "source": [
    "A = matrix(QQ,[[1,-1,2,-3],[-2,1,-3,2],[3,4,-5,11]])\n",
    "\n",
    "print('initial')\n",
    "print(A)\n",
    "print('\\n')\n",
    "\n",
    "A.add_multiple_of_row(1,0,2)\n",
    "A.add_multiple_of_row(2,0,-3)\n",
    "\n",
    "A.add_multiple_of_row(2,1,7)\n",
    "print('gaussian')\n",
    "print(A)\n",
    "print('\\n')\n",
    "\n",
    "A.rescale_row(2,-1/4)\n",
    "\n",
    "A.add_multiple_of_row(1,2,-1)\n",
    "A.add_multiple_of_row(0,2,-2)\n",
    "\n",
    "A.add_multiple_of_row(0,1,-1)\n",
    "\n",
    "A.rescale_row(1,-1)\n",
    "print('echelon')\n",
    "print(A)\n",
    "print('\\n')\n",
    "\n",
    "A1 = matrix(QQ,[[1,-1,2,-3],[-2,1,-3,2],[3,4,-5,11]])\n",
    "print('solution')\n",
    "print(A1.rref())"
   ]
  },
  {
   "cell_type": "code",
   "execution_count": 7,
   "metadata": {},
   "outputs": [
    {
     "name": "stdout",
     "output_type": "stream",
     "text": [
      "initial\n",
      "[1 1 1]\n",
      "[2 2 2]\n",
      "\n",
      "\n",
      "gaussian\n",
      "[1 1 1]\n",
      "[0 0 0]\n",
      "\n",
      "\n",
      "solution\n",
      "[1 1 1]\n",
      "[0 0 0]\n"
     ]
    }
   ],
   "source": [
    "B = matrix(QQ,[[1,1,1],[2,2,2]])\n",
    "\n",
    "print('initial')\n",
    "print(B)\n",
    "print('\\n')\n",
    "\n",
    "B.add_multiple_of_row(1,0,-2)\n",
    "\n",
    "print('gaussian')\n",
    "print(B)\n",
    "print('\\n')\n",
    "\n",
    "B1 = matrix(QQ,[[1,1,1],[2,2,2]])\n",
    "print('solution')\n",
    "print(B1.rref())"
   ]
  },
  {
   "cell_type": "code",
   "execution_count": 12,
   "metadata": {},
   "outputs": [
    {
     "name": "stdout",
     "output_type": "stream",
     "text": [
      "initial\n",
      "[ 3  2 -5  4]\n",
      "[ 1  1 -2  1]\n",
      "[ 5  3 -8  6]\n",
      "\n",
      "\n",
      "CONTRADICTION\n",
      "[   3    2   -5    4]\n",
      "[   0  1/3 -1/3 -1/3]\n",
      "[   0    0    0   -1]\n",
      "\n",
      "\n",
      "solution\n",
      "[ 1  0 -1  0]\n",
      "[ 0  1 -1  0]\n",
      "[ 0  0  0  1]\n"
     ]
    }
   ],
   "source": [
    "C = matrix(QQ,[[3,2,-5,4],[1,1,-2,1],[5,3,-8,6]])\n",
    "\n",
    "print('initial')\n",
    "print(C)\n",
    "print('\\n')\n",
    "\n",
    "C.add_multiple_of_row(1,0,-1/3)\n",
    "C.add_multiple_of_row(2,0,-5/3)\n",
    "C.add_multiple_of_row(2,1,1)\n",
    "\n",
    "print('CONTRADICTION')\n",
    "print(C)\n",
    "print('\\n')\n",
    "\n",
    "C1 = matrix(QQ,[[3,2,-5,4],[1,1,-2,1],[5,3,-8,6]])\n",
    "print('solution')\n",
    "print(C1.rref())"
   ]
  },
  {
   "cell_type": "code",
   "execution_count": 13,
   "metadata": {},
   "outputs": [
    {
     "name": "stdout",
     "output_type": "stream",
     "text": [
      "initial\n",
      "[-1  0  1 -1  3]\n",
      "[ 2  1 -1 -7  1]\n",
      "[ 4 -1 -9 -5 -2]\n",
      "[ 3 -1 -8 -6  1]\n",
      "\n",
      "\n",
      "CONTRADICTION\n",
      "[   -1     0     1    -1     3]\n",
      "[  7/3     1  -4/3 -20/3     0]\n",
      "[    8     0   -12   -10    -7]\n",
      "[    3    -1    -8    -6     1]\n",
      "\n",
      "\n",
      "solution\n",
      "[ 1  0 -1  0]\n",
      "[ 0  1 -1  0]\n",
      "[ 0  0  0  1]\n"
     ]
    }
   ],
   "source": [
    "D = matrix(QQ,[[-1,0,1,-1,3],[2,1,-1,-7,1],[4,-1,-9,-5,-2],[3,-1,-8,-6,1]])\n",
    "\n",
    "print('initial')\n",
    "print(D)\n",
    "print('\\n')\n",
    "\n",
    "D.add_multiple_of_row(1,0,-1/3)\n",
    "D.add_multiple_of_row(2,0,-5/3)\n",
    "D.add_multiple_of_row(2,1,1)\n",
    "\n",
    "print('CONTRADICTION')\n",
    "print(D)\n",
    "print('\\n')\n",
    "\n",
    "D1 = matrix(QQ,[[3,2,-5,4],[1,1,-2,1],[5,3,-8,6]])\n",
    "print('solution')\n",
    "print(D1.rref())"
   ]
  },
  {
   "cell_type": "code",
   "execution_count": 30,
   "metadata": {
    "scrolled": true
   },
   "outputs": [
    {
     "name": "stdout",
     "output_type": "stream",
     "text": [
      "initial\n",
      "[-1  0  1 -1  3]\n",
      "[ 2  1 -1 -7  1]\n",
      "[ 4 -1 -9 -5 -2]\n",
      "[ 3 -1 -8 -6  1]\n",
      "\n",
      "\n",
      "echelon\n",
      "[    1     0     0  11/2 -29/4]\n",
      "[    0     1     0 -27/2  45/4]\n",
      "[    0     0     1   9/2 -17/4]\n",
      "[    0     0     0     0     0]\n",
      "\n",
      "\n",
      "solution\n",
      "[    1     0     0  11/2 -29/4]\n",
      "[    0     1     0 -27/2  45/4]\n",
      "[    0     0     1   9/2 -17/4]\n",
      "[    0     0     0     0     0]\n"
     ]
    }
   ],
   "source": [
    "D = matrix(QQ,[[-1,0,1,-1,3],[2,1,-1,-7,1],[4,-1,-9,-5,-2],[3,-1,-8,-6,1]])\n",
    "\n",
    "print('initial')\n",
    "print(D)\n",
    "print('\\n')\n",
    "\n",
    "D.rescale_row(0,-1)\n",
    "D.add_multiple_of_row(1,0,-2)\n",
    "D.add_multiple_of_row(2,0,-4)\n",
    "D.add_multiple_of_row(3,0,-3)\n",
    "D.add_multiple_of_row(2,1,1)\n",
    "D.add_multiple_of_row(3,1,1)\n",
    "D.add_multiple_of_row(3,2,-1)\n",
    "D.rescale_row(2,-1/4)\n",
    "D.add_multiple_of_row(1,2,-1)\n",
    "D.add_multiple_of_row(0,2,1)\n",
    "\n",
    "\n",
    "print('echelon')\n",
    "print(D)\n",
    "print('\\n')\n",
    "\n",
    "D1 = matrix(QQ,[[-1,0,1,-1,3],[2,1,-1,-7,1],[4,-1,-9,-5,-2],[3,-1,-8,-6,1]])\n",
    "print('solution')\n",
    "print(D1.rref())"
   ]
  },
  {
   "cell_type": "code",
   "execution_count": null,
   "metadata": {},
   "outputs": [],
   "source": []
  }
 ],
 "metadata": {
  "kernelspec": {
   "display_name": "SageMath 8.5",
   "language": "",
   "name": "sagemath"
  },
  "language_info": {
   "codemirror_mode": {
    "name": "ipython",
    "version": 2
   },
   "file_extension": ".py",
   "mimetype": "text/x-python",
   "name": "python",
   "nbconvert_exporter": "python",
   "pygments_lexer": "ipython2",
   "version": "2.7.15"
  }
 },
 "nbformat": 4,
 "nbformat_minor": 2
}
