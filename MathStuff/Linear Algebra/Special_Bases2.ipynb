{
 "cells": [
  {
   "cell_type": "markdown",
   "metadata": {},
   "source": [
    "# 1. EigenLBA"
   ]
  },
  {
   "cell_type": "markdown",
   "metadata": {},
   "source": [
    "_________"
   ]
  },
  {
   "cell_type": "markdown",
   "metadata": {},
   "source": [
    "# 2. QR Factorization"
   ]
  },
  {
   "cell_type": "markdown",
   "metadata": {},
   "source": [
    "## (a) Orthonormalize"
   ]
  },
  {
   "cell_type": "markdown",
   "metadata": {},
   "source": [
    "$$A=\\begin{bmatrix}\n",
    "    2 & 3 \\\\\n",
    "    0 & -2\n",
    "\\end{bmatrix}$$\n",
    "\n",
    "$V1=\\begin{bmatrix}\n",
    "    2\\\\\n",
    "    0\n",
    "\\end{bmatrix}$\n",
    "\n",
    "$V2=\\begin{bmatrix}\n",
    "    3\\\\\n",
    "    -2\n",
    "\\end{bmatrix}$\n",
    "\n",
    "**Normalize the first vector**:     \n"
   ]
  },
  {
   "cell_type": "code",
   "execution_count": 49,
   "metadata": {},
   "outputs": [
    {
     "data": {
      "text/plain": [
       "(1, 0)"
      ]
     },
     "execution_count": 49,
     "metadata": {},
     "output_type": "execute_result"
    }
   ],
   "source": [
    "A = matrix(QQ,[[2,3],[0,-2]])\n",
    "v1 = vector([2,0])\n",
    "a = v1.norm()\n",
    "# divide the first first vector by its length\n",
    "w1 = v1/a\n",
    "w1"
   ]
  },
  {
   "cell_type": "markdown",
   "metadata": {},
   "source": [
    "**Make the second vector orthogonal to the first vector**      "
   ]
  },
  {
   "cell_type": "code",
   "execution_count": 50,
   "metadata": {},
   "outputs": [
    {
     "data": {
      "text/plain": [
       "(0, -2)"
      ]
     },
     "execution_count": 50,
     "metadata": {},
     "output_type": "execute_result"
    }
   ],
   "source": [
    "v2 = vector([3,-2])\n",
    "b = w1.dot_product(v2)\n",
    "\n",
    "w2 = v2 - (b*w1)\n",
    "w2"
   ]
  },
  {
   "cell_type": "markdown",
   "metadata": {},
   "source": [
    "**Normalize the second vector**      "
   ]
  },
  {
   "cell_type": "code",
   "execution_count": 51,
   "metadata": {
    "scrolled": true
   },
   "outputs": [
    {
     "data": {
      "text/plain": [
       "(0, -1)"
      ]
     },
     "execution_count": 51,
     "metadata": {},
     "output_type": "execute_result"
    }
   ],
   "source": [
    "d = w2.norm()\n",
    "w2 = w2/d\n",
    "w2"
   ]
  },
  {
   "cell_type": "code",
   "execution_count": 52,
   "metadata": {},
   "outputs": [
    {
     "name": "stdout",
     "output_type": "stream",
     "text": [
      "(2, 3, 2)\n"
     ]
    }
   ],
   "source": [
    "print(a,b,d)"
   ]
  },
  {
   "cell_type": "markdown",
   "metadata": {},
   "source": [
    "**Putting the new vectors together to form $Q$**      "
   ]
  },
  {
   "cell_type": "code",
   "execution_count": 54,
   "metadata": {
    "scrolled": true
   },
   "outputs": [
    {
     "data": {
      "text/plain": [
       "[ 1  0]\n",
       "[ 0 -1]"
      ]
     },
     "execution_count": 54,
     "metadata": {},
     "output_type": "execute_result"
    }
   ],
   "source": [
    "Q = matrix(QQ,[w1,w2]).transpose()\n",
    "Q"
   ]
  },
  {
   "cell_type": "markdown",
   "metadata": {},
   "source": [
    "_________"
   ]
  },
  {
   "cell_type": "markdown",
   "metadata": {},
   "source": [
    "## (b) Find R"
   ]
  },
  {
   "cell_type": "markdown",
   "metadata": {},
   "source": [
    "Since we already know Q and A, and since Q is necessarily an invertible matrix (since the inverse of an orthonormal matrix is simply its transpose as Q^TQ=I: any vector dotted by itself will become its length which is 1 since all vectors are normalized, and any vector dotted with any other vector will become 0 since they're orthogonal), we can easily find R by rearranging the equation:   \n",
    "\n",
    "$A=QR$    \n",
    "$Q^TA=R$"
   ]
  },
  {
   "cell_type": "code",
   "execution_count": 55,
   "metadata": {},
   "outputs": [
    {
     "data": {
      "text/plain": [
       "[2 3]\n",
       "[0 2]"
      ]
     },
     "execution_count": 55,
     "metadata": {},
     "output_type": "execute_result"
    }
   ],
   "source": [
    "R1 = Q.inverse()*A\n",
    "R1"
   ]
  },
  {
   "cell_type": "markdown",
   "metadata": {},
   "source": [
    "$R = \\begin{bmatrix}\n",
    "    2 & 3 \\\\\n",
    "    0 & 2\n",
    "\\end{bmatrix}$"
   ]
  },
  {
   "cell_type": "markdown",
   "metadata": {},
   "source": [
    "However, analyzing $R$ deeper shows us its relationship with the Gram-Schmidt process.\n",
    "\n",
    "\n",
    "If we abstract the values and just look at the equations:\n",
    "\n",
    "$A = QR$       \n",
    "\n",
    "Let original vectors be denoted by $v$ and orthonormalized vectors be denoted by $w$\n",
    "\n",
    "$\\begin{bmatrix}\n",
    "    v1 & v2\n",
    "\\end{bmatrix} = \\begin{bmatrix}\n",
    "    w1 & w2\n",
    "\\end{bmatrix}\\begin{bmatrix}\n",
    "    a & b \\\\\n",
    "    c & d\n",
    "\\end{bmatrix}$    \n",
    "\n",
    "Expanding this out we get:     \n",
    "$\\begin{bmatrix}\n",
    "    v1 & v2\n",
    "\\end{bmatrix} = \\begin{bmatrix}\n",
    "    aw1+cw2 & bw1+dw2\n",
    "\\end{bmatrix}$     \n",
    "\n",
    "In other words,      \n",
    "$v1=aw1+cw2$     \n",
    "and     \n",
    "$v2=bw1+dw2$       \n",
    "\n",
    "\n",
    "Essentially, this is saying that the original vectors $v$ can be decomposed into linear combinations of the orthonormalized vectors $w$ which makes a lot of that is how the $w$s are derived.      \n",
    "\n",
    "To get the compositions, we need to get the dot products of each $v$ onto the $w$ components.\n",
    "\n",
    "**Understanding $a$**      \n",
    "$a = v1 \\bullet w1$.     \n",
    "Additionally since we know that $w1$ is just a normalized version of $v1$, $a$ is equal to the length of $w1$.\n",
    "\n",
    "\n",
    "**Understanding $c$**      \n",
    "$c = v1 \\bullet w2$.       \n",
    "Additionally since the way Gram Schmidt algorithm works is by basing the orthonormal basis on the first vector considered (it only scales the first vector then makes all other vectors orthogonal), we know that $w2$ should be orthogonal to $v1$. Thus, $c=0$.\n",
    "\n",
    "**Understanding $b$**      \n",
    "$b = v2 \\bullet w1$.\n",
    "\n",
    "**Understanding $d$**      \n",
    "$b = v2 \\bullet w2$.\n",
    "\n",
    "**Why $R$ is Upper Triangular**      \n",
    "This explains why $R$ is always an upper triangular matrix. Because the way Gram Schmidt works is that it makes each vector orthogonal to the vectors that have come before it, the components of all $w_{>n}$s in $v_n$ will always be 0.\n",
    "\n",
    "**Shortcut to Finding R after doing Gram-Schmidt**    \n",
    "Since we already calculated all these dot products when doing the Gram-Schmidt process, we can use them again to fill our R"
   ]
  },
  {
   "cell_type": "code",
   "execution_count": 56,
   "metadata": {
    "scrolled": false
   },
   "outputs": [
    {
     "data": {
      "text/plain": [
       "True"
      ]
     },
     "execution_count": 56,
     "metadata": {},
     "output_type": "execute_result"
    }
   ],
   "source": [
    "R2 = matrix(QQ,[[a,b],[0,d]])\n",
    "R2 == R1"
   ]
  },
  {
   "cell_type": "markdown",
   "metadata": {},
   "source": [
    "_________"
   ]
  },
  {
   "cell_type": "markdown",
   "metadata": {},
   "source": [
    "## (c) Repeat with 3d Matrix"
   ]
  },
  {
   "cell_type": "markdown",
   "metadata": {},
   "source": [
    "### Finding Q"
   ]
  },
  {
   "cell_type": "markdown",
   "metadata": {},
   "source": [
    "**Normalize v1**"
   ]
  },
  {
   "cell_type": "code",
   "execution_count": 84,
   "metadata": {
    "scrolled": true
   },
   "outputs": [
    {
     "data": {
      "text/plain": [
       "(1/2*sqrt(2), 1/2*sqrt(2), 0)"
      ]
     },
     "execution_count": 84,
     "metadata": {},
     "output_type": "execute_result"
    }
   ],
   "source": [
    "At = matrix(QQ,[[1,1,0],[1,0,1],[0,1,1]])\n",
    "vt1 = vector([1,1,0])\n",
    "vt2 = vector([1,0,1])\n",
    "vt3 = vector([0,1,1])\n",
    "\n",
    "a = vt1.norm()\n",
    "# divide the first first vector by its length\n",
    "wt1 = vt1/a\n",
    "wt1"
   ]
  },
  {
   "cell_type": "markdown",
   "metadata": {},
   "source": [
    "**Orthogonalize v2**"
   ]
  },
  {
   "cell_type": "code",
   "execution_count": 85,
   "metadata": {
    "scrolled": true
   },
   "outputs": [
    {
     "data": {
      "text/plain": [
       "(1/2, -1/2, 1)"
      ]
     },
     "execution_count": 85,
     "metadata": {},
     "output_type": "execute_result"
    }
   ],
   "source": [
    "b = wt1.dot_product(vt2)\n",
    "\n",
    "wt2 = vt2 - (b*wt1)\n",
    "wt2"
   ]
  },
  {
   "cell_type": "markdown",
   "metadata": {},
   "source": [
    "**Normalize v2**"
   ]
  },
  {
   "cell_type": "code",
   "execution_count": 86,
   "metadata": {},
   "outputs": [
    {
     "data": {
      "text/plain": [
       "(1/3*sqrt(3/2), -1/3*sqrt(3/2), 2/3*sqrt(3/2))"
      ]
     },
     "execution_count": 86,
     "metadata": {},
     "output_type": "execute_result"
    }
   ],
   "source": [
    "e = wt2.norm()\n",
    "\n",
    "wt2 = wt2/e\n",
    "wt2"
   ]
  },
  {
   "cell_type": "markdown",
   "metadata": {},
   "source": [
    "**Orthogonalize v3**"
   ]
  },
  {
   "cell_type": "code",
   "execution_count": 87,
   "metadata": {
    "scrolled": true
   },
   "outputs": [
    {
     "data": {
      "text/plain": [
       "(-2/3, 2/3, 2/3)"
      ]
     },
     "execution_count": 87,
     "metadata": {},
     "output_type": "execute_result"
    }
   ],
   "source": [
    "c = wt1.dot_product(vt3)\n",
    "f = wt2.dot_product(vt3)\n",
    "\n",
    "wt3 = vt3 - (c*wt1) - (f*wt2)\n",
    "wt3"
   ]
  },
  {
   "cell_type": "markdown",
   "metadata": {},
   "source": [
    "**Normalize v3**"
   ]
  },
  {
   "cell_type": "code",
   "execution_count": 88,
   "metadata": {
    "scrolled": false
   },
   "outputs": [
    {
     "data": {
      "text/plain": [
       "(-sqrt(1/3), sqrt(1/3), sqrt(1/3))"
      ]
     },
     "execution_count": 88,
     "metadata": {},
     "output_type": "execute_result"
    }
   ],
   "source": [
    "i = wt3.norm()\n",
    "wt3 = wt3/i\n",
    "wt3"
   ]
  },
  {
   "cell_type": "markdown",
   "metadata": {},
   "source": [
    "**Putting the new vectors together to form $Q$**      "
   ]
  },
  {
   "cell_type": "code",
   "execution_count": 89,
   "metadata": {
    "scrolled": false
   },
   "outputs": [
    {
     "data": {
      "text/plain": [
       "[   1/2*sqrt(2)  1/3*sqrt(3/2)     -sqrt(1/3)]\n",
       "[   1/2*sqrt(2) -1/3*sqrt(3/2)      sqrt(1/3)]\n",
       "[             0  2/3*sqrt(3/2)      sqrt(1/3)]"
      ]
     },
     "execution_count": 89,
     "metadata": {},
     "output_type": "execute_result"
    }
   ],
   "source": [
    "Qt = matrix([wt1,wt2,wt3]).transpose()\n",
    "Qt"
   ]
  },
  {
   "cell_type": "markdown",
   "metadata": {},
   "source": [
    "### Finding R"
   ]
  },
  {
   "cell_type": "markdown",
   "metadata": {},
   "source": [
    "**Using Sage**   "
   ]
  },
  {
   "cell_type": "code",
   "execution_count": 90,
   "metadata": {
    "scrolled": true
   },
   "outputs": [
    {
     "data": {
      "text/plain": [
       "[      sqrt(2)   1/2*sqrt(2)   1/2*sqrt(2)]\n",
       "[            0     sqrt(3/2) 1/3*sqrt(3/2)]\n",
       "[            0             0   2*sqrt(1/3)]"
      ]
     },
     "execution_count": 90,
     "metadata": {},
     "output_type": "execute_result"
    }
   ],
   "source": [
    "Rt1 = Qt.inverse()*At\n",
    "Rt1"
   ]
  },
  {
   "cell_type": "markdown",
   "metadata": {},
   "source": [
    "**Using Dot Products**   "
   ]
  },
  {
   "cell_type": "code",
   "execution_count": 93,
   "metadata": {},
   "outputs": [
    {
     "data": {
      "text/plain": [
       "True"
      ]
     },
     "execution_count": 93,
     "metadata": {},
     "output_type": "execute_result"
    }
   ],
   "source": [
    "Rt2 = matrix([[a,b,c],[0,e,f],[0,0,i]])\n",
    "Rt2==Rt1"
   ]
  },
  {
   "cell_type": "markdown",
   "metadata": {},
   "source": [
    "_________"
   ]
  },
  {
   "cell_type": "markdown",
   "metadata": {},
   "source": [
    "## (d) vector b as a linear combination of q1 and q2"
   ]
  },
  {
   "cell_type": "code",
   "execution_count": null,
   "metadata": {},
   "outputs": [],
   "source": [
    "# diagram"
   ]
  },
  {
   "cell_type": "markdown",
   "metadata": {},
   "source": [
    "_________"
   ]
  },
  {
   "cell_type": "markdown",
   "metadata": {},
   "source": [
    "## (e) vector c as a linear combination of q1, q2 and q3"
   ]
  },
  {
   "cell_type": "code",
   "execution_count": null,
   "metadata": {},
   "outputs": [],
   "source": [
    "# diagram"
   ]
  },
  {
   "cell_type": "markdown",
   "metadata": {},
   "source": [
    "_________"
   ]
  },
  {
   "cell_type": "markdown",
   "metadata": {},
   "source": [
    "## (f) How is R related to the steps performed to find Q?"
   ]
  },
  {
   "cell_type": "markdown",
   "metadata": {},
   "source": [
    "_________"
   ]
  },
  {
   "cell_type": "markdown",
   "metadata": {},
   "source": [
    "## (g) What the entries of R must be in general?"
   ]
  },
  {
   "cell_type": "markdown",
   "metadata": {},
   "source": [
    "_________"
   ]
  },
  {
   "cell_type": "markdown",
   "metadata": {},
   "source": [
    "## (f) Change of Basis Matrix from A to Q? Relation to R?"
   ]
  },
  {
   "cell_type": "markdown",
   "metadata": {},
   "source": [
    "_________"
   ]
  }
 ],
 "metadata": {
  "kernelspec": {
   "display_name": "SageMath 8.7",
   "language": "",
   "name": "sagemath"
  },
  "language_info": {
   "codemirror_mode": {
    "name": "ipython",
    "version": 2
   },
   "file_extension": ".py",
   "mimetype": "text/x-python",
   "name": "python",
   "nbconvert_exporter": "python",
   "pygments_lexer": "ipython2",
   "version": "2.7.15"
  }
 },
 "nbformat": 4,
 "nbformat_minor": 2
}
