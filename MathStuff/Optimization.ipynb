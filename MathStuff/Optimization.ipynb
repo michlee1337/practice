{
 "cells": [
  {
   "cell_type": "markdown",
   "metadata": {},
   "source": [
    "*side note I could format the math nicely but I like typing math in a way that I can copy into code when doing personal calculations*"
   ]
  },
  {
   "cell_type": "markdown",
   "metadata": {},
   "source": [
    "#### You have 20 ft of wire that you want to cut and fold into two different shapes, a circle and a square. You must use all of the wire in your construction. Consider the following scenarios:"
   ]
  },
  {
   "cell_type": "markdown",
   "metadata": {},
   "source": [
    "    (a) How would you cut the wire if you want to have the minimal area possible enclosed by your two shapes? How much of the wire would be used for the circle/square?\n",
    "    \n",
    "length of wire as a function of defining factors of the two shapes\n",
    "$$ W(r,s) = 2*pi*r + 4*s $$\n",
    "\n",
    "total area as a function of defining factors of the two shapes\n",
    "$$ A(r,s) = pi*r^2 + s^2 $$\n",
    "\n",
    "rearrange constraint function (length of wire)\n",
    "$$ 20 = 2*pi*r + 4*s $$\n",
    "$$ s = (20 - 2*pi*r)/4 $$\n",
    "\n",
    "sub constraint into function to be minimized (total area)\n",
    "$$ A(r) = pi*r^2 + ((20 - 2*pi*r)/4)^2 $$"
   ]
  },
  {
   "cell_type": "code",
   "execution_count": 1,
   "metadata": {},
   "outputs": [
    {
     "data": {
      "text/plain": [
       "r |--> 1/2*pi*(pi*r - 10) + 2*pi*r"
      ]
     },
     "execution_count": 1,
     "metadata": {},
     "output_type": "execute_result"
    }
   ],
   "source": [
    "# derive the function the be minimized\n",
    "A(r) = pi*r^2 + ((20 - 2*pi*r)/4)^2\n",
    "A.diff(r)"
   ]
  },
  {
   "cell_type": "code",
   "execution_count": 2,
   "metadata": {},
   "outputs": [
    {
     "data": {
      "text/plain": [
       "[r == 10/(pi + 4)]"
      ]
     },
     "execution_count": 2,
     "metadata": {},
     "output_type": "execute_result"
    }
   ],
   "source": [
    "# find critical points\n",
    "f = 1/2*pi*(pi*r - 10) + 2*pi*r\n",
    "\n",
    "solve(1/2*pi*(pi*r - 10) + 2*pi*r==0,r)"
   ]
  },
  {
   "cell_type": "code",
   "execution_count": 3,
   "metadata": {},
   "outputs": [
    {
     "data": {
      "text/plain": [
       "-5*pi/(pi + 4) + 5"
      ]
     },
     "execution_count": 3,
     "metadata": {},
     "output_type": "execute_result"
    }
   ],
   "source": [
    "# sub r back in to find s\n",
    "s(r) = (20 - 2*pi*r)/4\n",
    "\n",
    "s(10/(pi + 4))"
   ]
  },
  {
   "cell_type": "code",
   "execution_count": 4,
   "metadata": {},
   "outputs": [
    {
     "data": {
      "text/plain": [
       "25*(pi/(pi + 4) - 1)^2 + 100*pi/(pi + 4)^2"
      ]
     },
     "execution_count": 4,
     "metadata": {},
     "output_type": "execute_result"
    }
   ],
   "source": [
    "# find area using s and r\n",
    "A(10/(pi + 4),-5*pi/(pi + 4) + 5)"
   ]
  },
  {
   "cell_type": "markdown",
   "metadata": {},
   "source": [
    "    (b) How would you cut the wire if you want to have the maximal area possible enclosed by your two shapes? How much of the wire would be used for the circle/square?\n"
   ]
  },
  {
   "cell_type": "code",
   "execution_count": 5,
   "metadata": {},
   "outputs": [
    {
     "data": {
      "text/plain": [
       "25"
      ]
     },
     "execution_count": 5,
     "metadata": {},
     "output_type": "execute_result"
    }
   ],
   "source": [
    "# looks pretty concave\n",
    "\n",
    "# check endpoint behavior\n",
    "\n",
    "# when r = 0\n",
    "A(r,s) = pi*r^2 + s^2\n",
    "s(r) = (20 - 2*pi*r)/4\n",
    "A(0,s(0))"
   ]
  },
  {
   "cell_type": "code",
   "execution_count": 6,
   "metadata": {},
   "outputs": [
    {
     "data": {
      "text/plain": [
       "361*pi + 1/4*(19*pi - 10)^2"
      ]
     },
     "execution_count": 6,
     "metadata": {},
     "output_type": "execute_result"
    }
   ],
   "source": [
    "# when r = 20\n",
    "A(r,s) = pi*r^2 + s^2\n",
    "s(r) = (20 - 2*pi*r)/4\n",
    "A(19,s(19))"
   ]
  },
  {
   "cell_type": "markdown",
   "metadata": {},
   "source": [
    "#### A movie theater is considering changing the price of their tickets to attract more customers. They currently charge 15 per ticket and have 250 customers every weekend. They believe that every dollar decrease would lead to 10 more customers, and similarly, every dollar increase would lead to 10 less customers. What would be the price that would yield maximal profit? What is the maximal profit?\n",
    "\n",
    "current state: c = 15; p = 250\n",
    "rate of change dP/dC = -10\n",
    "\n",
    "$$ p(c) = -10*c + u $$\n",
    "\n",
    "sub in current state\n",
    "$$  250 = -10*15 + u $$\n",
    "\n",
    "$$ u = 400 $$\n",
    "$$ p(c) = -10*c + 400 $$\n",
    "\n",
    "finding function to be maximized\n",
    "$$profit(p,c) = p*c $$\n",
    "\n",
    "defining constraint\n",
    "$$ p(c) = -10*c + 400$$\n",
    "\n",
    "redfining function w constraint var\n",
    "\n",
    "$$profit(p,c) = (-10*c + 400)*c $$"
   ]
  },
  {
   "cell_type": "code",
   "execution_count": 7,
   "metadata": {},
   "outputs": [
    {
     "data": {
      "text/plain": [
       "[c == 20]"
      ]
     },
     "execution_count": 7,
     "metadata": {},
     "output_type": "execute_result"
    }
   ],
   "source": [
    "# find critical point\n",
    "profit(c) = (-10*c + 400)*c\n",
    "solve(profit.diff(c),c)"
   ]
  },
  {
   "cell_type": "code",
   "execution_count": 8,
   "metadata": {},
   "outputs": [
    {
     "data": {
      "text/plain": [
       "4000"
      ]
     },
     "execution_count": 8,
     "metadata": {},
     "output_type": "execute_result"
    }
   ],
   "source": [
    "# sub back in to find total profit\n",
    "profit(c) = (-10*c + 400)*c\n",
    "profit(20)"
   ]
  },
  {
   "cell_type": "code",
   "execution_count": null,
   "metadata": {},
   "outputs": [],
   "source": []
  }
 ],
 "metadata": {
  "kernelspec": {
   "display_name": "SageMath 8.3",
   "language": "",
   "name": "sagemath"
  },
  "language_info": {
   "codemirror_mode": {
    "name": "ipython",
    "version": 2
   },
   "file_extension": ".py",
   "mimetype": "text/x-python",
   "name": "python",
   "nbconvert_exporter": "python",
   "pygments_lexer": "ipython2",
   "version": "2.7.15"
  }
 },
 "nbformat": 4,
 "nbformat_minor": 2
}
