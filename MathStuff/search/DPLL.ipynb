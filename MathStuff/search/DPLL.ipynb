{
 "cells": [
  {
   "cell_type": "markdown",
   "metadata": {},
   "source": [
    "Before you turn in this assignment, make sure everything runs as expected. First, **restart the kernel** (in the menubar, select Kernel$\\rightarrow$Restart) and then run the test cells for each of the questions you have answered.  Note that a grade of 3 for the related LOs requires all tests in the \"Basic Functionality\" section to be passed.  The test cells pass if they execute with no errors (i.e. all the assertions are passed).\n",
    "\n",
    "Make sure you fill in any place that says `YOUR CODE HERE`.  Be sure to remove the `raise NotImplementedError()` statements as you implement your code - these are simply there as a reminder if you forget to add code where it's needed."
   ]
  },
  {
   "cell_type": "markdown",
   "metadata": {},
   "source": [
    "---"
   ]
  },
  {
   "cell_type": "markdown",
   "metadata": {
    "deletable": false,
    "editable": false,
    "nbgrader": {
     "cell_type": "markdown",
     "checksum": "69f9950e2c060ad5c3cc41d2c78fa636",
     "grade": false,
     "grade_id": "cell-36d7173cbd11c12a",
     "locked": true,
     "schema_version": 3,
     "solution": false,
     "task": false
    }
   },
   "source": [
    "<h1>CS152 Assignment 2: The DPLL Algorithm</h1>"
   ]
  },
  {
   "cell_type": "markdown",
   "metadata": {
    "deletable": false,
    "editable": false,
    "nbgrader": {
     "cell_type": "markdown",
     "checksum": "7947006e03ad4d3e0b5469c4ddf997f0",
     "grade": false,
     "grade_id": "cell-8ec27aa9925ffc86",
     "locked": true,
     "schema_version": 3,
     "solution": false,
     "task": false
    }
   },
   "source": [
    "<h1>Question 1</h1>\n",
    "\n",
    "Define your <code>Literal</code> class below.  Ensure that you define a <code>name</code> and <code>sign</code> attribute as required in the assignment description.  In addition, include any other attributes and member functions as needed. You will need to overload <code>__neg__()</code> to correctly handle negated literals.  You may need to overload <code>__eq__()</code> and <code>__hash__()</code> also."
   ]
  },
  {
   "cell_type": "code",
   "execution_count": 2,
   "metadata": {
    "deletable": false,
    "nbgrader": {
     "cell_type": "code",
     "checksum": "6f3dcb95b91cd3b0f526b89f339b3fe9",
     "grade": false,
     "grade_id": "cell-575ae3fbbe1ccbf6",
     "locked": false,
     "schema_version": 3,
     "solution": true,
     "task": false
    }
   },
   "outputs": [],
   "source": [
    "# Import any packages you need here\n",
    "# Also define any variables as needed\n",
    "\n",
    "# YOUR CODE HERE (OPTIONAL)\n",
    "\n",
    "class Literal:\n",
    "    def __init__(self, name, sign=True):\n",
    "        self.name = name\n",
    "        self.sign = sign\n",
    "    def __neg__(self):\n",
    "        return(Literal(self.name, not self.sign))\n",
    "    def __eq__(self, other):\n",
    "        return(self.name == other.name and self.sign == other.sign)\n",
    "    def __str__(self):\n",
    "        if self.sign:\n",
    "            return(self.name)\n",
    "        else:\n",
    "            return(\"-\" + self.name)\n",
    "    def __hash__(self):\n",
    "        return(hash(str(self)))    \n"
   ]
  },
  {
   "cell_type": "markdown",
   "metadata": {
    "deletable": false,
    "editable": false,
    "nbgrader": {
     "cell_type": "markdown",
     "checksum": "7e6af6a3602f2712265baf6d3ce930f4",
     "grade": false,
     "grade_id": "cell-5df02e9e3f9998b4",
     "locked": true,
     "schema_version": 3,
     "solution": false,
     "task": false
    }
   },
   "source": [
    "<h1>Question 2</h1>\n",
    "Implement DPLL by filling in the stubs below.  Note that the various heuristics are not required to be implemented for basic functionality, but a template has been provided for you to do so if you attempt the extension questions"
   ]
  },
  {
   "cell_type": "code",
   "execution_count": 75,
   "metadata": {
    "deletable": false,
    "nbgrader": {
     "cell_type": "code",
     "checksum": "4ddf2e140725e3b8a6048c92bac9580c",
     "grade": false,
     "grade_id": "cell-2846b43cfaf88026",
     "locked": false,
     "schema_version": 3,
     "solution": true,
     "task": false
    }
   },
   "outputs": [],
   "source": [
    "# Define degree, pure symbol and unit clause heuristics here (optional).\n",
    "# Add in your functions under the templates below\n",
    "import copy\n",
    "\n",
    "# FOR DEBUGGING\n",
    "def printkb(kb):\n",
    "    print(\">>>\")\n",
    "    for k in kb:\n",
    "        print([str(c) for c in k])\n",
    "    print(\"<<<\")\n",
    "    return(0)\n",
    "\n",
    "\n",
    "def DPLL_Satisfiable(KB, heuristic_level=0):\n",
    "    ''' satisfiable, model = DPLLSatisfiable(KB)\n",
    "        Takes in a KB and returns whether the KB is satisfiable, and the model that makes it so\n",
    "        \n",
    "        KB: A knowledge base of clauses (CNF) consisting of a list of sets of literals.  A KB might look like\n",
    "            [{A,B},{-A,C,D}]\n",
    "        heuristic_level: An integer that will be passed in to specify which heuristics to implement \n",
    "            (only for the extension activities).\n",
    "        satisfiable: Returns True if the KB is satisfiable, or False otherwise\n",
    "        Model: A dictionary that assigns a truth value to each literal for the model that satisfies KB.\n",
    "            For example, a model might look like {A: True, B: False}\n",
    "    '''\n",
    "    ss = {d.name for v in KB for d in v} # set of unassigned symbols\n",
    "    \n",
    "    def DPLL(cs, ss, m, s, o):\n",
    "        \n",
    "        '''\n",
    "        cs = clauses\n",
    "        ss = symbols\n",
    "        m = model\n",
    "        '''\n",
    "        # >>> DEBUG\n",
    "        print(\"###\")\n",
    "        print('try',s)\n",
    "        print(ss)\n",
    "        printkb(cs)\n",
    "        print(\"###\")\n",
    "        # DEBUG <<<\n",
    "        \n",
    "        # prevent reference error\n",
    "        ucs = copy.deepcopy(cs)\n",
    "        nss = copy.deepcopy(ss)\n",
    "        \n",
    "        # remove clauses that have s\n",
    "        ucs = [c for c in ucs if s not in c]\n",
    "        # remove not s from clauses\n",
    "        [c.discard(-s) for c in ucs]\n",
    "        \n",
    "        # update model\n",
    "        if s.sign: m[s] = True\n",
    "        else: m[-s] = False\n",
    "        \n",
    "        # update ordered list of assignment\n",
    "        o.append(s)\n",
    "        \n",
    "        # >>> DEBUG\n",
    "        print(\"check\")\n",
    "        printkb(ucs)\n",
    "        # DEBUG <<<\n",
    "        \n",
    "        if not ucs:\n",
    "            return(True, m, s)\n",
    "        elif set() in ucs:\n",
    "            return(False, {}, s)\n",
    "        else:\n",
    "            s = nss.pop()\n",
    "            s = Literal(s)\n",
    "            print('branching')\n",
    "            resP = DPLL(ucs,nss,m,s,o)\n",
    "            if resP: return(resP)\n",
    "            else: return(DPLL(ucs,nss,m,-s,o))\n",
    "    s = Literal(ss.pop())\n",
    "    print('hola',ss)\n",
    "    print(DPLL(KB,ss,{},s, []))\n",
    "    print('hola',ss)\n",
    "    print(DPLL(KB,ss,{},-s,[]))\n",
    "    return(0)"
   ]
  },
  {
   "cell_type": "code",
   "execution_count": 76,
   "metadata": {
    "scrolled": true
   },
   "outputs": [
    {
     "name": "stdout",
     "output_type": "stream",
     "text": [
      "hola {'B', 'E', 'C', 'D', 'A'}\n",
      "###\n",
      "try F\n",
      "{'B', 'E', 'C', 'D', 'A'}\n",
      ">>>\n",
      "['-A', 'B', 'E']\n",
      "['-E', 'D']\n",
      "['-B', '-C', '-F']\n",
      "['-E', 'B']\n",
      "['-B', 'F']\n",
      "['-B', 'C']\n",
      "<<<\n",
      "###\n",
      "check\n",
      ">>>\n",
      "['-A', 'B', 'E']\n",
      "['-E', 'D']\n",
      "['-B', '-C']\n",
      "['-E', 'B']\n",
      "['-B', 'C']\n",
      "<<<\n",
      "branching\n",
      "###\n",
      "try B\n",
      "{'E', 'C', 'D', 'A'}\n",
      ">>>\n",
      "['-A', 'B', 'E']\n",
      "['-E', 'D']\n",
      "['-B', '-C']\n",
      "['-E', 'B']\n",
      "['-B', 'C']\n",
      "<<<\n",
      "###\n",
      "check\n",
      ">>>\n",
      "['-E', 'D']\n",
      "['-C']\n",
      "['C']\n",
      "<<<\n",
      "branching\n",
      "###\n",
      "try D\n",
      "{'C', 'A', 'E'}\n",
      ">>>\n",
      "['-E', 'D']\n",
      "['-C']\n",
      "['C']\n",
      "<<<\n",
      "###\n",
      "check\n",
      ">>>\n",
      "['-C']\n",
      "['C']\n",
      "<<<\n",
      "branching\n",
      "###\n",
      "try C\n",
      "{'A', 'E'}\n",
      ">>>\n",
      "['-C']\n",
      "['C']\n",
      "<<<\n",
      "###\n",
      "check\n",
      ">>>\n",
      "[]\n",
      "<<<\n",
      "(False, {}, <__main__.Literal object at 0x1122fd8d0>)\n",
      "hola {'B', 'E', 'C', 'D', 'A'}\n",
      "###\n",
      "try -F\n",
      "{'B', 'E', 'C', 'D', 'A'}\n",
      ">>>\n",
      "['-A', 'B', 'E']\n",
      "['-E', 'D']\n",
      "['-B', '-C', '-F']\n",
      "['-E', 'B']\n",
      "['-B', 'F']\n",
      "['-B', 'C']\n",
      "<<<\n",
      "###\n",
      "check\n",
      ">>>\n",
      "['-A', 'B', 'E']\n",
      "['-E', 'D']\n",
      "['-E', 'B']\n",
      "['-B']\n",
      "['-B', 'C']\n",
      "<<<\n",
      "branching\n",
      "###\n",
      "try B\n",
      "{'E', 'C', 'D', 'A'}\n",
      ">>>\n",
      "['-A', 'B', 'E']\n",
      "['-E', 'D']\n",
      "['-E', 'B']\n",
      "['-B']\n",
      "['-B', 'C']\n",
      "<<<\n",
      "###\n",
      "check\n",
      ">>>\n",
      "['-E', 'D']\n",
      "[]\n",
      "['C']\n",
      "<<<\n",
      "(False, {}, <__main__.Literal object at 0x112367410>)\n"
     ]
    },
    {
     "data": {
      "text/plain": [
       "0"
      ]
     },
     "execution_count": 76,
     "metadata": {},
     "output_type": "execute_result"
    }
   ],
   "source": [
    "# Define some literals\n",
    "A = Literal('A')\n",
    "B = Literal('B')\n",
    "C = Literal('C')\n",
    "D = Literal('D')\n",
    "E = Literal('E')\n",
    "F = Literal('F')\n",
    "\n",
    "KB = [{-A,B,E},{-E,D},{-C,-F,-B},{-E,B},{-B,F},{-B,C}]\n",
    "\n",
    "DPLL_Satisfiable(KB,0)"
   ]
  },
  {
   "cell_type": "markdown",
   "metadata": {
    "deletable": false,
    "editable": false,
    "nbgrader": {
     "cell_type": "markdown",
     "checksum": "1a373b0f237fb333214a04ced058f50f",
     "grade": false,
     "grade_id": "cell-8c6248549aeaca88",
     "locked": true,
     "schema_version": 3,
     "solution": false,
     "task": false
    }
   },
   "source": [
    "<h1>Question 3</h1>\n",
    "\n",
    "Implement your KB from Russell & Norvig in CNF by filling in the sets inside the list <code>KB</code> below.  Ensure that your KB is in a list of set format as stated in the assignment instructions."
   ]
  },
  {
   "cell_type": "code",
   "execution_count": 5,
   "metadata": {
    "deletable": false,
    "nbgrader": {
     "cell_type": "code",
     "checksum": "a545c5a7e460e8a160a96549fba09556",
     "grade": false,
     "grade_id": "cell-2600ca4ae2649468",
     "locked": false,
     "schema_version": 3,
     "solution": true,
     "task": false
    }
   },
   "outputs": [],
   "source": [
    "# Define some literals\n",
    "A = Literal('A')\n",
    "B = Literal('B')\n",
    "C = Literal('C')\n",
    "D = Literal('D')\n",
    "E = Literal('E')\n",
    "F = Literal('F')\n",
    "\n",
    "KB = [{-A,B,E},{-E,D},{-C,-F,-B},{-E,B},{-B,F},{-B,C}]"
   ]
  },
  {
   "cell_type": "markdown",
   "metadata": {
    "deletable": false,
    "editable": false,
    "nbgrader": {
     "cell_type": "markdown",
     "checksum": "197d7a486e328210a1d13c24747b3111",
     "grade": false,
     "grade_id": "cell-3e6849da5a8eba9a",
     "locked": true,
     "schema_version": 3,
     "solution": false,
     "task": false
    }
   },
   "source": [
    "<h1>Extensions</h1>\n",
    "\n",
    "1. Implement the degree heuristic for choosing symbols.  If <code>heuristic_level=1</code>, then the degree heuristic should be used to select which symbol to assign.\n",
    "2. Implement the pure symbol and unit clause heuristics.  If <code>heuristic_level=2</code>, then these heuristics should be used to find select first a pure symbol, and if one is not found, then a unit clause.  If neither pure symbols nor unit clauses are found, then the degree heuristic should be used to select a symbol.  If there are multiple pure symbols or unit clauses found, then use alphabetical order to select amongst them.\n",
    "3. Modify the pure symbol heuristic to choose the pure symbol that occurs in the most number of clauses.  This should be activated if <code>heuristic_level=3</code>."
   ]
  },
  {
   "cell_type": "markdown",
   "metadata": {
    "deletable": false,
    "editable": false,
    "nbgrader": {
     "cell_type": "markdown",
     "checksum": "755ed998a518249d48e3e3518ec2ed63",
     "grade": false,
     "grade_id": "cell-f24016ad18be5ed3",
     "locked": true,
     "schema_version": 3,
     "solution": false,
     "task": false
    }
   },
   "source": [
    "<h1>Basic Functionality Tests</h1>\n",
    "\n",
    "All of the tests in this section must be passed for the code to be considered fully functional.  Other unseen test cases will be used after submission to further verify functionality"
   ]
  },
  {
   "cell_type": "code",
   "execution_count": 6,
   "metadata": {
    "deletable": false,
    "editable": false,
    "nbgrader": {
     "cell_type": "code",
     "checksum": "ea88980a283406b7789cd4f485dc3172",
     "grade": true,
     "grade_id": "cell-6af1cbc180046559",
     "locked": true,
     "points": 1,
     "schema_version": 3,
     "solution": false,
     "task": false
    }
   },
   "outputs": [],
   "source": [
    "# This section will test the correct definition of the literal class\n",
    "\n",
    "\n",
    "# Test the name attribute works correctly\n",
    "assert(A.name == 'A')\n",
    "\n",
    "# Test that negation works correctly\n",
    "assert(not (-C).sign)"
   ]
  },
  {
   "cell_type": "code",
   "execution_count": 7,
   "metadata": {
    "deletable": false,
    "editable": false,
    "nbgrader": {
     "cell_type": "code",
     "checksum": "9264e8da332b50a0adf2a1de4ec4a591",
     "grade": true,
     "grade_id": "cell-76b5f4949b4918a0",
     "locked": true,
     "points": 2,
     "schema_version": 3,
     "solution": false,
     "task": false
    }
   },
   "outputs": [],
   "source": [
    "# This section will test that the KB has been correctly converted to CNF by performing \n",
    "# tests over all possible models\n",
    "import itertools\n",
    "symbols = {A,B,C,D,E,F}\n",
    "symbol_list = [A,B,C,D,E,F]\n",
    "\n",
    "def evaluate_russell_norvig_KB(model):\n",
    "    # Manually evaluate the KB using the model\n",
    "    s = list()\n",
    "    s.append(model[A] == (model[B] or model[E]))\n",
    "    s.append(model[E] <= model[D])\n",
    "    s.append((model[C] and model[F]) <= (not model[B]))\n",
    "    s.append(model[E] <= model[B])\n",
    "    s.append(model[B] <= model[F])\n",
    "    s.append(model[B] <= model[C])\n",
    "    return all(s)\n",
    "\n",
    "def evaluate_KB(KB, model):\n",
    "    model_true = True\n",
    "    model_name_dict = {l.name: model[l] for l in model}\n",
    "    for clause in KB:\n",
    "        evaluation = {l.sign == model_name_dict[l.name] for l in clause if l.name in model_name_dict}\n",
    "        model_true = model_true and any(evaluation)\n",
    "    return model_true\n",
    "\n",
    "all_models = list(itertools.product([False, True], repeat=6))\n",
    "for i in range(0, len(all_models)):\n",
    "    # Test all truth values\n",
    "    test_model = {symbol_list[j]: all_models[i][j] for j in range(0,6)}\n",
    "    \n",
    "    # Test the model\n",
    "    assert(evaluate_russell_norvig_KB(test_model) == evaluate_KB(KB, test_model))"
   ]
  },
  {
   "cell_type": "code",
   "execution_count": 9,
   "metadata": {
    "deletable": false,
    "editable": false,
    "nbgrader": {
     "cell_type": "code",
     "checksum": "bd40af18e4e25d64cb61ca9425b25eeb",
     "grade": true,
     "grade_id": "cell-5007c88f303571cb",
     "locked": true,
     "points": 4,
     "schema_version": 3,
     "solution": false,
     "task": false
    },
    "scrolled": true
   },
   "outputs": [
    {
     "name": "stdout",
     "output_type": "stream",
     "text": [
      "symbols to be processes {'A', 'B'}\n",
      "processing C\n",
      "before\n",
      "['C', 'A']\n",
      "['C', '-A']\n",
      "['-C', 'B']\n",
      "______\n",
      "after\n",
      "[{<__main__.Literal object at 0x10bd79310>}]\n",
      "['B']\n",
      "______\n",
      "False\n",
      "symbols to be processes {'B'}\n",
      "processing A\n",
      "before\n",
      "['B']\n",
      "______\n",
      "after\n",
      "[{<__main__.Literal object at 0x10bd79310>}]\n",
      "['B']\n",
      "______\n",
      "False\n",
      "symbols to be processes set()\n",
      "processing B\n",
      "before\n",
      "['B']\n",
      "______\n",
      "after\n",
      "[]\n",
      "______\n",
      "False\n",
      "symbols to be processes {'A'}\n",
      "processing C\n",
      "before\n",
      "['C', 'A']\n",
      "['C', '-A']\n",
      "['-C']\n",
      "______\n",
      "after\n",
      "[set()]\n",
      "[]\n",
      "______\n",
      "True\n"
     ]
    }
   ],
   "source": [
    "# This section will test the basic working of DPLL\n",
    "# Satisfiable model\n",
    "test_KB = [{A, C},{-A, C}, {B, -C}]\n",
    "t, model, symbol_trace = DPLL_Satisfiable(test_KB)\n",
    "assert(evaluate_KB(test_KB, model))\n",
    "assert(t)\n",
    "\n",
    "# Unsatisfiable model\n",
    "test_KB = [{A, C},{-A, C}, {-C}]\n",
    "t, model, symbol_trace = DPLL_Satisfiable(test_KB)\n",
    "assert(not t)"
   ]
  },
  {
   "cell_type": "code",
   "execution_count": 10,
   "metadata": {
    "deletable": false,
    "editable": false,
    "nbgrader": {
     "cell_type": "code",
     "checksum": "5d93f38084e3ef0a6cf8b286f3e12054",
     "grade": true,
     "grade_id": "cell-63ce3735a6a8d49e",
     "locked": true,
     "points": 8,
     "schema_version": 3,
     "solution": false,
     "task": false
    }
   },
   "outputs": [
    {
     "name": "stdout",
     "output_type": "stream",
     "text": [
      "symbols to be processes {'F', 'D', 'B', 'E', 'A'}\n",
      "processing C\n",
      "before\n",
      "['E', '-A', 'B']\n",
      "['D', '-E']\n",
      "['-C', '-B', '-F']\n",
      "['B', '-E']\n",
      "['F', '-B']\n",
      "['C', '-B']\n",
      "______\n",
      "after\n",
      "[{<__main__.Literal object at 0x10bd79410>, <__main__.Literal object at 0x10bd79490>, <__main__.Literal object at 0x10bd79310>}, {<__main__.Literal object at 0x10bd793d0>, <__main__.Literal object at 0x10bd79510>}, {<__main__.Literal object at 0x10bd795d0>, <__main__.Literal object at 0x10bd79590>}, {<__main__.Literal object at 0x10bd79310>, <__main__.Literal object at 0x10bd79610>}, {<__main__.Literal object at 0x10bd79450>, <__main__.Literal object at 0x10bd79650>}]\n",
      "['E', '-A', 'B']\n",
      "['D', '-E']\n",
      "['-B', '-F']\n",
      "['B', '-E']\n",
      "['F', '-B']\n",
      "______\n",
      "False\n",
      "symbols to be processes {'D', 'B', 'E', 'A'}\n",
      "processing F\n",
      "before\n",
      "['E', '-A', 'B']\n",
      "['D', '-E']\n",
      "['-B', '-F']\n",
      "['B', '-E']\n",
      "['F', '-B']\n",
      "______\n",
      "after\n",
      "[{<__main__.Literal object at 0x10bd79410>, <__main__.Literal object at 0x10bd79490>, <__main__.Literal object at 0x10bd79310>}, {<__main__.Literal object at 0x10bd793d0>, <__main__.Literal object at 0x10bd79510>}, {<__main__.Literal object at 0x10bd795d0>}, {<__main__.Literal object at 0x10bd79310>, <__main__.Literal object at 0x10bd79610>}]\n",
      "['E', '-A', 'B']\n",
      "['D', '-E']\n",
      "['-B']\n",
      "['B', '-E']\n",
      "______\n",
      "False\n",
      "symbols to be processes {'B', 'E', 'A'}\n",
      "processing D\n",
      "before\n",
      "['E', '-A', 'B']\n",
      "['D', '-E']\n",
      "['-B']\n",
      "['B', '-E']\n",
      "______\n",
      "after\n",
      "[{<__main__.Literal object at 0x10bd79410>, <__main__.Literal object at 0x10bd79490>, <__main__.Literal object at 0x10bd79310>}, {<__main__.Literal object at 0x10bd795d0>}, {<__main__.Literal object at 0x10bd79310>, <__main__.Literal object at 0x10bd79610>}]\n",
      "['E', '-A', 'B']\n",
      "['-B']\n",
      "['B', '-E']\n",
      "______\n",
      "False\n",
      "symbols to be processes {'E', 'A'}\n",
      "processing B\n",
      "before\n",
      "['E', '-A', 'B']\n",
      "['-B']\n",
      "['B', '-E']\n",
      "______\n",
      "after\n",
      "[set()]\n",
      "[]\n",
      "______\n",
      "True\n",
      "{}\n"
     ]
    },
    {
     "ename": "AssertionError",
     "evalue": "",
     "output_type": "error",
     "traceback": [
      "\u001b[0;31m---------------------------------------------------------------------------\u001b[0m",
      "\u001b[0;31mAssertionError\u001b[0m                            Traceback (most recent call last)",
      "\u001b[0;32m<ipython-input-10-5bf9e4136c87>\u001b[0m in \u001b[0;36m<module>\u001b[0;34m\u001b[0m\n\u001b[1;32m      4\u001b[0m \u001b[0;34m\u001b[0m\u001b[0m\n\u001b[1;32m      5\u001b[0m \u001b[0;31m# This model is satisfiable.  Test that it is so\u001b[0m\u001b[0;34m\u001b[0m\u001b[0;34m\u001b[0m\u001b[0;34m\u001b[0m\u001b[0m\n\u001b[0;32m----> 6\u001b[0;31m \u001b[0;32massert\u001b[0m\u001b[0;34m(\u001b[0m\u001b[0mt\u001b[0m\u001b[0;34m)\u001b[0m\u001b[0;34m\u001b[0m\u001b[0;34m\u001b[0m\u001b[0m\n\u001b[0m\u001b[1;32m      7\u001b[0m \u001b[0;34m\u001b[0m\u001b[0m\n\u001b[1;32m      8\u001b[0m \u001b[0;31m# Check that the model found actually works\u001b[0m\u001b[0;34m\u001b[0m\u001b[0;34m\u001b[0m\u001b[0;34m\u001b[0m\u001b[0m\n",
      "\u001b[0;31mAssertionError\u001b[0m: "
     ]
    }
   ],
   "source": [
    "# This will test DPLL on the KB from Russell & Norvig\n",
    "t, model, symbol_trace = DPLL_Satisfiable(KB,0)\n",
    "print(model)\n",
    "\n",
    "# This model is satisfiable.  Test that it is so\n",
    "assert(t)\n",
    "\n",
    "# Check that the model found actually works\n",
    "assert(evaluate_KB(KB, model)) "
   ]
  },
  {
   "cell_type": "markdown",
   "metadata": {
    "deletable": false,
    "editable": false,
    "nbgrader": {
     "cell_type": "markdown",
     "checksum": "f01239be43d1b96af4269b659140441a",
     "grade": false,
     "grade_id": "cell-d4a09c27c6cafd14",
     "locked": true,
     "schema_version": 3,
     "solution": false,
     "task": false
    }
   },
   "source": [
    "<h1>Extension Tests</h1>\n",
    "\n",
    "This section will test that the degree heuristic, pure symbol and unit clause heuristics are correctly implemented.  Note that in your code, the <code>heuristic_level</code> needs to correctly activate the heuristic being tested, and the <code>symbol_list</code> needs to be correctly generated "
   ]
  },
  {
   "cell_type": "code",
   "execution_count": null,
   "metadata": {
    "deletable": false,
    "editable": false,
    "nbgrader": {
     "cell_type": "code",
     "checksum": "ca38a4153da97afa163e015b0eee7d8e",
     "grade": true,
     "grade_id": "cell-782f68d63b7be51f",
     "locked": true,
     "points": 16,
     "schema_version": 3,
     "solution": false,
     "task": false
    }
   },
   "outputs": [],
   "source": [
    "# Degree Heuristic Test for KB from Russell & Norvig\n",
    "t, model, symbol_trace = DPLL_Satisfiable(KB,1)\n",
    "print(model)\n",
    "\n",
    "# This model is satisfiable.  Test that it is so\n",
    "assert(t)\n",
    "\n",
    "# Check that the model found actually works\n",
    "assert(evaluate_KB(KB, model))  \n",
    "\n",
    "# Test the symbol trace to ensure that the correct order is chosen\n",
    "assert([l.name for l in symbol_trace] == ['B','F', 'E', 'C', 'C', 'E', 'A'])"
   ]
  },
  {
   "cell_type": "code",
   "execution_count": null,
   "metadata": {
    "deletable": false,
    "editable": false,
    "nbgrader": {
     "cell_type": "code",
     "checksum": "0257a3a8ed46849441e37da29fdce593",
     "grade": true,
     "grade_id": "cell-1849b5bca210fac7",
     "locked": true,
     "points": 32,
     "schema_version": 3,
     "solution": false,
     "task": false
    }
   },
   "outputs": [],
   "source": [
    "# Pure Symbol & Unit Clause Heuristic Test for KB from Russell & Norvig\n",
    "t, model, symbol_trace = DPLL_Satisfiable(KB,2)\n",
    "print(model)\n",
    "\n",
    "\n",
    "# This model is satisfiable.  Test that it is so\n",
    "assert(t)\n",
    "\n",
    "# Check that the model found actually works\n",
    "assert(evaluate_KB(KB, model))\n",
    "\n",
    "# Test the symbol trace to ensure that the correct order is chosen\n",
    "assert([l.name for l in symbol_trace] == ['D', 'B', 'E', 'A', 'C', 'F', 'E', 'A'])"
   ]
  },
  {
   "cell_type": "code",
   "execution_count": null,
   "metadata": {
    "deletable": false,
    "editable": false,
    "nbgrader": {
     "cell_type": "code",
     "checksum": "01a5632a5bf35a1a3a9c8202f7c79b53",
     "grade": true,
     "grade_id": "cell-b9ce4afcdb630096",
     "locked": true,
     "points": 64,
     "schema_version": 3,
     "solution": false,
     "task": false
    }
   },
   "outputs": [],
   "source": [
    "# Pure Symbol & Unit Clause Heuristic Test, choosing the most-frequently used pure symbol, for KB from Russell & Norvig\n",
    "t, model, symbol_trace = DPLL_Satisfiable(KB,3)\n",
    "print(model)\n",
    "print(symbol_trace)\n",
    "\n",
    "# This model is satisfiable.  Test that it is so\n",
    "assert(t)\n",
    "\n",
    "# Check that the model found actually works\n",
    "assert(evaluate_KB(KB, model))\n",
    "\n",
    "# Test the symbol trace to ensure that the correct order is chosen\n",
    "assert([l.name for l in symbol_trace] == ['D', 'B', 'A', 'C', 'F', 'E', 'A'])"
   ]
  }
 ],
 "metadata": {
  "kernelspec": {
   "display_name": "Python 3",
   "language": "python",
   "name": "python3"
  },
  "language_info": {
   "codemirror_mode": {
    "name": "ipython",
    "version": 3
   },
   "file_extension": ".py",
   "mimetype": "text/x-python",
   "name": "python",
   "nbconvert_exporter": "python",
   "pygments_lexer": "ipython3",
   "version": "3.7.6"
  }
 },
 "nbformat": 4,
 "nbformat_minor": 2
}
