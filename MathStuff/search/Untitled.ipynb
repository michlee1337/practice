{
 "cells": [
  {
   "cell_type": "code",
   "execution_count": 3,
   "metadata": {},
   "outputs": [],
   "source": [
    "from collections import defaultdict\n",
    "class DefiniteClause():\n",
    "    def __init__(self, body, head):\n",
    "        self.body = body\n",
    "        self.head = head\n",
    "        \n",
    "        \n",
    "def fc(kb):\n",
    "    count = defaultdict(int)\n",
    "    inferred = defaultdict(bool)\n",
    "    agenda = []\n",
    "    \n",
    "    closed = [] # remember everything that is true\n",
    "    \n",
    "    for c in kb:\n",
    "        if c.body == [True]:\n",
    "            agenda.insert(0,c)\n",
    "        else:\n",
    "            count[c] = len(c.body)\n",
    "\n",
    "    while agenda:\n",
    "        p = agenda.pop()\n",
    "        print(\"P:\", p.body,p.head)\n",
    "        closed.append(p.head)\n",
    "        #if p == q: return (True)\n",
    "        if not inferred[p]:\n",
    "            inferred[p] = True\n",
    "            for c in kb:\n",
    "                if p in c.body:\n",
    "                    count[c] -= 1\n",
    "                    if count[c] == 0:\n",
    "                        agenda.insert(0,c)\n",
    "    return(closed)\n",
    "\n",
    "\n",
    "S1 = DefiniteClause([\"B\", \"C\"],\"A\")\n",
    "S2 = DefiniteClause([\"D\"],\"B\")\n",
    "S3 = DefiniteClause([\"E\"],\"B\")\n",
    "S4 = DefiniteClause([\"H\"],\"D\")\n",
    "S5 = DefiniteClause([\"G\",\"B\"],\"F\")\n",
    "S6 = DefiniteClause([\"C\",\"K\"],\"G\")\n",
    "S7 = DefiniteClause([\"A\",\"B\"],\"J\")\n",
    "S8 = DefiniteClause([True],\"C\")\n",
    "S9 = DefiniteClause([True],\"E\")\n",
    "\n",
    "kb = [S1,S2,S3,S4,S5,S6,S7,S8,S9]"
   ]
  },
  {
   "cell_type": "code",
   "execution_count": 4,
   "metadata": {},
   "outputs": [
    {
     "name": "stdout",
     "output_type": "stream",
     "text": [
      "[True] C\n",
      "[True] E\n"
     ]
    },
    {
     "data": {
      "text/plain": [
       "[<__main__.DefiniteClause at 0x105c4cdd0>,\n",
       " <__main__.DefiniteClause at 0x105c4ce10>]"
      ]
     },
     "execution_count": 4,
     "metadata": {},
     "output_type": "execute_result"
    }
   ],
   "source": [
    "fc(kb)"
   ]
  },
  {
   "cell_type": "code",
   "execution_count": null,
   "metadata": {},
   "outputs": [],
   "source": []
  }
 ],
 "metadata": {
  "kernelspec": {
   "display_name": "Python 3",
   "language": "python",
   "name": "python3"
  },
  "language_info": {
   "codemirror_mode": {
    "name": "ipython",
    "version": 3
   },
   "file_extension": ".py",
   "mimetype": "text/x-python",
   "name": "python",
   "nbconvert_exporter": "python",
   "pygments_lexer": "ipython3",
   "version": "3.7.6"
  }
 },
 "nbformat": 4,
 "nbformat_minor": 2
}
