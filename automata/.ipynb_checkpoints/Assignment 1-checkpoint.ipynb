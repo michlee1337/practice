{
 "cells": [
  {
   "cell_type": "markdown",
   "metadata": {},
   "source": [
    "# Setup"
   ]
  },
  {
   "cell_type": "code",
   "execution_count": 64,
   "metadata": {},
   "outputs": [],
   "source": [
    "# import libraries\n",
    "from automata.base.automaton import Automaton\n",
    "from automata.fa.fa import FA\n",
    "from automata.fa.nfa import NFA\n",
    "from automata.fa.dfa import DFA\n"
   ]
  },
  {
   "cell_type": "code",
   "execution_count": 190,
   "metadata": {},
   "outputs": [],
   "source": [
    "def test(f, test_pass, test_fail, show_all = False):\n",
    "    perf = True\n",
    "    for t in test_pass:\n",
    "        if not f(t):\n",
    "            perf = False\n",
    "            print(\"FAILED test case: {} should be accepted\".format(t))\n",
    "        elif show_all:\n",
    "            print(\"Passed test case: {} was accepted\".format(t))\n",
    "\n",
    "    for t in test_fail:\n",
    "        if f(t):\n",
    "            perf = False\n",
    "            print(\"FAILED test case: {} should be rejected.\".format(t))\n",
    "        elif show_all:\n",
    "            print(\"Passed test case: {} was rejected\".format(t))\n",
    "\n",
    "    if perf:\n",
    "        print(\"All test cases passed.\")        \n",
    "    return(0)"
   ]
  },
  {
   "cell_type": "markdown",
   "metadata": {},
   "source": [
    "# AddBin3"
   ]
  },
  {
   "cell_type": "code",
   "execution_count": 172,
   "metadata": {},
   "outputs": [],
   "source": [
    "# create NFA\n",
    "ab3_sigma = {\n",
    "    '[000]',\n",
    "    '[001]',\n",
    "    '[010]',\n",
    "    '[011]',\n",
    "    '[100]',\n",
    "    '[101]',\n",
    "    '[110]',\n",
    "    '[111]'\n",
    "}\n",
    "\n",
    "ab3_nfa = NFA(\n",
    "    states={'q0', 'q1'},\n",
    "    input_symbols=ab3_sigma,\n",
    "    transitions={\n",
    "        'q0': {'[000]': {'q0'},\n",
    "               '[011]': {'q0'},\n",
    "               '[101]': {'q0'},\n",
    "               '[001]': {'q1'}},\n",
    "        'q1': {'[100]': {'q1'},\n",
    "               '[010]': {'q1'},\n",
    "               '[111]': {'q1'},\n",
    "               '[110]': {'q0'}}\n",
    "    },\n",
    "    initial_state='q0',\n",
    "    final_states={'q0'}\n",
    ")"
   ]
  },
  {
   "cell_type": "code",
   "execution_count": 191,
   "metadata": {},
   "outputs": [
    {
     "name": "stdout",
     "output_type": "stream",
     "text": [
      "All test cases passed\n"
     ]
    },
    {
     "data": {
      "text/plain": [
       "0"
      ]
     },
     "execution_count": 191,
     "metadata": {},
     "output_type": "execute_result"
    }
   ],
   "source": [
    "# test NFA\n",
    "\n",
    "ab3_test_pass = [\n",
    "    ('[001]','[100]','[110]'),\n",
    "    ('[001]','[110]','[000]'),\n",
    "    ('[101]','[011]'),\n",
    "    ('[001]','[110]')\n",
    "]\n",
    "\n",
    "ab3_test_fail = [\n",
    "    ('[111]','[101]','[110]'),\n",
    "    ('[001]','[100]','[000]'),\n",
    "    ('[111]','[111]'),\n",
    "    ('[000]','[110]')   \n",
    "]\n",
    "\n",
    "test(ab3_nfa.accepts_input, ab3_test_pass, ab3_test_fail)"
   ]
  },
  {
   "cell_type": "markdown",
   "metadata": {},
   "source": [
    "# OR"
   ]
  },
  {
   "cell_type": "code",
   "execution_count": 68,
   "metadata": {},
   "outputs": [],
   "source": [
    "# create NFA\n",
    "or_nfa = NFA(\n",
    "    states={'q0', 'q1','q2', 'q3','q4', 'q5'},\n",
    "    input_symbols={'0','1'},\n",
    "    transitions={\n",
    "        'q0': {'0': {'q1'},\n",
    "               '1': {'q4'}},\n",
    "        'q1': {'0': {'q2'},\n",
    "               '1': {'q5'}},\n",
    "        'q2': {'0': {'q3'}},\n",
    "        'q3': {},\n",
    "        'q4': {'0': {'q5'},\n",
    "               '1': {'q5'}},\n",
    "        'q5': {'1': {'q3'}}\n",
    "    },\n",
    "    initial_state='q0',\n",
    "    final_states={'q3'}\n",
    ")"
   ]
  },
  {
   "cell_type": "code",
   "execution_count": 175,
   "metadata": {},
   "outputs": [
    {
     "name": "stdout",
     "output_type": "stream",
     "text": [
      "All test cases passed\n"
     ]
    },
    {
     "data": {
      "text/plain": [
       "0"
      ]
     },
     "execution_count": 175,
     "metadata": {},
     "output_type": "execute_result"
    }
   ],
   "source": [
    "# test NFA\n",
    "\n",
    "or_test_pass = [\n",
    "    '000',\n",
    "    '011',\n",
    "    '101',\n",
    "    '111'\n",
    "]\n",
    "\n",
    "or_test_fail = [\n",
    "    '001',\n",
    "    '010',\n",
    "    '110',\n",
    "    '110',\n",
    "    '11',\n",
    "    '1111'\n",
    "]\n",
    "\n",
    "test(or_nfa.accepts_input, or_test_pass, or_test_fail)"
   ]
  },
  {
   "cell_type": "markdown",
   "metadata": {},
   "source": [
    "# AND"
   ]
  },
  {
   "cell_type": "code",
   "execution_count": 70,
   "metadata": {},
   "outputs": [],
   "source": [
    "# create NFA\n",
    "and_nfa = NFA(\n",
    "    states={'q0', 'q1','q2', 'q3','q4', 'q5'},\n",
    "    input_symbols={'0','1'},\n",
    "    transitions={\n",
    "        'q0': {'0': {'q1'},\n",
    "               '1': {'q4'}},\n",
    "        'q1': {'0': {'q2'},\n",
    "               '1': {'q2'}},\n",
    "        'q2': {'0': {'q3'}},\n",
    "        'q3': {},\n",
    "        'q4': {'0': {'q2'},\n",
    "               '1': {'q5'}},\n",
    "        'q5': {'1': {'q3'}}\n",
    "    },\n",
    "    initial_state='q0',\n",
    "    final_states={'q3'}\n",
    ")"
   ]
  },
  {
   "cell_type": "code",
   "execution_count": 176,
   "metadata": {},
   "outputs": [
    {
     "name": "stdout",
     "output_type": "stream",
     "text": [
      "All test cases passed\n"
     ]
    },
    {
     "data": {
      "text/plain": [
       "0"
      ]
     },
     "execution_count": 176,
     "metadata": {},
     "output_type": "execute_result"
    }
   ],
   "source": [
    "# test NFA\n",
    "\n",
    "and_test_pass = [\n",
    "    '000',\n",
    "    '010',\n",
    "    '100',\n",
    "    '111'\n",
    "]\n",
    "\n",
    "and_test_fail = [\n",
    "    '001',\n",
    "    '011',\n",
    "    '110',\n",
    "    '101',\n",
    "    '11',\n",
    "    '1111'\n",
    "]\n",
    "\n",
    "test(and_nfa.accepts_input, and_test_pass, and_test_fail)"
   ]
  },
  {
   "cell_type": "markdown",
   "metadata": {},
   "source": [
    "# XOR"
   ]
  },
  {
   "cell_type": "code",
   "execution_count": 72,
   "metadata": {},
   "outputs": [],
   "source": [
    "# create NFA\n",
    "xor_nfa = NFA(\n",
    "    states={'q0','q1','q2','q3','q4', 'q5'},\n",
    "    input_symbols={'0','1'},\n",
    "    transitions={\n",
    "        'q0': {'0': {'q1'},\n",
    "               '1': {'q4'}},\n",
    "        'q1': {'0': {'q2'},\n",
    "               '1': {'q5'}},\n",
    "        'q2': {'0': {'q3'}},\n",
    "        'q3': {},\n",
    "        'q4': {'0': {'q5'},\n",
    "               '1': {'q2'}},\n",
    "        'q5': {'1': {'q3'}}\n",
    "    },\n",
    "    initial_state='q0',\n",
    "    final_states={'q3'}\n",
    ")"
   ]
  },
  {
   "cell_type": "code",
   "execution_count": 177,
   "metadata": {},
   "outputs": [
    {
     "name": "stdout",
     "output_type": "stream",
     "text": [
      "All test cases passed\n"
     ]
    },
    {
     "data": {
      "text/plain": [
       "0"
      ]
     },
     "execution_count": 177,
     "metadata": {},
     "output_type": "execute_result"
    }
   ],
   "source": [
    "# test NFA\n",
    "\n",
    "xor_test_pass = [\n",
    "    '000',\n",
    "    '011',\n",
    "    '101',\n",
    "    '110'\n",
    "]\n",
    "\n",
    "xor_test_fail = [\n",
    "    '001',\n",
    "    '111',\n",
    "    '010',\n",
    "    '100',\n",
    "    '11',\n",
    "    '1111'\n",
    "]\n",
    "\n",
    "test(xor_nfa.accepts_input, xor_test_pass, xor_test_fail)"
   ]
  },
  {
   "cell_type": "markdown",
   "metadata": {},
   "source": [
    "# Complement"
   ]
  },
  {
   "cell_type": "code",
   "execution_count": 74,
   "metadata": {},
   "outputs": [],
   "source": [
    "# create NFA\n",
    "comp_nfa = NFA(\n",
    "    states={'q0','q1','q2','q3'},\n",
    "    input_symbols={'0','1'},\n",
    "    transitions={\n",
    "        'q0': {'0': {'q1'},\n",
    "               '1': {'q2'}},\n",
    "        'q1': {'1': {'q3'}},\n",
    "        'q2': {'0': {'q3'}},\n",
    "        'q3': {}\n",
    "    },\n",
    "    initial_state='q0',\n",
    "    final_states={'q3'}\n",
    ")"
   ]
  },
  {
   "cell_type": "code",
   "execution_count": 178,
   "metadata": {
    "scrolled": true
   },
   "outputs": [
    {
     "name": "stdout",
     "output_type": "stream",
     "text": [
      "All test cases passed\n"
     ]
    },
    {
     "data": {
      "text/plain": [
       "0"
      ]
     },
     "execution_count": 178,
     "metadata": {},
     "output_type": "execute_result"
    }
   ],
   "source": [
    "# test NFA\n",
    "\n",
    "comp_test_pass = [\n",
    "    '01',\n",
    "    '10'\n",
    "]\n",
    "\n",
    "comp_test_fail = [\n",
    "    '00',\n",
    "    '11',\n",
    "    '010',\n",
    "    '100'\n",
    "]\n",
    "\n",
    "test(comp_nfa.accepts_input, comp_test_pass, comp_test_fail)"
   ]
  },
  {
   "cell_type": "markdown",
   "metadata": {},
   "source": [
    "# ALU"
   ]
  },
  {
   "cell_type": "code",
   "execution_count": 179,
   "metadata": {},
   "outputs": [],
   "source": [
    "# create ALU\n",
    "def ALU(s):    \n",
    "    l = {\n",
    "        \"011\": ab3_nfa,\n",
    "        \"100\": or_nfa,\n",
    "        \"101\": xor_nfa,\n",
    "        \"110\": and_nfa,\n",
    "        \"111\": comp_nfa\n",
    "    }\n",
    "    c, o = s[:3], s[3:] \n",
    "    if c == \"011\":\n",
    "        # parse to tuple recognizable by automatalib\n",
    "        o = tuple(o[1:-1].replace(\"'\",\"\").replace(\" \",\"\").split(\",\"))\n",
    "    return(l[c].accepts_input(o))  "
   ]
  },
  {
   "cell_type": "code",
   "execution_count": 192,
   "metadata": {},
   "outputs": [
    {
     "name": "stdout",
     "output_type": "stream",
     "text": [
      "Passed test case: 011('[001]', '[100]', '[110]') was accepted\n",
      "Passed test case: 011('[001]', '[110]', '[000]') was accepted\n",
      "Passed test case: 011('[101]', '[011]') was accepted\n",
      "Passed test case: 011('[001]', '[110]') was accepted\n",
      "Passed test case: 100000 was accepted\n",
      "Passed test case: 100011 was accepted\n",
      "Passed test case: 100101 was accepted\n",
      "Passed test case: 100111 was accepted\n",
      "Passed test case: 101000 was accepted\n",
      "Passed test case: 101011 was accepted\n",
      "Passed test case: 101101 was accepted\n",
      "Passed test case: 101110 was accepted\n",
      "Passed test case: 110000 was accepted\n",
      "Passed test case: 110010 was accepted\n",
      "Passed test case: 110100 was accepted\n",
      "Passed test case: 110111 was accepted\n",
      "Passed test case: 11101 was accepted\n",
      "Passed test case: 11110 was accepted\n",
      "Passed test case: 011('[111]', '[101]', '[110]') was rejected\n",
      "Passed test case: 011('[001]', '[100]', '[000]') was rejected\n",
      "Passed test case: 011('[111]', '[111]') was rejected\n",
      "Passed test case: 011('[000]', '[110]') was rejected\n",
      "Passed test case: 100001 was rejected\n",
      "Passed test case: 100010 was rejected\n",
      "Passed test case: 100110 was rejected\n",
      "Passed test case: 100110 was rejected\n",
      "Passed test case: 10011 was rejected\n",
      "Passed test case: 1001111 was rejected\n",
      "Passed test case: 101001 was rejected\n",
      "Passed test case: 101111 was rejected\n",
      "Passed test case: 101010 was rejected\n",
      "Passed test case: 101100 was rejected\n",
      "Passed test case: 10111 was rejected\n",
      "Passed test case: 1011111 was rejected\n",
      "Passed test case: 110001 was rejected\n",
      "Passed test case: 110011 was rejected\n",
      "Passed test case: 110110 was rejected\n",
      "Passed test case: 110101 was rejected\n",
      "Passed test case: 11011 was rejected\n",
      "Passed test case: 1101111 was rejected\n",
      "Passed test case: 11100 was rejected\n",
      "Passed test case: 11111 was rejected\n",
      "Passed test case: 111010 was rejected\n",
      "Passed test case: 111100 was rejected\n",
      "All test cases passed\n"
     ]
    },
    {
     "data": {
      "text/plain": [
       "0"
      ]
     },
     "execution_count": 192,
     "metadata": {},
     "output_type": "execute_result"
    }
   ],
   "source": [
    "# test ALU\n",
    "\n",
    "alu_test_pass = []\n",
    "alu_test_fail = []\n",
    "\n",
    "for c, tps, tfs in [(\"011\",ab3_test_pass,ab3_test_fail),\n",
    "     (\"100\",or_test_pass,or_test_fail),\n",
    "     (\"101\",xor_test_pass,xor_test_fail),\n",
    "     (\"110\",and_test_pass,and_test_fail),\n",
    "     (\"111\",comp_test_pass, comp_test_fail)]:\n",
    "    \n",
    "    alu_test_pass += [c+str(t) for t in tps]\n",
    "    alu_test_fail += [c+str(t) for t in tfs]\n",
    "\n",
    "test(ALU, alu_test_pass, alu_test_fail, show_all=True)"
   ]
  },
  {
   "cell_type": "code",
   "execution_count": null,
   "metadata": {},
   "outputs": [],
   "source": []
  }
 ],
 "metadata": {
  "kernelspec": {
   "display_name": "Python 3",
   "language": "python",
   "name": "python3"
  },
  "language_info": {
   "codemirror_mode": {
    "name": "ipython",
    "version": 3
   },
   "file_extension": ".py",
   "mimetype": "text/x-python",
   "name": "python",
   "nbconvert_exporter": "python",
   "pygments_lexer": "ipython3",
   "version": "3.7.6"
  }
 },
 "nbformat": 4,
 "nbformat_minor": 2
}
