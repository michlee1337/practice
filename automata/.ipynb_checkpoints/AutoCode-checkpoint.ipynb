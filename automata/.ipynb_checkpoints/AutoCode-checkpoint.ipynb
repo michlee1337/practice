{
 "cells": [
  {
   "cell_type": "markdown",
   "metadata": {},
   "source": [
    "# Word by Word Translator"
   ]
  },
  {
   "cell_type": "code",
   "execution_count": 15,
   "metadata": {},
   "outputs": [],
   "source": [
    "# word by word translator\n",
    "\n",
    "# stage 1\n",
    "tape1 = {\n",
    "    \"kind\": \"tipo\",\n",
    "    \"confusing\": \"confusa\",\n",
    "    \"supportive\": \"apoyo\", \n",
    "    \"silly\": \"tonta\",\n",
    "    \"turbulent\": \"turbulento\",\n",
    "    \"a\": \"un\",\n",
    "    \"the\": \"el\",\n",
    "    \"some\": \"algunos\",\n",
    "    \"many\": \"muchos\",\n",
    "    \"she\": \"ella\",\n",
    "    \"he\": \"él\",\n",
    "    \"it\": \"eso\",\n",
    "    \"food\": \"comida\",\n",
    "    \"family\": \"familia\",\n",
    "    \"Minerva\": \"Minerva\",\n",
    "    \"news\": \"noticias\",\n",
    "    \"dog\": \"perro\",\n",
    "    \"I\": \"yo\",\n",
    "    \"you\": \"tú\",\n",
    "    \" they\": \"ellos\",\n",
    "    \"friends\": \"amigos\",\n",
    "    \"professors\": \"profesores\",\n",
    "    \"decisions\": \"decisiones\",\n",
    "    \"flights\": \"vuelos\",\n",
    "    \"plans\": \"planes\",\n",
    "    \"creates\": \"crea\",\n",
    "    \"likes\": \"gustos\",\n",
    "    \"writes\": \"escribe\",\n",
    "    \"kicks\": \"patadas\",\n",
    "    \"makes\": \"hace\",\n",
    "    \"reads\": \"lee\",\n",
    "    \"leaves\": \"hojas\",\n",
    "    \"controls\": \"controlar\",\n",
    "    \"create\": \"crear\",\n",
    "    \"like\": \"gusta\",\n",
    "    \"write\": \"escribir\",\n",
    "    \"kick\": \"patada\",\n",
    "    \"make\": \"hacer\",\n",
    "    \"read\": \"leer\",\n",
    "    \"leave\": \"salir\",\n",
    "    \"control\": \"controlar\"\n",
    "}\n",
    "\n",
    "def e2s(s): # stage 2 is done automatically during argument declaration\n",
    "    e_words = s.split() # stage 3, but simplified with Python magic\n",
    "    tape4 = [tape1[e]+\" \" for e in e_words] # stage 5, simplified\n",
    "    return(\"\".join(tape4)[:-1]) # stage 6\n",
    "\n",
    "'''\n",
    "Quick note on TM definition vs Python implementation.\n",
    "In the TM implementation, we move between stages,\n",
    "while in the Python implementation we complete each stage individually.\n",
    "\n",
    "While it is possible to do a perfectly representative version of the\n",
    "current TM definition, it would require manually dealing with pointers\n",
    "(tape heads) which is a lot less readable.\n",
    "'''"
   ]
  },
  {
   "cell_type": "code",
   "execution_count": 16,
   "metadata": {},
   "outputs": [
    {
     "name": "stdout",
     "output_type": "stream",
     "text": [
      "yo gusta perro\n"
     ]
    }
   ],
   "source": [
    "e2s(\" I like dog\")"
   ]
  },
  {
   "cell_type": "markdown",
   "metadata": {},
   "source": [
    "# Recognize English"
   ]
  },
  {
   "cell_type": "code",
   "execution_count": 74,
   "metadata": {
    "scrolled": true
   },
   "outputs": [],
   "source": [
    "# Eng recognizer\n",
    "\n",
    "# stage 1\n",
    "tape1 = {\n",
    "    0: [\"PQ\",\"A\",\"PN\",\"PV\"],\n",
    "    1: [\"PQ\",\"PN\",\"PV\"],\n",
    "    2: [\"PR\", \"PV\"], # replacing Pr with R for pronoun, for consistency.\n",
    "    3: [\"SQ\",\"A\",\"SN\",\"SV\"],\n",
    "    4: [\"SQ\",\"SN\",\"SV\"],\n",
    "    5: [\"SR\",\"SV\"]\n",
    "}\n",
    "\n",
    "# stage 2\n",
    "tape2 = {\n",
    "    \"A\": [\"kind\",\"confusing\",\"supportive\",\"silly\",\"turbulent\"],\n",
    "    \"SQ\": [\"a\",\"the\"],\n",
    "    \"PQ\": [\"some\",\"many\"],\n",
    "    \"SR\": [\"she\",\"he\",\"it\"],\n",
    "    \"SN\": [\"food\",\"family\",\"minerva\",\"news\",\"dog\"],\n",
    "    \"PR\": [\"I\",\"you\",\"they\"],\n",
    "    \"PN\": [\"friends\",\"professors\",\"decisions\",\"flights\",\"plans\"],\n",
    "    \"SV\": [\"creates\",\"likes\",\"writes\",\"kicks\",\"makes\",\"reads\",\"leaves\",\"controls\"],\n",
    "    \"PV\": [\"create\",\"like\",\"write\",\"kick\",\"make\",\"read\",\"leave\",\"control\"]\n",
    "}\n",
    "# reverse map to make stage 6 easier\n",
    "tape2rev = {i: k for k, v in tape2.items() for i in v}\n",
    "\n",
    "def recEng(s): # stage 3 done automatically with arg declaration\n",
    "    pos = [0] * len(tape1) # stage4 but done with another variable\n",
    "                                # for simplicity. Could be represented as\n",
    "                                # seprate tape\n",
    "    ws = s.split() # stage5 simplified with Python magic\n",
    "    for w in ws:\n",
    "        v = tape2rev[w] # stage 6\n",
    "        for i,p in enumerate(pos):\n",
    "            if p == -1:\n",
    "                continue\n",
    "            else:\n",
    "                # stage 7\n",
    "                if tape1[i][p] == v:\n",
    "                    pos[i] += 1\n",
    "                else:\n",
    "                    pos[i] = -1 # using -1 to symbolize \"removing\" marker\n",
    "    # stage 8\n",
    "    for i,p in enumerate(pos):\n",
    "        if p == len(tape1[i]):\n",
    "            return(True)\n",
    "    return(False)"
   ]
  },
  {
   "cell_type": "code",
   "execution_count": 75,
   "metadata": {},
   "outputs": [
    {
     "data": {
      "text/plain": [
       "False"
      ]
     },
     "execution_count": 75,
     "metadata": {},
     "output_type": "execute_result"
    }
   ],
   "source": [
    "recEng('the kind friends create')"
   ]
  },
  {
   "cell_type": "code",
   "execution_count": 76,
   "metadata": {},
   "outputs": [
    {
     "data": {
      "text/plain": [
       "True"
      ]
     },
     "execution_count": 76,
     "metadata": {},
     "output_type": "execute_result"
    }
   ],
   "source": [
    "recEng('she likes')"
   ]
  },
  {
   "cell_type": "code",
   "execution_count": 77,
   "metadata": {},
   "outputs": [
    {
     "data": {
      "text/plain": [
       "True"
      ]
     },
     "execution_count": 77,
     "metadata": {},
     "output_type": "execute_result"
    }
   ],
   "source": [
    "recEng('the silly minerva kicks')"
   ]
  },
  {
   "cell_type": "markdown",
   "metadata": {},
   "source": [
    "# Recognize Math"
   ]
  },
  {
   "cell_type": "code",
   "execution_count": 255,
   "metadata": {},
   "outputs": [],
   "source": [
    "def isDigit(content):\n",
    "    digit = [\"0\",\"1\",\"2\",\"3\",\"4\",\"5\",\"6\",\"7\",\"8\",\"9\"]\n",
    "    num = False\n",
    "    decimal = False\n",
    "    # remove neg\n",
    "    if len(content) > 0 and content[0] == \"~\":\n",
    "        content = content[1:]\n",
    "    for c in content:\n",
    "        if c == \".\":\n",
    "            if not decimal:\n",
    "                decimal = True\n",
    "            else:\n",
    "                return(False)\n",
    "        elif c in digit:\n",
    "            if num:\n",
    "                continue\n",
    "            else:\n",
    "                num = True\n",
    "        else:\n",
    "            # anything other than decimals or degits is wrong\n",
    "            return(False)\n",
    "    return(True)\n",
    "\n",
    "# check if is some recognized func\n",
    "def isFunc(s):\n",
    "    '''\n",
    "    func ( unit )\n",
    "    '''\n",
    "    fs = [\"sin\",\"cos\",\"tan\",\"sqrt\",\"abs\"]\n",
    "\n",
    "    i1,i2 = s.find('('), s.find(')')\n",
    "    return (s[:i1] in fs) and (i2+1 == len(s)) and ParseFunc(s[i1+1:i2])\n",
    "\n",
    "# check if digit or func\n",
    "def unit(s):\n",
    "    return(isDigit(s) or isFunc(s))\n",
    "\n",
    "import re\n",
    "\n",
    "# check if valid math exp\n",
    "def ParseFunc(s):\n",
    "    # seperate args and content\n",
    "    i1,i2,i3 = s.find(\"(\"), s.find(\")\"), s.find(\"=\")\n",
    "    args = s[i1+1:i2].split(\",\")\n",
    "    content = s[i3+1:]\n",
    "    # split by operators and parentheses, remove whitespace\n",
    "    tokens = re.compile('(\\d+|[^ 0-9])')\n",
    "    ts = re.findall(tokens, content.replace(\" \", \"\"))\n",
    "    \n",
    "    n = len(ts)\n",
    "    ops = [\"+\",\"-\",\"*\",\"/\"]\n",
    "    p = []\n",
    "    \n",
    "    for i,t in enumerate(ts):\n",
    "        # check that before and after each operator is a evaluable\n",
    "        if t in ops:\n",
    "            # edge case: avoid indexing error\n",
    "            oob = i == 0 or i==n-1\n",
    "            if oob: return(False)\n",
    "            bi = (not unit(ts[i-1])) and (ts[i-1] not in args) and (ts[i-1]!=\")\") # before op is invalid\n",
    "            ai = (not unit(ts[i+1])) and (ts[i+1] not in args) and (ts[i+1]!=\"(\") # after \"\"\n",
    "            if bi or ai: return(False)\n",
    "        \n",
    "        # check that all parentheses match\n",
    "        elif t == \"(\":\n",
    "            p.append(\"#\")\n",
    "        elif t == \")\":\n",
    "            if len(p) == 0:\n",
    "                return(False)\n",
    "            else:\n",
    "                p.pop()\n",
    "    return(len(p) == 0)\n"
   ]
  },
  {
   "cell_type": "code",
   "execution_count": 256,
   "metadata": {},
   "outputs": [
    {
     "data": {
      "text/plain": [
       "True"
      ]
     },
     "execution_count": 256,
     "metadata": {},
     "output_type": "execute_result"
    }
   ],
   "source": [
    "ParseFunc('f(x) = x *0.5')"
   ]
  },
  {
   "cell_type": "markdown",
   "metadata": {},
   "source": [
    "# Convert Math to Python"
   ]
  },
  {
   "cell_type": "code",
   "execution_count": 417,
   "metadata": {},
   "outputs": [],
   "source": [
    "import math\n",
    "def genCode(txt):\n",
    "    if ParseFunc(txt):\n",
    "        fconv = {\n",
    "            \"sin\": \"math.sin\",\n",
    "            \"cos\": \"math.cos\",\n",
    "            \"tan\": \"math.tan\",\n",
    "            \"sqrt\": \"math.sqrt\",\n",
    "            \"~\": \"-\", # replace negation\n",
    "            \" \": \"\" # remove whitespace\n",
    "        }\n",
    "        \n",
    "        # get only the function content\n",
    "        i1,i2,i3 = txt.find(\"(\"), txt.find(\")\"), txt.find(\"=\")\n",
    "        args = txt[i1+1:i2].split(\",\")\n",
    "        txt = txt[i3+1:] \n",
    "        \n",
    "        # rewrite in evaluable form\n",
    "        for k,v in fconv.items():\n",
    "            txt = txt.replace(k,v) \n",
    "        def f(argvs):\n",
    "            # make variable bindings for args\n",
    "            for i,argname in enumerate(args):\n",
    "                exec(argname + \"= argvs[i]\")\n",
    "            # eval func\n",
    "            r = eval(txt)\n",
    "            return(r)\n",
    "        return(f)\n",
    "    else:\n",
    "        return # return nothing if not valid"
   ]
  },
  {
   "cell_type": "code",
   "execution_count": 421,
   "metadata": {},
   "outputs": [
    {
     "data": {
      "text/plain": [
       "7.5"
      ]
     },
     "execution_count": 421,
     "metadata": {},
     "output_type": "execute_result"
    }
   ],
   "source": [
    "x = genCode('f(a,b) = (a+b)/2')\n",
    "x([8,7])"
   ]
  }
 ],
 "metadata": {
  "kernelspec": {
   "display_name": "Python 3",
   "language": "python",
   "name": "python3"
  },
  "language_info": {
   "codemirror_mode": {
    "name": "ipython",
    "version": 3
   },
   "file_extension": ".py",
   "mimetype": "text/x-python",
   "name": "python",
   "nbconvert_exporter": "python",
   "pygments_lexer": "ipython3",
   "version": "3.7.6"
  }
 },
 "nbformat": 4,
 "nbformat_minor": 2
}
