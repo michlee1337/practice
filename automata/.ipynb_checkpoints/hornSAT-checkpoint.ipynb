{
 "cells": [
  {
   "cell_type": "code",
   "execution_count": 70,
   "metadata": {},
   "outputs": [],
   "source": [
    "import copy\n",
    "class Literal:\n",
    "    def __init__(self, name, pos=True):\n",
    "        self.name = name\n",
    "        self.pos = pos\n",
    "    \n",
    "    def __neg__(self):\n",
    "        return(Literal(self.name, not self.pos))\n",
    "    \n",
    "    def __eq__(self, other):\n",
    "        return(self.name == other.name and self.pos == other.pos)\n",
    "    \n",
    "    def __hash__(self):\n",
    "        return(hash(str(self)))  \n",
    "    \n",
    "    def __repr__(self):\n",
    "        if self.pos: return(self.name)\n",
    "        else: return(\"-\" + self.name)\n",
    "        \n",
    "def solve(cs):\n",
    "    # input: a list of Clauses\n",
    "    # output: whether all the clauses are simultaneously satisfiable\n",
    "    \n",
    "    # while there are facts,\n",
    "    # resolve one\n",
    "    KB = []\n",
    "    facts = []\n",
    "    \n",
    "    for c in cs:\n",
    "        if len(c) == 1: \n",
    "            facts.append(c[0])\n",
    "        else:\n",
    "            KB.append(copy.deepcopy(c)) # prevent ref\n",
    "            \n",
    "    while len(facts) != 0:\n",
    "        f = facts.pop()\n",
    "        if -f in facts: # contradiction\n",
    "            return(False)\n",
    "        for c in KB:\n",
    "            if f in c: # remove any satisfied clauses\n",
    "                KB.remove(c)\n",
    "            elif -f in c: # update clauses and remember new facts\n",
    "                c.remove(-f)\n",
    "                if len(c) == 1:\n",
    "                    facts.append(c[0])\n",
    "                    KB.remove(c)\n",
    "    return(True)\n"
   ]
  },
  {
   "cell_type": "code",
   "execution_count": 75,
   "metadata": {},
   "outputs": [],
   "source": [
    "# TESTING\n",
    "\n",
    "A = Literal(\"A\")\n",
    "B = Literal(\"B\")\n",
    "C = Literal(\"C\")\n",
    "\n",
    "c1 = [A,B]\n",
    "c2 = [A,C]\n",
    "c3 = [-A,-B]\n",
    "c4 = [-C]\n",
    "c5 = [B]\n",
    "\n",
    "sat = [c1,c2,c3,c4]\n",
    "unsat = [c1,c2,c3,c4,c5]\n",
    "\n",
    "assert solve([c1,c2,c3,c4]) == True\n",
    "assert solve([c1,c2,c3,c4,c5]) == False"
   ]
  }
 ],
 "metadata": {
  "kernelspec": {
   "display_name": "Python 3",
   "language": "python",
   "name": "python3"
  },
  "language_info": {
   "codemirror_mode": {
    "name": "ipython",
    "version": 3
   },
   "file_extension": ".py",
   "mimetype": "text/x-python",
   "name": "python",
   "nbconvert_exporter": "python",
   "pygments_lexer": "ipython3",
   "version": "3.7.6"
  }
 },
 "nbformat": 4,
 "nbformat_minor": 2
}
