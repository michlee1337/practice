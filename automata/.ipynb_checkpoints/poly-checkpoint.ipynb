{
 "cells": [
  {
   "cell_type": "code",
   "execution_count": 3,
   "metadata": {},
   "outputs": [],
   "source": [
    "def print_poly (a,e):\n",
    "    w = ''\n",
    "    for i in range ( len (a)):\n",
    "        if a[i] > 0:\n",
    "            if w:\n",
    "                w += '+' + str (a[i]) + 'x^( ' + str (e[i]) + ')'\n",
    "            else:\n",
    "                w += str (a[i]) + 'x^(' + str (e[i]) + ')'\n",
    "        elif a[i] < 0:\n",
    "            w += str (a[i]) + 'x^(' + str (e[i]) + ')'\n",
    "        print (w)\n",
    "    return w"
   ]
  },
  {
   "cell_type": "code",
   "execution_count": 4,
   "metadata": {},
   "outputs": [
    {
     "name": "stdout",
     "output_type": "stream",
     "text": [
      "1x^(5)\n",
      "1x^(5)+2x^( 6)\n",
      "1x^(5)+2x^( 6)+3x^( 7)\n",
      "1x^(5)+2x^( 6)+3x^( 7)+4x^( 8)\n"
     ]
    },
    {
     "data": {
      "text/plain": [
       "'1x^(5)+2x^( 6)+3x^( 7)+4x^( 8)'"
      ]
     },
     "execution_count": 4,
     "metadata": {},
     "output_type": "execute_result"
    }
   ],
   "source": [
    "print_poly([1,2,3,4],[5,6,7,8])"
   ]
  },
  {
   "cell_type": "code",
   "execution_count": 5,
   "metadata": {},
   "outputs": [],
   "source": [
    "def poly1 (a, e):\n",
    "    if len (a) != len (e):\n",
    "        w = 'the number of coefficients and exponents do not match'\n",
    "        decide = 'reject'\n",
    "    else:\n",
    "        # generate a printable string w with the polynomial\n",
    "        w = print_poly(a,e)\n",
    "        # coefficient with the largest absolute value\n",
    "        c_max = max ([ abs (y) for y in a ])\n",
    "        # c1 is the coefficient of the highest order term\n",
    "        e_max, i = max (( abs (v),i) for i,v in enumerate (e))\n",
    "        c1 = abs (a[i])\n",
    "        # count how many terms are in the polynomial a_i not = 0\n",
    "        k = sum ([1 for i in a if i != 0])\n",
    "        #compute bound b = +/- k*c_max/c1\n",
    "        b = k*c_max // c1\n",
    "        roots = []\n",
    "        for x in range (b*-1, b+1,1):\n",
    "            p = 0\n",
    "            for i in range ( len (a)):\n",
    "                p += a[i]*(x ** (e[i]))\n",
    "            if p == 0:\n",
    "                roots. append (x)\n",
    "        if roots:\n",
    "            sroots = [ str (i) for i in roots]\n",
    "            sroots = ',' . join (sroots)\n",
    "            w += '< integer roots: '  + sroots + '>'\n",
    "            decide = 'accept'\n",
    "        else:\n",
    "            w += ' has no integer roots found'\n",
    "            decide = 'reject'\n",
    "    return decide, w"
   ]
  },
  {
   "cell_type": "code",
   "execution_count": 20,
   "metadata": {},
   "outputs": [
    {
     "name": "stdout",
     "output_type": "stream",
     "text": [
      "5x^(22)\n",
      "5x^(22)+6x^( 2)\n",
      "5x^(22)+6x^( 2)+7x^( 4)\n"
     ]
    },
    {
     "data": {
      "text/plain": [
       "('accept', '5x^(22)+6x^( 2)+7x^( 4)< integer roots: 0>')"
      ]
     },
     "execution_count": 20,
     "metadata": {},
     "output_type": "execute_result"
    }
   ],
   "source": [
    "poly1([5,6,7],[22,2,4])"
   ]
  },
  {
   "cell_type": "code",
   "execution_count": 25,
   "metadata": {
    "scrolled": true
   },
   "outputs": [
    {
     "name": "stdout",
     "output_type": "stream",
     "text": [
      "5x^(22)\n",
      "5x^(22)+6x^( 2)\n",
      "5x^(22)+6x^( 2)+7x^( 4)\n"
     ]
    },
    {
     "data": {
      "text/plain": [
       "('accept', '5x^(22)+6x^( 2)+7x^( 4)< integer roots: 0>')"
      ]
     },
     "execution_count": 25,
     "metadata": {},
     "output_type": "execute_result"
    }
   ],
   "source": [
    "poly2([5,6,7],[22,2,4])"
   ]
  },
  {
   "cell_type": "code",
   "execution_count": 24,
   "metadata": {},
   "outputs": [],
   "source": [
    "def poly2 (a, e):\n",
    "    if len (a) != len (e):\n",
    "        w = 'the number of coefficients and exponents do not match'\n",
    "        decide = 'reject'\n",
    "    else:\n",
    "        # generate a printable string w with the polynomial\n",
    "        w = print_poly(a,e)\n",
    "        # coefficient with the largest absolute value\n",
    "        c_max = max ([ abs (y) for y in a ])\n",
    "        # c1 is the coefficient of the highest order term\n",
    "        e_max, i = max (( abs (v),i) for i,v in enumerate (e))\n",
    "        c1 = abs (a[i])\n",
    "        # count how many terms are in the polynomial a_i not = 0\n",
    "        k = sum ([1 for i in a if i != 0])\n",
    "        #compute bound b = +/- k*c_max/c1\n",
    "        b = k*c_max // c1\n",
    "        roots = []\n",
    "        for x in range(0, b):\n",
    "            ppos = sum([a[i]*(x ** (e[i])) for i in range(len(a))])\n",
    "            pneg = sum([a[i]*(-x ** (e[i])) for i in range(len(a))])\n",
    "            if ppos == 0:\n",
    "                roots.append(x)\n",
    "            if x != 0 and pneg == 0:\n",
    "                roots.append(-x)\n",
    "        if roots:\n",
    "            sroots = ','.join([str(i) for i in roots])\n",
    "            w += '< integer roots: '  + sroots + '>'\n",
    "            decide = 'accept'\n",
    "        else:\n",
    "            w += ' has no integer roots found'\n",
    "            decide = 'reject'\n",
    "    return decide, w"
   ]
  },
  {
   "cell_type": "code",
   "execution_count": null,
   "metadata": {},
   "outputs": [],
   "source": []
  }
 ],
 "metadata": {
  "kernelspec": {
   "display_name": "Python 3",
   "language": "python",
   "name": "python3"
  },
  "language_info": {
   "codemirror_mode": {
    "name": "ipython",
    "version": 3
   },
   "file_extension": ".py",
   "mimetype": "text/x-python",
   "name": "python",
   "nbconvert_exporter": "python",
   "pygments_lexer": "ipython3",
   "version": "3.7.6"
  }
 },
 "nbformat": 4,
 "nbformat_minor": 2
}
