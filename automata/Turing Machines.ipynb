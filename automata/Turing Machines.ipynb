{
 "cells": [
  {
   "cell_type": "code",
   "execution_count": 2,
   "metadata": {},
   "outputs": [],
   "source": [
    "# First we import the base automaton\n",
    "from automata.base.automaton import Automaton #Begin by importing the following\n",
    "from automata.tm.ntm import NTM\n",
    "\n"
   ]
  },
  {
   "cell_type": "code",
   "execution_count": 3,
   "metadata": {},
   "outputs": [],
   "source": [
    "ntm = NTM(\n",
    "    states={'q1', 'q2', 'q3', 'q4','q5','q6','q7','q8','qA'},\n",
    "    input_symbols={'0', '1', '#','x'},\n",
    "    tape_symbols={'0', '1', '#','x','.'},\n",
    "    transitions={\n",
    "        'q1': {\n",
    "            '0': {('q2', 'x', 'R')},\n",
    "            '1': {('q3', 'x', 'R')},\n",
    "            '#': {('q8', '#', 'R')},\n",
    "            'x': {},\n",
    "        },\n",
    "        'q2': {\n",
    "            '0': {('q2', '0', 'R')},\n",
    "            '1': {('q2', '1', 'R')},\n",
    "            '#': {('q4', '#', 'R')},\n",
    "            'x': {},\n",
    "        },\n",
    "        'q3': {\n",
    "            '0': {('q3', '0', 'R')},\n",
    "            '1': {('q3', '1', 'R')},\n",
    "            '#': {('q5', '#', 'R')},\n",
    "            'x': {},\n",
    "        },\n",
    "        'q4': {\n",
    "            '0': {('q6', 'x', 'L')},\n",
    "            '1': {},\n",
    "            '#': {},\n",
    "            'x': {('q4', 'x', 'R')},\n",
    "        },\n",
    "        'q5': {\n",
    "            '0': {},\n",
    "            '1': {('q6', 'x', 'L')},\n",
    "            '#': {},\n",
    "            'x': {('q5', 'x', 'R')},\n",
    "        },\n",
    "        'q6': {\n",
    "            '0': {('q6', '0', 'L')},\n",
    "            '1': {('q6', '1', 'L')},\n",
    "            'x': {('q6', 'x', 'L')},\n",
    "            '#': {('q7', '#', 'L')},\n",
    "        },\n",
    "        'q7': {\n",
    "            'x': {('q1', 'x', 'R')},\n",
    "        },\n",
    "        'q8': {\n",
    "            '0': {},\n",
    "            '1': {},\n",
    "            '#': {},\n",
    "            '.': {('qA', '.', 'R')},\n",
    "            'x': {('q8', 'x', 'R')},\n",
    "        }\n",
    "    },\n",
    "    initial_state='q1',\n",
    "    blank_symbol='.',\n",
    "    final_states={'qA'}\n",
    ")\n"
   ]
  },
  {
   "cell_type": "code",
   "execution_count": 14,
   "metadata": {},
   "outputs": [
    {
     "data": {
      "text/plain": [
       "{TMConfiguration('qA', TMTape('x#x..', 4))}"
      ]
     },
     "execution_count": 14,
     "metadata": {},
     "output_type": "execute_result"
    }
   ],
   "source": [
    "ntm.read_input('1#1')"
   ]
  },
  {
   "cell_type": "code",
   "execution_count": 15,
   "metadata": {},
   "outputs": [
    {
     "ename": "RejectionException",
     "evalue": "the NTM did not reach an accepting configuration",
     "output_type": "error",
     "traceback": [
      "\u001b[0;31m---------------------------------------------------------------------------\u001b[0m",
      "\u001b[0;31mRejectionException\u001b[0m                        Traceback (most recent call last)",
      "\u001b[0;32m<ipython-input-15-32da400bf826>\u001b[0m in \u001b[0;36m<module>\u001b[0;34m\u001b[0m\n\u001b[0;32m----> 1\u001b[0;31m \u001b[0mntm\u001b[0m\u001b[0;34m.\u001b[0m\u001b[0mread_input\u001b[0m\u001b[0;34m(\u001b[0m\u001b[0;34m'1#11'\u001b[0m\u001b[0;34m)\u001b[0m\u001b[0;34m\u001b[0m\u001b[0;34m\u001b[0m\u001b[0m\n\u001b[0m",
      "\u001b[0;32m/usr/local/lib/python3.7/site-packages/automata/base/automaton.py\u001b[0m in \u001b[0;36mread_input\u001b[0;34m(self, input_str)\u001b[0m\n\u001b[1;32m     32\u001b[0m         \"\"\"\n\u001b[1;32m     33\u001b[0m         \u001b[0mvalidation_generator\u001b[0m \u001b[0;34m=\u001b[0m \u001b[0mself\u001b[0m\u001b[0;34m.\u001b[0m\u001b[0mread_input_stepwise\u001b[0m\u001b[0;34m(\u001b[0m\u001b[0minput_str\u001b[0m\u001b[0;34m)\u001b[0m\u001b[0;34m\u001b[0m\u001b[0;34m\u001b[0m\u001b[0m\n\u001b[0;32m---> 34\u001b[0;31m         \u001b[0;32mfor\u001b[0m \u001b[0mconfig\u001b[0m \u001b[0;32min\u001b[0m \u001b[0mvalidation_generator\u001b[0m\u001b[0;34m:\u001b[0m\u001b[0;34m\u001b[0m\u001b[0;34m\u001b[0m\u001b[0m\n\u001b[0m\u001b[1;32m     35\u001b[0m             \u001b[0;32mpass\u001b[0m\u001b[0;34m\u001b[0m\u001b[0;34m\u001b[0m\u001b[0m\n\u001b[1;32m     36\u001b[0m         \u001b[0;32mreturn\u001b[0m \u001b[0mconfig\u001b[0m\u001b[0;34m\u001b[0m\u001b[0;34m\u001b[0m\u001b[0m\n",
      "\u001b[0;32m/usr/local/lib/python3.7/site-packages/automata/tm/ntm.py\u001b[0m in \u001b[0;36mread_input_stepwise\u001b[0;34m(self, input_str)\u001b[0m\n\u001b[1;32m    137\u001b[0m \u001b[0;34m\u001b[0m\u001b[0m\n\u001b[1;32m    138\u001b[0m         raise exceptions.RejectionException(\n\u001b[0;32m--> 139\u001b[0;31m             \u001b[0;34m'the NTM did not reach an accepting configuration'\u001b[0m\u001b[0;34m\u001b[0m\u001b[0;34m\u001b[0m\u001b[0m\n\u001b[0m\u001b[1;32m    140\u001b[0m         )\n",
      "\u001b[0;31mRejectionException\u001b[0m: the NTM did not reach an accepting configuration"
     ]
    }
   ],
   "source": [
    "ntm.read_input('1#11')"
   ]
  },
  {
   "cell_type": "code",
   "execution_count": null,
   "metadata": {},
   "outputs": [],
   "source": []
  }
 ],
 "metadata": {
  "kernelspec": {
   "display_name": "Python 3",
   "language": "python",
   "name": "python3"
  },
  "language_info": {
   "codemirror_mode": {
    "name": "ipython",
    "version": 3
   },
   "file_extension": ".py",
   "mimetype": "text/x-python",
   "name": "python",
   "nbconvert_exporter": "python",
   "pygments_lexer": "ipython3",
   "version": "3.7.6"
  }
 },
 "nbformat": 4,
 "nbformat_minor": 2
}
