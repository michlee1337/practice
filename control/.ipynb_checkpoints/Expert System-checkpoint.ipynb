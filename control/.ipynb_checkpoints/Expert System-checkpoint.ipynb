{
 "cells": [
  {
   "cell_type": "markdown",
   "metadata": {},
   "source": [
    "# Covid\n"
   ]
  },
  {
   "cell_type": "code",
   "execution_count": 1,
   "metadata": {},
   "outputs": [],
   "source": [
    "KB = \"\"\"\n",
    "%  Tell prolog that known/3 will be added later by asserta\n",
    ":- dynamic known/3.\n",
    "\n",
    "% Enter your KB below this line:\n",
    "\n",
    "problem(battery) :- \\+engine(turning_over), battery(bad).\n",
    "battery(bad) :- lights(weak).\n",
    "battery(bad) :- radio(weak).\n",
    "problem(engine_flooded) :- engine(turning_over), smell(gas).\n",
    "problem(out_of_gas) :- engine(turning_over), gas_gauge(empty).\n",
    "\n",
    "% Askables\n",
    "lights(X) :- ask(lights,X).\n",
    "radio(X) :- ask(radio,X).\n",
    "engine(X) :- ask(engine,X).\n",
    "smell(X) :- ask(smell,X).\n",
    "gas_gauge(X) :- ask(gas_gauge,X).\n",
    "\n",
    "% Asking clauses\n",
    "multivalued(none). % We don't have any multivalued attributes\n",
    "\n",
    "ask(A, V):-\n",
    "known(yes, A, V), % succeed if true\n",
    "!.\t% stop looking\n",
    "\n",
    "ask(A, V):-\n",
    "known(_, A, V), % fail if false\n",
    "!, fail.\n",
    "\n",
    "% If not multivalued, and already known, don't ask again for a different value.\n",
    "ask(A, V):-\n",
    "\\+multivalued(A),\n",
    "known(yes, A, V2),\n",
    "V \\== V2,\n",
    "!.\n",
    "\n",
    "ask(A, V):-\n",
    "read_py(A,V,Y), % get the answer\n",
    "asserta(known(Y, A, V)), % remember it\n",
    "write_py(known(Y, A, V)),\n",
    "Y == yes.\t% succeed or fail\n",
    "\"\"\""
   ]
  },
  {
   "cell_type": "code",
   "execution_count": 4,
   "metadata": {},
   "outputs": [
    {
     "ename": "ModuleNotFoundError",
     "evalue": "No module named 'pyswip'",
     "output_type": "error",
     "traceback": [
      "\u001b[0;31m---------------------------------------------------------------------------\u001b[0m",
      "\u001b[0;31mModuleNotFoundError\u001b[0m                       Traceback (most recent call last)",
      "\u001b[0;32m<ipython-input-4-bfed97a706ea>\u001b[0m in \u001b[0;36m<module>\u001b[0;34m\u001b[0m\n\u001b[1;32m      6\u001b[0m \u001b[0;31m#from git import Repo\u001b[0m\u001b[0;34m\u001b[0m\u001b[0;34m\u001b[0m\u001b[0;34m\u001b[0m\u001b[0m\n\u001b[1;32m      7\u001b[0m \u001b[0;34m\u001b[0m\u001b[0m\n\u001b[0;32m----> 8\u001b[0;31m \u001b[0;32mfrom\u001b[0m \u001b[0mpyswip\u001b[0m\u001b[0;34m.\u001b[0m\u001b[0mprolog\u001b[0m \u001b[0;32mimport\u001b[0m \u001b[0mProlog\u001b[0m\u001b[0;34m\u001b[0m\u001b[0;34m\u001b[0m\u001b[0m\n\u001b[0m\u001b[1;32m      9\u001b[0m \u001b[0;32mfrom\u001b[0m \u001b[0mpyswip\u001b[0m\u001b[0;34m.\u001b[0m\u001b[0measy\u001b[0m \u001b[0;32mimport\u001b[0m \u001b[0;34m*\u001b[0m\u001b[0;34m\u001b[0m\u001b[0;34m\u001b[0m\u001b[0m\n\u001b[1;32m     10\u001b[0m \u001b[0;34m\u001b[0m\u001b[0m\n",
      "\u001b[0;31mModuleNotFoundError\u001b[0m: No module named 'pyswip'"
     ]
    }
   ],
   "source": [
    "# The code here will ask the user for input based on the askables\n",
    "# It will check if the answer is known first\n",
    "\n",
    "import tempfile\n",
    "import os\n",
    "#from git import Repo\n",
    "\n",
    "from pyswip.prolog import Prolog\n",
    "from pyswip.easy import *\n",
    "\n",
    "# Check if pyswip package needs to be installed\n",
    "\n",
    "'''\n",
    "\n",
    "try:\n",
    "    \n",
    "except ModuleNotFoundError as err:\n",
    "    os.mkdir(\"PySWIP\")\n",
    "    Repo.clone_from(\"https://github.com/rohanshekhar/pyswip.git\", \"PySWIP/\")\n",
    "    os.symlink(\"PySWIP/pyswip/\", \"pyswip\")\n",
    "    from pyswip.prolog import Prolog\n",
    "    from pyswip.easy import *\n",
    "'''\n",
    "\n",
    "prolog = Prolog() # Global handle to interpreter\n",
    "\n",
    "retractall = Functor(\"retractall\")\n",
    "known = Functor(\"known\",3)\n",
    "\n",
    "# Define foreign functions for getting user input and writing to the screen\n",
    "def write_py(X):\n",
    "    sys.stdout.flush()\n",
    "    return True\n",
    "\n",
    "def read_py(A,V,Y):\n",
    "    if isinstance(Y, Variable):\n",
    "        response = input(str(A) + \" is \" + str(V) + \"? \")\n",
    "        Y.unify(response)\n",
    "        return True\n",
    "    else:\n",
    "        return False\n",
    "\n",
    "write_py.arity = 1\n",
    "read_py.arity = 3\n",
    "\n",
    "registerForeign(read_py)\n",
    "registerForeign(write_py)\n",
    "\n",
    "# Create a temporary file with the KB in it\n",
    "(FD, name) = tempfile.mkstemp(suffix='.pl', text = \"True\")\n",
    "with os.fdopen(FD, \"w\") as text_file:\n",
    "    text_file.write(KB)\n",
    "prolog.consult(name) # open the KB for consulting\n",
    "os.unlink(name) # Remove the temporary file\n",
    "\n",
    "call(retractall(known))\n",
    "problem = [s for s in prolog.query(\"problem(X).\", maxresult=1)]\n",
    "print(\"Your problem is \" + (problem[0]['X'] + \".\" if problem else \"unknown.\"))"
   ]
  },
  {
   "cell_type": "code",
   "execution_count": null,
   "metadata": {},
   "outputs": [],
   "source": []
  }
 ],
 "metadata": {
  "kernelspec": {
   "display_name": "Python 3",
   "language": "python",
   "name": "python3"
  },
  "language_info": {
   "codemirror_mode": {
    "name": "ipython",
    "version": 3
   },
   "file_extension": ".py",
   "mimetype": "text/x-python",
   "name": "python",
   "nbconvert_exporter": "python",
   "pygments_lexer": "ipython3",
   "version": "3.7.6"
  }
 },
 "nbformat": 4,
 "nbformat_minor": 2
}
